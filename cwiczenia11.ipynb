{
 "cells": [
  {
   "cell_type": "code",
   "id": "initial_id",
   "metadata": {
    "collapsed": true,
    "ExecuteTime": {
     "end_time": "2025-10-22T10:25:30.342355Z",
     "start_time": "2025-10-22T10:25:30.339581Z"
    }
   },
   "source": [
    "import numpy as np\n",
    "import pandas as pd\n",
    "import matplotlib.pyplot as plt"
   ],
   "outputs": [],
   "execution_count": 5
  },
  {
   "metadata": {
    "ExecuteTime": {
     "end_time": "2025-10-22T10:25:31.721015Z",
     "start_time": "2025-10-22T10:25:31.718295Z"
    }
   },
   "cell_type": "code",
   "source": [
    "from scipy.spatial.distance import mahalanobis\n",
    "from scipy.cluster.hierarchy import dendrogram, linkage\n",
    "from scipy import linalg"
   ],
   "id": "6e7f243413e2a6a0",
   "outputs": [],
   "execution_count": 6
  },
  {
   "metadata": {
    "ExecuteTime": {
     "end_time": "2025-10-22T10:20:47.947223Z",
     "start_time": "2025-10-22T10:20:32.699547Z"
    }
   },
   "cell_type": "code",
   "source": "!pip install scikit-learn",
   "id": "70769cbe231ff02c",
   "outputs": [
    {
     "name": "stdout",
     "output_type": "stream",
     "text": [
      "Collecting scikit-learn\n",
      "  Downloading scikit_learn-1.7.2-cp313-cp313-win_amd64.whl.metadata (11 kB)\n",
      "Requirement already satisfied: numpy>=1.22.0 in c:\\users\\cscomarch\\pycharmprojects\\pythonprojectanaliza-20-10-2025\\.venv\\lib\\site-packages (from scikit-learn) (2.3.4)\n",
      "Requirement already satisfied: scipy>=1.8.0 in c:\\users\\cscomarch\\pycharmprojects\\pythonprojectanaliza-20-10-2025\\.venv\\lib\\site-packages (from scikit-learn) (1.16.2)\n",
      "Collecting joblib>=1.2.0 (from scikit-learn)\n",
      "  Downloading joblib-1.5.2-py3-none-any.whl.metadata (5.6 kB)\n",
      "Collecting threadpoolctl>=3.1.0 (from scikit-learn)\n",
      "  Downloading threadpoolctl-3.6.0-py3-none-any.whl.metadata (13 kB)\n",
      "Downloading scikit_learn-1.7.2-cp313-cp313-win_amd64.whl (8.7 MB)\n",
      "   ---------------------------------------- 0.0/8.7 MB ? eta -:--:--\n",
      "   ---------------------------------------  8.7/8.7 MB 61.1 MB/s eta 0:00:01\n",
      "   ---------------------------------------- 8.7/8.7 MB 49.6 MB/s eta 0:00:00\n",
      "Downloading joblib-1.5.2-py3-none-any.whl (308 kB)\n",
      "Downloading threadpoolctl-3.6.0-py3-none-any.whl (18 kB)\n",
      "Installing collected packages: threadpoolctl, joblib, scikit-learn\n",
      "\n",
      "   ------------- -------------------------- 1/3 [joblib]\n",
      "   ------------- -------------------------- 1/3 [joblib]\n",
      "   ------------- -------------------------- 1/3 [joblib]\n",
      "   ------------- -------------------------- 1/3 [joblib]\n",
      "   ------------- -------------------------- 1/3 [joblib]\n",
      "   ------------- -------------------------- 1/3 [joblib]\n",
      "   ------------- -------------------------- 1/3 [joblib]\n",
      "   -------------------------- ------------- 2/3 [scikit-learn]\n",
      "   -------------------------- ------------- 2/3 [scikit-learn]\n",
      "   -------------------------- ------------- 2/3 [scikit-learn]\n",
      "   -------------------------- ------------- 2/3 [scikit-learn]\n",
      "   -------------------------- ------------- 2/3 [scikit-learn]\n",
      "   -------------------------- ------------- 2/3 [scikit-learn]\n",
      "   -------------------------- ------------- 2/3 [scikit-learn]\n",
      "   -------------------------- ------------- 2/3 [scikit-learn]\n",
      "   -------------------------- ------------- 2/3 [scikit-learn]\n",
      "   -------------------------- ------------- 2/3 [scikit-learn]\n",
      "   -------------------------- ------------- 2/3 [scikit-learn]\n",
      "   -------------------------- ------------- 2/3 [scikit-learn]\n",
      "   -------------------------- ------------- 2/3 [scikit-learn]\n",
      "   -------------------------- ------------- 2/3 [scikit-learn]\n",
      "   -------------------------- ------------- 2/3 [scikit-learn]\n",
      "   -------------------------- ------------- 2/3 [scikit-learn]\n",
      "   -------------------------- ------------- 2/3 [scikit-learn]\n",
      "   -------------------------- ------------- 2/3 [scikit-learn]\n",
      "   -------------------------- ------------- 2/3 [scikit-learn]\n",
      "   -------------------------- ------------- 2/3 [scikit-learn]\n",
      "   -------------------------- ------------- 2/3 [scikit-learn]\n",
      "   -------------------------- ------------- 2/3 [scikit-learn]\n",
      "   -------------------------- ------------- 2/3 [scikit-learn]\n",
      "   -------------------------- ------------- 2/3 [scikit-learn]\n",
      "   -------------------------- ------------- 2/3 [scikit-learn]\n",
      "   -------------------------- ------------- 2/3 [scikit-learn]\n",
      "   -------------------------- ------------- 2/3 [scikit-learn]\n",
      "   -------------------------- ------------- 2/3 [scikit-learn]\n",
      "   -------------------------- ------------- 2/3 [scikit-learn]\n",
      "   -------------------------- ------------- 2/3 [scikit-learn]\n",
      "   -------------------------- ------------- 2/3 [scikit-learn]\n",
      "   -------------------------- ------------- 2/3 [scikit-learn]\n",
      "   -------------------------- ------------- 2/3 [scikit-learn]\n",
      "   -------------------------- ------------- 2/3 [scikit-learn]\n",
      "   -------------------------- ------------- 2/3 [scikit-learn]\n",
      "   -------------------------- ------------- 2/3 [scikit-learn]\n",
      "   -------------------------- ------------- 2/3 [scikit-learn]\n",
      "   -------------------------- ------------- 2/3 [scikit-learn]\n",
      "   -------------------------- ------------- 2/3 [scikit-learn]\n",
      "   -------------------------- ------------- 2/3 [scikit-learn]\n",
      "   -------------------------- ------------- 2/3 [scikit-learn]\n",
      "   -------------------------- ------------- 2/3 [scikit-learn]\n",
      "   -------------------------- ------------- 2/3 [scikit-learn]\n",
      "   -------------------------- ------------- 2/3 [scikit-learn]\n",
      "   -------------------------- ------------- 2/3 [scikit-learn]\n",
      "   -------------------------- ------------- 2/3 [scikit-learn]\n",
      "   -------------------------- ------------- 2/3 [scikit-learn]\n",
      "   -------------------------- ------------- 2/3 [scikit-learn]\n",
      "   -------------------------- ------------- 2/3 [scikit-learn]\n",
      "   -------------------------- ------------- 2/3 [scikit-learn]\n",
      "   -------------------------- ------------- 2/3 [scikit-learn]\n",
      "   -------------------------- ------------- 2/3 [scikit-learn]\n",
      "   -------------------------- ------------- 2/3 [scikit-learn]\n",
      "   -------------------------- ------------- 2/3 [scikit-learn]\n",
      "   -------------------------- ------------- 2/3 [scikit-learn]\n",
      "   -------------------------- ------------- 2/3 [scikit-learn]\n",
      "   -------------------------- ------------- 2/3 [scikit-learn]\n",
      "   -------------------------- ------------- 2/3 [scikit-learn]\n",
      "   -------------------------- ------------- 2/3 [scikit-learn]\n",
      "   -------------------------- ------------- 2/3 [scikit-learn]\n",
      "   -------------------------- ------------- 2/3 [scikit-learn]\n",
      "   -------------------------- ------------- 2/3 [scikit-learn]\n",
      "   -------------------------- ------------- 2/3 [scikit-learn]\n",
      "   -------------------------- ------------- 2/3 [scikit-learn]\n",
      "   ---------------------------------------- 3/3 [scikit-learn]\n",
      "\n",
      "Successfully installed joblib-1.5.2 scikit-learn-1.7.2 threadpoolctl-3.6.0\n"
     ]
    },
    {
     "name": "stderr",
     "output_type": "stream",
     "text": [
      "\n",
      "[notice] A new release of pip is available: 25.1.1 -> 25.2\n",
      "[notice] To update, run: python.exe -m pip install --upgrade pip\n"
     ]
    }
   ],
   "execution_count": 4
  },
  {
   "metadata": {
    "ExecuteTime": {
     "end_time": "2025-10-22T10:24:22.737433Z",
     "start_time": "2025-10-22T10:24:22.734068Z"
    }
   },
   "cell_type": "code",
   "source": [
    "\n",
    "from sklearn.preprocessing import StandardScaler\n",
    "from sklearn.decomposition import PCA\n",
    "from sklearn.cluster import KMeans, AgglomerativeClustering\n",
    "from sklearn.metrics import silhouette_score\n",
    "from sklearn.manifold import TSNE\n",
    "from sklearn.linear_model import LinearRegression, Ridge, Lasso\n",
    "from sklearn.pipeline import Pipeline\n",
    "from sklearn.model_selection import train_test_split, cross_val_score  # podziały i walidacja\n",
    "from sklearn.datasets import load_wine, load_diabetes"
   ],
   "id": "feb390f4d8b35e45",
   "outputs": [],
   "execution_count": 3
  },
  {
   "metadata": {
    "ExecuteTime": {
     "end_time": "2025-10-22T10:25:35.092931Z",
     "start_time": "2025-10-22T10:25:35.087580Z"
    }
   },
   "cell_type": "code",
   "source": "np.random.seed(42)",
   "id": "2ce2573f1ed43a3c",
   "outputs": [],
   "execution_count": 7
  },
  {
   "metadata": {
    "ExecuteTime": {
     "end_time": "2025-10-22T10:28:16.306536Z",
     "start_time": "2025-10-22T10:28:16.302451Z"
    }
   },
   "cell_type": "code",
   "source": [
    "# liczba obserwacji\n",
    "n = 300\n",
    "\n",
    "x1 = np.random.normal(0, 2, n)\n",
    "x2 = 0.8 * x1 + np.random.normal(0, 2, n)\n",
    "x3 = np.random.normal(5, 5, n)\n",
    "x4 = -0.5 * x1 + 0.3 * x3 + np.random.normal(0, 2, n)"
   ],
   "id": "cb73811061b06103",
   "outputs": [],
   "execution_count": 8
  },
  {
   "metadata": {
    "ExecuteTime": {
     "end_time": "2025-10-22T10:29:28.284157Z",
     "start_time": "2025-10-22T10:29:28.280243Z"
    }
   },
   "cell_type": "code",
   "source": [
    "# robimy macierze\n",
    "X = np.column_stack([x1, x2, x3, x4])\n",
    "df = pd.DataFrame(X, columns=[\"x1\", \"x2\", \"x3\", \"x4\"])"
   ],
   "id": "2d1b0cb6babc31be",
   "outputs": [],
   "execution_count": 9
  },
  {
   "metadata": {
    "ExecuteTime": {
     "end_time": "2025-10-22T10:31:10.847341Z",
     "start_time": "2025-10-22T10:31:10.842325Z"
    }
   },
   "cell_type": "code",
   "source": [
    "# Liczymy macierze kowariancji i koralacji\n",
    "Sigma = np.cov(X, rowvar=False)  # rowvar=False => kolumny to zmienne\n",
    "R = np.corrcoef(X, rowvar=False)"
   ],
   "id": "e635c6669b3a3558",
   "outputs": [],
   "execution_count": 10
  },
  {
   "metadata": {
    "ExecuteTime": {
     "end_time": "2025-10-22T10:32:02.905298Z",
     "start_time": "2025-10-22T10:32:02.900487Z"
    }
   },
   "cell_type": "code",
   "source": [
    "print(\"Macierz kowariancji Sigma:\", np.round(Sigma, 3))\n",
    "print(\"Macierz korelacji R:\", np.round(R, 3))"
   ],
   "id": "19b17092b66e45af",
   "outputs": [
    {
     "name": "stdout",
     "output_type": "stream",
     "text": [
      "Macierz kowariancji Sigma: [[ 3.875  2.946 -0.371 -1.777]\n",
      " [ 2.946  5.933 -0.597 -1.624]\n",
      " [-0.371 -0.597 24.834  7.544]\n",
      " [-1.777 -1.624  7.544  7.067]]\n",
      "Macierz korelacji R: [[ 1.     0.614 -0.038 -0.34 ]\n",
      " [ 0.614  1.    -0.049 -0.251]\n",
      " [-0.038 -0.049  1.     0.569]\n",
      " [-0.34  -0.251  0.569  1.   ]]\n"
     ]
    }
   ],
   "execution_count": 11
  },
  {
   "metadata": {
    "ExecuteTime": {
     "end_time": "2025-10-22T10:35:00.471704Z",
     "start_time": "2025-10-22T10:35:00.010831Z"
    }
   },
   "cell_type": "code",
   "source": [
    "# Wykres rozrzutu (x1, x2)\n",
    "plt.figure(figsize=(5, 4))\n",
    "plt.scatter(df['x1'], df['x2'], s=10)  # s=10, mniejsze kropki\n",
    "plt.xlabel(\"x1\")\n",
    "plt.ylabel(\"x2\")\n",
    "plt.title(\"Zależność (x1, x2)\")\n",
    "plt.show()"
   ],
   "id": "247ce4915efc30bb",
   "outputs": [
    {
     "data": {
      "text/plain": [
       "<Figure size 500x400 with 1 Axes>"
      ],
      "image/png": "[encoded data removed]"
     },
     "metadata": {},
     "output_type": "display_data",
     "jetTransient": {
      "display_id": null
     }
    }
   ],
   "execution_count": 12
  },
  {
   "metadata": {
    "ExecuteTime": {
     "end_time": "2025-10-22T10:36:12.456528Z",
     "start_time": "2025-10-22T10:36:12.322629Z"
    }
   },
   "cell_type": "code",
   "source": [
    "# Wykres rozrzutu (x1, x4)\n",
    "plt.figure(figsize=(5, 4))\n",
    "plt.scatter(df['x1'], df['x4'], s=10)  # s=10, mniejsze kropki\n",
    "plt.xlabel(\"x1\")\n",
    "plt.ylabel(\"x4\")\n",
    "plt.title(\"Zależność (x1, x4)\")\n",
    "plt.show()"
   ],
   "id": "f1e2ce0c60fb9edc",
   "outputs": [
    {
     "data": {
      "text/plain": [
       "<Figure size 500x400 with 1 Axes>"
      ],
      "image/png": "[encoded data removed]"
     },
     "metadata": {},
     "output_type": "display_data",
     "jetTransient": {
      "display_id": null
     }
    }
   ],
   "execution_count": 13
  }
 ],
 "metadata": {
  "kernelspec": {
   "display_name": "Python 3",
   "language": "python",
   "name": "python3"
  },
  "language_info": {
   "codemirror_mode": {
    "name": "ipython",
    "version": 2
   },
   "file_extension": ".py",
   "mimetype": "text/x-python",
   "name": "python",
   "nbconvert_exporter": "python",
   "pygments_lexer": "ipython2",
   "version": "2.7.6"
  }
 },
 "nbformat": 4,
 "nbformat_minor": 5
}
