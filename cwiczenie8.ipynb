{
 "cells": [
  {
   "cell_type": "code",
   "id": "initial_id",
   "metadata": {
    "collapsed": true,
    "ExecuteTime": {
     "end_time": "2025-10-21T13:23:08.459172Z",
     "start_time": "2025-10-21T13:23:08.455034Z"
    }
   },
   "source": [
    "# wszystkie możliwe wyniki\n",
    "omega = {1, 2, 3, 4, 5, 6}"
   ],
   "outputs": [],
   "execution_count": 1
  },
  {
   "metadata": {
    "ExecuteTime": {
     "end_time": "2025-10-21T13:23:08.470867Z",
     "start_time": "2025-10-21T13:23:08.467548Z"
    }
   },
   "cell_type": "code",
   "source": [
    "# zdarzenie A: wypadłą liczba parzysta\n",
    "A = {2, 4, 6}"
   ],
   "id": "acbd453c3cc5d9d2",
   "outputs": [],
   "execution_count": 2
  },
  {
   "metadata": {
    "ExecuteTime": {
     "end_time": "2025-10-21T13:23:49.524387Z",
     "start_time": "2025-10-21T13:23:49.521789Z"
    }
   },
   "cell_type": "code",
   "source": [
    "# zdarzenie B: wypadłą wieksza od 3\n",
    "B = {4, 5, 6}"
   ],
   "id": "d60ff753b8d9c3e2",
   "outputs": [],
   "execution_count": 3
  },
  {
   "metadata": {
    "ExecuteTime": {
     "end_time": "2025-10-21T13:24:43.193093Z",
     "start_time": "2025-10-21T13:24:43.186836Z"
    }
   },
   "cell_type": "code",
   "source": [
    "P_A = len(A) / len(omega)\n",
    "P_A"
   ],
   "id": "f5d1e1e3c785aa83",
   "outputs": [
    {
     "data": {
      "text/plain": [
       "0.5"
      ]
     },
     "execution_count": 5,
     "metadata": {},
     "output_type": "execute_result"
    }
   ],
   "execution_count": 5
  },
  {
   "metadata": {
    "ExecuteTime": {
     "end_time": "2025-10-21T13:25:06.006732Z",
     "start_time": "2025-10-21T13:25:06.002639Z"
    }
   },
   "cell_type": "code",
   "source": [
    "P_B = len(B) / len(omega)\n",
    "P_B"
   ],
   "id": "afd888996cd2f101",
   "outputs": [
    {
     "data": {
      "text/plain": [
       "0.5"
      ]
     },
     "execution_count": 6,
     "metadata": {},
     "output_type": "execute_result"
    }
   ],
   "execution_count": 6
  },
  {
   "metadata": {
    "ExecuteTime": {
     "end_time": "2025-10-21T13:26:15.409720Z",
     "start_time": "2025-10-21T13:26:15.405507Z"
    }
   },
   "cell_type": "code",
   "source": [
    "P_A_or_B = len(A.union(B)) / len(omega)\n",
    "P_A_or_B"
   ],
   "id": "d7e104ff2d90bf57",
   "outputs": [
    {
     "data": {
      "text/plain": [
       "0.6666666666666666"
      ]
     },
     "execution_count": 7,
     "metadata": {},
     "output_type": "execute_result"
    }
   ],
   "execution_count": 7
  },
  {
   "metadata": {
    "ExecuteTime": {
     "end_time": "2025-10-21T13:27:20.054961Z",
     "start_time": "2025-10-21T13:27:20.051237Z"
    }
   },
   "cell_type": "code",
   "source": [
    "P_A_and_B = len(A.intersection(B)) / len(omega)\n",
    "P_A_and_B"
   ],
   "id": "c4d8a623936183a7",
   "outputs": [
    {
     "data": {
      "text/plain": [
       "0.3333333333333333"
      ]
     },
     "execution_count": 8,
     "metadata": {},
     "output_type": "execute_result"
    }
   ],
   "execution_count": 8
  },
  {
   "metadata": {
    "ExecuteTime": {
     "end_time": "2025-10-21T13:28:41.505205Z",
     "start_time": "2025-10-21T13:28:41.501518Z"
    }
   },
   "cell_type": "code",
   "source": [
    "P_A_given_B = P_A_and_B / P_B\n",
    "print(P_A_given_B)"
   ],
   "id": "a2dd85deb45bfa9d",
   "outputs": [
    {
     "name": "stdout",
     "output_type": "stream",
     "text": [
      "0.6666666666666666\n"
     ]
    }
   ],
   "execution_count": 9
  }
 ],
 "metadata": {
  "kernelspec": {
   "display_name": "Python 3",
   "language": "python",
   "name": "python3"
  },
  "language_info": {
   "codemirror_mode": {
    "name": "ipython",
    "version": 2
   },
   "file_extension": ".py",
   "mimetype": "text/x-python",
   "name": "python",
   "nbconvert_exporter": "python",
   "pygments_lexer": "ipython2",
   "version": "2.7.6"
  }
 },
 "nbformat": 4,
 "nbformat_minor": 5
}
