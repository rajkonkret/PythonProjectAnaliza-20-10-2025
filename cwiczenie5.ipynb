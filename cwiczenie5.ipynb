{
 "cells": [
  {
   "cell_type": "code",
   "id": "initial_id",
   "metadata": {
    "collapsed": true,
    "ExecuteTime": {
     "end_time": "2025-10-21T09:17:20.681472Z",
     "start_time": "2025-10-21T09:17:20.043679Z"
    }
   },
   "source": "import pandas as pd",
   "outputs": [],
   "execution_count": 1
  },
  {
   "metadata": {
    "ExecuteTime": {
     "end_time": "2025-10-21T09:22:54.479832Z",
     "start_time": "2025-10-21T09:22:54.468353Z"
    }
   },
   "cell_type": "code",
   "source": [
    "df = pd.read_csv(\"orders_example.csv\")\n",
    "df"
   ],
   "id": "6f782bfb5df70bda",
   "outputs": [
    {
     "data": {
      "text/plain": [
       "   order_id customer_id     product     category   price  quantity  score  \\\n",
       "0      1001         C01      Laptop  Electronics  3500.0         1   95.0   \n",
       "1      1002         C02       Mouse  Accessories   120.0         2    NaN   \n",
       "2      1003         C03  Smartphone  Electronics     NaN         1   80.0   \n",
       "3      1004         C04  Headphones  Accessories   450.0         1   89.0   \n",
       "4      1005         C01     Monitor  Electronics   999.0         2   30.0   \n",
       "5      1006         C05  Power Bank  Accessories    85.0         3   92.0   \n",
       "\n",
       "   country  order_date  \n",
       "0   Poland  2024-03-01  \n",
       "1  Germany  2024-03-03  \n",
       "2   Poland  2024-03-07  \n",
       "3   France  2024-03-08  \n",
       "4   Poland  2024-03-10  \n",
       "5  Czechia  2024-03-12  "
      ],
      "text/html": [
       "<div>\n",
       "<style scoped>\n",
       "    .dataframe tbody tr th:only-of-type {\n",
       "        vertical-align: middle;\n",
       "    }\n",
       "\n",
       "    .dataframe tbody tr th {\n",
       "        vertical-align: top;\n",
       "    }\n",
       "\n",
       "    .dataframe thead th {\n",
       "        text-align: right;\n",
       "    }\n",
       "</style>\n",
       "<table border=\"1\" class=\"dataframe\">\n",
       "  <thead>\n",
       "    <tr style=\"text-align: right;\">\n",
       "      <th></th>\n",
       "      <th>order_id</th>\n",
       "      <th>customer_id</th>\n",
       "      <th>product</th>\n",
       "      <th>category</th>\n",
       "      <th>price</th>\n",
       "      <th>quantity</th>\n",
       "      <th>score</th>\n",
       "      <th>country</th>\n",
       "      <th>order_date</th>\n",
       "    </tr>\n",
       "  </thead>\n",
       "  <tbody>\n",
       "    <tr>\n",
       "      <th>0</th>\n",
       "      <td>1001</td>\n",
       "      <td>C01</td>\n",
       "      <td>Laptop</td>\n",
       "      <td>Electronics</td>\n",
       "      <td>3500.0</td>\n",
       "      <td>1</td>\n",
       "      <td>95.0</td>\n",
       "      <td>Poland</td>\n",
       "      <td>2024-03-01</td>\n",
       "    </tr>\n",
       "    <tr>\n",
       "      <th>1</th>\n",
       "      <td>1002</td>\n",
       "      <td>C02</td>\n",
       "      <td>Mouse</td>\n",
       "      <td>Accessories</td>\n",
       "      <td>120.0</td>\n",
       "      <td>2</td>\n",
       "      <td>NaN</td>\n",
       "      <td>Germany</td>\n",
       "      <td>2024-03-03</td>\n",
       "    </tr>\n",
       "    <tr>\n",
       "      <th>2</th>\n",
       "      <td>1003</td>\n",
       "      <td>C03</td>\n",
       "      <td>Smartphone</td>\n",
       "      <td>Electronics</td>\n",
       "      <td>NaN</td>\n",
       "      <td>1</td>\n",
       "      <td>80.0</td>\n",
       "      <td>Poland</td>\n",
       "      <td>2024-03-07</td>\n",
       "    </tr>\n",
       "    <tr>\n",
       "      <th>3</th>\n",
       "      <td>1004</td>\n",
       "      <td>C04</td>\n",
       "      <td>Headphones</td>\n",
       "      <td>Accessories</td>\n",
       "      <td>450.0</td>\n",
       "      <td>1</td>\n",
       "      <td>89.0</td>\n",
       "      <td>France</td>\n",
       "      <td>2024-03-08</td>\n",
       "    </tr>\n",
       "    <tr>\n",
       "      <th>4</th>\n",
       "      <td>1005</td>\n",
       "      <td>C01</td>\n",
       "      <td>Monitor</td>\n",
       "      <td>Electronics</td>\n",
       "      <td>999.0</td>\n",
       "      <td>2</td>\n",
       "      <td>30.0</td>\n",
       "      <td>Poland</td>\n",
       "      <td>2024-03-10</td>\n",
       "    </tr>\n",
       "    <tr>\n",
       "      <th>5</th>\n",
       "      <td>1006</td>\n",
       "      <td>C05</td>\n",
       "      <td>Power Bank</td>\n",
       "      <td>Accessories</td>\n",
       "      <td>85.0</td>\n",
       "      <td>3</td>\n",
       "      <td>92.0</td>\n",
       "      <td>Czechia</td>\n",
       "      <td>2024-03-12</td>\n",
       "    </tr>\n",
       "  </tbody>\n",
       "</table>\n",
       "</div>"
      ]
     },
     "execution_count": 9,
     "metadata": {},
     "output_type": "execute_result"
    }
   ],
   "execution_count": 9
  },
  {
   "metadata": {
    "ExecuteTime": {
     "end_time": "2025-10-21T09:22:55.904156Z",
     "start_time": "2025-10-21T09:22:55.896821Z"
    }
   },
   "cell_type": "code",
   "source": "df.info()",
   "id": "d3b9309e1972627a",
   "outputs": [
    {
     "name": "stdout",
     "output_type": "stream",
     "text": [
      "<class 'pandas.core.frame.DataFrame'>\n",
      "RangeIndex: 6 entries, 0 to 5\n",
      "Data columns (total 9 columns):\n",
      " #   Column       Non-Null Count  Dtype  \n",
      "---  ------       --------------  -----  \n",
      " 0   order_id     6 non-null      int64  \n",
      " 1   customer_id  6 non-null      object \n",
      " 2   product      6 non-null      object \n",
      " 3   category     6 non-null      object \n",
      " 4   price        5 non-null      float64\n",
      " 5   quantity     6 non-null      int64  \n",
      " 6   score        5 non-null      float64\n",
      " 7   country      6 non-null      object \n",
      " 8   order_date   6 non-null      object \n",
      "dtypes: float64(2), int64(2), object(5)\n",
      "memory usage: 564.0+ bytes\n"
     ]
    }
   ],
   "execution_count": 10
  },
  {
   "metadata": {
    "ExecuteTime": {
     "end_time": "2025-10-21T09:22:58.213249Z",
     "start_time": "2025-10-21T09:22:58.199354Z"
    }
   },
   "cell_type": "code",
   "source": "df.describe()",
   "id": "4acc168c25bf6f1f",
   "outputs": [
    {
     "data": {
      "text/plain": [
       "          order_id        price  quantity      score\n",
       "count     6.000000     5.000000  6.000000   5.000000\n",
       "mean   1003.500000  1030.800000  1.666667  77.200000\n",
       "std       1.870829  1428.231669  0.816497  26.975915\n",
       "min    1001.000000    85.000000  1.000000  30.000000\n",
       "25%    1002.250000   120.000000  1.000000  80.000000\n",
       "50%    1003.500000   450.000000  1.500000  89.000000\n",
       "75%    1004.750000   999.000000  2.000000  92.000000\n",
       "max    1006.000000  3500.000000  3.000000  95.000000"
      ],
      "text/html": [
       "<div>\n",
       "<style scoped>\n",
       "    .dataframe tbody tr th:only-of-type {\n",
       "        vertical-align: middle;\n",
       "    }\n",
       "\n",
       "    .dataframe tbody tr th {\n",
       "        vertical-align: top;\n",
       "    }\n",
       "\n",
       "    .dataframe thead th {\n",
       "        text-align: right;\n",
       "    }\n",
       "</style>\n",
       "<table border=\"1\" class=\"dataframe\">\n",
       "  <thead>\n",
       "    <tr style=\"text-align: right;\">\n",
       "      <th></th>\n",
       "      <th>order_id</th>\n",
       "      <th>price</th>\n",
       "      <th>quantity</th>\n",
       "      <th>score</th>\n",
       "    </tr>\n",
       "  </thead>\n",
       "  <tbody>\n",
       "    <tr>\n",
       "      <th>count</th>\n",
       "      <td>6.000000</td>\n",
       "      <td>5.000000</td>\n",
       "      <td>6.000000</td>\n",
       "      <td>5.000000</td>\n",
       "    </tr>\n",
       "    <tr>\n",
       "      <th>mean</th>\n",
       "      <td>1003.500000</td>\n",
       "      <td>1030.800000</td>\n",
       "      <td>1.666667</td>\n",
       "      <td>77.200000</td>\n",
       "    </tr>\n",
       "    <tr>\n",
       "      <th>std</th>\n",
       "      <td>1.870829</td>\n",
       "      <td>1428.231669</td>\n",
       "      <td>0.816497</td>\n",
       "      <td>26.975915</td>\n",
       "    </tr>\n",
       "    <tr>\n",
       "      <th>min</th>\n",
       "      <td>1001.000000</td>\n",
       "      <td>85.000000</td>\n",
       "      <td>1.000000</td>\n",
       "      <td>30.000000</td>\n",
       "    </tr>\n",
       "    <tr>\n",
       "      <th>25%</th>\n",
       "      <td>1002.250000</td>\n",
       "      <td>120.000000</td>\n",
       "      <td>1.000000</td>\n",
       "      <td>80.000000</td>\n",
       "    </tr>\n",
       "    <tr>\n",
       "      <th>50%</th>\n",
       "      <td>1003.500000</td>\n",
       "      <td>450.000000</td>\n",
       "      <td>1.500000</td>\n",
       "      <td>89.000000</td>\n",
       "    </tr>\n",
       "    <tr>\n",
       "      <th>75%</th>\n",
       "      <td>1004.750000</td>\n",
       "      <td>999.000000</td>\n",
       "      <td>2.000000</td>\n",
       "      <td>92.000000</td>\n",
       "    </tr>\n",
       "    <tr>\n",
       "      <th>max</th>\n",
       "      <td>1006.000000</td>\n",
       "      <td>3500.000000</td>\n",
       "      <td>3.000000</td>\n",
       "      <td>95.000000</td>\n",
       "    </tr>\n",
       "  </tbody>\n",
       "</table>\n",
       "</div>"
      ]
     },
     "execution_count": 11,
     "metadata": {},
     "output_type": "execute_result"
    }
   ],
   "execution_count": 11
  },
  {
   "metadata": {
    "ExecuteTime": {
     "end_time": "2025-10-21T09:22:59.760037Z",
     "start_time": "2025-10-21T09:22:59.755348Z"
    }
   },
   "cell_type": "code",
   "source": "df['price']",
   "id": "cfdcf4978c330899",
   "outputs": [
    {
     "data": {
      "text/plain": [
       "0    3500.0\n",
       "1     120.0\n",
       "2       NaN\n",
       "3     450.0\n",
       "4     999.0\n",
       "5      85.0\n",
       "Name: price, dtype: float64"
      ]
     },
     "execution_count": 12,
     "metadata": {},
     "output_type": "execute_result"
    }
   ],
   "execution_count": 12
  },
  {
   "metadata": {
    "ExecuteTime": {
     "end_time": "2025-10-21T09:23:04.296779Z",
     "start_time": "2025-10-21T09:23:04.279601Z"
    }
   },
   "cell_type": "code",
   "source": "df['price'].fillna(df['price'].mean(), inplace=True)",
   "id": "605c88c65b51ac04",
   "outputs": [],
   "execution_count": 13
  },
  {
   "metadata": {
    "ExecuteTime": {
     "end_time": "2025-10-21T09:23:06.655266Z",
     "start_time": "2025-10-21T09:23:06.649391Z"
    }
   },
   "cell_type": "code",
   "source": [
    "# zalecana wersja\n",
    "df['price'] = df['price']. fillna(df['price'].mean())"
   ],
   "id": "e808b6e0219f3a20",
   "outputs": [],
   "execution_count": 14
  },
  {
   "metadata": {
    "ExecuteTime": {
     "end_time": "2025-10-21T09:23:08.483196Z",
     "start_time": "2025-10-21T09:23:08.478377Z"
    }
   },
   "cell_type": "code",
   "source": "df['price']",
   "id": "9dbdad6a8000ada8",
   "outputs": [
    {
     "data": {
      "text/plain": [
       "0    3500.0\n",
       "1     120.0\n",
       "2    1030.8\n",
       "3     450.0\n",
       "4     999.0\n",
       "5      85.0\n",
       "Name: price, dtype: float64"
      ]
     },
     "execution_count": 15,
     "metadata": {},
     "output_type": "execute_result"
    }
   ],
   "execution_count": 15
  },
  {
   "metadata": {
    "ExecuteTime": {
     "end_time": "2025-10-21T09:23:35.939150Z",
     "start_time": "2025-10-21T09:23:35.933452Z"
    }
   },
   "cell_type": "code",
   "source": "df['score']",
   "id": "efdc109ccf0d21cd",
   "outputs": [
    {
     "data": {
      "text/plain": [
       "0    95.0\n",
       "1     NaN\n",
       "2    80.0\n",
       "3    89.0\n",
       "4    30.0\n",
       "5    92.0\n",
       "Name: score, dtype: float64"
      ]
     },
     "execution_count": 16,
     "metadata": {},
     "output_type": "execute_result"
    }
   ],
   "execution_count": 16
  },
  {
   "metadata": {
    "ExecuteTime": {
     "end_time": "2025-10-21T09:24:19.568674Z",
     "start_time": "2025-10-21T09:24:19.564583Z"
    }
   },
   "cell_type": "code",
   "source": "df['score'].fillna(df['score'].median(), inplace=True)",
   "id": "1ccce3e55f002aa6",
   "outputs": [],
   "execution_count": 17
  },
  {
   "metadata": {
    "ExecuteTime": {
     "end_time": "2025-10-21T09:24:39.951592Z",
     "start_time": "2025-10-21T09:24:39.946153Z"
    }
   },
   "cell_type": "code",
   "source": "df['score']",
   "id": "d3f409e0a060e502",
   "outputs": [
    {
     "data": {
      "text/plain": [
       "0    95.0\n",
       "1    89.0\n",
       "2    80.0\n",
       "3    89.0\n",
       "4    30.0\n",
       "5    92.0\n",
       "Name: score, dtype: float64"
      ]
     },
     "execution_count": 18,
     "metadata": {},
     "output_type": "execute_result"
    }
   ],
   "execution_count": 18
  },
  {
   "metadata": {
    "ExecuteTime": {
     "end_time": "2025-10-21T09:25:18.655816Z",
     "start_time": "2025-10-21T09:25:18.651683Z"
    }
   },
   "cell_type": "code",
   "source": [
    "# zalecana wersja\n",
    "df['score'] = df['score']. fillna(df['score'].median())"
   ],
   "id": "b2edfd2468e077eb",
   "outputs": [],
   "execution_count": 19
  },
  {
   "metadata": {
    "ExecuteTime": {
     "end_time": "2025-10-21T09:25:30.762969Z",
     "start_time": "2025-10-21T09:25:30.757695Z"
    }
   },
   "cell_type": "code",
   "source": "df['score']\n",
   "id": "8dd3ad1185868f14",
   "outputs": [
    {
     "data": {
      "text/plain": [
       "0    95.0\n",
       "1    89.0\n",
       "2    80.0\n",
       "3    89.0\n",
       "4    30.0\n",
       "5    92.0\n",
       "Name: score, dtype: float64"
      ]
     },
     "execution_count": 20,
     "metadata": {},
     "output_type": "execute_result"
    }
   ],
   "execution_count": 20
  },
  {
   "metadata": {
    "ExecuteTime": {
     "end_time": "2025-10-21T09:25:48.539734Z",
     "start_time": "2025-10-21T09:25:48.526170Z"
    }
   },
   "cell_type": "code",
   "source": "df.describe()",
   "id": "7936c3dee2772aac",
   "outputs": [
    {
     "data": {
      "text/plain": [
       "          order_id       price  quantity      score\n",
       "count     6.000000     6.00000  6.000000   6.000000\n",
       "mean   1003.500000  1030.80000  1.666667  79.166667\n",
       "std       1.870829  1277.44924  0.816497  24.604200\n",
       "min    1001.000000    85.00000  1.000000  30.000000\n",
       "25%    1002.250000   202.50000  1.000000  82.250000\n",
       "50%    1003.500000   724.50000  1.500000  89.000000\n",
       "75%    1004.750000  1022.85000  2.000000  91.250000\n",
       "max    1006.000000  3500.00000  3.000000  95.000000"
      ],
      "text/html": [
       "<div>\n",
       "<style scoped>\n",
       "    .dataframe tbody tr th:only-of-type {\n",
       "        vertical-align: middle;\n",
       "    }\n",
       "\n",
       "    .dataframe tbody tr th {\n",
       "        vertical-align: top;\n",
       "    }\n",
       "\n",
       "    .dataframe thead th {\n",
       "        text-align: right;\n",
       "    }\n",
       "</style>\n",
       "<table border=\"1\" class=\"dataframe\">\n",
       "  <thead>\n",
       "    <tr style=\"text-align: right;\">\n",
       "      <th></th>\n",
       "      <th>order_id</th>\n",
       "      <th>price</th>\n",
       "      <th>quantity</th>\n",
       "      <th>score</th>\n",
       "    </tr>\n",
       "  </thead>\n",
       "  <tbody>\n",
       "    <tr>\n",
       "      <th>count</th>\n",
       "      <td>6.000000</td>\n",
       "      <td>6.00000</td>\n",
       "      <td>6.000000</td>\n",
       "      <td>6.000000</td>\n",
       "    </tr>\n",
       "    <tr>\n",
       "      <th>mean</th>\n",
       "      <td>1003.500000</td>\n",
       "      <td>1030.80000</td>\n",
       "      <td>1.666667</td>\n",
       "      <td>79.166667</td>\n",
       "    </tr>\n",
       "    <tr>\n",
       "      <th>std</th>\n",
       "      <td>1.870829</td>\n",
       "      <td>1277.44924</td>\n",
       "      <td>0.816497</td>\n",
       "      <td>24.604200</td>\n",
       "    </tr>\n",
       "    <tr>\n",
       "      <th>min</th>\n",
       "      <td>1001.000000</td>\n",
       "      <td>85.00000</td>\n",
       "      <td>1.000000</td>\n",
       "      <td>30.000000</td>\n",
       "    </tr>\n",
       "    <tr>\n",
       "      <th>25%</th>\n",
       "      <td>1002.250000</td>\n",
       "      <td>202.50000</td>\n",
       "      <td>1.000000</td>\n",
       "      <td>82.250000</td>\n",
       "    </tr>\n",
       "    <tr>\n",
       "      <th>50%</th>\n",
       "      <td>1003.500000</td>\n",
       "      <td>724.50000</td>\n",
       "      <td>1.500000</td>\n",
       "      <td>89.000000</td>\n",
       "    </tr>\n",
       "    <tr>\n",
       "      <th>75%</th>\n",
       "      <td>1004.750000</td>\n",
       "      <td>1022.85000</td>\n",
       "      <td>2.000000</td>\n",
       "      <td>91.250000</td>\n",
       "    </tr>\n",
       "    <tr>\n",
       "      <th>max</th>\n",
       "      <td>1006.000000</td>\n",
       "      <td>3500.00000</td>\n",
       "      <td>3.000000</td>\n",
       "      <td>95.000000</td>\n",
       "    </tr>\n",
       "  </tbody>\n",
       "</table>\n",
       "</div>"
      ]
     },
     "execution_count": 21,
     "metadata": {},
     "output_type": "execute_result"
    }
   ],
   "execution_count": 21
  },
  {
   "metadata": {
    "ExecuteTime": {
     "end_time": "2025-10-21T09:26:26.604162Z",
     "start_time": "2025-10-21T09:26:26.596876Z"
    }
   },
   "cell_type": "code",
   "source": "df.info()",
   "id": "c886928e83384617",
   "outputs": [
    {
     "name": "stdout",
     "output_type": "stream",
     "text": [
      "<class 'pandas.core.frame.DataFrame'>\n",
      "RangeIndex: 6 entries, 0 to 5\n",
      "Data columns (total 9 columns):\n",
      " #   Column       Non-Null Count  Dtype  \n",
      "---  ------       --------------  -----  \n",
      " 0   order_id     6 non-null      int64  \n",
      " 1   customer_id  6 non-null      object \n",
      " 2   product      6 non-null      object \n",
      " 3   category     6 non-null      object \n",
      " 4   price        6 non-null      float64\n",
      " 5   quantity     6 non-null      int64  \n",
      " 6   score        6 non-null      float64\n",
      " 7   country      6 non-null      object \n",
      " 8   order_date   6 non-null      object \n",
      "dtypes: float64(2), int64(2), object(5)\n",
      "memory usage: 564.0+ bytes\n"
     ]
    }
   ],
   "execution_count": 22
  }
 ],
 "metadata": {
  "kernelspec": {
   "display_name": "Python 3",
   "language": "python",
   "name": "python3"
  },
  "language_info": {
   "codemirror_mode": {
    "name": "ipython",
    "version": 2
   },
   "file_extension": ".py",
   "mimetype": "text/x-python",
   "name": "python",
   "nbconvert_exporter": "python",
   "pygments_lexer": "ipython2",
   "version": "2.7.6"
  }
 },
 "nbformat": 4,
 "nbformat_minor": 5
}
