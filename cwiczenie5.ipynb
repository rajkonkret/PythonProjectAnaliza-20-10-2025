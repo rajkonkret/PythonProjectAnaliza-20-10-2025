{
 "cells": [
  {
   "cell_type": "code",
   "id": "initial_id",
   "metadata": {
    "collapsed": true,
    "ExecuteTime": {
     "end_time": "2025-10-21T09:17:20.681472Z",
     "start_time": "2025-10-21T09:17:20.043679Z"
    }
   },
   "source": "import pandas as pd",
   "outputs": [],
   "execution_count": 1
  },
  {
   "metadata": {
    "ExecuteTime": {
     "end_time": "2025-10-21T09:45:17.069321Z",
     "start_time": "2025-10-21T09:45:17.056404Z"
    }
   },
   "cell_type": "code",
   "source": [
    "df = pd.read_csv(\"orders_example.csv\")\n",
    "df"
   ],
   "id": "6f782bfb5df70bda",
   "outputs": [
    {
     "data": {
      "text/plain": [
       "   order_id customer_id     product     category   price  quantity  score  \\\n",
       "0      1001         C01      Laptop  Electronics  3500.0         1   95.0   \n",
       "1      1002         C02       Mouse  Accessories   120.0         2    NaN   \n",
       "2      1003         C03  Smartphone  Electronics     NaN         1   80.0   \n",
       "3      1004         C04  Headphones  Accessories   450.0         1   89.0   \n",
       "4      1005         C01     Monitor  Electronics   999.0         2   30.0   \n",
       "5      1006         C05  Power Bank  Accessories    85.0         3   92.0   \n",
       "\n",
       "   country  order_date  \n",
       "0   Poland  2024-03-01  \n",
       "1  Germany  2024-03-03  \n",
       "2   Poland  2024-03-07  \n",
       "3   France  2024-03-08  \n",
       "4   Poland  2024-03-10  \n",
       "5  Czechia  2024-03-12  "
      ],
      "text/html": [
       "<div>\n",
       "<style scoped>\n",
       "    .dataframe tbody tr th:only-of-type {\n",
       "        vertical-align: middle;\n",
       "    }\n",
       "\n",
       "    .dataframe tbody tr th {\n",
       "        vertical-align: top;\n",
       "    }\n",
       "\n",
       "    .dataframe thead th {\n",
       "        text-align: right;\n",
       "    }\n",
       "</style>\n",
       "<table border=\"1\" class=\"dataframe\">\n",
       "  <thead>\n",
       "    <tr style=\"text-align: right;\">\n",
       "      <th></th>\n",
       "      <th>order_id</th>\n",
       "      <th>customer_id</th>\n",
       "      <th>product</th>\n",
       "      <th>category</th>\n",
       "      <th>price</th>\n",
       "      <th>quantity</th>\n",
       "      <th>score</th>\n",
       "      <th>country</th>\n",
       "      <th>order_date</th>\n",
       "    </tr>\n",
       "  </thead>\n",
       "  <tbody>\n",
       "    <tr>\n",
       "      <th>0</th>\n",
       "      <td>1001</td>\n",
       "      <td>C01</td>\n",
       "      <td>Laptop</td>\n",
       "      <td>Electronics</td>\n",
       "      <td>3500.0</td>\n",
       "      <td>1</td>\n",
       "      <td>95.0</td>\n",
       "      <td>Poland</td>\n",
       "      <td>2024-03-01</td>\n",
       "    </tr>\n",
       "    <tr>\n",
       "      <th>1</th>\n",
       "      <td>1002</td>\n",
       "      <td>C02</td>\n",
       "      <td>Mouse</td>\n",
       "      <td>Accessories</td>\n",
       "      <td>120.0</td>\n",
       "      <td>2</td>\n",
       "      <td>NaN</td>\n",
       "      <td>Germany</td>\n",
       "      <td>2024-03-03</td>\n",
       "    </tr>\n",
       "    <tr>\n",
       "      <th>2</th>\n",
       "      <td>1003</td>\n",
       "      <td>C03</td>\n",
       "      <td>Smartphone</td>\n",
       "      <td>Electronics</td>\n",
       "      <td>NaN</td>\n",
       "      <td>1</td>\n",
       "      <td>80.0</td>\n",
       "      <td>Poland</td>\n",
       "      <td>2024-03-07</td>\n",
       "    </tr>\n",
       "    <tr>\n",
       "      <th>3</th>\n",
       "      <td>1004</td>\n",
       "      <td>C04</td>\n",
       "      <td>Headphones</td>\n",
       "      <td>Accessories</td>\n",
       "      <td>450.0</td>\n",
       "      <td>1</td>\n",
       "      <td>89.0</td>\n",
       "      <td>France</td>\n",
       "      <td>2024-03-08</td>\n",
       "    </tr>\n",
       "    <tr>\n",
       "      <th>4</th>\n",
       "      <td>1005</td>\n",
       "      <td>C01</td>\n",
       "      <td>Monitor</td>\n",
       "      <td>Electronics</td>\n",
       "      <td>999.0</td>\n",
       "      <td>2</td>\n",
       "      <td>30.0</td>\n",
       "      <td>Poland</td>\n",
       "      <td>2024-03-10</td>\n",
       "    </tr>\n",
       "    <tr>\n",
       "      <th>5</th>\n",
       "      <td>1006</td>\n",
       "      <td>C05</td>\n",
       "      <td>Power Bank</td>\n",
       "      <td>Accessories</td>\n",
       "      <td>85.0</td>\n",
       "      <td>3</td>\n",
       "      <td>92.0</td>\n",
       "      <td>Czechia</td>\n",
       "      <td>2024-03-12</td>\n",
       "    </tr>\n",
       "  </tbody>\n",
       "</table>\n",
       "</div>"
      ]
     },
     "execution_count": 48,
     "metadata": {},
     "output_type": "execute_result"
    }
   ],
   "execution_count": 48
  },
  {
   "metadata": {
    "ExecuteTime": {
     "end_time": "2025-10-21T09:22:55.904156Z",
     "start_time": "2025-10-21T09:22:55.896821Z"
    }
   },
   "cell_type": "code",
   "source": "df.info()",
   "id": "d3b9309e1972627a",
   "outputs": [
    {
     "name": "stdout",
     "output_type": "stream",
     "text": [
      "<class 'pandas.core.frame.DataFrame'>\n",
      "RangeIndex: 6 entries, 0 to 5\n",
      "Data columns (total 9 columns):\n",
      " #   Column       Non-Null Count  Dtype  \n",
      "---  ------       --------------  -----  \n",
      " 0   order_id     6 non-null      int64  \n",
      " 1   customer_id  6 non-null      object \n",
      " 2   product      6 non-null      object \n",
      " 3   category     6 non-null      object \n",
      " 4   price        5 non-null      float64\n",
      " 5   quantity     6 non-null      int64  \n",
      " 6   score        5 non-null      float64\n",
      " 7   country      6 non-null      object \n",
      " 8   order_date   6 non-null      object \n",
      "dtypes: float64(2), int64(2), object(5)\n",
      "memory usage: 564.0+ bytes\n"
     ]
    }
   ],
   "execution_count": 10
  },
  {
   "metadata": {
    "ExecuteTime": {
     "end_time": "2025-10-21T09:22:58.213249Z",
     "start_time": "2025-10-21T09:22:58.199354Z"
    }
   },
   "cell_type": "code",
   "source": "df.describe()",
   "id": "4acc168c25bf6f1f",
   "outputs": [
    {
     "data": {
      "text/plain": [
       "          order_id        price  quantity      score\n",
       "count     6.000000     5.000000  6.000000   5.000000\n",
       "mean   1003.500000  1030.800000  1.666667  77.200000\n",
       "std       1.870829  1428.231669  0.816497  26.975915\n",
       "min    1001.000000    85.000000  1.000000  30.000000\n",
       "25%    1002.250000   120.000000  1.000000  80.000000\n",
       "50%    1003.500000   450.000000  1.500000  89.000000\n",
       "75%    1004.750000   999.000000  2.000000  92.000000\n",
       "max    1006.000000  3500.000000  3.000000  95.000000"
      ],
      "text/html": [
       "<div>\n",
       "<style scoped>\n",
       "    .dataframe tbody tr th:only-of-type {\n",
       "        vertical-align: middle;\n",
       "    }\n",
       "\n",
       "    .dataframe tbody tr th {\n",
       "        vertical-align: top;\n",
       "    }\n",
       "\n",
       "    .dataframe thead th {\n",
       "        text-align: right;\n",
       "    }\n",
       "</style>\n",
       "<table border=\"1\" class=\"dataframe\">\n",
       "  <thead>\n",
       "    <tr style=\"text-align: right;\">\n",
       "      <th></th>\n",
       "      <th>order_id</th>\n",
       "      <th>price</th>\n",
       "      <th>quantity</th>\n",
       "      <th>score</th>\n",
       "    </tr>\n",
       "  </thead>\n",
       "  <tbody>\n",
       "    <tr>\n",
       "      <th>count</th>\n",
       "      <td>6.000000</td>\n",
       "      <td>5.000000</td>\n",
       "      <td>6.000000</td>\n",
       "      <td>5.000000</td>\n",
       "    </tr>\n",
       "    <tr>\n",
       "      <th>mean</th>\n",
       "      <td>1003.500000</td>\n",
       "      <td>1030.800000</td>\n",
       "      <td>1.666667</td>\n",
       "      <td>77.200000</td>\n",
       "    </tr>\n",
       "    <tr>\n",
       "      <th>std</th>\n",
       "      <td>1.870829</td>\n",
       "      <td>1428.231669</td>\n",
       "      <td>0.816497</td>\n",
       "      <td>26.975915</td>\n",
       "    </tr>\n",
       "    <tr>\n",
       "      <th>min</th>\n",
       "      <td>1001.000000</td>\n",
       "      <td>85.000000</td>\n",
       "      <td>1.000000</td>\n",
       "      <td>30.000000</td>\n",
       "    </tr>\n",
       "    <tr>\n",
       "      <th>25%</th>\n",
       "      <td>1002.250000</td>\n",
       "      <td>120.000000</td>\n",
       "      <td>1.000000</td>\n",
       "      <td>80.000000</td>\n",
       "    </tr>\n",
       "    <tr>\n",
       "      <th>50%</th>\n",
       "      <td>1003.500000</td>\n",
       "      <td>450.000000</td>\n",
       "      <td>1.500000</td>\n",
       "      <td>89.000000</td>\n",
       "    </tr>\n",
       "    <tr>\n",
       "      <th>75%</th>\n",
       "      <td>1004.750000</td>\n",
       "      <td>999.000000</td>\n",
       "      <td>2.000000</td>\n",
       "      <td>92.000000</td>\n",
       "    </tr>\n",
       "    <tr>\n",
       "      <th>max</th>\n",
       "      <td>1006.000000</td>\n",
       "      <td>3500.000000</td>\n",
       "      <td>3.000000</td>\n",
       "      <td>95.000000</td>\n",
       "    </tr>\n",
       "  </tbody>\n",
       "</table>\n",
       "</div>"
      ]
     },
     "execution_count": 11,
     "metadata": {},
     "output_type": "execute_result"
    }
   ],
   "execution_count": 11
  },
  {
   "metadata": {
    "ExecuteTime": {
     "end_time": "2025-10-21T09:22:59.760037Z",
     "start_time": "2025-10-21T09:22:59.755348Z"
    }
   },
   "cell_type": "code",
   "source": "df['price']",
   "id": "cfdcf4978c330899",
   "outputs": [
    {
     "data": {
      "text/plain": [
       "0    3500.0\n",
       "1     120.0\n",
       "2       NaN\n",
       "3     450.0\n",
       "4     999.0\n",
       "5      85.0\n",
       "Name: price, dtype: float64"
      ]
     },
     "execution_count": 12,
     "metadata": {},
     "output_type": "execute_result"
    }
   ],
   "execution_count": 12
  },
  {
   "metadata": {
    "ExecuteTime": {
     "end_time": "2025-10-21T09:23:04.296779Z",
     "start_time": "2025-10-21T09:23:04.279601Z"
    }
   },
   "cell_type": "code",
   "source": "df['price'].fillna(df['price'].mean(), inplace=True)",
   "id": "605c88c65b51ac04",
   "outputs": [],
   "execution_count": 13
  },
  {
   "metadata": {
    "ExecuteTime": {
     "end_time": "2025-10-21T09:45:31.471670Z",
     "start_time": "2025-10-21T09:45:31.468179Z"
    }
   },
   "cell_type": "code",
   "source": [
    "# zalecana wersja\n",
    "df['price'] = df['price'].fillna(df['price'].mean())"
   ],
   "id": "e808b6e0219f3a20",
   "outputs": [],
   "execution_count": 50
  },
  {
   "metadata": {
    "ExecuteTime": {
     "end_time": "2025-10-21T09:23:08.483196Z",
     "start_time": "2025-10-21T09:23:08.478377Z"
    }
   },
   "cell_type": "code",
   "source": "df['price']",
   "id": "9dbdad6a8000ada8",
   "outputs": [
    {
     "data": {
      "text/plain": [
       "0    3500.0\n",
       "1     120.0\n",
       "2    1030.8\n",
       "3     450.0\n",
       "4     999.0\n",
       "5      85.0\n",
       "Name: price, dtype: float64"
      ]
     },
     "execution_count": 15,
     "metadata": {},
     "output_type": "execute_result"
    }
   ],
   "execution_count": 15
  },
  {
   "metadata": {
    "ExecuteTime": {
     "end_time": "2025-10-21T09:23:35.939150Z",
     "start_time": "2025-10-21T09:23:35.933452Z"
    }
   },
   "cell_type": "code",
   "source": "df['score']",
   "id": "efdc109ccf0d21cd",
   "outputs": [
    {
     "data": {
      "text/plain": [
       "0    95.0\n",
       "1     NaN\n",
       "2    80.0\n",
       "3    89.0\n",
       "4    30.0\n",
       "5    92.0\n",
       "Name: score, dtype: float64"
      ]
     },
     "execution_count": 16,
     "metadata": {},
     "output_type": "execute_result"
    }
   ],
   "execution_count": 16
  },
  {
   "metadata": {
    "ExecuteTime": {
     "end_time": "2025-10-21T09:45:34.850402Z",
     "start_time": "2025-10-21T09:45:34.846468Z"
    }
   },
   "cell_type": "code",
   "source": "df['score'].fillna(df['score'].median(), inplace=True)",
   "id": "1ccce3e55f002aa6",
   "outputs": [
    {
     "name": "stderr",
     "output_type": "stream",
     "text": [
      "C:\\Users\\CSComarch\\AppData\\Local\\Temp\\ipykernel_6608\\3156443114.py:1: FutureWarning: A value is trying to be set on a copy of a DataFrame or Series through chained assignment using an inplace method.\n",
      "The behavior will change in pandas 3.0. This inplace method will never work because the intermediate object on which we are setting values always behaves as a copy.\n",
      "\n",
      "For example, when doing 'df[col].method(value, inplace=True)', try using 'df.method({col: value}, inplace=True)' or df[col] = df[col].method(value) instead, to perform the operation inplace on the original object.\n",
      "\n",
      "\n",
      "  df['score'].fillna(df['score'].median(), inplace=True)\n"
     ]
    }
   ],
   "execution_count": 51
  },
  {
   "metadata": {
    "ExecuteTime": {
     "end_time": "2025-10-21T09:24:39.951592Z",
     "start_time": "2025-10-21T09:24:39.946153Z"
    }
   },
   "cell_type": "code",
   "source": "df['score']",
   "id": "d3f409e0a060e502",
   "outputs": [
    {
     "data": {
      "text/plain": [
       "0    95.0\n",
       "1    89.0\n",
       "2    80.0\n",
       "3    89.0\n",
       "4    30.0\n",
       "5    92.0\n",
       "Name: score, dtype: float64"
      ]
     },
     "execution_count": 18,
     "metadata": {},
     "output_type": "execute_result"
    }
   ],
   "execution_count": 18
  },
  {
   "metadata": {
    "ExecuteTime": {
     "end_time": "2025-10-21T09:25:18.655816Z",
     "start_time": "2025-10-21T09:25:18.651683Z"
    }
   },
   "cell_type": "code",
   "source": [
    "# zalecana wersja\n",
    "df['score'] = df['score'].fillna(df['score'].median())"
   ],
   "id": "b2edfd2468e077eb",
   "outputs": [],
   "execution_count": 19
  },
  {
   "metadata": {
    "ExecuteTime": {
     "end_time": "2025-10-21T09:25:30.762969Z",
     "start_time": "2025-10-21T09:25:30.757695Z"
    }
   },
   "cell_type": "code",
   "source": "df['score']\n",
   "id": "8dd3ad1185868f14",
   "outputs": [
    {
     "data": {
      "text/plain": [
       "0    95.0\n",
       "1    89.0\n",
       "2    80.0\n",
       "3    89.0\n",
       "4    30.0\n",
       "5    92.0\n",
       "Name: score, dtype: float64"
      ]
     },
     "execution_count": 20,
     "metadata": {},
     "output_type": "execute_result"
    }
   ],
   "execution_count": 20
  },
  {
   "metadata": {
    "ExecuteTime": {
     "end_time": "2025-10-21T09:25:48.539734Z",
     "start_time": "2025-10-21T09:25:48.526170Z"
    }
   },
   "cell_type": "code",
   "source": "df.describe()",
   "id": "7936c3dee2772aac",
   "outputs": [
    {
     "data": {
      "text/plain": [
       "          order_id       price  quantity      score\n",
       "count     6.000000     6.00000  6.000000   6.000000\n",
       "mean   1003.500000  1030.80000  1.666667  79.166667\n",
       "std       1.870829  1277.44924  0.816497  24.604200\n",
       "min    1001.000000    85.00000  1.000000  30.000000\n",
       "25%    1002.250000   202.50000  1.000000  82.250000\n",
       "50%    1003.500000   724.50000  1.500000  89.000000\n",
       "75%    1004.750000  1022.85000  2.000000  91.250000\n",
       "max    1006.000000  3500.00000  3.000000  95.000000"
      ],
      "text/html": [
       "<div>\n",
       "<style scoped>\n",
       "    .dataframe tbody tr th:only-of-type {\n",
       "        vertical-align: middle;\n",
       "    }\n",
       "\n",
       "    .dataframe tbody tr th {\n",
       "        vertical-align: top;\n",
       "    }\n",
       "\n",
       "    .dataframe thead th {\n",
       "        text-align: right;\n",
       "    }\n",
       "</style>\n",
       "<table border=\"1\" class=\"dataframe\">\n",
       "  <thead>\n",
       "    <tr style=\"text-align: right;\">\n",
       "      <th></th>\n",
       "      <th>order_id</th>\n",
       "      <th>price</th>\n",
       "      <th>quantity</th>\n",
       "      <th>score</th>\n",
       "    </tr>\n",
       "  </thead>\n",
       "  <tbody>\n",
       "    <tr>\n",
       "      <th>count</th>\n",
       "      <td>6.000000</td>\n",
       "      <td>6.00000</td>\n",
       "      <td>6.000000</td>\n",
       "      <td>6.000000</td>\n",
       "    </tr>\n",
       "    <tr>\n",
       "      <th>mean</th>\n",
       "      <td>1003.500000</td>\n",
       "      <td>1030.80000</td>\n",
       "      <td>1.666667</td>\n",
       "      <td>79.166667</td>\n",
       "    </tr>\n",
       "    <tr>\n",
       "      <th>std</th>\n",
       "      <td>1.870829</td>\n",
       "      <td>1277.44924</td>\n",
       "      <td>0.816497</td>\n",
       "      <td>24.604200</td>\n",
       "    </tr>\n",
       "    <tr>\n",
       "      <th>min</th>\n",
       "      <td>1001.000000</td>\n",
       "      <td>85.00000</td>\n",
       "      <td>1.000000</td>\n",
       "      <td>30.000000</td>\n",
       "    </tr>\n",
       "    <tr>\n",
       "      <th>25%</th>\n",
       "      <td>1002.250000</td>\n",
       "      <td>202.50000</td>\n",
       "      <td>1.000000</td>\n",
       "      <td>82.250000</td>\n",
       "    </tr>\n",
       "    <tr>\n",
       "      <th>50%</th>\n",
       "      <td>1003.500000</td>\n",
       "      <td>724.50000</td>\n",
       "      <td>1.500000</td>\n",
       "      <td>89.000000</td>\n",
       "    </tr>\n",
       "    <tr>\n",
       "      <th>75%</th>\n",
       "      <td>1004.750000</td>\n",
       "      <td>1022.85000</td>\n",
       "      <td>2.000000</td>\n",
       "      <td>91.250000</td>\n",
       "    </tr>\n",
       "    <tr>\n",
       "      <th>max</th>\n",
       "      <td>1006.000000</td>\n",
       "      <td>3500.00000</td>\n",
       "      <td>3.000000</td>\n",
       "      <td>95.000000</td>\n",
       "    </tr>\n",
       "  </tbody>\n",
       "</table>\n",
       "</div>"
      ]
     },
     "execution_count": 21,
     "metadata": {},
     "output_type": "execute_result"
    }
   ],
   "execution_count": 21
  },
  {
   "metadata": {
    "ExecuteTime": {
     "end_time": "2025-10-21T09:26:26.604162Z",
     "start_time": "2025-10-21T09:26:26.596876Z"
    }
   },
   "cell_type": "code",
   "source": "df.info()",
   "id": "c886928e83384617",
   "outputs": [
    {
     "name": "stdout",
     "output_type": "stream",
     "text": [
      "<class 'pandas.core.frame.DataFrame'>\n",
      "RangeIndex: 6 entries, 0 to 5\n",
      "Data columns (total 9 columns):\n",
      " #   Column       Non-Null Count  Dtype  \n",
      "---  ------       --------------  -----  \n",
      " 0   order_id     6 non-null      int64  \n",
      " 1   customer_id  6 non-null      object \n",
      " 2   product      6 non-null      object \n",
      " 3   category     6 non-null      object \n",
      " 4   price        6 non-null      float64\n",
      " 5   quantity     6 non-null      int64  \n",
      " 6   score        6 non-null      float64\n",
      " 7   country      6 non-null      object \n",
      " 8   order_date   6 non-null      object \n",
      "dtypes: float64(2), int64(2), object(5)\n",
      "memory usage: 564.0+ bytes\n"
     ]
    }
   ],
   "execution_count": 22
  },
  {
   "metadata": {},
   "cell_type": "markdown",
   "source": "wartości odstające IQR",
   "id": "dfc1e303d954c6d"
  },
  {
   "metadata": {
    "ExecuteTime": {
     "end_time": "2025-10-21T09:29:21.745001Z",
     "start_time": "2025-10-21T09:29:21.739492Z"
    }
   },
   "cell_type": "code",
   "source": [
    "Q1 = df['score'].quantile(0.25)\n",
    "Q3 = df['score'].quantile(0.75)"
   ],
   "id": "cbaff0b5f3847063",
   "outputs": [],
   "execution_count": 23
  },
  {
   "metadata": {
    "ExecuteTime": {
     "end_time": "2025-10-21T09:29:29.477592Z",
     "start_time": "2025-10-21T09:29:29.471814Z"
    }
   },
   "cell_type": "code",
   "source": "Q1",
   "id": "21b3c0639221c539",
   "outputs": [
    {
     "data": {
      "text/plain": [
       "np.float64(82.25)"
      ]
     },
     "execution_count": 24,
     "metadata": {},
     "output_type": "execute_result"
    }
   ],
   "execution_count": 24
  },
  {
   "metadata": {
    "ExecuteTime": {
     "end_time": "2025-10-21T09:29:36.809889Z",
     "start_time": "2025-10-21T09:29:36.805541Z"
    }
   },
   "cell_type": "code",
   "source": "Q3",
   "id": "4ea85a7f19b6b87",
   "outputs": [
    {
     "data": {
      "text/plain": [
       "np.float64(91.25)"
      ]
     },
     "execution_count": 25,
     "metadata": {},
     "output_type": "execute_result"
    }
   ],
   "execution_count": 25
  },
  {
   "metadata": {
    "ExecuteTime": {
     "end_time": "2025-10-21T09:30:21.605607Z",
     "start_time": "2025-10-21T09:30:21.600154Z"
    }
   },
   "cell_type": "code",
   "source": [
    "IQR = Q3 - Q1\n",
    "IQR"
   ],
   "id": "1ae53c347ce81c3a",
   "outputs": [
    {
     "data": {
      "text/plain": [
       "np.float64(9.0)"
      ]
     },
     "execution_count": 26,
     "metadata": {},
     "output_type": "execute_result"
    }
   ],
   "execution_count": 26
  },
  {
   "metadata": {
    "ExecuteTime": {
     "end_time": "2025-10-21T09:31:16.567206Z",
     "start_time": "2025-10-21T09:31:16.559652Z"
    }
   },
   "cell_type": "code",
   "source": [
    "outliers = df[df['score'] > Q3 + 1.5 * IQR]\n",
    "outliers"
   ],
   "id": "613b353e8bce2086",
   "outputs": [
    {
     "data": {
      "text/plain": [
       "Empty DataFrame\n",
       "Columns: [order_id, customer_id, product, category, price, quantity, score, country, order_date]\n",
       "Index: []"
      ],
      "text/html": [
       "<div>\n",
       "<style scoped>\n",
       "    .dataframe tbody tr th:only-of-type {\n",
       "        vertical-align: middle;\n",
       "    }\n",
       "\n",
       "    .dataframe tbody tr th {\n",
       "        vertical-align: top;\n",
       "    }\n",
       "\n",
       "    .dataframe thead th {\n",
       "        text-align: right;\n",
       "    }\n",
       "</style>\n",
       "<table border=\"1\" class=\"dataframe\">\n",
       "  <thead>\n",
       "    <tr style=\"text-align: right;\">\n",
       "      <th></th>\n",
       "      <th>order_id</th>\n",
       "      <th>customer_id</th>\n",
       "      <th>product</th>\n",
       "      <th>category</th>\n",
       "      <th>price</th>\n",
       "      <th>quantity</th>\n",
       "      <th>score</th>\n",
       "      <th>country</th>\n",
       "      <th>order_date</th>\n",
       "    </tr>\n",
       "  </thead>\n",
       "  <tbody>\n",
       "  </tbody>\n",
       "</table>\n",
       "</div>"
      ]
     },
     "execution_count": 27,
     "metadata": {},
     "output_type": "execute_result"
    }
   ],
   "execution_count": 27
  },
  {
   "metadata": {
    "ExecuteTime": {
     "end_time": "2025-10-21T09:33:54.199566Z",
     "start_time": "2025-10-21T09:33:54.189189Z"
    }
   },
   "cell_type": "code",
   "source": [
    "median_score = df['score'].median()\n",
    "df.loc[df['score'] > Q3 + 1.5 * IQR, \"score\"] = median_score\n",
    "df"
   ],
   "id": "4c00c9376d0b91cd",
   "outputs": [
    {
     "data": {
      "text/plain": [
       "   order_id customer_id     product     category   price  quantity  score  \\\n",
       "0      1001         C01      Laptop  Electronics  3500.0         1   95.0   \n",
       "1      1002         C02       Mouse  Accessories   120.0         2   89.0   \n",
       "2      1003         C03  Smartphone  Electronics  1030.8         1   80.0   \n",
       "3      1004         C04  Headphones  Accessories   450.0         1   89.0   \n",
       "4      1005         C01     Monitor  Electronics   999.0         2   30.0   \n",
       "5      1006         C05  Power Bank  Accessories    85.0         3   92.0   \n",
       "\n",
       "   country  order_date  \n",
       "0   Poland  2024-03-01  \n",
       "1  Germany  2024-03-03  \n",
       "2   Poland  2024-03-07  \n",
       "3   France  2024-03-08  \n",
       "4   Poland  2024-03-10  \n",
       "5  Czechia  2024-03-12  "
      ],
      "text/html": [
       "<div>\n",
       "<style scoped>\n",
       "    .dataframe tbody tr th:only-of-type {\n",
       "        vertical-align: middle;\n",
       "    }\n",
       "\n",
       "    .dataframe tbody tr th {\n",
       "        vertical-align: top;\n",
       "    }\n",
       "\n",
       "    .dataframe thead th {\n",
       "        text-align: right;\n",
       "    }\n",
       "</style>\n",
       "<table border=\"1\" class=\"dataframe\">\n",
       "  <thead>\n",
       "    <tr style=\"text-align: right;\">\n",
       "      <th></th>\n",
       "      <th>order_id</th>\n",
       "      <th>customer_id</th>\n",
       "      <th>product</th>\n",
       "      <th>category</th>\n",
       "      <th>price</th>\n",
       "      <th>quantity</th>\n",
       "      <th>score</th>\n",
       "      <th>country</th>\n",
       "      <th>order_date</th>\n",
       "    </tr>\n",
       "  </thead>\n",
       "  <tbody>\n",
       "    <tr>\n",
       "      <th>0</th>\n",
       "      <td>1001</td>\n",
       "      <td>C01</td>\n",
       "      <td>Laptop</td>\n",
       "      <td>Electronics</td>\n",
       "      <td>3500.0</td>\n",
       "      <td>1</td>\n",
       "      <td>95.0</td>\n",
       "      <td>Poland</td>\n",
       "      <td>2024-03-01</td>\n",
       "    </tr>\n",
       "    <tr>\n",
       "      <th>1</th>\n",
       "      <td>1002</td>\n",
       "      <td>C02</td>\n",
       "      <td>Mouse</td>\n",
       "      <td>Accessories</td>\n",
       "      <td>120.0</td>\n",
       "      <td>2</td>\n",
       "      <td>89.0</td>\n",
       "      <td>Germany</td>\n",
       "      <td>2024-03-03</td>\n",
       "    </tr>\n",
       "    <tr>\n",
       "      <th>2</th>\n",
       "      <td>1003</td>\n",
       "      <td>C03</td>\n",
       "      <td>Smartphone</td>\n",
       "      <td>Electronics</td>\n",
       "      <td>1030.8</td>\n",
       "      <td>1</td>\n",
       "      <td>80.0</td>\n",
       "      <td>Poland</td>\n",
       "      <td>2024-03-07</td>\n",
       "    </tr>\n",
       "    <tr>\n",
       "      <th>3</th>\n",
       "      <td>1004</td>\n",
       "      <td>C04</td>\n",
       "      <td>Headphones</td>\n",
       "      <td>Accessories</td>\n",
       "      <td>450.0</td>\n",
       "      <td>1</td>\n",
       "      <td>89.0</td>\n",
       "      <td>France</td>\n",
       "      <td>2024-03-08</td>\n",
       "    </tr>\n",
       "    <tr>\n",
       "      <th>4</th>\n",
       "      <td>1005</td>\n",
       "      <td>C01</td>\n",
       "      <td>Monitor</td>\n",
       "      <td>Electronics</td>\n",
       "      <td>999.0</td>\n",
       "      <td>2</td>\n",
       "      <td>30.0</td>\n",
       "      <td>Poland</td>\n",
       "      <td>2024-03-10</td>\n",
       "    </tr>\n",
       "    <tr>\n",
       "      <th>5</th>\n",
       "      <td>1006</td>\n",
       "      <td>C05</td>\n",
       "      <td>Power Bank</td>\n",
       "      <td>Accessories</td>\n",
       "      <td>85.0</td>\n",
       "      <td>3</td>\n",
       "      <td>92.0</td>\n",
       "      <td>Czechia</td>\n",
       "      <td>2024-03-12</td>\n",
       "    </tr>\n",
       "  </tbody>\n",
       "</table>\n",
       "</div>"
      ]
     },
     "execution_count": 31,
     "metadata": {},
     "output_type": "execute_result"
    }
   ],
   "execution_count": 31
  },
  {
   "metadata": {
    "ExecuteTime": {
     "end_time": "2025-10-21T09:45:47.271015Z",
     "start_time": "2025-10-21T09:45:47.262906Z"
    }
   },
   "cell_type": "code",
   "source": [
    "Q1 = df['score'].quantile(0.25)\n",
    "Q3 = df['score'].quantile(0.75)\n",
    "IQR = Q3 - Q1\n",
    "IQR"
   ],
   "id": "844244dec637c097",
   "outputs": [
    {
     "data": {
      "text/plain": [
       "np.float64(9.0)"
      ]
     },
     "execution_count": 52,
     "metadata": {},
     "output_type": "execute_result"
    }
   ],
   "execution_count": 52
  },
  {
   "metadata": {
    "ExecuteTime": {
     "end_time": "2025-10-21T09:45:49.191555Z",
     "start_time": "2025-10-21T09:45:49.188015Z"
    }
   },
   "cell_type": "code",
   "source": [
    "lower_bound = Q1 - 1.5 * IQR\n",
    "upper_bound = Q3 + 1.5 * IQR\n",
    "print(f\"{Q1=}, {Q3=}, {IQR=}, Górna granica={upper_bound}\")"
   ],
   "id": "e15eec96d945f4d6",
   "outputs": [
    {
     "name": "stdout",
     "output_type": "stream",
     "text": [
      "Q1=np.float64(82.25), Q3=np.float64(91.25), IQR=np.float64(9.0), Górna granica=104.75\n"
     ]
    }
   ],
   "execution_count": 53
  },
  {
   "metadata": {
    "ExecuteTime": {
     "end_time": "2025-10-21T09:45:50.588002Z",
     "start_time": "2025-10-21T09:45:50.582009Z"
    }
   },
   "cell_type": "code",
   "source": [
    "outliers = df[df['score'] > upper_bound]\n",
    "print(\"Outliery:\\n\", outliers)"
   ],
   "id": "aefe8e14124c8b41",
   "outputs": [
    {
     "name": "stdout",
     "output_type": "stream",
     "text": [
      "Outliery:\n",
      " Empty DataFrame\n",
      "Columns: [order_id, customer_id, product, category, price, quantity, score, country, order_date]\n",
      "Index: []\n"
     ]
    }
   ],
   "execution_count": 54
  },
  {
   "metadata": {},
   "cell_type": "markdown",
   "source": "Wykres pudełkowy",
   "id": "ace2ef379e23e7ed"
  },
  {
   "metadata": {
    "ExecuteTime": {
     "end_time": "2025-10-21T09:38:37.508702Z",
     "start_time": "2025-10-21T09:38:34.371855Z"
    }
   },
   "cell_type": "code",
   "source": "!pip install seaborn",
   "id": "720eba184cab7c42",
   "outputs": [
    {
     "name": "stdout",
     "output_type": "stream",
     "text": [
      "Collecting seaborn\n",
      "  Downloading seaborn-0.13.2-py3-none-any.whl.metadata (5.4 kB)\n",
      "Requirement already satisfied: numpy!=1.24.0,>=1.20 in c:\\users\\cscomarch\\pycharmprojects\\pythonprojectanaliza-20-10-2025\\.venv\\lib\\site-packages (from seaborn) (2.3.4)\n",
      "Requirement already satisfied: pandas>=1.2 in c:\\users\\cscomarch\\pycharmprojects\\pythonprojectanaliza-20-10-2025\\.venv\\lib\\site-packages (from seaborn) (2.3.3)\n",
      "Requirement already satisfied: matplotlib!=3.6.1,>=3.4 in c:\\users\\cscomarch\\pycharmprojects\\pythonprojectanaliza-20-10-2025\\.venv\\lib\\site-packages (from seaborn) (3.10.7)\n",
      "Requirement already satisfied: contourpy>=1.0.1 in c:\\users\\cscomarch\\pycharmprojects\\pythonprojectanaliza-20-10-2025\\.venv\\lib\\site-packages (from matplotlib!=3.6.1,>=3.4->seaborn) (1.3.3)\n",
      "Requirement already satisfied: cycler>=0.10 in c:\\users\\cscomarch\\pycharmprojects\\pythonprojectanaliza-20-10-2025\\.venv\\lib\\site-packages (from matplotlib!=3.6.1,>=3.4->seaborn) (0.12.1)\n",
      "Requirement already satisfied: fonttools>=4.22.0 in c:\\users\\cscomarch\\pycharmprojects\\pythonprojectanaliza-20-10-2025\\.venv\\lib\\site-packages (from matplotlib!=3.6.1,>=3.4->seaborn) (4.60.1)\n",
      "Requirement already satisfied: kiwisolver>=1.3.1 in c:\\users\\cscomarch\\pycharmprojects\\pythonprojectanaliza-20-10-2025\\.venv\\lib\\site-packages (from matplotlib!=3.6.1,>=3.4->seaborn) (1.4.9)\n",
      "Requirement already satisfied: packaging>=20.0 in c:\\users\\cscomarch\\pycharmprojects\\pythonprojectanaliza-20-10-2025\\.venv\\lib\\site-packages (from matplotlib!=3.6.1,>=3.4->seaborn) (25.0)\n",
      "Requirement already satisfied: pillow>=8 in c:\\users\\cscomarch\\pycharmprojects\\pythonprojectanaliza-20-10-2025\\.venv\\lib\\site-packages (from matplotlib!=3.6.1,>=3.4->seaborn) (12.0.0)\n",
      "Requirement already satisfied: pyparsing>=3 in c:\\users\\cscomarch\\pycharmprojects\\pythonprojectanaliza-20-10-2025\\.venv\\lib\\site-packages (from matplotlib!=3.6.1,>=3.4->seaborn) (3.2.5)\n",
      "Requirement already satisfied: python-dateutil>=2.7 in c:\\users\\cscomarch\\pycharmprojects\\pythonprojectanaliza-20-10-2025\\.venv\\lib\\site-packages (from matplotlib!=3.6.1,>=3.4->seaborn) (2.9.0.post0)\n",
      "Requirement already satisfied: pytz>=2020.1 in c:\\users\\cscomarch\\pycharmprojects\\pythonprojectanaliza-20-10-2025\\.venv\\lib\\site-packages (from pandas>=1.2->seaborn) (2025.2)\n",
      "Requirement already satisfied: tzdata>=2022.7 in c:\\users\\cscomarch\\pycharmprojects\\pythonprojectanaliza-20-10-2025\\.venv\\lib\\site-packages (from pandas>=1.2->seaborn) (2025.2)\n",
      "Requirement already satisfied: six>=1.5 in c:\\users\\cscomarch\\pycharmprojects\\pythonprojectanaliza-20-10-2025\\.venv\\lib\\site-packages (from python-dateutil>=2.7->matplotlib!=3.6.1,>=3.4->seaborn) (1.17.0)\n",
      "Downloading seaborn-0.13.2-py3-none-any.whl (294 kB)\n",
      "Installing collected packages: seaborn\n",
      "Successfully installed seaborn-0.13.2\n"
     ]
    },
    {
     "name": "stderr",
     "output_type": "stream",
     "text": [
      "\n",
      "[notice] A new release of pip is available: 25.1.1 -> 25.2\n",
      "[notice] To update, run: python.exe -m pip install --upgrade pip\n"
     ]
    }
   ],
   "execution_count": 36
  },
  {
   "metadata": {
    "ExecuteTime": {
     "end_time": "2025-10-21T09:45:55.179698Z",
     "start_time": "2025-10-21T09:45:55.176700Z"
    }
   },
   "cell_type": "code",
   "source": [
    "import matplotlib.pyplot as plt\n",
    "import seaborn as sns"
   ],
   "id": "c837bb3f273f8a2",
   "outputs": [],
   "execution_count": 55
  },
  {
   "metadata": {
    "ExecuteTime": {
     "end_time": "2025-10-21T09:45:56.586643Z",
     "start_time": "2025-10-21T09:45:56.578572Z"
    }
   },
   "cell_type": "code",
   "source": "plt.figure(figsize=(8,4))",
   "id": "32eec91995bd6eb5",
   "outputs": [
    {
     "data": {
      "text/plain": [
       "<Figure size 800x400 with 0 Axes>"
      ]
     },
     "execution_count": 56,
     "metadata": {},
     "output_type": "execute_result"
    },
    {
     "data": {
      "text/plain": [
       "<Figure size 800x400 with 0 Axes>"
      ]
     },
     "metadata": {},
     "output_type": "display_data",
     "jetTransient": {
      "display_id": null
     }
    }
   ],
   "execution_count": 56
  },
  {
   "metadata": {
    "ExecuteTime": {
     "end_time": "2025-10-21T09:45:58.430259Z",
     "start_time": "2025-10-21T09:45:58.347437Z"
    }
   },
   "cell_type": "code",
   "source": [
    "sns.boxplot(x=df['score'], color=\"salmon\")\n",
    "plt.title(\"Boxplot\")\n",
    "plt.show()"
   ],
   "id": "68f154686d22bb1d",
   "outputs": [
    {
     "data": {
      "text/plain": [
       "<Figure size 640x480 with 1 Axes>"
      ],
      "image/png": "[encoded data removed]"
     },
     "metadata": {},
     "output_type": "display_data",
     "jetTransient": {
      "display_id": null
     }
    }
   ],
   "execution_count": 57
  },
  {
   "metadata": {
    "ExecuteTime": {
     "end_time": "2025-10-21T09:46:01.875074Z",
     "start_time": "2025-10-21T09:46:01.861307Z"
    }
   },
   "cell_type": "code",
   "source": [
    "median_score = df['score'].median()\n",
    "df.loc[df['score'] > upper_bound, \"score\"] = median_score"
   ],
   "id": "42b073e99d719631",
   "outputs": [],
   "execution_count": 58
  },
  {
   "metadata": {
    "ExecuteTime": {
     "end_time": "2025-10-21T09:46:04.896208Z",
     "start_time": "2025-10-21T09:46:04.811861Z"
    }
   },
   "cell_type": "code",
   "source": [
    "plt.figure(figsize=(8,4))\n",
    "sns.boxplot(x=df['score'], color=\"lightgreen\")\n",
    "plt.title(\"Boxplot po korekcie\")\n",
    "plt.show()"
   ],
   "id": "58663c4907e3d894",
   "outputs": [
    {
     "data": {
      "text/plain": [
       "<Figure size 800x400 with 1 Axes>"
      ],
      "image/png": "[encoded data removed]"
     },
     "metadata": {},
     "output_type": "display_data",
     "jetTransient": {
      "display_id": null
     }
    }
   ],
   "execution_count": 59
  },
  {
   "metadata": {
    "ExecuteTime": {
     "end_time": "2025-10-21T09:48:56.381743Z",
     "start_time": "2025-10-21T09:48:56.375889Z"
    }
   },
   "cell_type": "code",
   "source": [
    "quantiles = df['score'].quantile([0.25, 0.75])\n",
    "print(quantiles)"
   ],
   "id": "39e92d6ac72d1928",
   "outputs": [
    {
     "name": "stdout",
     "output_type": "stream",
     "text": [
      "0.25    82.25\n",
      "0.75    91.25\n",
      "Name: score, dtype: float64\n"
     ]
    }
   ],
   "execution_count": 60
  },
  {
   "metadata": {
    "ExecuteTime": {
     "end_time": "2025-10-21T09:49:44.895498Z",
     "start_time": "2025-10-21T09:49:44.890617Z"
    }
   },
   "cell_type": "code",
   "source": [
    "Q1, Q3  =df['score'].quantile([0.25, 0.75])\n",
    "print(f\"{Q1=}, {Q3=}\")"
   ],
   "id": "1ba74c8f3674e2c5",
   "outputs": [
    {
     "name": "stdout",
     "output_type": "stream",
     "text": [
      "Q1=82.25, Q3=91.25\n"
     ]
    }
   ],
   "execution_count": 61
  },
  {
   "metadata": {
    "ExecuteTime": {
     "end_time": "2025-10-21T09:50:34.504699Z",
     "start_time": "2025-10-21T09:50:34.497797Z"
    }
   },
   "cell_type": "code",
   "source": "df.isnull().sum()",
   "id": "adf7d073718d29c6",
   "outputs": [
    {
     "data": {
      "text/plain": [
       "order_id       0\n",
       "customer_id    0\n",
       "product        0\n",
       "category       0\n",
       "price          0\n",
       "quantity       0\n",
       "score          0\n",
       "country        0\n",
       "order_date     0\n",
       "dtype: int64"
      ]
     },
     "execution_count": 62,
     "metadata": {},
     "output_type": "execute_result"
    }
   ],
   "execution_count": 62
  },
  {
   "metadata": {
    "ExecuteTime": {
     "end_time": "2025-10-21T09:51:09.331887Z",
     "start_time": "2025-10-21T09:51:09.319542Z"
    }
   },
   "cell_type": "code",
   "source": "df.sort_values(by=\"order_date\")",
   "id": "faa2bf8e880fa243",
   "outputs": [
    {
     "data": {
      "text/plain": [
       "   order_id customer_id     product     category   price  quantity  score  \\\n",
       "0      1001         C01      Laptop  Electronics  3500.0         1   95.0   \n",
       "1      1002         C02       Mouse  Accessories   120.0         2   89.0   \n",
       "2      1003         C03  Smartphone  Electronics  1030.8         1   80.0   \n",
       "3      1004         C04  Headphones  Accessories   450.0         1   89.0   \n",
       "4      1005         C01     Monitor  Electronics   999.0         2   30.0   \n",
       "5      1006         C05  Power Bank  Accessories    85.0         3   92.0   \n",
       "\n",
       "   country  order_date  \n",
       "0   Poland  2024-03-01  \n",
       "1  Germany  2024-03-03  \n",
       "2   Poland  2024-03-07  \n",
       "3   France  2024-03-08  \n",
       "4   Poland  2024-03-10  \n",
       "5  Czechia  2024-03-12  "
      ],
      "text/html": [
       "<div>\n",
       "<style scoped>\n",
       "    .dataframe tbody tr th:only-of-type {\n",
       "        vertical-align: middle;\n",
       "    }\n",
       "\n",
       "    .dataframe tbody tr th {\n",
       "        vertical-align: top;\n",
       "    }\n",
       "\n",
       "    .dataframe thead th {\n",
       "        text-align: right;\n",
       "    }\n",
       "</style>\n",
       "<table border=\"1\" class=\"dataframe\">\n",
       "  <thead>\n",
       "    <tr style=\"text-align: right;\">\n",
       "      <th></th>\n",
       "      <th>order_id</th>\n",
       "      <th>customer_id</th>\n",
       "      <th>product</th>\n",
       "      <th>category</th>\n",
       "      <th>price</th>\n",
       "      <th>quantity</th>\n",
       "      <th>score</th>\n",
       "      <th>country</th>\n",
       "      <th>order_date</th>\n",
       "    </tr>\n",
       "  </thead>\n",
       "  <tbody>\n",
       "    <tr>\n",
       "      <th>0</th>\n",
       "      <td>1001</td>\n",
       "      <td>C01</td>\n",
       "      <td>Laptop</td>\n",
       "      <td>Electronics</td>\n",
       "      <td>3500.0</td>\n",
       "      <td>1</td>\n",
       "      <td>95.0</td>\n",
       "      <td>Poland</td>\n",
       "      <td>2024-03-01</td>\n",
       "    </tr>\n",
       "    <tr>\n",
       "      <th>1</th>\n",
       "      <td>1002</td>\n",
       "      <td>C02</td>\n",
       "      <td>Mouse</td>\n",
       "      <td>Accessories</td>\n",
       "      <td>120.0</td>\n",
       "      <td>2</td>\n",
       "      <td>89.0</td>\n",
       "      <td>Germany</td>\n",
       "      <td>2024-03-03</td>\n",
       "    </tr>\n",
       "    <tr>\n",
       "      <th>2</th>\n",
       "      <td>1003</td>\n",
       "      <td>C03</td>\n",
       "      <td>Smartphone</td>\n",
       "      <td>Electronics</td>\n",
       "      <td>1030.8</td>\n",
       "      <td>1</td>\n",
       "      <td>80.0</td>\n",
       "      <td>Poland</td>\n",
       "      <td>2024-03-07</td>\n",
       "    </tr>\n",
       "    <tr>\n",
       "      <th>3</th>\n",
       "      <td>1004</td>\n",
       "      <td>C04</td>\n",
       "      <td>Headphones</td>\n",
       "      <td>Accessories</td>\n",
       "      <td>450.0</td>\n",
       "      <td>1</td>\n",
       "      <td>89.0</td>\n",
       "      <td>France</td>\n",
       "      <td>2024-03-08</td>\n",
       "    </tr>\n",
       "    <tr>\n",
       "      <th>4</th>\n",
       "      <td>1005</td>\n",
       "      <td>C01</td>\n",
       "      <td>Monitor</td>\n",
       "      <td>Electronics</td>\n",
       "      <td>999.0</td>\n",
       "      <td>2</td>\n",
       "      <td>30.0</td>\n",
       "      <td>Poland</td>\n",
       "      <td>2024-03-10</td>\n",
       "    </tr>\n",
       "    <tr>\n",
       "      <th>5</th>\n",
       "      <td>1006</td>\n",
       "      <td>C05</td>\n",
       "      <td>Power Bank</td>\n",
       "      <td>Accessories</td>\n",
       "      <td>85.0</td>\n",
       "      <td>3</td>\n",
       "      <td>92.0</td>\n",
       "      <td>Czechia</td>\n",
       "      <td>2024-03-12</td>\n",
       "    </tr>\n",
       "  </tbody>\n",
       "</table>\n",
       "</div>"
      ]
     },
     "execution_count": 63,
     "metadata": {},
     "output_type": "execute_result"
    }
   ],
   "execution_count": 63
  },
  {
   "metadata": {
    "ExecuteTime": {
     "end_time": "2025-10-21T09:51:57.233450Z",
     "start_time": "2025-10-21T09:51:57.224089Z"
    }
   },
   "cell_type": "code",
   "source": "df[(df['country'] == \"Poland\") & (df['score'] > 85)]",
   "id": "90a1c8402bec59b6",
   "outputs": [
    {
     "data": {
      "text/plain": [
       "   order_id customer_id product     category   price  quantity  score country  \\\n",
       "0      1001         C01  Laptop  Electronics  3500.0         1   95.0  Poland   \n",
       "\n",
       "   order_date  \n",
       "0  2024-03-01  "
      ],
      "text/html": [
       "<div>\n",
       "<style scoped>\n",
       "    .dataframe tbody tr th:only-of-type {\n",
       "        vertical-align: middle;\n",
       "    }\n",
       "\n",
       "    .dataframe tbody tr th {\n",
       "        vertical-align: top;\n",
       "    }\n",
       "\n",
       "    .dataframe thead th {\n",
       "        text-align: right;\n",
       "    }\n",
       "</style>\n",
       "<table border=\"1\" class=\"dataframe\">\n",
       "  <thead>\n",
       "    <tr style=\"text-align: right;\">\n",
       "      <th></th>\n",
       "      <th>order_id</th>\n",
       "      <th>customer_id</th>\n",
       "      <th>product</th>\n",
       "      <th>category</th>\n",
       "      <th>price</th>\n",
       "      <th>quantity</th>\n",
       "      <th>score</th>\n",
       "      <th>country</th>\n",
       "      <th>order_date</th>\n",
       "    </tr>\n",
       "  </thead>\n",
       "  <tbody>\n",
       "    <tr>\n",
       "      <th>0</th>\n",
       "      <td>1001</td>\n",
       "      <td>C01</td>\n",
       "      <td>Laptop</td>\n",
       "      <td>Electronics</td>\n",
       "      <td>3500.0</td>\n",
       "      <td>1</td>\n",
       "      <td>95.0</td>\n",
       "      <td>Poland</td>\n",
       "      <td>2024-03-01</td>\n",
       "    </tr>\n",
       "  </tbody>\n",
       "</table>\n",
       "</div>"
      ]
     },
     "execution_count": 64,
     "metadata": {},
     "output_type": "execute_result"
    }
   ],
   "execution_count": 64
  },
  {
   "metadata": {
    "ExecuteTime": {
     "end_time": "2025-10-21T09:52:45.051187Z",
     "start_time": "2025-10-21T09:52:45.038544Z"
    }
   },
   "cell_type": "code",
   "source": "df.query(\"category == 'Electronics' and price > 1000\")",
   "id": "bcfbedb0f7cdbeb4",
   "outputs": [
    {
     "data": {
      "text/plain": [
       "   order_id customer_id     product     category   price  quantity  score  \\\n",
       "0      1001         C01      Laptop  Electronics  3500.0         1   95.0   \n",
       "2      1003         C03  Smartphone  Electronics  1030.8         1   80.0   \n",
       "\n",
       "  country  order_date  \n",
       "0  Poland  2024-03-01  \n",
       "2  Poland  2024-03-07  "
      ],
      "text/html": [
       "<div>\n",
       "<style scoped>\n",
       "    .dataframe tbody tr th:only-of-type {\n",
       "        vertical-align: middle;\n",
       "    }\n",
       "\n",
       "    .dataframe tbody tr th {\n",
       "        vertical-align: top;\n",
       "    }\n",
       "\n",
       "    .dataframe thead th {\n",
       "        text-align: right;\n",
       "    }\n",
       "</style>\n",
       "<table border=\"1\" class=\"dataframe\">\n",
       "  <thead>\n",
       "    <tr style=\"text-align: right;\">\n",
       "      <th></th>\n",
       "      <th>order_id</th>\n",
       "      <th>customer_id</th>\n",
       "      <th>product</th>\n",
       "      <th>category</th>\n",
       "      <th>price</th>\n",
       "      <th>quantity</th>\n",
       "      <th>score</th>\n",
       "      <th>country</th>\n",
       "      <th>order_date</th>\n",
       "    </tr>\n",
       "  </thead>\n",
       "  <tbody>\n",
       "    <tr>\n",
       "      <th>0</th>\n",
       "      <td>1001</td>\n",
       "      <td>C01</td>\n",
       "      <td>Laptop</td>\n",
       "      <td>Electronics</td>\n",
       "      <td>3500.0</td>\n",
       "      <td>1</td>\n",
       "      <td>95.0</td>\n",
       "      <td>Poland</td>\n",
       "      <td>2024-03-01</td>\n",
       "    </tr>\n",
       "    <tr>\n",
       "      <th>2</th>\n",
       "      <td>1003</td>\n",
       "      <td>C03</td>\n",
       "      <td>Smartphone</td>\n",
       "      <td>Electronics</td>\n",
       "      <td>1030.8</td>\n",
       "      <td>1</td>\n",
       "      <td>80.0</td>\n",
       "      <td>Poland</td>\n",
       "      <td>2024-03-07</td>\n",
       "    </tr>\n",
       "  </tbody>\n",
       "</table>\n",
       "</div>"
      ]
     },
     "execution_count": 65,
     "metadata": {},
     "output_type": "execute_result"
    }
   ],
   "execution_count": 65
  },
  {
   "metadata": {
    "ExecuteTime": {
     "end_time": "2025-10-21T09:53:48.514579Z",
     "start_time": "2025-10-21T09:53:48.505666Z"
    }
   },
   "cell_type": "code",
   "source": "df.groupby('category').agg({\"order_id\": \"count\", \"score\": \"mean\"})",
   "id": "10e3896a3384b9d5",
   "outputs": [
    {
     "data": {
      "text/plain": [
       "             order_id      score\n",
       "category                        \n",
       "Accessories         3  90.000000\n",
       "Electronics         3  68.333333"
      ],
      "text/html": [
       "<div>\n",
       "<style scoped>\n",
       "    .dataframe tbody tr th:only-of-type {\n",
       "        vertical-align: middle;\n",
       "    }\n",
       "\n",
       "    .dataframe tbody tr th {\n",
       "        vertical-align: top;\n",
       "    }\n",
       "\n",
       "    .dataframe thead th {\n",
       "        text-align: right;\n",
       "    }\n",
       "</style>\n",
       "<table border=\"1\" class=\"dataframe\">\n",
       "  <thead>\n",
       "    <tr style=\"text-align: right;\">\n",
       "      <th></th>\n",
       "      <th>order_id</th>\n",
       "      <th>score</th>\n",
       "    </tr>\n",
       "    <tr>\n",
       "      <th>category</th>\n",
       "      <th></th>\n",
       "      <th></th>\n",
       "    </tr>\n",
       "  </thead>\n",
       "  <tbody>\n",
       "    <tr>\n",
       "      <th>Accessories</th>\n",
       "      <td>3</td>\n",
       "      <td>90.000000</td>\n",
       "    </tr>\n",
       "    <tr>\n",
       "      <th>Electronics</th>\n",
       "      <td>3</td>\n",
       "      <td>68.333333</td>\n",
       "    </tr>\n",
       "  </tbody>\n",
       "</table>\n",
       "</div>"
      ]
     },
     "execution_count": 66,
     "metadata": {},
     "output_type": "execute_result"
    }
   ],
   "execution_count": 66
  },
  {
   "metadata": {
    "ExecuteTime": {
     "end_time": "2025-10-21T09:55:48.004769Z",
     "start_time": "2025-10-21T09:55:47.989111Z"
    }
   },
   "cell_type": "code",
   "source": "df.pivot_table(values=\"price\", index=\"country\", aggfunc=\"mean\")",
   "id": "befcbd17e23bc2d5",
   "outputs": [
    {
     "data": {
      "text/plain": [
       "               price\n",
       "country             \n",
       "Czechia    85.000000\n",
       "France    450.000000\n",
       "Germany   120.000000\n",
       "Poland   1843.266667"
      ],
      "text/html": [
       "<div>\n",
       "<style scoped>\n",
       "    .dataframe tbody tr th:only-of-type {\n",
       "        vertical-align: middle;\n",
       "    }\n",
       "\n",
       "    .dataframe tbody tr th {\n",
       "        vertical-align: top;\n",
       "    }\n",
       "\n",
       "    .dataframe thead th {\n",
       "        text-align: right;\n",
       "    }\n",
       "</style>\n",
       "<table border=\"1\" class=\"dataframe\">\n",
       "  <thead>\n",
       "    <tr style=\"text-align: right;\">\n",
       "      <th></th>\n",
       "      <th>price</th>\n",
       "    </tr>\n",
       "    <tr>\n",
       "      <th>country</th>\n",
       "      <th></th>\n",
       "    </tr>\n",
       "  </thead>\n",
       "  <tbody>\n",
       "    <tr>\n",
       "      <th>Czechia</th>\n",
       "      <td>85.000000</td>\n",
       "    </tr>\n",
       "    <tr>\n",
       "      <th>France</th>\n",
       "      <td>450.000000</td>\n",
       "    </tr>\n",
       "    <tr>\n",
       "      <th>Germany</th>\n",
       "      <td>120.000000</td>\n",
       "    </tr>\n",
       "    <tr>\n",
       "      <th>Poland</th>\n",
       "      <td>1843.266667</td>\n",
       "    </tr>\n",
       "  </tbody>\n",
       "</table>\n",
       "</div>"
      ]
     },
     "execution_count": 68,
     "metadata": {},
     "output_type": "execute_result"
    }
   ],
   "execution_count": 68
  },
  {
   "metadata": {
    "ExecuteTime": {
     "end_time": "2025-10-21T09:56:40.151114Z",
     "start_time": "2025-10-21T09:56:40.144016Z"
    }
   },
   "cell_type": "code",
   "source": "df.groupby(\"country\")['price'].mean()",
   "id": "85f7eb0b02e17ee3",
   "outputs": [
    {
     "data": {
      "text/plain": [
       "country\n",
       "Czechia      85.000000\n",
       "France      450.000000\n",
       "Germany     120.000000\n",
       "Poland     1843.266667\n",
       "Name: price, dtype: float64"
      ]
     },
     "execution_count": 69,
     "metadata": {},
     "output_type": "execute_result"
    }
   ],
   "execution_count": 69
  },
  {
   "metadata": {
    "ExecuteTime": {
     "end_time": "2025-10-21T09:57:16.872547Z",
     "start_time": "2025-10-21T09:57:16.861545Z"
    }
   },
   "cell_type": "code",
   "source": [
    "dane = df.groupby('category').agg({\"order_id\": \"count\", \"score\": \"mean\"})\n",
    "dane.info()"
   ],
   "id": "5838f8a9053a637c",
   "outputs": [
    {
     "name": "stdout",
     "output_type": "stream",
     "text": [
      "<class 'pandas.core.frame.DataFrame'>\n",
      "Index: 2 entries, Accessories to Electronics\n",
      "Data columns (total 2 columns):\n",
      " #   Column    Non-Null Count  Dtype  \n",
      "---  ------    --------------  -----  \n",
      " 0   order_id  2 non-null      int64  \n",
      " 1   score     2 non-null      float64\n",
      "dtypes: float64(1), int64(1)\n",
      "memory usage: 48.0+ bytes\n"
     ]
    }
   ],
   "execution_count": 70
  }
 ],
 "metadata": {
  "kernelspec": {
   "display_name": "Python 3",
   "language": "python",
   "name": "python3"
  },
  "language_info": {
   "codemirror_mode": {
    "name": "ipython",
    "version": 2
   },
   "file_extension": ".py",
   "mimetype": "text/x-python",
   "name": "python",
   "nbconvert_exporter": "python",
   "pygments_lexer": "ipython2",
   "version": "2.7.6"
  }
 },
 "nbformat": 4,
 "nbformat_minor": 5
}
