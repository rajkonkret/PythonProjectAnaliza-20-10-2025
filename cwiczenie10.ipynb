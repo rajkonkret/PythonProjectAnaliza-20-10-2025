{
 "cells": [
  {
   "metadata": {},
   "cell_type": "markdown",
   "source": "# Analiza danych Wielowymiarowych",
   "id": "a406cd31640f70e4"
  },
  {
   "metadata": {},
   "cell_type": "markdown",
   "source": "### Wektor losowy i wielowymiarowy rozkład prawdopodobieństwa",
   "id": "981a6cb0ae5bb508"
  },
  {
   "metadata": {
    "collapsed": true,
    "ExecuteTime": {
     "end_time": "2025-10-22T09:44:55.826551Z",
     "start_time": "2025-10-22T09:44:55.824147Z"
    }
   },
   "cell_type": "code",
   "source": [
    "import numpy as np\n",
    "import pandas as pd\n",
    "import seaborn as sns\n",
    "import matplotlib.pyplot as plt"
   ],
   "id": "fa9e299ba0b3ee7b",
   "outputs": [],
   "execution_count": 1
  },
  {
   "metadata": {
    "ExecuteTime": {
     "end_time": "2025-10-22T09:49:47.244030Z",
     "start_time": "2025-10-22T09:49:47.240111Z"
    }
   },
   "cell_type": "code",
   "source": [
    "# generowanie przykłądowych danych wielowymiarowych\n",
    "np.random.seed(42)\n",
    "num_samples = 100"
   ],
   "id": "5c65a1edbe441db7",
   "outputs": [],
   "execution_count": 6
  },
  {
   "metadata": {
    "ExecuteTime": {
     "end_time": "2025-10-22T09:49:48.572622Z",
     "start_time": "2025-10-22T09:49:48.569058Z"
    }
   },
   "cell_type": "code",
   "source": [
    "# zmienna X1: wiek\n",
    "X1 = np.random.normal(loc=30, scale=5, size=num_samples)\n"
   ],
   "id": "675b562ffaa0ccf",
   "outputs": [],
   "execution_count": 7
  },
  {
   "metadata": {
    "ExecuteTime": {
     "end_time": "2025-10-22T09:49:49.531094Z",
     "start_time": "2025-10-22T09:49:49.527972Z"
    }
   },
   "cell_type": "code",
   "source": [
    "# Zmienna X2: Liczba godzin pracy (pozytywnie skorelowana z wiekiem)\n",
    "X2 = X1 * 0.8 + np.random.normal(loc=10, scale=2, size=num_samples)"
   ],
   "id": "694edab106789d8f",
   "outputs": [],
   "execution_count": 8
  },
  {
   "metadata": {
    "ExecuteTime": {
     "end_time": "2025-10-22T09:49:51.016017Z",
     "start_time": "2025-10-22T09:49:51.012943Z"
    }
   },
   "cell_type": "code",
   "source": [
    "# Zmienna X3: Satysfakcja (negatywnie skorelowana z X2, z szumem)\n",
    "X3 = 100 - X2 * 1.5 + np.random.normal(loc=0, scale=10, size=num_samples)"
   ],
   "id": "e9059708adbdc08e",
   "outputs": [],
   "execution_count": 9
  },
  {
   "metadata": {
    "ExecuteTime": {
     "end_time": "2025-10-22T09:51:11.906008Z",
     "start_time": "2025-10-22T09:51:11.902089Z"
    }
   },
   "cell_type": "code",
   "source": [
    "data_multi = pd.DataFrame({\n",
    "    \"Wiek\": X1,\n",
    "    \"Godziny Pracy\": X2,\n",
    "    \"Satysfakcja\": X3\n",
    "})"
   ],
   "id": "5304ff868d09b0d7",
   "outputs": [],
   "execution_count": 11
  },
  {
   "metadata": {
    "ExecuteTime": {
     "end_time": "2025-10-22T09:51:13.041677Z",
     "start_time": "2025-10-22T09:51:13.034382Z"
    }
   },
   "cell_type": "code",
   "source": [
    "print(\"Przykładowe dane:\")\n",
    "print(data_multi)"
   ],
   "id": "aff688a1bfa782bd",
   "outputs": [
    {
     "name": "stdout",
     "output_type": "stream",
     "text": [
      "Przykładowe dane:\n",
      "         Wiek  Godziny Pracy  Satysfakcja\n",
      "0   32.483571      33.156115    53.843701\n",
      "1   29.308678      32.605652    56.699367\n",
      "2   33.238443      35.905325    56.972525\n",
      "3   37.615149      38.487565    52.806673\n",
      "4   28.829233      32.740815    37.112084\n",
      "..        ...            ...          ...\n",
      "95  22.682425      28.916575    49.696042\n",
      "96  31.480601      33.416766    58.870849\n",
      "97  31.305276      35.351671    50.045488\n",
      "98  30.025567      34.136871    56.923314\n",
      "99  28.827064      30.775711    60.132722\n",
      "\n",
      "[100 rows x 3 columns]\n"
     ]
    }
   ],
   "execution_count": 12
  },
  {
   "metadata": {
    "ExecuteTime": {
     "end_time": "2025-10-22T09:52:54.543795Z",
     "start_time": "2025-10-22T09:52:54.535791Z"
    }
   },
   "cell_type": "code",
   "source": [
    "# Obliczenie macierzy kowariancji\n",
    "cov_matrix = data_multi.cov()\n",
    "print(\" Macierz Kowariancji\")\n",
    "print(cov_matrix)"
   ],
   "id": "abc82778ac225e73",
   "outputs": [
    {
     "name": "stdout",
     "output_type": "stream",
     "text": [
      " Macierz Kowariancji\n",
      "                    Wiek  Godziny Pracy  Satysfakcja\n",
      "Wiek           20.619247      15.313856   -13.574671\n",
      "Godziny Pracy  15.313856      14.943789   -15.656373\n",
      "Satysfakcja   -13.574671     -15.656373   130.912529\n"
     ]
    }
   ],
   "execution_count": 13
  },
  {
   "metadata": {
    "ExecuteTime": {
     "end_time": "2025-10-22T09:54:15.828097Z",
     "start_time": "2025-10-22T09:54:15.822324Z"
    }
   },
   "cell_type": "code",
   "source": [
    "# obliczenie macierzy korelacji\n",
    "corr_matrix = data_multi.corr()\n",
    "print(\"Macierz Korelacji\")\n",
    "print(corr_matrix)"
   ],
   "id": "2317e5d14e707f10",
   "outputs": [
    {
     "name": "stdout",
     "output_type": "stream",
     "text": [
      "Macierz Korelacji\n",
      "                   Wiek  Godziny Pracy  Satysfakcja\n",
      "Wiek           1.000000       0.872404    -0.261278\n",
      "Godziny Pracy  0.872404       1.000000    -0.353973\n",
      "Satysfakcja   -0.261278      -0.353973     1.000000\n"
     ]
    }
   ],
   "execution_count": 14
  },
  {
   "metadata": {
    "ExecuteTime": {
     "end_time": "2025-10-22T09:56:38.186159Z",
     "start_time": "2025-10-22T09:56:37.864052Z"
    }
   },
   "cell_type": "code",
   "source": [
    "# wizualizacja macierzy korelacji (heatmapa)\n",
    "plt.figure(figsize=(8,6))\n",
    "sns.heatmap(corr_matrix, annot=True, cmap=\"coolwarm\", fmt=\".2f\")\n",
    "plt.title(\"Macierz Korelacji\")\n",
    "plt.show()"
   ],
   "id": "8d6ef8bd4181792c",
   "outputs": [
    {
     "data": {
      "text/plain": [
       "<Figure size 800x600 with 2 Axes>"
      ],
      "image/png": "[encoded data removed]"
     },
     "metadata": {},
     "output_type": "display_data",
     "jetTransient": {
      "display_id": null
     }
    }
   ],
   "execution_count": 15
  }
 ],
 "metadata": {
  "kernelspec": {
   "display_name": "Python 3",
   "language": "python",
   "name": "python3"
  },
  "language_info": {
   "codemirror_mode": {
    "name": "ipython",
    "version": 2
   },
   "file_extension": ".py",
   "mimetype": "text/x-python",
   "name": "python",
   "nbconvert_exporter": "python",
   "pygments_lexer": "ipython2",
   "version": "2.7.6"
  }
 },
 "nbformat": 4,
 "nbformat_minor": 5
}
