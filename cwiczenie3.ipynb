{
 "cells": [
  {
   "cell_type": "code",
   "id": "initial_id",
   "metadata": {
    "collapsed": true,
    "ExecuteTime": {
     "end_time": "2025-10-21T07:12:07.917382Z",
     "start_time": "2025-10-21T07:12:07.094467Z"
    }
   },
   "source": [
    "import numpy as np\n",
    "\n",
    "from cwiczenie2 import arr_row_stack"
   ],
   "outputs": [],
   "execution_count": 1
  },
  {
   "metadata": {
    "ExecuteTime": {
     "end_time": "2025-10-21T07:13:39.541740Z",
     "start_time": "2025-10-21T07:13:39.536205Z"
    }
   },
   "cell_type": "code",
   "source": [
    "input_stock_price_array = np.genfromtxt('AAPL_stock_price_example.csv',\n",
    "                                        delimiter=\",\",\n",
    "                                        names=True,  # pierwszy wiersz jako nazwy kolumn\n",
    "                                        usecols=(1,))"
   ],
   "id": "8763908d4eb12a3",
   "outputs": [],
   "execution_count": 2
  },
  {
   "metadata": {
    "ExecuteTime": {
     "end_time": "2025-10-21T07:13:55.820610Z",
     "start_time": "2025-10-21T07:13:55.815096Z"
    }
   },
   "cell_type": "code",
   "source": "print(input_stock_price_array.size)",
   "id": "910e4a3baf3ff633",
   "outputs": [
    {
     "name": "stdout",
     "output_type": "stream",
     "text": [
      "229\n"
     ]
    }
   ],
   "execution_count": 3
  },
  {
   "metadata": {
    "ExecuteTime": {
     "end_time": "2025-10-21T07:15:11.521459Z",
     "start_time": "2025-10-21T07:15:11.516133Z"
    }
   },
   "cell_type": "code",
   "source": "print(input_stock_price_array[:5])",
   "id": "4d830f15c5f8673e",
   "outputs": [
    {
     "name": "stdout",
     "output_type": "stream",
     "text": [
      "[(157.919998,) (142.190002,) (148.259995,) (147.929993,) (150.75    ,)]\n"
     ]
    }
   ],
   "execution_count": 4
  },
  {
   "metadata": {
    "ExecuteTime": {
     "end_time": "2025-10-21T07:15:34.637029Z",
     "start_time": "2025-10-21T07:15:34.630888Z"
    }
   },
   "cell_type": "code",
   "source": "input_stock_price_array.dtype",
   "id": "87447b09dd177bee",
   "outputs": [
    {
     "data": {
      "text/plain": [
       "dtype([('Close', '<f8')])"
      ]
     },
     "execution_count": 5,
     "metadata": {},
     "output_type": "execute_result"
    }
   ],
   "execution_count": 5
  },
  {
   "metadata": {
    "ExecuteTime": {
     "end_time": "2025-10-21T07:17:16.929899Z",
     "start_time": "2025-10-21T07:17:16.920189Z"
    }
   },
   "cell_type": "code",
   "source": [
    "# sortujemy tablicę od największych do najmniejszych\n",
    "sorted_stock_price = np.sort(input_stock_price_array)[::-1]\n",
    "print(sorted_stock_price)"
   ],
   "id": "77957e4fcd7e416f",
   "outputs": [
    {
     "name": "stdout",
     "output_type": "stream",
     "text": [
      "[(267.100006,) (266.369995,) (266.290009,) (265.76001 ,) (264.470001,)\n",
      " (264.290009,) (263.190002,) (262.640015,) (262.200012,) (262.01001 ,)\n",
      " (261.959991,) (261.779999,) (260.140015,) (259.429993,) (257.5     ,)\n",
      " (257.23999 ,) (257.130005,) (255.820007,) (249.050003,) (248.759995,)\n",
      " (246.580002,) (243.580002,) (243.289993,) (243.259995,) (243.179993,)\n",
      " (240.509995,) (239.960007,) (236.410004,) (236.210007,) (235.869995,)\n",
      " (235.320007,) (235.279999,) (234.369995,) (230.089996,) (227.059998,)\n",
      " (227.029999,) (227.009995,) (224.589996,) (224.399994,) (223.970001,)\n",
      " (223.589996,) (223.089996,) (222.770004,) (221.029999,) (220.960007,)\n",
      " (220.820007,) (220.699997,) (219.899994,) (219.889999,) (218.960007,)\n",
      " (218.820007,) (218.75    ,) (218.720001,) (217.729996,) (217.679993,)\n",
      " (216.699997,) (214.169998,) (213.279999,) (213.259995,) (213.039993,)\n",
      " (212.639999,) (212.460007,) (211.75    ,) (210.520004,) (210.360001,)\n",
      " (210.350006,) (209.679993,) (209.190002,) (209.149994,) (209.009995,)\n",
      " (208.970001,) (208.839996,) (208.779999,) (208.740005,) (208.669998,)\n",
      " (208.479996,) (208.429993,) (207.740005,) (207.479996,) (207.220001,)\n",
      " (207.160004,) (207.020004,) (206.5     ,) (206.490005,) (205.699997,)\n",
      " (205.660004,) (205.529999,) (205.279999,) (205.210007,) (204.610001,)\n",
      " (204.529999,) (204.5     ,) (204.410004,) (204.300003,) (204.229996,)\n",
      " (204.160004,) (204.020004,) (203.860001,) (203.429993,) (203.350006,)\n",
      " (203.300003,) (203.229996,) (203.130005,) (202.899994,) (202.860001,)\n",
      " (202.75    ,) (202.729996,) (202.639999,) (202.589996,) (201.75    ,)\n",
      " (201.740005,) (201.550003,) (201.240005,) (200.990005,) (200.720001,)\n",
      " (200.669998,) (200.619995,) (200.479996,) (200.100006,) (200.020004,)\n",
      " (199.800003,) (199.740005,) (199.5     ,) (199.460007,) (199.25    ,)\n",
      " (199.229996,) (199.039993,) (198.949997,) (198.869995,) (198.779999,)\n",
      " (198.580002,) (198.449997,) (197.919998,) (197.869995,) (197.179993,)\n",
      " (197.      ,) (197.      ,) (195.690002,) (195.570007,) (195.350006,)\n",
      " (195.089996,) (194.809998,) (194.190002,) (194.149994,) (194.020004,)\n",
      " (193.889999,) (193.339996,) (192.740005,) (192.580002,) (191.240005,)\n",
      " (191.050003,) (190.919998,) (190.149994,) (190.080002,) (189.949997,)\n",
      " (189.      ,) (188.740005,) (188.720001,) (188.660004,) (188.470001,)\n",
      " (188.160004,) (188.020004,) (186.789993,) (186.600006,) (186.529999,)\n",
      " (186.119995,) (185.720001,) (185.220001,) (183.729996,) (183.089996,)\n",
      " (182.779999,) (182.539993,) (181.710007,) (180.910004,) (179.660004,)\n",
      " (179.639999,) (178.970001,) (178.899994,) (178.300003,) (178.229996,)\n",
      " (177.380005,) (175.850006,) (175.529999,) (175.070007,) (174.970001,)\n",
      " (174.869995,) (174.520004,) (174.330002,) (174.240005,) (174.229996,)\n",
      " (174.179993,) (173.300003,) (173.149994,) (172.970001,) (172.910004,)\n",
      " (172.5     ,) (172.029999,) (171.25    ,) (171.059998,) (170.940002,)\n",
      " (170.929993,) (170.889999,) (170.800003,) (170.419998,) (170.410004,)\n",
      " (170.179993,) (169.429993,) (166.520004,) (166.440002,) (165.25    ,)\n",
      " (157.919998,) (157.759995,) (156.820007,) (156.300003,) (155.860001,)\n",
      " (154.940002,) (154.679993,) (153.919998,) (153.800003,) (153.309998,)\n",
      " (153.300003,) (153.070007,) (152.699997,) (152.289993,) (150.75    ,)\n",
      " (150.      ,) (148.259995,) (147.929993,) (142.190002,)]\n"
     ]
    }
   ],
   "execution_count": 7
  },
  {
   "metadata": {
    "ExecuteTime": {
     "end_time": "2025-10-21T07:18:04.321865Z",
     "start_time": "2025-10-21T07:18:04.317076Z"
    }
   },
   "cell_type": "code",
   "source": "print(sorted_stock_price[0])",
   "id": "56541e5555216e16",
   "outputs": [
    {
     "name": "stdout",
     "output_type": "stream",
     "text": [
      "(267.100006,)\n"
     ]
    }
   ],
   "execution_count": 8
  },
  {
   "metadata": {
    "ExecuteTime": {
     "end_time": "2025-10-21T07:24:03.061452Z",
     "start_time": "2025-10-21T07:24:03.053483Z"
    }
   },
   "cell_type": "code",
   "source": [
    "temp_array = []\n",
    "\n",
    "# context manager\n",
    "with open('AAPL_stock_price_example.csv', \"r\") as input_file: # file handler\n",
    "    all_lines = input_file.readlines()\n",
    "    for each_line in all_lines:\n",
    "        for value_from_line in each_line.rsplit(\",\")[1:]:\n",
    "            clean_value = value_from_line.replace(\"\\n\", \"\")\n",
    "            temp_array.append(clean_value)"
   ],
   "id": "1c36e65197eebbfe",
   "outputs": [],
   "execution_count": 9
  },
  {
   "metadata": {
    "ExecuteTime": {
     "end_time": "2025-10-21T07:24:18.259918Z",
     "start_time": "2025-10-21T07:24:18.256848Z"
    }
   },
   "cell_type": "code",
   "source": "print(temp_array[:5])",
   "id": "86d515d0123943ec",
   "outputs": [
    {
     "name": "stdout",
     "output_type": "stream",
     "text": [
      "['Close', '157.919998', '142.190002', '148.259995', '147.929993']\n"
     ]
    }
   ],
   "execution_count": 10
  },
  {
   "metadata": {
    "ExecuteTime": {
     "end_time": "2025-10-21T07:24:41.860619Z",
     "start_time": "2025-10-21T07:24:41.856825Z"
    }
   },
   "cell_type": "code",
   "source": "print(len(temp_array))",
   "id": "31d16095f43c6c72",
   "outputs": [
    {
     "name": "stdout",
     "output_type": "stream",
     "text": [
      "230\n"
     ]
    }
   ],
   "execution_count": 11
  },
  {
   "metadata": {
    "ExecuteTime": {
     "end_time": "2025-10-21T07:26:14.828321Z",
     "start_time": "2025-10-21T07:26:14.825295Z"
    }
   },
   "cell_type": "code",
   "source": "temp_array = np.delete(temp_array, 0) # usunięcie wiersza 0",
   "id": "c478127e3ff58055",
   "outputs": [],
   "execution_count": 12
  },
  {
   "metadata": {
    "ExecuteTime": {
     "end_time": "2025-10-21T07:26:26.369908Z",
     "start_time": "2025-10-21T07:26:26.360859Z"
    }
   },
   "cell_type": "code",
   "source": "temp_array.size",
   "id": "d8ea2e1a847f4a20",
   "outputs": [
    {
     "data": {
      "text/plain": [
       "229"
      ]
     },
     "execution_count": 13,
     "metadata": {},
     "output_type": "execute_result"
    }
   ],
   "execution_count": 13
  },
  {
   "metadata": {
    "ExecuteTime": {
     "end_time": "2025-10-21T07:26:44.607043Z",
     "start_time": "2025-10-21T07:26:44.604152Z"
    }
   },
   "cell_type": "code",
   "source": "print(temp_array[0])",
   "id": "3a7f4df4d5742e7",
   "outputs": [
    {
     "name": "stdout",
     "output_type": "stream",
     "text": [
      "157.919998\n"
     ]
    }
   ],
   "execution_count": 14
  },
  {
   "metadata": {
    "ExecuteTime": {
     "end_time": "2025-10-21T07:27:14.075175Z",
     "start_time": "2025-10-21T07:27:14.071398Z"
    }
   },
   "cell_type": "code",
   "source": "temp_array.dtype",
   "id": "4f8f37d8e28e24b5",
   "outputs": [
    {
     "data": {
      "text/plain": [
       "dtype('<U10')"
      ]
     },
     "execution_count": 15,
     "metadata": {},
     "output_type": "execute_result"
    }
   ],
   "execution_count": 15
  },
  {
   "metadata": {},
   "cell_type": "markdown",
   "source": "<U10 - znaki unicode, max długośc 10 znaków, tekst",
   "id": "ed8077637ef1fef3"
  },
  {
   "metadata": {
    "ExecuteTime": {
     "end_time": "2025-10-21T07:29:04.924349Z",
     "start_time": "2025-10-21T07:29:04.917086Z"
    }
   },
   "cell_type": "code",
   "source": [
    "input_stock_price = temp_array.astype(float)\n",
    "input_stock_price[:5]"
   ],
   "id": "ec060939f6838fb3",
   "outputs": [
    {
     "data": {
      "text/plain": [
       "array([157.919998, 142.190002, 148.259995, 147.929993, 150.75    ])"
      ]
     },
     "execution_count": 16,
     "metadata": {},
     "output_type": "execute_result"
    }
   ],
   "execution_count": 16
  },
  {
   "metadata": {
    "ExecuteTime": {
     "end_time": "2025-10-21T07:29:20.073625Z",
     "start_time": "2025-10-21T07:29:20.070216Z"
    }
   },
   "cell_type": "code",
   "source": "print(input_stock_price.dtype)",
   "id": "ad6d14fb06ff0fc2",
   "outputs": [
    {
     "name": "stdout",
     "output_type": "stream",
     "text": [
      "float64\n"
     ]
    }
   ],
   "execution_count": 17
  },
  {
   "metadata": {
    "ExecuteTime": {
     "end_time": "2025-10-21T07:29:53.672162Z",
     "start_time": "2025-10-21T07:29:53.660974Z"
    }
   },
   "cell_type": "code",
   "source": [
    "sorted2 = np.sort(input_stock_price)[::-1]\n",
    "print(sorted2[0])"
   ],
   "id": "dda8287fd7783004",
   "outputs": [
    {
     "name": "stdout",
     "output_type": "stream",
     "text": [
      "267.100006\n"
     ]
    }
   ],
   "execution_count": 18
  }
 ],
 "metadata": {
  "kernelspec": {
   "display_name": "Python 3",
   "language": "python",
   "name": "python3"
  },
  "language_info": {
   "codemirror_mode": {
    "name": "ipython",
    "version": 2
   },
   "file_extension": ".py",
   "mimetype": "text/x-python",
   "name": "python",
   "nbconvert_exporter": "python",
   "pygments_lexer": "ipython2",
   "version": "2.7.6"
  }
 },
 "nbformat": 4,
 "nbformat_minor": 5
}
