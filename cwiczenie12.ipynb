{
 "cells": [
  {
   "cell_type": "code",
   "id": "initial_id",
   "metadata": {
    "collapsed": true,
    "ExecuteTime": {
     "end_time": "2025-10-22T11:21:34.918448Z",
     "start_time": "2025-10-22T11:21:34.916028Z"
    }
   },
   "source": "import numpy as np",
   "outputs": [],
   "execution_count": 1
  },
  {
   "metadata": {
    "ExecuteTime": {
     "end_time": "2025-10-22T11:22:41.000297Z",
     "start_time": "2025-10-22T11:22:40.996053Z"
    }
   },
   "cell_type": "code",
   "source": [
    "X = np.array([[1., -2., 2.],\n",
    "              [-2., 1., 3.],\n",
    "              [4., 1., -2.]])"
   ],
   "id": "f873f72bf9a3041b",
   "outputs": [],
   "execution_count": 2
  },
  {
   "metadata": {
    "ExecuteTime": {
     "end_time": "2025-10-22T11:22:56.735171Z",
     "start_time": "2025-10-22T11:22:56.731628Z"
    }
   },
   "cell_type": "code",
   "source": "print(X)",
   "id": "d725c0f8eaf86383",
   "outputs": [
    {
     "name": "stdout",
     "output_type": "stream",
     "text": [
      "[[ 1. -2.  2.]\n",
      " [-2.  1.  3.]\n",
      " [ 4.  1. -2.]]\n"
     ]
    }
   ],
   "execution_count": 4
  },
  {
   "metadata": {
    "ExecuteTime": {
     "end_time": "2025-10-22T11:25:41.780774Z",
     "start_time": "2025-10-22T11:25:41.633962Z"
    }
   },
   "cell_type": "code",
   "source": [
    "from sklearn.preprocessing import MinMaxScaler  # nie nadaje się gdy mamy ekstremalne outliery\n",
    "\n",
    "scaler = MinMaxScaler()\n",
    "scaler.fit(X)\n",
    "print(scaler.transform(X))"
   ],
   "id": "bdc0637cd0061255",
   "outputs": [
    {
     "name": "stdout",
     "output_type": "stream",
     "text": [
      "[[0.5 0.  0.8]\n",
      " [0.  1.  1. ]\n",
      " [1.  1.  0. ]]\n"
     ]
    }
   ],
   "execution_count": 5
  },
  {
   "metadata": {
    "ExecuteTime": {
     "end_time": "2025-10-22T11:27:34.641721Z",
     "start_time": "2025-10-22T11:27:34.638934Z"
    }
   },
   "cell_type": "code",
   "source": "from sklearn.preprocessing import RobustScaler  # nadaje się do danych gdize mamy duzo outlierów, mediana, kwartyle",
   "id": "68991f46600d33fa",
   "outputs": [],
   "execution_count": 6
  },
  {
   "metadata": {
    "ExecuteTime": {
     "end_time": "2025-10-22T11:28:37.382420Z",
     "start_time": "2025-10-22T11:28:37.375621Z"
    }
   },
   "cell_type": "code",
   "source": [
    "scaler2 = RobustScaler()\n",
    "scaler2.fit(X)\n",
    "print(scaler2.transform(X))"
   ],
   "id": "460db2710294097b",
   "outputs": [
    {
     "name": "stdout",
     "output_type": "stream",
     "text": [
      "[[ 0.  -2.   0. ]\n",
      " [-1.   0.   0.4]\n",
      " [ 1.   0.  -1.6]]\n"
     ]
    }
   ],
   "execution_count": 8
  },
  {
   "metadata": {
    "ExecuteTime": {
     "end_time": "2025-10-22T11:30:19.355666Z",
     "start_time": "2025-10-22T11:30:19.350735Z"
    }
   },
   "cell_type": "code",
   "source": [
    "from sklearn.preprocessing import MaxAbsScaler  # zachowuje znak danych\n",
    "\n",
    "scaler3 = MaxAbsScaler()\n",
    "scaler3.fit(X)\n",
    "print(scaler3.transform(X))"
   ],
   "id": "b37a47fb42ea1d66",
   "outputs": [
    {
     "name": "stdout",
     "output_type": "stream",
     "text": [
      "[[ 0.25       -1.          0.66666667]\n",
      " [-0.5         0.5         1.        ]\n",
      " [ 1.          0.5        -0.66666667]]\n"
     ]
    }
   ],
   "execution_count": 9
  },
  {
   "metadata": {
    "ExecuteTime": {
     "end_time": "2025-10-22T11:31:45.374276Z",
     "start_time": "2025-10-22T11:31:45.369827Z"
    }
   },
   "cell_type": "code",
   "source": [
    "from sklearn.preprocessing import StandardScaler  # srednia i odchylenie std\n",
    "\n",
    "scaler4 = StandardScaler()\n",
    "scaler4.fit(X)\n",
    "print(scaler4.transform(X))"
   ],
   "id": "308393a20f16409",
   "outputs": [
    {
     "name": "stdout",
     "output_type": "stream",
     "text": [
      "[[ 0.         -1.41421356  0.46291005]\n",
      " [-1.22474487  0.70710678  0.9258201 ]\n",
      " [ 1.22474487  0.70710678 -1.38873015]]\n"
     ]
    }
   ],
   "execution_count": 10
  },
  {
   "metadata": {
    "ExecuteTime": {
     "end_time": "2025-10-22T11:34:30.674500Z",
     "start_time": "2025-10-22T11:34:30.668775Z"
    }
   },
   "cell_type": "code",
   "source": [
    "# binaryzacja\n",
    "from sklearn.preprocessing import binarize\n",
    "\n",
    "print(binarize(X, threshold=0.5))"
   ],
   "id": "acaf2783d72d40a",
   "outputs": [
    {
     "name": "stdout",
     "output_type": "stream",
     "text": [
      "[[1. 0. 1.]\n",
      " [0. 1. 1.]\n",
      " [1. 1. 0.]]\n"
     ]
    }
   ],
   "execution_count": 11
  },
  {
   "metadata": {
    "ExecuteTime": {
     "end_time": "2025-10-22T11:36:34.687051Z",
     "start_time": "2025-10-22T11:36:34.682754Z"
    }
   },
   "cell_type": "code",
   "source": [
    "import numpy as np\n",
    "import matplotlib.pyplot as plt\n",
    "\n",
    "X = np.array([[1., 2., 20.],\n",
    "              [2., 1., 3.],\n",
    "              [4., 1., 0.02]])"
   ],
   "id": "e88809f30ba5b453",
   "outputs": [],
   "execution_count": 12
  },
  {
   "metadata": {
    "ExecuteTime": {
     "end_time": "2025-10-22T11:36:54.027048Z",
     "start_time": "2025-10-22T11:36:54.022973Z"
    }
   },
   "cell_type": "code",
   "source": "print(np.log(X+1))",
   "id": "22dc29f288ded85e",
   "outputs": [
    {
     "name": "stdout",
     "output_type": "stream",
     "text": [
      "[[0.69314718 1.09861229 3.04452244]\n",
      " [1.09861229 0.69314718 1.38629436]\n",
      " [1.60943791 0.69314718 0.01980263]]\n"
     ]
    }
   ],
   "execution_count": 13
  }
 ],
 "metadata": {
  "kernelspec": {
   "display_name": "Python 3",
   "language": "python",
   "name": "python3"
  },
  "language_info": {
   "codemirror_mode": {
    "name": "ipython",
    "version": 2
   },
   "file_extension": ".py",
   "mimetype": "text/x-python",
   "name": "python",
   "nbconvert_exporter": "python",
   "pygments_lexer": "ipython2",
   "version": "2.7.6"
  }
 },
 "nbformat": 4,
 "nbformat_minor": 5
}
