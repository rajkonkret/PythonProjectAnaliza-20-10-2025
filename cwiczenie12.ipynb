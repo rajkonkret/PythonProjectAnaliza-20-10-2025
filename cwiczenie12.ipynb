{
 "cells": [
  {
   "cell_type": "code",
   "id": "initial_id",
   "metadata": {
    "collapsed": true,
    "ExecuteTime": {
     "end_time": "2025-10-22T11:21:34.918448Z",
     "start_time": "2025-10-22T11:21:34.916028Z"
    }
   },
   "source": "import numpy as np",
   "outputs": [],
   "execution_count": 1
  },
  {
   "metadata": {
    "ExecuteTime": {
     "end_time": "2025-10-22T11:22:41.000297Z",
     "start_time": "2025-10-22T11:22:40.996053Z"
    }
   },
   "cell_type": "code",
   "source": [
    "X = np.array([[1., -2., 2.],\n",
    "              [-2., 1., 3.],\n",
    "              [4.,1.,-2.]])"
   ],
   "id": "f873f72bf9a3041b",
   "outputs": [],
   "execution_count": 2
  },
  {
   "metadata": {
    "ExecuteTime": {
     "end_time": "2025-10-22T11:22:56.735171Z",
     "start_time": "2025-10-22T11:22:56.731628Z"
    }
   },
   "cell_type": "code",
   "source": "print(X)",
   "id": "d725c0f8eaf86383",
   "outputs": [
    {
     "name": "stdout",
     "output_type": "stream",
     "text": [
      "[[ 1. -2.  2.]\n",
      " [-2.  1.  3.]\n",
      " [ 4.  1. -2.]]\n"
     ]
    }
   ],
   "execution_count": 4
  }
 ],
 "metadata": {
  "kernelspec": {
   "display_name": "Python 3",
   "language": "python",
   "name": "python3"
  },
  "language_info": {
   "codemirror_mode": {
    "name": "ipython",
    "version": 2
   },
   "file_extension": ".py",
   "mimetype": "text/x-python",
   "name": "python",
   "nbconvert_exporter": "python",
   "pygments_lexer": "ipython2",
   "version": "2.7.6"
  }
 },
 "nbformat": 4,
 "nbformat_minor": 5
}
