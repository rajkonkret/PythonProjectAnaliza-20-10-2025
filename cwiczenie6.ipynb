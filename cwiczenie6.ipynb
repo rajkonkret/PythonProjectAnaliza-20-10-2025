{
 "cells": [
  {
   "metadata": {
    "ExecuteTime": {
     "end_time": "2025-10-21T10:01:15.154607Z",
     "start_time": "2025-10-21T10:01:13.440353Z"
    }
   },
   "cell_type": "code",
   "source": "!pip install requests",
   "id": "1b7e63001d082c18",
   "outputs": [
    {
     "name": "stdout",
     "output_type": "stream",
     "text": [
      "Requirement already satisfied: requests in c:\\users\\cscomarch\\pycharmprojects\\pythonprojectanaliza-20-10-2025\\.venv\\lib\\site-packages (2.32.5)\n",
      "Requirement already satisfied: charset_normalizer<4,>=2 in c:\\users\\cscomarch\\pycharmprojects\\pythonprojectanaliza-20-10-2025\\.venv\\lib\\site-packages (from requests) (3.4.4)\n",
      "Requirement already satisfied: idna<4,>=2.5 in c:\\users\\cscomarch\\pycharmprojects\\pythonprojectanaliza-20-10-2025\\.venv\\lib\\site-packages (from requests) (3.11)\n",
      "Requirement already satisfied: urllib3<3,>=1.21.1 in c:\\users\\cscomarch\\pycharmprojects\\pythonprojectanaliza-20-10-2025\\.venv\\lib\\site-packages (from requests) (2.5.0)\n",
      "Requirement already satisfied: certifi>=2017.4.17 in c:\\users\\cscomarch\\pycharmprojects\\pythonprojectanaliza-20-10-2025\\.venv\\lib\\site-packages (from requests) (2025.10.5)\n"
     ]
    },
    {
     "name": "stderr",
     "output_type": "stream",
     "text": [
      "\n",
      "[notice] A new release of pip is available: 25.1.1 -> 25.2\n",
      "[notice] To update, run: python.exe -m pip install --upgrade pip\n"
     ]
    }
   ],
   "execution_count": 1
  },
  {
   "cell_type": "code",
   "id": "initial_id",
   "metadata": {
    "collapsed": true,
    "ExecuteTime": {
     "end_time": "2025-10-21T10:01:29.662688Z",
     "start_time": "2025-10-21T10:01:29.331356Z"
    }
   },
   "source": [
    "import requests\n",
    "import pandas as pd\n",
    "\n",
    "\n",
    "url = \"https://en.wikipedia.org/wiki/Wind_power\"\n",
    "\n",
    "headers = {\n",
    "    \"User-Agent\": \"Mozilla/5.0 (X11; Linux x86_64) \"\n",
    "                  \"AppleWebKit/537.36 (KHTML, like Gecko) \"\n",
    "                  \"Chrome/119.0 Safari/537.36\"\n",
    "}"
   ],
   "outputs": [],
   "execution_count": 2
  },
  {
   "metadata": {
    "ExecuteTime": {
     "end_time": "2025-10-21T10:03:36.313186Z",
     "start_time": "2025-10-21T10:03:35.676874Z"
    }
   },
   "cell_type": "code",
   "source": [
    "resp = requests.get(url, headers=headers, timeout=20)\n",
    "resp.raise_for_status() # jezeli wystąpi błąd w komunikacji, rzuci wyjątkiem"
   ],
   "id": "f1372ae8ec06cf3b",
   "outputs": [],
   "execution_count": 4
  },
  {
   "metadata": {
    "ExecuteTime": {
     "end_time": "2025-10-21T10:04:06.911736Z",
     "start_time": "2025-10-21T10:04:06.909199Z"
    }
   },
   "cell_type": "code",
   "source": "from io import StringIO",
   "id": "d0894328d0ca4558",
   "outputs": [],
   "execution_count": 5
  },
  {
   "metadata": {
    "ExecuteTime": {
     "end_time": "2025-10-21T10:05:26.125982Z",
     "start_time": "2025-10-21T10:05:21.640895Z"
    }
   },
   "cell_type": "code",
   "source": "!pip install lxml",
   "id": "4f5b0c01a2da0613",
   "outputs": [
    {
     "name": "stdout",
     "output_type": "stream",
     "text": [
      "Collecting lxml\n",
      "  Downloading lxml-6.0.2-cp313-cp313-win_amd64.whl.metadata (3.7 kB)\n",
      "Downloading lxml-6.0.2-cp313-cp313-win_amd64.whl (4.0 MB)\n",
      "   ---------------------------------------- 0.0/4.0 MB ? eta -:--:--\n",
      "   ---------------------------------------- 4.0/4.0 MB 28.2 MB/s eta 0:00:00\n",
      "Installing collected packages: lxml\n",
      "Successfully installed lxml-6.0.2\n"
     ]
    },
    {
     "name": "stderr",
     "output_type": "stream",
     "text": [
      "\n",
      "[notice] A new release of pip is available: 25.1.1 -> 25.2\n",
      "[notice] To update, run: python.exe -m pip install --upgrade pip\n"
     ]
    }
   ],
   "execution_count": 7
  },
  {
   "metadata": {
    "ExecuteTime": {
     "end_time": "2025-10-21T10:05:29.457391Z",
     "start_time": "2025-10-21T10:05:29.236558Z"
    }
   },
   "cell_type": "code",
   "source": [
    "html = StringIO(resp.text) # wymagane dla Pandas\n",
    "tables = pd.read_html(html)\n"
   ],
   "id": "85f2a7cf1b347b2c",
   "outputs": [],
   "execution_count": 8
  },
  {
   "metadata": {
    "ExecuteTime": {
     "end_time": "2025-10-21T10:05:37.231661Z",
     "start_time": "2025-10-21T10:05:37.201483Z"
    }
   },
   "cell_type": "code",
   "source": "tables",
   "id": "fc3174865b43db80",
   "outputs": [
    {
     "data": {
      "text/plain": [
       "[                                                   0\n",
       " 0                                Part of a series on\n",
       " 1                                 Sustainable energy\n",
       " 2  Energy conservation Arcology Building insulati...\n",
       " 3  Renewable energy Biofuel Sustainable Biogas Bi...\n",
       " 4  Sustainable transport Green vehicle Electric v...\n",
       " 5                  Category  Renewable energy portal\n",
       " 6                                                vte,\n",
       "                  Wind farm  Capacity (MW)        Country  Refs\n",
       " 0          Gansu Wind Farm           7965          China  [21]\n",
       " 1      Muppandal Wind Farm           1500          India  [22]\n",
       " 2  Alta (Oak Creek-Mojave)           1320  United States  [23]\n",
       " 3      Jaisalmer Wind Park           1064          India  [24],\n",
       "     0                                                  1\n",
       " 0 NaN  This graph was using the legacy Graph extensio...,\n",
       "                                                     0   1   2   3   4\n",
       " 0   Number of countries with wind capacities in th... NaN NaN NaN NaN\n",
       " 1                                                2022 NaN NaN NaN NaN\n",
       " 2                                                2021 NaN NaN NaN NaN\n",
       " 3                                                2019 NaN NaN NaN NaN\n",
       " 4                                                2018 NaN NaN NaN NaN\n",
       " 5                                                2017 NaN NaN NaN NaN\n",
       " 6                                                2016 NaN NaN NaN NaN\n",
       " 7                                                2015 NaN NaN NaN NaN\n",
       " 8                                                2012 NaN NaN NaN NaN\n",
       " 9                                                2011 NaN NaN NaN NaN\n",
       " 10                                               2010 NaN NaN NaN NaN\n",
       " 11                                               2009 NaN NaN NaN NaN\n",
       " 12                                               2008 NaN NaN NaN NaN\n",
       " 13                                               2006 NaN NaN NaN NaN\n",
       " 14                                               2005 NaN NaN NaN NaN\n",
       " 15                                               2004 NaN NaN NaN NaN\n",
       " 16                                               1999 NaN NaN NaN NaN\n",
       " 17                                               1997 NaN NaN NaN NaN\n",
       " 18                                               1995 NaN NaN NaN NaN\n",
       " 19                                               1986 NaN NaN NaN NaN\n",
       " 20                                               2022 NaN NaN NaN NaN\n",
       " 21                                               2021 NaN NaN NaN NaN\n",
       " 22                                               2018 NaN NaN NaN NaN\n",
       " 23                                               2016 NaN NaN NaN NaN\n",
       " 24                                               2015 NaN NaN NaN NaN\n",
       " 25                                               2013 NaN NaN NaN NaN\n",
       " 26                                               2009 NaN NaN NaN NaN\n",
       " 27                                               2008 NaN NaN NaN NaN\n",
       " 28                                               2006 NaN NaN NaN NaN\n",
       " 29                                               2002 NaN NaN NaN NaN\n",
       " 30                                               2019 NaN NaN NaN NaN\n",
       " 31                                               2014 NaN NaN NaN NaN,\n",
       "        0   1   2   3   4\n",
       " 0   2022 NaN NaN NaN NaN\n",
       " 1   2021 NaN NaN NaN NaN\n",
       " 2   2019 NaN NaN NaN NaN\n",
       " 3   2018 NaN NaN NaN NaN\n",
       " 4   2017 NaN NaN NaN NaN\n",
       " 5   2016 NaN NaN NaN NaN\n",
       " 6   2015 NaN NaN NaN NaN\n",
       " 7   2012 NaN NaN NaN NaN\n",
       " 8   2011 NaN NaN NaN NaN\n",
       " 9   2010 NaN NaN NaN NaN\n",
       " 10  2009 NaN NaN NaN NaN\n",
       " 11  2008 NaN NaN NaN NaN\n",
       " 12  2006 NaN NaN NaN NaN\n",
       " 13  2005 NaN NaN NaN NaN\n",
       " 14  2004 NaN NaN NaN NaN\n",
       " 15  1999 NaN NaN NaN NaN\n",
       " 16  1997 NaN NaN NaN NaN\n",
       " 17  1995 NaN NaN NaN NaN\n",
       " 18  1986 NaN NaN NaN NaN,\n",
       "       0   1   2   3   4\n",
       " 0  2022 NaN NaN NaN NaN\n",
       " 1  2021 NaN NaN NaN NaN\n",
       " 2  2018 NaN NaN NaN NaN\n",
       " 3  2016 NaN NaN NaN NaN\n",
       " 4  2015 NaN NaN NaN NaN\n",
       " 5  2013 NaN NaN NaN NaN\n",
       " 6  2009 NaN NaN NaN NaN\n",
       " 7  2008 NaN NaN NaN NaN\n",
       " 8  2006 NaN NaN NaN NaN\n",
       " 9  2002 NaN NaN NaN NaN,\n",
       "       0   1   2   3   4\n",
       " 0  2019 NaN NaN NaN NaN\n",
       " 1  2014 NaN NaN NaN NaN,\n",
       "                                 vteEnergy  \\\n",
       " 0                   History Index Outline   \n",
       " 1                    Fundamental concepts   \n",
       " 2                                   Types   \n",
       " 3                         Energy carriers   \n",
       " 4                          Primary energy   \n",
       " 5                Energy system components   \n",
       " 6                          Use and supply   \n",
       " 7                                   Misc.   \n",
       " 8  Category  Commons  Portal  WikiProject   \n",
       " \n",
       "                                          vteEnergy.1  \n",
       " 0                              History Index Outline  \n",
       " 1  Conservation of energy Energetics Energy Units...  \n",
       " 2  Binding Nuclear Chemical Dark Elastic Electric...  \n",
       " 3  Battery Capacitor Electricity Enthalpy Fuel Fo...  \n",
       " 4  Bioenergy Fossil fuel Coal Natural gas Petrole...  \n",
       " 5  Biomass Electric power Electricity delivery En...  \n",
       " 6  Efficient energy use Agriculture Computing Tra...  \n",
       " 7  Energy in work Carbon footprint Energy democra...  \n",
       " 8             Category  Commons  Portal  WikiProject  ,\n",
       "                                        vteWind power  \\\n",
       " 0                                         Wind power   \n",
       " 1                                         Wind farms   \n",
       " 2                                      Wind turbines   \n",
       " 3                                Wind power industry   \n",
       " 4                                      Manufacturers   \n",
       " 5                                           Concepts   \n",
       " 6  Wind power portal  Category  Commons  Addition...   \n",
       " \n",
       "                                      vteWind power.1  \n",
       " 0  Airborne wind energy By country History Land v...  \n",
       " 1  Lists of wind farms Community-owned Offshore f...  \n",
       " 2  Aerodynamics Airborne Crosswind kite Design Fl...  \n",
       " 3        Consulting companies Manufacturers Software  \n",
       " 4  Enercon GE Wind including GE Offshore Wind Gol...  \n",
       " 5  2020s in wind power research Betz's law Blade ...  \n",
       " 6  Wind power portal  Category  Commons  Addition...  ,\n",
       "                             vteWind power by country  \\\n",
       " 0  Overview Wind power industry Africa Egypt Ethi...   \n",
       " 1                                           Overview   \n",
       " 2                                             Africa   \n",
       " 3                                               Asia   \n",
       " 4                                             Europe   \n",
       " 5                                      North America   \n",
       " 6                                            Oceania   \n",
       " 7                                      South America   \n",
       " 8  Wind power portal  Renewable energy portal  En...   \n",
       " \n",
       "                           vteWind power by country.1  \n",
       " 0  Overview Wind power industry Africa Egypt Ethi...  \n",
       " 1                                Wind power industry  \n",
       " 2                 Egypt Ethiopia Ghana Kenya Morocco  \n",
       " 3  Afghanistan Armenia Bangladesh Bhutan China (H...  \n",
       " 4  Albania Armenia Austria Belgium Belarus Bulgar...  \n",
       " 5             Canada Costa Rica Mexico United States  \n",
       " 6                              Australia New Zealand  \n",
       " 7  Argentina Brazil Chile Colombia Uruguay Venezuela  \n",
       " 8  Wind power portal  Renewable energy portal  En...  ,\n",
       "                0                                                  1\n",
       " 0       Overview                                Wind power industry\n",
       " 1         Africa                 Egypt Ethiopia Ghana Kenya Morocco\n",
       " 2           Asia  Afghanistan Armenia Bangladesh Bhutan China (H...\n",
       " 3         Europe  Albania Armenia Austria Belgium Belarus Bulgar...\n",
       " 4  North America             Canada Costa Rica Mexico United States\n",
       " 5        Oceania                              Australia New Zealand\n",
       " 6  South America  Argentina Brazil Chile Colombia Uruguay Venezuela,\n",
       "           vteElectricity delivery  \\\n",
       " 0                        Concepts   \n",
       " 1                         Sources   \n",
       " 2                   Non-renewable   \n",
       " 3                       Renewable   \n",
       " 4                      Generation   \n",
       " 5   Transmission and distribution   \n",
       " 6                   Failure modes   \n",
       " 7              Protective devices   \n",
       " 8          Economics and policies   \n",
       " 9       Statistics and production   \n",
       " 10                       Category   \n",
       " \n",
       "                             vteElectricity delivery.1  \\\n",
       " 0   Automatic generation control Backfeeding Base ...   \n",
       " 1   Non-renewable Fossil fuel power station Coal N...   \n",
       " 2   Fossil fuel power station Coal Natural gas Oil...   \n",
       " 3   Biofuel Biogas Biomass Geothermal Hydro Marine...   \n",
       " 4   AC power Cogeneration Combined cycle Cooling t...   \n",
       " 5   Ancillary services Balancing authority Conting...   \n",
       " 6   Black start Brownout Cascading failure Islandi...   \n",
       " 7   Arc-fault circuit interrupter Circuit breaker ...   \n",
       " 8   Availability factor Capacity factor Carbon off...   \n",
       " 9   Electric energy consumption List of electricit...   \n",
       " 10                                           Category   \n",
       " \n",
       "    vteElectricity delivery.2  \n",
       " 0                        NaN  \n",
       " 1                        NaN  \n",
       " 2                        NaN  \n",
       " 3                        NaN  \n",
       " 4                        NaN  \n",
       " 5                        NaN  \n",
       " 6                        NaN  \n",
       " 7                        NaN  \n",
       " 8                        NaN  \n",
       " 9                        NaN  \n",
       " 10                  Category  ,\n",
       "                0                                                  1\n",
       " 0  Non-renewable  Fossil fuel power station Coal Natural gas Oil...\n",
       " 1      Renewable  Biofuel Biogas Biomass Geothermal Hydro Marine...,\n",
       "   vteApplication of wind energy  \\\n",
       " 0                    Wind power   \n",
       " 1            Vehicle propulsion   \n",
       " 2             Kite applications   \n",
       " 3                   Air current   \n",
       " \n",
       "                      vteApplication of wind energy.1  \n",
       " 0                             Wind turbine Wind mill  \n",
       " 1  Sailboat Sailing ship Power kite SkySails Iceb...  \n",
       " 2                            Kite Human-lifting kite  \n",
       " 3                                        Windcatcher  ,\n",
       "         vteRenewable energy by country and territory  \\\n",
       " 0                                             Africa   \n",
       " 1                                               Asia   \n",
       " 2                                             Europe   \n",
       " 3                                     European Union   \n",
       " 4  Albania Armenia Belarus Iceland Kosovo Norway ...   \n",
       " 5                                      North America   \n",
       " 6                                            Oceania   \n",
       " 7                                      South America   \n",
       " 8                                   Portal  Category   \n",
       " \n",
       "       vteRenewable energy by country and territory.1  \n",
       " 0  Democratic Republic of the Congo Egypt Ethiopi...  \n",
       " 1  Afghanistan Bangladesh Bhutan Brunei China Ind...  \n",
       " 2  European Union Austria Czech Republic Cyprus D...  \n",
       " 3  Austria Czech Republic Cyprus Denmark Finland ...  \n",
       " 4  Albania Armenia Belarus Iceland Kosovo Norway ...  \n",
       " 5    Canada Costa Rica Honduras Mexico United States  \n",
       " 6  Australia Cook Islands French Polynesia New Ze...  \n",
       " 7                    Argentina Brazil Chile Colombia  \n",
       " 8                                   Portal  Category  ,\n",
       "                                                    0  \\\n",
       " 0                                     European Union   \n",
       " 1  Albania Armenia Belarus Iceland Kosovo Norway ...   \n",
       " \n",
       "                                                    1  \n",
       " 0  Austria Czech Republic Cyprus Denmark Finland ...  \n",
       " 1  Albania Armenia Belarus Iceland Kosovo Norway ...  ,\n",
       "                                  vteNatural resources  \\\n",
       " 0                                                 Air   \n",
       " 1                                 Pollution / quality   \n",
       " 2                                           Emissions   \n",
       " 3                                              Energy   \n",
       " 4                                                Land   \n",
       " 5                                                Life   \n",
       " 6                                               Water   \n",
       " 7                                    Types / location   \n",
       " 8                                             Aspects   \n",
       " 9                                             Related   \n",
       " 10  Commons enclosure global land tragedy of Econo...   \n",
       " 11                                           Resource   \n",
       " 12                                           Politics   \n",
       " 13                                           Category   \n",
       " \n",
       "                                vteNatural resources.1  \n",
       " 0   Pollution / quality Ambient standards (US) Ind...  \n",
       " 1   Ambient standards (US) Index Indoor Law Clean ...  \n",
       " 2                Airshed Trading Deforestation (REDD)  \n",
       " 3   Bio Law Resources Fossil fuels (gas, peak coal...  \n",
       " 4   Agricultural arable peak farmland Degradation ...  \n",
       " 5   Biodiversity Bioprospecting biopiracy Biospher...  \n",
       " 6   Types / location Aquifer storage and recovery ...  \n",
       " 7   Aquifer storage and recovery Drinking Fresh Gr...  \n",
       " 8   Desalination Floods Law Leaching Sanitation im...  \n",
       " 9   Commons enclosure global land tragedy of Econo...  \n",
       " 10  Commons enclosure global land tragedy of Econo...  \n",
       " 11  Common-pool Conflict (perpetuation) Curse Depl...  \n",
       " 12  Oil war Petroleum politics Petrostate Petro-Is...  \n",
       " 13                                           Category  ,\n",
       "                      0                                                  1\n",
       " 0  Pollution / quality  Ambient standards (US) Index Indoor Law Clean ...\n",
       " 1            Emissions               Airshed Trading Deforestation (REDD),\n",
       "                   0                                                  1\n",
       " 0  Types / location  Aquifer storage and recovery Drinking Fresh Gr...\n",
       " 1           Aspects  Desalination Floods Law Leaching Sanitation im...,\n",
       "                                                    0  \\\n",
       " 0  Commons enclosure global land tragedy of Econo...   \n",
       " 1                                           Resource   \n",
       " 2                                           Politics   \n",
       " \n",
       "                                                    1  \n",
       " 0  Commons enclosure global land tragedy of Econo...  \n",
       " 1  Common-pool Conflict (perpetuation) Curse Depl...  \n",
       " 2  Oil war Petroleum politics Petrostate Petro-Is...  ,\n",
       "   Authority control databases  \\\n",
       " 0               International   \n",
       " 1                    National   \n",
       " 2                       Other   \n",
       " \n",
       "                        Authority control databases.1  \n",
       " 0                                                GND  \n",
       " 1  United StatesFranceBnF dataJapanCzech Republic...  \n",
       " 2                                       NARAYale LUX  ]"
      ]
     },
     "execution_count": 9,
     "metadata": {},
     "output_type": "execute_result"
    }
   ],
   "execution_count": 9
  },
  {
   "metadata": {
    "ExecuteTime": {
     "end_time": "2025-10-21T10:06:21.832208Z",
     "start_time": "2025-10-21T10:06:21.827865Z"
    }
   },
   "cell_type": "code",
   "source": [
    "df = tables[0]\n",
    "print(df.head())"
   ],
   "id": "a21b752cd94efb27",
   "outputs": [
    {
     "name": "stdout",
     "output_type": "stream",
     "text": [
      "                                                   0\n",
      "0                                Part of a series on\n",
      "1                                 Sustainable energy\n",
      "2  Energy conservation Arcology Building insulati...\n",
      "3  Renewable energy Biofuel Sustainable Biogas Bi...\n",
      "4  Sustainable transport Green vehicle Electric v...\n"
     ]
    }
   ],
   "execution_count": 10
  },
  {
   "metadata": {
    "ExecuteTime": {
     "end_time": "2025-10-21T10:06:34.995319Z",
     "start_time": "2025-10-21T10:06:34.982452Z"
    }
   },
   "cell_type": "code",
   "source": "tables[1]",
   "id": "ae5064e2824e08fa",
   "outputs": [
    {
     "data": {
      "text/plain": [
       "                 Wind farm  Capacity (MW)        Country  Refs\n",
       "0          Gansu Wind Farm           7965          China  [21]\n",
       "1      Muppandal Wind Farm           1500          India  [22]\n",
       "2  Alta (Oak Creek-Mojave)           1320  United States  [23]\n",
       "3      Jaisalmer Wind Park           1064          India  [24]"
      ],
      "text/html": [
       "<div>\n",
       "<style scoped>\n",
       "    .dataframe tbody tr th:only-of-type {\n",
       "        vertical-align: middle;\n",
       "    }\n",
       "\n",
       "    .dataframe tbody tr th {\n",
       "        vertical-align: top;\n",
       "    }\n",
       "\n",
       "    .dataframe thead th {\n",
       "        text-align: right;\n",
       "    }\n",
       "</style>\n",
       "<table border=\"1\" class=\"dataframe\">\n",
       "  <thead>\n",
       "    <tr style=\"text-align: right;\">\n",
       "      <th></th>\n",
       "      <th>Wind farm</th>\n",
       "      <th>Capacity (MW)</th>\n",
       "      <th>Country</th>\n",
       "      <th>Refs</th>\n",
       "    </tr>\n",
       "  </thead>\n",
       "  <tbody>\n",
       "    <tr>\n",
       "      <th>0</th>\n",
       "      <td>Gansu Wind Farm</td>\n",
       "      <td>7965</td>\n",
       "      <td>China</td>\n",
       "      <td>[21]</td>\n",
       "    </tr>\n",
       "    <tr>\n",
       "      <th>1</th>\n",
       "      <td>Muppandal Wind Farm</td>\n",
       "      <td>1500</td>\n",
       "      <td>India</td>\n",
       "      <td>[22]</td>\n",
       "    </tr>\n",
       "    <tr>\n",
       "      <th>2</th>\n",
       "      <td>Alta (Oak Creek-Mojave)</td>\n",
       "      <td>1320</td>\n",
       "      <td>United States</td>\n",
       "      <td>[23]</td>\n",
       "    </tr>\n",
       "    <tr>\n",
       "      <th>3</th>\n",
       "      <td>Jaisalmer Wind Park</td>\n",
       "      <td>1064</td>\n",
       "      <td>India</td>\n",
       "      <td>[24]</td>\n",
       "    </tr>\n",
       "  </tbody>\n",
       "</table>\n",
       "</div>"
      ]
     },
     "execution_count": 11,
     "metadata": {},
     "output_type": "execute_result"
    }
   ],
   "execution_count": 11
  },
  {
   "metadata": {
    "ExecuteTime": {
     "end_time": "2025-10-21T10:08:28.737954Z",
     "start_time": "2025-10-21T10:08:28.728815Z"
    }
   },
   "cell_type": "code",
   "source": "tables[1].to_csv(\"tabela_wind_power.csv\")",
   "id": "cd8f24a4df6f4d97",
   "outputs": [],
   "execution_count": 12
  }
 ],
 "metadata": {
  "kernelspec": {
   "display_name": "Python 3",
   "language": "python",
   "name": "python3"
  },
  "language_info": {
   "codemirror_mode": {
    "name": "ipython",
    "version": 2
   },
   "file_extension": ".py",
   "mimetype": "text/x-python",
   "name": "python",
   "nbconvert_exporter": "python",
   "pygments_lexer": "ipython2",
   "version": "2.7.6"
  }
 },
 "nbformat": 4,
 "nbformat_minor": 5
}
