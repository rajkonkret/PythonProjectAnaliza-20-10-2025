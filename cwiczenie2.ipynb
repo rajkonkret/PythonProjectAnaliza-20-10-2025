{
 "cells": [
  {
   "metadata": {},
   "cell_type": "markdown",
   "source": [
    "# Biblioteka NumPy\n",
    "Napisana w C do szybkich operacji na tablicach\\\n",
    "ndarray - tablica w NumPy"
   ],
   "id": "5014f2e58d7095da"
  },
  {
   "cell_type": "code",
   "id": "initial_id",
   "metadata": {
    "collapsed": true,
    "ExecuteTime": {
     "end_time": "2025-10-20T12:13:14.366347Z",
     "start_time": "2025-10-20T12:12:58.014439Z"
    }
   },
   "source": [
    "# instalacja biblioteki\n",
    "!pip install numpy"
   ],
   "outputs": [
    {
     "name": "stdout",
     "output_type": "stream",
     "text": [
      "Collecting numpy\n",
      "  Downloading numpy-2.3.4-cp313-cp313-win_amd64.whl.metadata (60 kB)\n",
      "Downloading numpy-2.3.4-cp313-cp313-win_amd64.whl (12.8 MB)\n",
      "   ---------------------------------------- 0.0/12.8 MB ? eta -:--:--\n",
      "   - -------------------------------------- 0.5/12.8 MB 9.2 MB/s eta 0:00:02\n",
      "   ---------------------------------------  12.6/12.8 MB 35.5 MB/s eta 0:00:01\n",
      "   ---------------------------------------  12.6/12.8 MB 35.5 MB/s eta 0:00:01\n",
      "   ---------------------------------------- 12.8/12.8 MB 11.2 MB/s eta 0:00:00\n",
      "Installing collected packages: numpy\n",
      "Successfully installed numpy-2.3.4\n"
     ]
    },
    {
     "name": "stderr",
     "output_type": "stream",
     "text": [
      "\n",
      "[notice] A new release of pip is available: 25.1.1 -> 25.2\n",
      "[notice] To update, run: python.exe -m pip install --upgrade pip\n"
     ]
    }
   ],
   "execution_count": 2
  },
  {
   "metadata": {},
   "cell_type": "markdown",
   "source": "",
   "id": "d2ed5090d325a9d7"
  },
  {
   "metadata": {
    "ExecuteTime": {
     "end_time": "2025-10-20T12:13:46.126245Z",
     "start_time": "2025-10-20T12:13:45.387303Z"
    }
   },
   "cell_type": "code",
   "source": "import numpy as np  # alias",
   "id": "bad9b63953972612",
   "outputs": [],
   "execution_count": 3
  },
  {
   "metadata": {
    "ExecuteTime": {
     "end_time": "2025-10-20T12:14:19.834355Z",
     "start_time": "2025-10-20T12:14:19.828779Z"
    }
   },
   "cell_type": "code",
   "source": "print(np.__version__)",
   "id": "a6cb198ce88a06e6",
   "outputs": [
    {
     "name": "stdout",
     "output_type": "stream",
     "text": [
      "2.3.4\n"
     ]
    }
   ],
   "execution_count": 4
  },
  {
   "metadata": {
    "ExecuteTime": {
     "end_time": "2025-10-20T12:14:58.248142Z",
     "start_time": "2025-10-20T12:14:58.241498Z"
    }
   },
   "cell_type": "code",
   "source": [
    "lista = [2, 4, 6, 8, 10]\n",
    "lista"
   ],
   "id": "710cda5692e3cde6",
   "outputs": [
    {
     "data": {
      "text/plain": [
       "[2, 4, 6, 8, 10]"
      ]
     },
     "execution_count": 5,
     "metadata": {},
     "output_type": "execute_result"
    }
   ],
   "execution_count": 5
  },
  {
   "metadata": {
    "ExecuteTime": {
     "end_time": "2025-10-20T12:15:22.580166Z",
     "start_time": "2025-10-20T12:15:22.574794Z"
    }
   },
   "cell_type": "code",
   "source": [
    "a = np.array(lista)\n",
    "a"
   ],
   "id": "86ccffbb9f59c6e3",
   "outputs": [
    {
     "data": {
      "text/plain": [
       "array([ 2,  4,  6,  8, 10])"
      ]
     },
     "execution_count": 6,
     "metadata": {},
     "output_type": "execute_result"
    }
   ],
   "execution_count": 6
  },
  {
   "metadata": {
    "ExecuteTime": {
     "end_time": "2025-10-20T12:15:52.096647Z",
     "start_time": "2025-10-20T12:15:52.092346Z"
    }
   },
   "cell_type": "code",
   "source": "a.dtype  # typ danych",
   "id": "7f577df147e363c2",
   "outputs": [
    {
     "data": {
      "text/plain": [
       "dtype('int64')"
      ]
     },
     "execution_count": 7,
     "metadata": {},
     "output_type": "execute_result"
    }
   ],
   "execution_count": 7
  },
  {
   "metadata": {},
   "cell_type": "markdown",
   "source": "int64 - int 8 bajtowy",
   "id": "85b6aedb22cf27c9"
  },
  {
   "metadata": {
    "ExecuteTime": {
     "end_time": "2025-10-20T12:16:57.585472Z",
     "start_time": "2025-10-20T12:16:57.581329Z"
    }
   },
   "cell_type": "code",
   "source": "print(np.iinfo(np.int64))",
   "id": "40ac6ca1c080e2a4",
   "outputs": [
    {
     "name": "stdout",
     "output_type": "stream",
     "text": [
      "Machine parameters for int64\n",
      "---------------------------------------------------------------\n",
      "min = -9223372036854775808\n",
      "max = 9223372036854775807\n",
      "---------------------------------------------------------------\n",
      "\n"
     ]
    }
   ],
   "execution_count": 8
  },
  {
   "metadata": {
    "ExecuteTime": {
     "end_time": "2025-10-20T12:18:12.508615Z",
     "start_time": "2025-10-20T12:18:12.505300Z"
    }
   },
   "cell_type": "code",
   "source": "print(type(a))",
   "id": "20e5553a65f3f031",
   "outputs": [
    {
     "name": "stdout",
     "output_type": "stream",
     "text": [
      "<class 'numpy.ndarray'>\n"
     ]
    }
   ],
   "execution_count": 9
  },
  {
   "metadata": {
    "ExecuteTime": {
     "end_time": "2025-10-20T12:18:52.434335Z",
     "start_time": "2025-10-20T12:18:52.430617Z"
    }
   },
   "cell_type": "code",
   "source": [
    "# kształt\n",
    "a.shape"
   ],
   "id": "d3e51ca91d37aa4d",
   "outputs": [
    {
     "data": {
      "text/plain": [
       "(5,)"
      ]
     },
     "execution_count": 11,
     "metadata": {},
     "output_type": "execute_result"
    }
   ],
   "execution_count": 11
  },
  {
   "metadata": {
    "ExecuteTime": {
     "end_time": "2025-10-20T12:19:39.532333Z",
     "start_time": "2025-10-20T12:19:39.504701Z"
    }
   },
   "cell_type": "code",
   "source": [
    "p = np.zeros((3, 3))\n",
    "p"
   ],
   "id": "f106fd4ce207b88b",
   "outputs": [
    {
     "data": {
      "text/plain": [
       "array([[0., 0., 0.],\n",
       "       [0., 0., 0.],\n",
       "       [0., 0., 0.]])"
      ]
     },
     "execution_count": 12,
     "metadata": {},
     "output_type": "execute_result"
    }
   ],
   "execution_count": 12
  },
  {
   "metadata": {
    "ExecuteTime": {
     "end_time": "2025-10-20T12:20:03.256608Z",
     "start_time": "2025-10-20T12:20:03.253308Z"
    }
   },
   "cell_type": "code",
   "source": "print(p)",
   "id": "625933a59e1ffa76",
   "outputs": [
    {
     "name": "stdout",
     "output_type": "stream",
     "text": [
      "[[0. 0. 0.]\n",
      " [0. 0. 0.]\n",
      " [0. 0. 0.]]\n"
     ]
    }
   ],
   "execution_count": 14
  },
  {
   "metadata": {
    "ExecuteTime": {
     "end_time": "2025-10-20T12:20:57.896321Z",
     "start_time": "2025-10-20T12:20:57.892638Z"
    }
   },
   "cell_type": "code",
   "source": "print(p.dtype)",
   "id": "1cd70dd330363a5a",
   "outputs": [
    {
     "name": "stdout",
     "output_type": "stream",
     "text": [
      "float64\n"
     ]
    }
   ],
   "execution_count": 15
  },
  {
   "metadata": {
    "ExecuteTime": {
     "end_time": "2025-10-20T12:21:50.901998Z",
     "start_time": "2025-10-20T12:21:50.898062Z"
    }
   },
   "cell_type": "code",
   "source": "print(np.finfo(np.float64))",
   "id": "ec8baa27ebf7b8ad",
   "outputs": [
    {
     "name": "stdout",
     "output_type": "stream",
     "text": [
      "Machine parameters for float64\n",
      "---------------------------------------------------------------\n",
      "precision =  15   resolution = 1.0000000000000001e-15\n",
      "machep =    -52   eps =        2.2204460492503131e-16\n",
      "negep =     -53   epsneg =     1.1102230246251565e-16\n",
      "minexp =  -1022   tiny =       2.2250738585072014e-308\n",
      "maxexp =   1024   max =        1.7976931348623157e+308\n",
      "nexp =       11   min =        -max\n",
      "smallest_normal = 2.2250738585072014e-308   smallest_subnormal = 4.9406564584124654e-324\n",
      "---------------------------------------------------------------\n",
      "\n"
     ]
    }
   ],
   "execution_count": 17
  },
  {
   "metadata": {
    "ExecuteTime": {
     "end_time": "2025-10-20T12:23:16.348886Z",
     "start_time": "2025-10-20T12:23:16.343321Z"
    }
   },
   "cell_type": "code",
   "source": [
    "q = np.ones((2, 2))\n",
    "print(q)\n",
    "q.dtype"
   ],
   "id": "973106ac58371741",
   "outputs": [
    {
     "name": "stdout",
     "output_type": "stream",
     "text": [
      "[[1. 1.]\n",
      " [1. 1.]]\n"
     ]
    },
    {
     "data": {
      "text/plain": [
       "dtype('float64')"
      ]
     },
     "execution_count": 18,
     "metadata": {},
     "output_type": "execute_result"
    }
   ],
   "execution_count": 18
  },
  {
   "metadata": {
    "ExecuteTime": {
     "end_time": "2025-10-20T12:23:57.691274Z",
     "start_time": "2025-10-20T12:23:57.676804Z"
    }
   },
   "cell_type": "code",
   "source": [
    "r = np.full((2, 2), 4)\n",
    "print(r)\n",
    "r.dtype"
   ],
   "id": "58036a3f963c796b",
   "outputs": [
    {
     "name": "stdout",
     "output_type": "stream",
     "text": [
      "[[4 4]\n",
      " [4 4]]\n"
     ]
    },
    {
     "data": {
      "text/plain": [
       "dtype('int64')"
      ]
     },
     "execution_count": 19,
     "metadata": {},
     "output_type": "execute_result"
    }
   ],
   "execution_count": 19
  },
  {
   "metadata": {
    "ExecuteTime": {
     "end_time": "2025-10-20T12:24:27.608136Z",
     "start_time": "2025-10-20T12:24:27.602942Z"
    }
   },
   "cell_type": "code",
   "source": [
    "s = np.eye(4)\n",
    "print(s)\n",
    "s.dtype"
   ],
   "id": "6752d7f5c9755540",
   "outputs": [
    {
     "name": "stdout",
     "output_type": "stream",
     "text": [
      "[[1. 0. 0. 0.]\n",
      " [0. 1. 0. 0.]\n",
      " [0. 0. 1. 0.]\n",
      " [0. 0. 0. 1.]]\n"
     ]
    },
    {
     "data": {
      "text/plain": [
       "dtype('float64')"
      ]
     },
     "execution_count": 20,
     "metadata": {},
     "output_type": "execute_result"
    }
   ],
   "execution_count": 20
  },
  {
   "metadata": {
    "ExecuteTime": {
     "end_time": "2025-10-20T12:25:58.026367Z",
     "start_time": "2025-10-20T12:25:57.731170Z"
    }
   },
   "cell_type": "code",
   "source": [
    "# wartosci losowe\n",
    "t = np.random.random((3, 3))\n",
    "print(t)\n",
    "t.dtype"
   ],
   "id": "247e8ada96a01d44",
   "outputs": [
    {
     "name": "stdout",
     "output_type": "stream",
     "text": [
      "[[0.29888296 0.69105143 0.96120923]\n",
      " [0.40836235 0.05667661 0.32717822]\n",
      " [0.10008293 0.30208085 0.15147495]]\n"
     ]
    },
    {
     "data": {
      "text/plain": [
       "dtype('float64')"
      ]
     },
     "execution_count": 21,
     "metadata": {},
     "output_type": "execute_result"
    }
   ],
   "execution_count": 21
  },
  {
   "metadata": {
    "ExecuteTime": {
     "end_time": "2025-10-20T12:27:01.480621Z",
     "start_time": "2025-10-20T12:27:01.440332Z"
    }
   },
   "cell_type": "code",
   "source": [
    "lista2 = [[5, 6], [7, 8]]\n",
    "b = np.array(lista2)\n",
    "print(lista2)\n",
    "b"
   ],
   "id": "55e0a1e58accd599",
   "outputs": [
    {
     "name": "stdout",
     "output_type": "stream",
     "text": [
      "[[5, 6], [7, 8]]\n"
     ]
    },
    {
     "data": {
      "text/plain": [
       "array([[5, 6],\n",
       "       [7, 8]])"
      ]
     },
     "execution_count": 22,
     "metadata": {},
     "output_type": "execute_result"
    }
   ],
   "execution_count": 22
  },
  {
   "metadata": {
    "ExecuteTime": {
     "end_time": "2025-10-20T12:27:17.382256Z",
     "start_time": "2025-10-20T12:27:17.379153Z"
    }
   },
   "cell_type": "code",
   "source": "print(b)",
   "id": "deaa7b9dd5968464",
   "outputs": [
    {
     "name": "stdout",
     "output_type": "stream",
     "text": [
      "[[5 6]\n",
      " [7 8]]\n"
     ]
    }
   ],
   "execution_count": 23
  },
  {
   "metadata": {
    "ExecuteTime": {
     "end_time": "2025-10-20T12:27:38.993325Z",
     "start_time": "2025-10-20T12:27:38.989072Z"
    }
   },
   "cell_type": "code",
   "source": "b.shape",
   "id": "90a629eba1abfd4f",
   "outputs": [
    {
     "data": {
      "text/plain": [
       "(2, 2)"
      ]
     },
     "execution_count": 24,
     "metadata": {},
     "output_type": "execute_result"
    }
   ],
   "execution_count": 24
  },
  {
   "metadata": {
    "ExecuteTime": {
     "end_time": "2025-10-20T12:28:26.660110Z",
     "start_time": "2025-10-20T12:28:26.656933Z"
    }
   },
   "cell_type": "code",
   "source": [
    "# ravel() - spłaszczenie, zwraca widok\n",
    "print(b.ravel())"
   ],
   "id": "f8179e691dbf6d5a",
   "outputs": [
    {
     "name": "stdout",
     "output_type": "stream",
     "text": [
      "[5 6 7 8]\n"
     ]
    }
   ],
   "execution_count": 25
  },
  {
   "metadata": {
    "ExecuteTime": {
     "end_time": "2025-10-20T12:29:23.060048Z",
     "start_time": "2025-10-20T12:29:23.056441Z"
    }
   },
   "cell_type": "code",
   "source": "print(b)  # oryginalne dane nie zostały zmmienione",
   "id": "ad406fa90ff79b98",
   "outputs": [
    {
     "name": "stdout",
     "output_type": "stream",
     "text": [
      "[[5 6]\n",
      " [7 8]]\n"
     ]
    }
   ],
   "execution_count": 28
  },
  {
   "metadata": {
    "ExecuteTime": {
     "end_time": "2025-10-20T12:29:24.234764Z",
     "start_time": "2025-10-20T12:29:24.228823Z"
    }
   },
   "cell_type": "code",
   "source": "b[0]",
   "id": "4b1d46b8d4c29972",
   "outputs": [
    {
     "data": {
      "text/plain": [
       "array([5, 6])"
      ]
     },
     "execution_count": 29,
     "metadata": {},
     "output_type": "execute_result"
    }
   ],
   "execution_count": 29
  },
  {
   "metadata": {
    "ExecuteTime": {
     "end_time": "2025-10-20T12:29:39.588573Z",
     "start_time": "2025-10-20T12:29:39.584272Z"
    }
   },
   "cell_type": "code",
   "source": "b[0, 0]",
   "id": "4c6d9db553d82ece",
   "outputs": [
    {
     "data": {
      "text/plain": [
       "np.int64(5)"
      ]
     },
     "execution_count": 30,
     "metadata": {},
     "output_type": "execute_result"
    }
   ],
   "execution_count": 30
  },
  {
   "metadata": {
    "ExecuteTime": {
     "end_time": "2025-10-20T12:29:50.583685Z",
     "start_time": "2025-10-20T12:29:50.580479Z"
    }
   },
   "cell_type": "code",
   "source": "print(b[0, 1])",
   "id": "dbc65202a3d1606e",
   "outputs": [
    {
     "name": "stdout",
     "output_type": "stream",
     "text": [
      "6\n"
     ]
    }
   ],
   "execution_count": 31
  },
  {
   "metadata": {
    "ExecuteTime": {
     "end_time": "2025-10-20T12:30:40.557919Z",
     "start_time": "2025-10-20T12:30:40.554152Z"
    }
   },
   "cell_type": "code",
   "source": "print(np.float64(21))  # zamiana na float64",
   "id": "7b0ca5ff62c90da3",
   "outputs": [
    {
     "name": "stdout",
     "output_type": "stream",
     "text": [
      "21.0\n"
     ]
    }
   ],
   "execution_count": 33
  },
  {
   "metadata": {
    "ExecuteTime": {
     "end_time": "2025-10-20T12:30:58.555946Z",
     "start_time": "2025-10-20T12:30:58.552806Z"
    }
   },
   "cell_type": "code",
   "source": "print(np.int64(22.0))  # zamiana na int64",
   "id": "13f5abb8ab0ef3c0",
   "outputs": [
    {
     "name": "stdout",
     "output_type": "stream",
     "text": [
      "22\n"
     ]
    }
   ],
   "execution_count": 34
  },
  {
   "metadata": {
    "ExecuteTime": {
     "end_time": "2025-10-20T12:31:46.079168Z",
     "start_time": "2025-10-20T12:31:46.027874Z"
    }
   },
   "cell_type": "code",
   "source": "print(np.bool(21))",
   "id": "6306ba262cf0094b",
   "outputs": [
    {
     "name": "stdout",
     "output_type": "stream",
     "text": [
      "True\n"
     ]
    }
   ],
   "execution_count": 35
  },
  {
   "metadata": {
    "ExecuteTime": {
     "end_time": "2025-10-20T12:36:17.595586Z",
     "start_time": "2025-10-20T12:36:17.592890Z"
    }
   },
   "cell_type": "code",
   "source": "arr = np.arange(1, 11)",
   "id": "fcee95e6aae6147b",
   "outputs": [],
   "execution_count": 44
  },
  {
   "metadata": {
    "ExecuteTime": {
     "end_time": "2025-10-20T12:36:18.992969Z",
     "start_time": "2025-10-20T12:36:18.988230Z"
    }
   },
   "cell_type": "code",
   "source": "arr",
   "id": "62fc1b59bea9a7e4",
   "outputs": [
    {
     "data": {
      "text/plain": [
       "array([ 1,  2,  3,  4,  5,  6,  7,  8,  9, 10])"
      ]
     },
     "execution_count": 45,
     "metadata": {},
     "output_type": "execute_result"
    }
   ],
   "execution_count": 45
  },
  {
   "metadata": {
    "ExecuteTime": {
     "end_time": "2025-10-20T12:36:20.191269Z",
     "start_time": "2025-10-20T12:36:20.187646Z"
    }
   },
   "cell_type": "code",
   "source": "arr.dtype",
   "id": "3bd9e998991a5fbc",
   "outputs": [
    {
     "data": {
      "text/plain": [
       "dtype('int64')"
      ]
     },
     "execution_count": 46,
     "metadata": {},
     "output_type": "execute_result"
    }
   ],
   "execution_count": 46
  },
  {
   "metadata": {
    "ExecuteTime": {
     "end_time": "2025-10-20T12:36:21.756898Z",
     "start_time": "2025-10-20T12:36:21.752194Z"
    }
   },
   "cell_type": "code",
   "source": [
    "arr = np.arange(1, 11, dtype=np.float64)\n",
    "arr"
   ],
   "id": "e00c6b3d7922afff",
   "outputs": [
    {
     "data": {
      "text/plain": [
       "array([ 1.,  2.,  3.,  4.,  5.,  6.,  7.,  8.,  9., 10.])"
      ]
     },
     "execution_count": 47,
     "metadata": {},
     "output_type": "execute_result"
    }
   ],
   "execution_count": 47
  },
  {
   "metadata": {
    "ExecuteTime": {
     "end_time": "2025-10-20T12:36:22.959982Z",
     "start_time": "2025-10-20T12:36:22.956008Z"
    }
   },
   "cell_type": "code",
   "source": "arr.dtype",
   "id": "22a88c2268319b06",
   "outputs": [
    {
     "data": {
      "text/plain": [
       "dtype('float64')"
      ]
     },
     "execution_count": 48,
     "metadata": {},
     "output_type": "execute_result"
    }
   ],
   "execution_count": 48
  },
  {
   "metadata": {
    "ExecuteTime": {
     "end_time": "2025-10-20T12:38:25.682695Z",
     "start_time": "2025-10-20T12:38:25.679127Z"
    }
   },
   "cell_type": "code",
   "source": [
    "# reshape() - zmiana kształtu\n",
    "arr = np.arange(12)\n",
    "print(arr)"
   ],
   "id": "3a796b9ab0f848b3",
   "outputs": [
    {
     "name": "stdout",
     "output_type": "stream",
     "text": [
      "[ 0  1  2  3  4  5  6  7  8  9 10 11]\n"
     ]
    }
   ],
   "execution_count": 49
  },
  {
   "metadata": {
    "ExecuteTime": {
     "end_time": "2025-10-20T12:38:49.874092Z",
     "start_time": "2025-10-20T12:38:49.868266Z"
    }
   },
   "cell_type": "code",
   "source": [
    "new_arr = arr.reshape(4, 3)\n",
    "new_arr"
   ],
   "id": "7ef70a7132fbb669",
   "outputs": [
    {
     "data": {
      "text/plain": [
       "array([[ 0,  1,  2],\n",
       "       [ 3,  4,  5],\n",
       "       [ 6,  7,  8],\n",
       "       [ 9, 10, 11]])"
      ]
     },
     "execution_count": 50,
     "metadata": {},
     "output_type": "execute_result"
    }
   ],
   "execution_count": 50
  },
  {
   "metadata": {
    "ExecuteTime": {
     "end_time": "2025-10-20T12:39:06.630051Z",
     "start_time": "2025-10-20T12:39:06.626418Z"
    }
   },
   "cell_type": "code",
   "source": "print(new_arr)",
   "id": "634ce45b7217093a",
   "outputs": [
    {
     "name": "stdout",
     "output_type": "stream",
     "text": [
      "[[ 0  1  2]\n",
      " [ 3  4  5]\n",
      " [ 6  7  8]\n",
      " [ 9 10 11]]\n"
     ]
    }
   ],
   "execution_count": 51
  },
  {
   "metadata": {
    "ExecuteTime": {
     "end_time": "2025-10-20T12:39:34.723387Z",
     "start_time": "2025-10-20T12:39:34.720834Z"
    }
   },
   "cell_type": "code",
   "source": "new_arr = arr.reshape(3, 4)",
   "id": "dfabe02463a175e2",
   "outputs": [],
   "execution_count": 52
  },
  {
   "metadata": {
    "ExecuteTime": {
     "end_time": "2025-10-20T12:39:44.205259Z",
     "start_time": "2025-10-20T12:39:44.201347Z"
    }
   },
   "cell_type": "code",
   "source": "print(new_arr)",
   "id": "a04800eee0a86504",
   "outputs": [
    {
     "name": "stdout",
     "output_type": "stream",
     "text": [
      "[[ 0  1  2  3]\n",
      " [ 4  5  6  7]\n",
      " [ 8  9 10 11]]\n"
     ]
    }
   ],
   "execution_count": 53
  },
  {
   "metadata": {
    "ExecuteTime": {
     "end_time": "2025-10-20T12:40:07.513268Z",
     "start_time": "2025-10-20T12:40:07.489453Z"
    }
   },
   "cell_type": "code",
   "source": "new_arr = arr.reshape(3, 5)",
   "id": "76be8602f08288d",
   "outputs": [
    {
     "ename": "ValueError",
     "evalue": "cannot reshape array of size 12 into shape (3,5)",
     "output_type": "error",
     "traceback": [
      "\u001B[31m---------------------------------------------------------------------------\u001B[39m",
      "\u001B[31mValueError\u001B[39m                                Traceback (most recent call last)",
      "\u001B[36mCell\u001B[39m\u001B[36m \u001B[39m\u001B[32mIn[54]\u001B[39m\u001B[32m, line 1\u001B[39m\n\u001B[32m----> \u001B[39m\u001B[32m1\u001B[39m new_arr = \u001B[43marr\u001B[49m\u001B[43m.\u001B[49m\u001B[43mreshape\u001B[49m\u001B[43m(\u001B[49m\u001B[32;43m3\u001B[39;49m\u001B[43m,\u001B[49m\u001B[43m \u001B[49m\u001B[32;43m5\u001B[39;49m\u001B[43m)\u001B[49m\n",
      "\u001B[31mValueError\u001B[39m: cannot reshape array of size 12 into shape (3,5)"
     ]
    }
   ],
   "execution_count": 54
  },
  {
   "metadata": {
    "ExecuteTime": {
     "end_time": "2025-10-20T12:40:41.780770Z",
     "start_time": "2025-10-20T12:40:41.755521Z"
    }
   },
   "cell_type": "code",
   "source": "new_arr = arr.reshape(3, 3)",
   "id": "5be0f28b7cff9304",
   "outputs": [
    {
     "ename": "ValueError",
     "evalue": "cannot reshape array of size 12 into shape (3,3)",
     "output_type": "error",
     "traceback": [
      "\u001B[31m---------------------------------------------------------------------------\u001B[39m",
      "\u001B[31mValueError\u001B[39m                                Traceback (most recent call last)",
      "\u001B[36mCell\u001B[39m\u001B[36m \u001B[39m\u001B[32mIn[55]\u001B[39m\u001B[32m, line 1\u001B[39m\n\u001B[32m----> \u001B[39m\u001B[32m1\u001B[39m new_arr = \u001B[43marr\u001B[49m\u001B[43m.\u001B[49m\u001B[43mreshape\u001B[49m\u001B[43m(\u001B[49m\u001B[32;43m3\u001B[39;49m\u001B[43m,\u001B[49m\u001B[32;43m3\u001B[39;49m\u001B[43m)\u001B[49m\n",
      "\u001B[31mValueError\u001B[39m: cannot reshape array of size 12 into shape (3,3)"
     ]
    }
   ],
   "execution_count": 55
  },
  {
   "metadata": {},
   "cell_type": "markdown",
   "source": [
    "-------\n",
    "### ravel() - zwraca \"widok\" - operacje wpłynie na oryginalne dane\\\n",
    "### flatten() - zwraca kopię, zmiany nie wpłyną na oryginalną tablicę"
   ],
   "id": "c87a021586de8bf4"
  },
  {
   "metadata": {
    "ExecuteTime": {
     "end_time": "2025-10-20T12:42:25.870964Z",
     "start_time": "2025-10-20T12:42:25.867417Z"
    }
   },
   "cell_type": "code",
   "source": "print(new_arr.ravel())",
   "id": "efa861858aa8fc44",
   "outputs": [
    {
     "name": "stdout",
     "output_type": "stream",
     "text": [
      "[ 0  1  2  3  4  5  6  7  8  9 10 11]\n"
     ]
    }
   ],
   "execution_count": 56
  },
  {
   "metadata": {
    "ExecuteTime": {
     "end_time": "2025-10-20T12:42:46.824699Z",
     "start_time": "2025-10-20T12:42:46.821341Z"
    }
   },
   "cell_type": "code",
   "source": "print(new_arr.flatten())",
   "id": "f5937b7ccbee136d",
   "outputs": [
    {
     "name": "stdout",
     "output_type": "stream",
     "text": [
      "[ 0  1  2  3  4  5  6  7  8  9 10 11]\n"
     ]
    }
   ],
   "execution_count": 58
  },
  {
   "metadata": {
    "ExecuteTime": {
     "end_time": "2025-10-20T12:43:19.514553Z",
     "start_time": "2025-10-20T12:43:19.462267Z"
    }
   },
   "cell_type": "code",
   "source": [
    "flat = new_arr.flatten()\n",
    "rav = new_arr.ravel()"
   ],
   "id": "39d162584981c391",
   "outputs": [],
   "execution_count": 59
  },
  {
   "metadata": {
    "ExecuteTime": {
     "end_time": "2025-10-20T12:44:06.033442Z",
     "start_time": "2025-10-20T12:44:06.030874Z"
    }
   },
   "cell_type": "code",
   "source": [
    "flat[0] = 999  # kopia\n",
    "rav[1] = 888  # widok"
   ],
   "id": "32f64263504d0cb7",
   "outputs": [],
   "execution_count": 61
  },
  {
   "metadata": {
    "ExecuteTime": {
     "end_time": "2025-10-20T12:44:07.314486Z",
     "start_time": "2025-10-20T12:44:07.311457Z"
    }
   },
   "cell_type": "code",
   "source": "print(new_arr)  # zmiana widoku dokonała zmiany w oryginalnehj tablicy",
   "id": "4b893b192f870015",
   "outputs": [
    {
     "name": "stdout",
     "output_type": "stream",
     "text": [
      "[[  0 888   2   3]\n",
      " [  4   5   6   7]\n",
      " [  8   9  10  11]]\n"
     ]
    }
   ],
   "execution_count": 62
  },
  {
   "metadata": {},
   "cell_type": "markdown",
   "source": [
    "-----\n",
    "### transpose() - zamienia osie"
   ],
   "id": "1d47943d21f4e26a"
  },
  {
   "metadata": {
    "ExecuteTime": {
     "end_time": "2025-10-20T12:45:46.211227Z",
     "start_time": "2025-10-20T12:45:46.207138Z"
    }
   },
   "cell_type": "code",
   "source": "print(new_arr.transpose())",
   "id": "1ce66a9d1cee7486",
   "outputs": [
    {
     "name": "stdout",
     "output_type": "stream",
     "text": [
      "[[  0   4   8]\n",
      " [888   5   9]\n",
      " [  2   6  10]\n",
      " [  3   7  11]]\n"
     ]
    }
   ],
   "execution_count": 63
  },
  {
   "metadata": {},
   "cell_type": "markdown",
   "source": [
    "-----\n",
    "### resize() - zmiana rozmiaru tablicy\n",
    "\n",
    "zmienia oryginalną tablicę (in-place)\\\n",
    "brakujące eleemnty uzupełnia zerami"
   ],
   "id": "199e7449559076b1"
  },
  {
   "metadata": {
    "ExecuteTime": {
     "end_time": "2025-10-20T12:47:03.292234Z",
     "start_time": "2025-10-20T12:47:03.255209Z"
    }
   },
   "cell_type": "code",
   "source": [
    "new_arr.resize(1, 12)\n",
    "new_arr"
   ],
   "id": "fe3df7fe34a18018",
   "outputs": [
    {
     "data": {
      "text/plain": [
       "array([[  0, 888,   2,   3,   4,   5,   6,   7,   8,   9,  10,  11]])"
      ]
     },
     "execution_count": 64,
     "metadata": {},
     "output_type": "execute_result"
    }
   ],
   "execution_count": 64
  },
  {
   "metadata": {
    "ExecuteTime": {
     "end_time": "2025-10-20T12:47:12.798300Z",
     "start_time": "2025-10-20T12:47:12.794582Z"
    }
   },
   "cell_type": "code",
   "source": "print(new_arr)",
   "id": "3d76fe7757e23d51",
   "outputs": [
    {
     "name": "stdout",
     "output_type": "stream",
     "text": [
      "[[  0 888   2   3   4   5   6   7   8   9  10  11]]\n"
     ]
    }
   ],
   "execution_count": 65
  },
  {
   "metadata": {
    "ExecuteTime": {
     "end_time": "2025-10-20T12:49:03.159898Z",
     "start_time": "2025-10-20T12:49:03.153191Z"
    }
   },
   "cell_type": "code",
   "source": [
    "arr1 = np.arange(1, 10).reshape(3, 3)\n",
    "print(arr1)"
   ],
   "id": "e85fce5f36f50e3c",
   "outputs": [
    {
     "name": "stdout",
     "output_type": "stream",
     "text": [
      "[[1 2 3]\n",
      " [4 5 6]\n",
      " [7 8 9]]\n"
     ]
    }
   ],
   "execution_count": 66
  },
  {
   "metadata": {},
   "cell_type": "markdown",
   "source": [
    "# Broadcasting\n",
    "\n",
    "### Wykonuje operację, na wszystkich elementach macierzy\n",
    "\n",
    "# Zasady brodcastingu\n",
    "\n",
    "Wymiary muszą byc zgodne.\n",
    "1. Dwa wymiary są zgodne jeśli są równe, lub jeden z nich ma wymiar 1\n",
    "2. Jeśli nie spełniają tych warunków -> ValueError"
   ],
   "id": "77cd2cad1b7d38c7"
  },
  {
   "metadata": {
    "ExecuteTime": {
     "end_time": "2025-10-20T12:52:10.296874Z",
     "start_time": "2025-10-20T12:52:10.292840Z"
    }
   },
   "cell_type": "code",
   "source": [
    "lista = [1, 2, 3]\n",
    "print(2 * lista)"
   ],
   "id": "bd2019e380846d3a",
   "outputs": [
    {
     "name": "stdout",
     "output_type": "stream",
     "text": [
      "[1, 2, 3, 1, 2, 3]\n"
     ]
    }
   ],
   "execution_count": 67
  },
  {
   "metadata": {
    "ExecuteTime": {
     "end_time": "2025-10-20T12:53:00.703031Z",
     "start_time": "2025-10-20T12:53:00.675970Z"
    }
   },
   "cell_type": "code",
   "source": "print(list(map(lambda x: x * 2, lista)))",
   "id": "5411c93a7c4e481d",
   "outputs": [
    {
     "name": "stdout",
     "output_type": "stream",
     "text": [
      "[2, 4, 6]\n"
     ]
    }
   ],
   "execution_count": 68
  },
  {
   "metadata": {
    "ExecuteTime": {
     "end_time": "2025-10-20T12:54:12.102495Z",
     "start_time": "2025-10-20T12:54:12.099116Z"
    }
   },
   "cell_type": "code",
   "source": "print(arr1)",
   "id": "9f20f580857ba66d",
   "outputs": [
    {
     "name": "stdout",
     "output_type": "stream",
     "text": [
      "[[1 2 3]\n",
      " [4 5 6]\n",
      " [7 8 9]]\n"
     ]
    }
   ],
   "execution_count": 69
  },
  {
   "metadata": {
    "ExecuteTime": {
     "end_time": "2025-10-20T12:54:36.180992Z",
     "start_time": "2025-10-20T12:54:36.178474Z"
    }
   },
   "cell_type": "code",
   "source": "arr2 = 2 * arr1",
   "id": "a29646cc7624aa63",
   "outputs": [],
   "execution_count": 71
  },
  {
   "metadata": {
    "ExecuteTime": {
     "end_time": "2025-10-20T12:54:43.808766Z",
     "start_time": "2025-10-20T12:54:43.805278Z"
    }
   },
   "cell_type": "code",
   "source": "print(arr2)",
   "id": "68c6a1d07ef0efba",
   "outputs": [
    {
     "name": "stdout",
     "output_type": "stream",
     "text": [
      "[[ 2  4  6]\n",
      " [ 8 10 12]\n",
      " [14 16 18]]\n"
     ]
    }
   ],
   "execution_count": 72
  },
  {
   "metadata": {
    "ExecuteTime": {
     "end_time": "2025-10-20T12:55:19.393469Z",
     "start_time": "2025-10-20T12:55:19.387525Z"
    }
   },
   "cell_type": "code",
   "source": [
    "arrx = arr1 + arr2\n",
    "print(arrx)"
   ],
   "id": "6a4e8e21a97469b5",
   "outputs": [
    {
     "name": "stdout",
     "output_type": "stream",
     "text": [
      "[[ 3  6  9]\n",
      " [12 15 18]\n",
      " [21 24 27]]\n"
     ]
    }
   ],
   "execution_count": 73
  },
  {
   "metadata": {},
   "cell_type": "markdown",
   "source": [
    "--------\n",
    "hstack() - skleja tablice poziomo"
   ],
   "id": "681e5bcfbf0bc838"
  },
  {
   "metadata": {
    "ExecuteTime": {
     "end_time": "2025-10-20T12:59:17.780240Z",
     "start_time": "2025-10-20T12:59:17.776393Z"
    }
   },
   "cell_type": "code",
   "source": "print(arr1)",
   "id": "dd446cecec327d7f",
   "outputs": [
    {
     "name": "stdout",
     "output_type": "stream",
     "text": [
      "[[1 2 3]\n",
      " [4 5 6]\n",
      " [7 8 9]]\n"
     ]
    }
   ],
   "execution_count": 75
  },
  {
   "metadata": {
    "ExecuteTime": {
     "end_time": "2025-10-20T12:59:25.670763Z",
     "start_time": "2025-10-20T12:59:25.667033Z"
    }
   },
   "cell_type": "code",
   "source": "print(arr2)",
   "id": "989250f5bd61341d",
   "outputs": [
    {
     "name": "stdout",
     "output_type": "stream",
     "text": [
      "[[ 2  4  6]\n",
      " [ 8 10 12]\n",
      " [14 16 18]]\n"
     ]
    }
   ],
   "execution_count": 76
  },
  {
   "metadata": {
    "ExecuteTime": {
     "end_time": "2025-10-20T12:59:50.728402Z",
     "start_time": "2025-10-20T12:59:50.724806Z"
    }
   },
   "cell_type": "code",
   "source": [
    "arr3 = np.hstack((arr1, arr2))\n",
    "print(arr3)"
   ],
   "id": "c8b46c9f508fcb90",
   "outputs": [
    {
     "name": "stdout",
     "output_type": "stream",
     "text": [
      "[[ 1  2  3  2  4  6]\n",
      " [ 4  5  6  8 10 12]\n",
      " [ 7  8  9 14 16 18]]\n"
     ]
    }
   ],
   "execution_count": 77
  },
  {
   "metadata": {},
   "cell_type": "markdown",
   "source": "vstack() - skleja poziomo",
   "id": "d06f449d93dac9af"
  },
  {
   "metadata": {
    "ExecuteTime": {
     "end_time": "2025-10-20T13:01:01.449516Z",
     "start_time": "2025-10-20T13:01:01.433708Z"
    }
   },
   "cell_type": "code",
   "source": [
    "arr4 = np.vstack((arr1, arr2))\n",
    "print(arr4)"
   ],
   "id": "7ed482efbdaaa20f",
   "outputs": [
    {
     "name": "stdout",
     "output_type": "stream",
     "text": [
      "[[ 1  2  3]\n",
      " [ 4  5  6]\n",
      " [ 7  8  9]\n",
      " [ 2  4  6]\n",
      " [ 8 10 12]\n",
      " [14 16 18]]\n"
     ]
    }
   ],
   "execution_count": 78
  },
  {
   "metadata": {},
   "cell_type": "markdown",
   "source": "concatenate() - sklejanie w wybranej osi",
   "id": "e2cc15134f7d6a56"
  },
  {
   "metadata": {
    "ExecuteTime": {
     "end_time": "2025-10-20T13:02:14.807703Z",
     "start_time": "2025-10-20T13:02:14.803660Z"
    }
   },
   "cell_type": "code",
   "source": [
    "arr5 = np.concatenate((arr1, arr2), axis=0)  # jako kolejne wiersze\n",
    "print(arr5)"
   ],
   "id": "9352d9f4ac46ce2",
   "outputs": [
    {
     "name": "stdout",
     "output_type": "stream",
     "text": [
      "[[ 1  2  3]\n",
      " [ 4  5  6]\n",
      " [ 7  8  9]\n",
      " [ 2  4  6]\n",
      " [ 8 10 12]\n",
      " [14 16 18]]\n"
     ]
    }
   ],
   "execution_count": 79
  },
  {
   "metadata": {
    "ExecuteTime": {
     "end_time": "2025-10-20T13:03:16.810779Z",
     "start_time": "2025-10-20T13:03:16.807203Z"
    }
   },
   "cell_type": "code",
   "source": [
    "arr6 = np.concatenate((arr1, arr2), axis=1)  # jako kolejne kolumny\n",
    "print(arr6)"
   ],
   "id": "2ac20dedf91254f1",
   "outputs": [
    {
     "name": "stdout",
     "output_type": "stream",
     "text": [
      "[[ 1  2  3  2  4  6]\n",
      " [ 4  5  6  8 10 12]\n",
      " [ 7  8  9 14 16 18]]\n"
     ]
    }
   ],
   "execution_count": 80
  },
  {
   "metadata": {
    "ExecuteTime": {
     "end_time": "2025-10-20T13:05:11.597099Z",
     "start_time": "2025-10-20T13:05:11.593681Z"
    }
   },
   "cell_type": "code",
   "source": [
    "# Tworzymy tabklicę z sekwencji\n",
    "arre1 = np.array([1, 2, 3])\n",
    "print(arre1)"
   ],
   "id": "807323c61a1352ba",
   "outputs": [
    {
     "name": "stdout",
     "output_type": "stream",
     "text": [
      "[1 2 3]\n"
     ]
    }
   ],
   "execution_count": 83
  },
  {
   "metadata": {
    "ExecuteTime": {
     "end_time": "2025-10-20T13:05:12.714514Z",
     "start_time": "2025-10-20T13:05:12.711488Z"
    }
   },
   "cell_type": "code",
   "source": [
    "arre2 = np.array([4, 5, 6])\n",
    "print(arre2)"
   ],
   "id": "1be93822770faedb",
   "outputs": [
    {
     "name": "stdout",
     "output_type": "stream",
     "text": [
      "[4 5 6]\n"
     ]
    }
   ],
   "execution_count": 84
  },
  {
   "metadata": {
    "ExecuteTime": {
     "end_time": "2025-10-20T13:05:14.223903Z",
     "start_time": "2025-10-20T13:05:14.219913Z"
    }
   },
   "cell_type": "code",
   "source": "np.concatenate((arre1, arre2), axis=0)",
   "id": "d953af0c007d3dd8",
   "outputs": [
    {
     "data": {
      "text/plain": [
       "array([1, 2, 3, 4, 5, 6])"
      ]
     },
     "execution_count": 85,
     "metadata": {},
     "output_type": "execute_result"
    }
   ],
   "execution_count": 85
  },
  {
   "metadata": {
    "ExecuteTime": {
     "end_time": "2025-10-20T13:05:36.139793Z",
     "start_time": "2025-10-20T13:05:36.113861Z"
    }
   },
   "cell_type": "code",
   "source": "np.concatenate((arre1, arre2), axis=1)  # nie ma drugiego wymiaru, więc nie potrafi skleic wg tej osi",
   "id": "a8f7a8f22d0a88cf",
   "outputs": [
    {
     "ename": "AxisError",
     "evalue": "axis 1 is out of bounds for array of dimension 1",
     "output_type": "error",
     "traceback": [
      "\u001B[31m---------------------------------------------------------------------------\u001B[39m",
      "\u001B[31mAxisError\u001B[39m                                 Traceback (most recent call last)",
      "\u001B[36mCell\u001B[39m\u001B[36m \u001B[39m\u001B[32mIn[86]\u001B[39m\u001B[32m, line 1\u001B[39m\n\u001B[32m----> \u001B[39m\u001B[32m1\u001B[39m \u001B[43mnp\u001B[49m\u001B[43m.\u001B[49m\u001B[43mconcatenate\u001B[49m\u001B[43m(\u001B[49m\u001B[43m(\u001B[49m\u001B[43marre1\u001B[49m\u001B[43m,\u001B[49m\u001B[43m \u001B[49m\u001B[43marre2\u001B[49m\u001B[43m)\u001B[49m\u001B[43m,\u001B[49m\u001B[43m \u001B[49m\u001B[43maxis\u001B[49m\u001B[43m=\u001B[49m\u001B[32;43m1\u001B[39;49m\u001B[43m)\u001B[49m\n",
      "\u001B[31mAxisError\u001B[39m: axis 1 is out of bounds for array of dimension 1"
     ]
    }
   ],
   "execution_count": 86
  },
  {
   "metadata": {
    "ExecuteTime": {
     "end_time": "2025-10-20T13:06:30.027308Z",
     "start_time": "2025-10-20T13:06:30.023126Z"
    }
   },
   "cell_type": "code",
   "source": "arre1.shape",
   "id": "965d3786652941ac",
   "outputs": [
    {
     "data": {
      "text/plain": [
       "(3,)"
      ]
     },
     "execution_count": 88,
     "metadata": {},
     "output_type": "execute_result"
    }
   ],
   "execution_count": 88
  },
  {
   "metadata": {
    "ExecuteTime": {
     "end_time": "2025-10-20T13:06:40.410649Z",
     "start_time": "2025-10-20T13:06:40.406802Z"
    }
   },
   "cell_type": "code",
   "source": "arre2.shape",
   "id": "e98c382e169db6a0",
   "outputs": [
    {
     "data": {
      "text/plain": [
       "(3,)"
      ]
     },
     "execution_count": 89,
     "metadata": {},
     "output_type": "execute_result"
    }
   ],
   "execution_count": 89
  }
 ],
 "metadata": {
  "kernelspec": {
   "display_name": "Python 3",
   "language": "python",
   "name": "python3"
  },
  "language_info": {
   "codemirror_mode": {
    "name": "ipython",
    "version": 2
   },
   "file_extension": ".py",
   "mimetype": "text/x-python",
   "name": "python",
   "nbconvert_exporter": "python",
   "pygments_lexer": "ipython2",
   "version": "2.7.6"
  }
 },
 "nbformat": 4,
 "nbformat_minor": 5
}
