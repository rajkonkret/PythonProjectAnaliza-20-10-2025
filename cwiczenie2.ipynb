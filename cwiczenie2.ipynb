{
 "cells": [
  {
   "metadata": {},
   "cell_type": "markdown",
   "source": [
    "# Biblioteka NumPy\n",
    "Napisana w C do szybkich operacji na tablicach\\\n",
    "ndarray - tablica w NumPy"
   ],
   "id": "5014f2e58d7095da"
  },
  {
   "cell_type": "code",
   "id": "initial_id",
   "metadata": {
    "collapsed": true,
    "ExecuteTime": {
     "end_time": "2025-10-20T12:13:14.366347Z",
     "start_time": "2025-10-20T12:12:58.014439Z"
    }
   },
   "source": [
    "# instalacja biblioteki\n",
    "!pip install numpy"
   ],
   "outputs": [
    {
     "name": "stdout",
     "output_type": "stream",
     "text": [
      "Collecting numpy\n",
      "  Downloading numpy-2.3.4-cp313-cp313-win_amd64.whl.metadata (60 kB)\n",
      "Downloading numpy-2.3.4-cp313-cp313-win_amd64.whl (12.8 MB)\n",
      "   ---------------------------------------- 0.0/12.8 MB ? eta -:--:--\n",
      "   - -------------------------------------- 0.5/12.8 MB 9.2 MB/s eta 0:00:02\n",
      "   ---------------------------------------  12.6/12.8 MB 35.5 MB/s eta 0:00:01\n",
      "   ---------------------------------------  12.6/12.8 MB 35.5 MB/s eta 0:00:01\n",
      "   ---------------------------------------- 12.8/12.8 MB 11.2 MB/s eta 0:00:00\n",
      "Installing collected packages: numpy\n",
      "Successfully installed numpy-2.3.4\n"
     ]
    },
    {
     "name": "stderr",
     "output_type": "stream",
     "text": [
      "\n",
      "[notice] A new release of pip is available: 25.1.1 -> 25.2\n",
      "[notice] To update, run: python.exe -m pip install --upgrade pip\n"
     ]
    }
   ],
   "execution_count": 2
  },
  {
   "metadata": {},
   "cell_type": "markdown",
   "source": "",
   "id": "d2ed5090d325a9d7"
  },
  {
   "metadata": {
    "ExecuteTime": {
     "end_time": "2025-10-20T12:13:46.126245Z",
     "start_time": "2025-10-20T12:13:45.387303Z"
    }
   },
   "cell_type": "code",
   "source": "import numpy as np  # alias",
   "id": "bad9b63953972612",
   "outputs": [],
   "execution_count": 3
  },
  {
   "metadata": {
    "ExecuteTime": {
     "end_time": "2025-10-20T12:14:19.834355Z",
     "start_time": "2025-10-20T12:14:19.828779Z"
    }
   },
   "cell_type": "code",
   "source": "print(np.__version__)",
   "id": "a6cb198ce88a06e6",
   "outputs": [
    {
     "name": "stdout",
     "output_type": "stream",
     "text": [
      "2.3.4\n"
     ]
    }
   ],
   "execution_count": 4
  },
  {
   "metadata": {
    "ExecuteTime": {
     "end_time": "2025-10-20T12:14:58.248142Z",
     "start_time": "2025-10-20T12:14:58.241498Z"
    }
   },
   "cell_type": "code",
   "source": [
    "lista = [2, 4, 6, 8, 10]\n",
    "lista"
   ],
   "id": "710cda5692e3cde6",
   "outputs": [
    {
     "data": {
      "text/plain": [
       "[2, 4, 6, 8, 10]"
      ]
     },
     "execution_count": 5,
     "metadata": {},
     "output_type": "execute_result"
    }
   ],
   "execution_count": 5
  },
  {
   "metadata": {
    "ExecuteTime": {
     "end_time": "2025-10-20T12:15:22.580166Z",
     "start_time": "2025-10-20T12:15:22.574794Z"
    }
   },
   "cell_type": "code",
   "source": [
    "a = np.array(lista)\n",
    "a"
   ],
   "id": "86ccffbb9f59c6e3",
   "outputs": [
    {
     "data": {
      "text/plain": [
       "array([ 2,  4,  6,  8, 10])"
      ]
     },
     "execution_count": 6,
     "metadata": {},
     "output_type": "execute_result"
    }
   ],
   "execution_count": 6
  },
  {
   "metadata": {
    "ExecuteTime": {
     "end_time": "2025-10-20T12:15:52.096647Z",
     "start_time": "2025-10-20T12:15:52.092346Z"
    }
   },
   "cell_type": "code",
   "source": "a.dtype  # typ danych",
   "id": "7f577df147e363c2",
   "outputs": [
    {
     "data": {
      "text/plain": [
       "dtype('int64')"
      ]
     },
     "execution_count": 7,
     "metadata": {},
     "output_type": "execute_result"
    }
   ],
   "execution_count": 7
  },
  {
   "metadata": {},
   "cell_type": "markdown",
   "source": "int64 - int 8 bajtowy",
   "id": "85b6aedb22cf27c9"
  },
  {
   "metadata": {
    "ExecuteTime": {
     "end_time": "2025-10-20T12:16:57.585472Z",
     "start_time": "2025-10-20T12:16:57.581329Z"
    }
   },
   "cell_type": "code",
   "source": "print(np.iinfo(np.int64))",
   "id": "40ac6ca1c080e2a4",
   "outputs": [
    {
     "name": "stdout",
     "output_type": "stream",
     "text": [
      "Machine parameters for int64\n",
      "---------------------------------------------------------------\n",
      "min = -9223372036854775808\n",
      "max = 9223372036854775807\n",
      "---------------------------------------------------------------\n",
      "\n"
     ]
    }
   ],
   "execution_count": 8
  },
  {
   "metadata": {
    "ExecuteTime": {
     "end_time": "2025-10-20T12:18:12.508615Z",
     "start_time": "2025-10-20T12:18:12.505300Z"
    }
   },
   "cell_type": "code",
   "source": "print(type(a))",
   "id": "20e5553a65f3f031",
   "outputs": [
    {
     "name": "stdout",
     "output_type": "stream",
     "text": [
      "<class 'numpy.ndarray'>\n"
     ]
    }
   ],
   "execution_count": 9
  },
  {
   "metadata": {
    "ExecuteTime": {
     "end_time": "2025-10-20T12:18:52.434335Z",
     "start_time": "2025-10-20T12:18:52.430617Z"
    }
   },
   "cell_type": "code",
   "source": [
    "# kształt\n",
    "a.shape"
   ],
   "id": "d3e51ca91d37aa4d",
   "outputs": [
    {
     "data": {
      "text/plain": [
       "(5,)"
      ]
     },
     "execution_count": 11,
     "metadata": {},
     "output_type": "execute_result"
    }
   ],
   "execution_count": 11
  },
  {
   "metadata": {
    "ExecuteTime": {
     "end_time": "2025-10-20T12:19:39.532333Z",
     "start_time": "2025-10-20T12:19:39.504701Z"
    }
   },
   "cell_type": "code",
   "source": [
    "p = np.zeros((3, 3))\n",
    "p"
   ],
   "id": "f106fd4ce207b88b",
   "outputs": [
    {
     "data": {
      "text/plain": [
       "array([[0., 0., 0.],\n",
       "       [0., 0., 0.],\n",
       "       [0., 0., 0.]])"
      ]
     },
     "execution_count": 12,
     "metadata": {},
     "output_type": "execute_result"
    }
   ],
   "execution_count": 12
  },
  {
   "metadata": {
    "ExecuteTime": {
     "end_time": "2025-10-20T12:20:03.256608Z",
     "start_time": "2025-10-20T12:20:03.253308Z"
    }
   },
   "cell_type": "code",
   "source": "print(p)",
   "id": "625933a59e1ffa76",
   "outputs": [
    {
     "name": "stdout",
     "output_type": "stream",
     "text": [
      "[[0. 0. 0.]\n",
      " [0. 0. 0.]\n",
      " [0. 0. 0.]]\n"
     ]
    }
   ],
   "execution_count": 14
  },
  {
   "metadata": {
    "ExecuteTime": {
     "end_time": "2025-10-20T12:20:57.896321Z",
     "start_time": "2025-10-20T12:20:57.892638Z"
    }
   },
   "cell_type": "code",
   "source": "print(p.dtype)",
   "id": "1cd70dd330363a5a",
   "outputs": [
    {
     "name": "stdout",
     "output_type": "stream",
     "text": [
      "float64\n"
     ]
    }
   ],
   "execution_count": 15
  },
  {
   "metadata": {
    "ExecuteTime": {
     "end_time": "2025-10-20T12:21:50.901998Z",
     "start_time": "2025-10-20T12:21:50.898062Z"
    }
   },
   "cell_type": "code",
   "source": "print(np.finfo(np.float64))",
   "id": "ec8baa27ebf7b8ad",
   "outputs": [
    {
     "name": "stdout",
     "output_type": "stream",
     "text": [
      "Machine parameters for float64\n",
      "---------------------------------------------------------------\n",
      "precision =  15   resolution = 1.0000000000000001e-15\n",
      "machep =    -52   eps =        2.2204460492503131e-16\n",
      "negep =     -53   epsneg =     1.1102230246251565e-16\n",
      "minexp =  -1022   tiny =       2.2250738585072014e-308\n",
      "maxexp =   1024   max =        1.7976931348623157e+308\n",
      "nexp =       11   min =        -max\n",
      "smallest_normal = 2.2250738585072014e-308   smallest_subnormal = 4.9406564584124654e-324\n",
      "---------------------------------------------------------------\n",
      "\n"
     ]
    }
   ],
   "execution_count": 17
  },
  {
   "metadata": {
    "ExecuteTime": {
     "end_time": "2025-10-20T12:23:16.348886Z",
     "start_time": "2025-10-20T12:23:16.343321Z"
    }
   },
   "cell_type": "code",
   "source": [
    "q = np.ones((2, 2))\n",
    "print(q)\n",
    "q.dtype"
   ],
   "id": "973106ac58371741",
   "outputs": [
    {
     "name": "stdout",
     "output_type": "stream",
     "text": [
      "[[1. 1.]\n",
      " [1. 1.]]\n"
     ]
    },
    {
     "data": {
      "text/plain": [
       "dtype('float64')"
      ]
     },
     "execution_count": 18,
     "metadata": {},
     "output_type": "execute_result"
    }
   ],
   "execution_count": 18
  },
  {
   "metadata": {
    "ExecuteTime": {
     "end_time": "2025-10-20T12:23:57.691274Z",
     "start_time": "2025-10-20T12:23:57.676804Z"
    }
   },
   "cell_type": "code",
   "source": [
    "r = np.full((2, 2), 4)\n",
    "print(r)\n",
    "r.dtype"
   ],
   "id": "58036a3f963c796b",
   "outputs": [
    {
     "name": "stdout",
     "output_type": "stream",
     "text": [
      "[[4 4]\n",
      " [4 4]]\n"
     ]
    },
    {
     "data": {
      "text/plain": [
       "dtype('int64')"
      ]
     },
     "execution_count": 19,
     "metadata": {},
     "output_type": "execute_result"
    }
   ],
   "execution_count": 19
  },
  {
   "metadata": {
    "ExecuteTime": {
     "end_time": "2025-10-20T12:24:27.608136Z",
     "start_time": "2025-10-20T12:24:27.602942Z"
    }
   },
   "cell_type": "code",
   "source": [
    "s = np.eye(4)\n",
    "print(s)\n",
    "s.dtype"
   ],
   "id": "6752d7f5c9755540",
   "outputs": [
    {
     "name": "stdout",
     "output_type": "stream",
     "text": [
      "[[1. 0. 0. 0.]\n",
      " [0. 1. 0. 0.]\n",
      " [0. 0. 1. 0.]\n",
      " [0. 0. 0. 1.]]\n"
     ]
    },
    {
     "data": {
      "text/plain": [
       "dtype('float64')"
      ]
     },
     "execution_count": 20,
     "metadata": {},
     "output_type": "execute_result"
    }
   ],
   "execution_count": 20
  }
 ],
 "metadata": {
  "kernelspec": {
   "display_name": "Python 3",
   "language": "python",
   "name": "python3"
  },
  "language_info": {
   "codemirror_mode": {
    "name": "ipython",
    "version": 2
   },
   "file_extension": ".py",
   "mimetype": "text/x-python",
   "name": "python",
   "nbconvert_exporter": "python",
   "pygments_lexer": "ipython2",
   "version": "2.7.6"
  }
 },
 "nbformat": 4,
 "nbformat_minor": 5
}
