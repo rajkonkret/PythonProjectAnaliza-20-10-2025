{
 "cells": [
  {
   "metadata": {},
   "cell_type": "markdown",
   "source": [
    "# Start\n",
    "\n",
    "**pogrubione**\n",
    "\n",
    "standardowy tekst\\\n",
    "nowa linia"
   ],
   "id": "7277180e57bcb4ab"
  },
  {
   "cell_type": "code",
   "id": "initial_id",
   "metadata": {
    "collapsed": true,
    "ExecuteTime": {
     "end_time": "2025-10-20T08:29:38.504968Z",
     "start_time": "2025-10-20T08:29:38.501158Z"
    }
   },
   "source": "print(\"test\")",
   "outputs": [
    {
     "name": "stdout",
     "output_type": "stream",
     "text": [
      "test\n"
     ]
    }
   ],
   "execution_count": 7
  },
  {
   "metadata": {
    "ExecuteTime": {
     "end_time": "2025-10-20T08:36:11.799544Z",
     "start_time": "2025-10-20T08:36:11.794572Z"
    }
   },
   "cell_type": "code",
   "source": [
    "print(\"Test\")\n",
    "print('Test')"
   ],
   "id": "4c9f1b65c11d6900",
   "outputs": [
    {
     "name": "stdout",
     "output_type": "stream",
     "text": [
      "Test\n",
      "Test\n"
     ]
    }
   ],
   "execution_count": 8
  },
  {
   "metadata": {
    "ExecuteTime": {
     "end_time": "2025-10-20T08:36:36.308854Z",
     "start_time": "2025-10-20T08:36:36.304548Z"
    }
   },
   "cell_type": "code",
   "source": "# print('Test\")",
   "id": "42b9edd6bd44fee",
   "outputs": [
    {
     "ename": "SyntaxError",
     "evalue": "unterminated string literal (detected at line 1) (952290598.py, line 1)",
     "output_type": "error",
     "traceback": [
      "  \u001B[36mCell\u001B[39m\u001B[36m \u001B[39m\u001B[32mIn[9]\u001B[39m\u001B[32m, line 1\u001B[39m\n\u001B[31m    \u001B[39m\u001B[31mprint('Test\")\u001B[39m\n          ^\n\u001B[31mSyntaxError\u001B[39m\u001B[31m:\u001B[39m unterminated string literal (detected at line 1)\n"
     ]
    }
   ],
   "execution_count": 9
  },
  {
   "metadata": {},
   "cell_type": "markdown",
   "source": [
    "Zasady czystego kodu w pythonie:\\\n",
    "https://peps.python.org/pep-0008/\n",
    "ctrl alt l - formatowanie kodu"
   ],
   "id": "b7ab6309af79c9da"
  },
  {
   "metadata": {
    "ExecuteTime": {
     "end_time": "2025-10-20T08:40:47.881142Z",
     "start_time": "2025-10-20T08:40:47.877474Z"
    }
   },
   "cell_type": "code",
   "source": [
    "# type() - sprawdzenie typów danych\n",
    "print(type(\"Radek\"))"
   ],
   "id": "23fb8e592b198e8a",
   "outputs": [
    {
     "name": "stdout",
     "output_type": "stream",
     "text": [
      "<class 'str'>\n"
     ]
    }
   ],
   "execution_count": 10
  },
  {
   "metadata": {},
   "cell_type": "markdown",
   "source": "typowanie dynamiczne - sam wnioskuje typ",
   "id": "69c3aa0d1bb7ff91"
  },
  {
   "metadata": {
    "ExecuteTime": {
     "end_time": "2025-10-20T08:43:29.596054Z",
     "start_time": "2025-10-20T08:43:29.591699Z"
    }
   },
   "cell_type": "code",
   "source": "print(\"39\" + \"14\")  # konkatenacja, łączenie tekstów",
   "id": "5ca11d3c3769d648",
   "outputs": [
    {
     "name": "stdout",
     "output_type": "stream",
     "text": [
      "3914\n"
     ]
    }
   ],
   "execution_count": 11
  },
  {
   "metadata": {
    "ExecuteTime": {
     "end_time": "2025-10-20T08:43:56.763182Z",
     "start_time": "2025-10-20T08:43:56.759174Z"
    }
   },
   "cell_type": "code",
   "source": "print(39 + 14)  # matematyczne operacje",
   "id": "82180fb1ce8f2eae",
   "outputs": [
    {
     "name": "stdout",
     "output_type": "stream",
     "text": [
      "53\n"
     ]
    }
   ],
   "execution_count": 12
  },
  {
   "metadata": {
    "ExecuteTime": {
     "end_time": "2025-10-20T08:45:04.546673Z",
     "start_time": "2025-10-20T08:45:04.507943Z"
    }
   },
   "cell_type": "code",
   "source": "print(type(39))  # liczby całkowite, integrer",
   "id": "de6634e50e0532b0",
   "outputs": [
    {
     "name": "stdout",
     "output_type": "stream",
     "text": [
      "<class 'int'>\n"
     ]
    }
   ],
   "execution_count": 13
  },
  {
   "metadata": {
    "ExecuteTime": {
     "end_time": "2025-10-20T08:46:57.775465Z",
     "start_time": "2025-10-20T08:46:57.771908Z"
    }
   },
   "cell_type": "code",
   "source": [
    "import sys\n",
    "\n",
    "print(sys.int_info)"
   ],
   "id": "8028e55aa213d280",
   "outputs": [
    {
     "name": "stdout",
     "output_type": "stream",
     "text": [
      "sys.int_info(bits_per_digit=30, sizeof_digit=4, default_max_str_digits=4300, str_digits_check_threshold=640)\n"
     ]
    }
   ],
   "execution_count": 14
  },
  {
   "metadata": {},
   "cell_type": "code",
   "outputs": [],
   "execution_count": null,
   "source": [
    "# zmienna - pudełko na dane\n",
    "# snake_case"
   ],
   "id": "249ba929f4954612"
  },
  {
   "metadata": {},
   "cell_type": "markdown",
   "source": "Typowanie dynamiczne",
   "id": "c29135efd0cc98b1"
  },
  {
   "metadata": {
    "ExecuteTime": {
     "end_time": "2025-10-20T08:55:22.380939Z",
     "start_time": "2025-10-20T08:55:22.376716Z"
    }
   },
   "cell_type": "code",
   "source": [
    "name = \"Radek\"\n",
    "print(type(name))"
   ],
   "id": "a62f1c00bffa082e",
   "outputs": [
    {
     "name": "stdout",
     "output_type": "stream",
     "text": [
      "<class 'str'>\n"
     ]
    }
   ],
   "execution_count": 15
  },
  {
   "metadata": {
    "ExecuteTime": {
     "end_time": "2025-10-20T08:55:36.240792Z",
     "start_time": "2025-10-20T08:55:36.236898Z"
    }
   },
   "cell_type": "code",
   "source": [
    "name = 90\n",
    "print(type(name))"
   ],
   "id": "e6745f4753418fc5",
   "outputs": [
    {
     "name": "stdout",
     "output_type": "stream",
     "text": [
      "<class 'int'>\n"
     ]
    }
   ],
   "execution_count": 16
  },
  {
   "metadata": {
    "ExecuteTime": {
     "end_time": "2025-10-20T08:56:52.848525Z",
     "start_time": "2025-10-20T08:56:52.844262Z"
    }
   },
   "cell_type": "code",
   "source": [
    "name: str = \"Radek\" # podpowiedz typu\n",
    "print(name)"
   ],
   "id": "e54d829a7531825c",
   "outputs": [
    {
     "name": "stdout",
     "output_type": "stream",
     "text": [
      "Radek\n"
     ]
    }
   ],
   "execution_count": 17
  },
  {
   "metadata": {
    "ExecuteTime": {
     "end_time": "2025-10-20T08:57:19.938717Z",
     "start_time": "2025-10-20T08:57:19.935672Z"
    }
   },
   "cell_type": "code",
   "source": [
    "name = 90\n",
    "print(name)"
   ],
   "id": "1830f4794fc43f2d",
   "outputs": [
    {
     "name": "stdout",
     "output_type": "stream",
     "text": [
      "90\n"
     ]
    }
   ],
   "execution_count": 18
  },
  {
   "metadata": {
    "ExecuteTime": {
     "end_time": "2025-10-20T08:58:26.811602Z",
     "start_time": "2025-10-20T08:58:26.807701Z"
    }
   },
   "cell_type": "code",
   "source": "print(int(\"39\") + int(\"14\")) # rzutowanie na int",
   "id": "70794db8275f42ad",
   "outputs": [
    {
     "name": "stdout",
     "output_type": "stream",
     "text": [
      "53\n"
     ]
    }
   ],
   "execution_count": 19
  },
  {
   "metadata": {
    "ExecuteTime": {
     "end_time": "2025-10-20T08:59:25.895513Z",
     "start_time": "2025-10-20T08:59:25.888703Z"
    }
   },
   "cell_type": "code",
   "source": "print(168 * \"35\")",
   "id": "bd77b0824e06afd0",
   "outputs": [
    {
     "name": "stdout",
     "output_type": "stream",
     "text": [
      "353535353535353535353535353535353535353535353535353535353535353535353535353535353535353535353535353535353535353535353535353535353535353535353535353535353535353535353535353535353535353535353535353535353535353535353535353535353535353535353535353535353535353535353535353535353535353535353535353535353535353535353535353535353535353535353535\n"
     ]
    }
   ],
   "execution_count": 20
  },
  {
   "metadata": {
    "ExecuteTime": {
     "end_time": "2025-10-20T08:59:35.149480Z",
     "start_time": "2025-10-20T08:59:35.146537Z"
    }
   },
   "cell_type": "code",
   "source": "print(168 * 35)",
   "id": "f5b6a9196ace16a",
   "outputs": [
    {
     "name": "stdout",
     "output_type": "stream",
     "text": [
      "5880\n"
     ]
    }
   ],
   "execution_count": 21
  },
  {
   "metadata": {
    "ExecuteTime": {
     "end_time": "2025-10-20T08:59:59.822244Z",
     "start_time": "2025-10-20T08:59:59.818424Z"
    }
   },
   "cell_type": "code",
   "source": "print(str(139))",
   "id": "9388358012b3f9ce",
   "outputs": [
    {
     "name": "stdout",
     "output_type": "stream",
     "text": [
      "139\n"
     ]
    }
   ],
   "execution_count": 22
  },
  {
   "metadata": {
    "ExecuteTime": {
     "end_time": "2025-10-20T09:00:21.679142Z",
     "start_time": "2025-10-20T09:00:21.676238Z"
    }
   },
   "cell_type": "code",
   "source": [
    "age = 56\n",
    "print(age)"
   ],
   "id": "6e60a988ffa17b98",
   "outputs": [
    {
     "name": "stdout",
     "output_type": "stream",
     "text": [
      "56\n"
     ]
    }
   ],
   "execution_count": 23
  }
 ],
 "metadata": {
  "kernelspec": {
   "display_name": "Python 3",
   "language": "python",
   "name": "python3"
  },
  "language_info": {
   "codemirror_mode": {
    "name": "ipython",
    "version": 2
   },
   "file_extension": ".py",
   "mimetype": "text/x-python",
   "name": "python",
   "nbconvert_exporter": "python",
   "pygments_lexer": "ipython2",
   "version": "2.7.6"
  }
 },
 "nbformat": 4,
 "nbformat_minor": 5
}
