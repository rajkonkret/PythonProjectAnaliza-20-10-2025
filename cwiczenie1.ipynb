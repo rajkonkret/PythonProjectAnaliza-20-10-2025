{
 "cells": [
  {
   "metadata": {},
   "cell_type": "markdown",
   "source": [
    "# Start\n",
    "\n",
    "**pogrubione**\n",
    "\n",
    "standardowy tekst\\\n",
    "nowa linia"
   ],
   "id": "7277180e57bcb4ab"
  },
  {
   "cell_type": "code",
   "id": "initial_id",
   "metadata": {
    "collapsed": true,
    "ExecuteTime": {
     "end_time": "2025-10-20T08:29:38.504968Z",
     "start_time": "2025-10-20T08:29:38.501158Z"
    }
   },
   "source": "print(\"test\")",
   "outputs": [
    {
     "name": "stdout",
     "output_type": "stream",
     "text": [
      "test\n"
     ]
    }
   ],
   "execution_count": 7
  },
  {
   "metadata": {
    "ExecuteTime": {
     "end_time": "2025-10-20T08:36:11.799544Z",
     "start_time": "2025-10-20T08:36:11.794572Z"
    }
   },
   "cell_type": "code",
   "source": [
    "print(\"Test\")\n",
    "print('Test')"
   ],
   "id": "4c9f1b65c11d6900",
   "outputs": [
    {
     "name": "stdout",
     "output_type": "stream",
     "text": [
      "Test\n",
      "Test\n"
     ]
    }
   ],
   "execution_count": 8
  },
  {
   "metadata": {
    "ExecuteTime": {
     "end_time": "2025-10-20T08:36:36.308854Z",
     "start_time": "2025-10-20T08:36:36.304548Z"
    }
   },
   "cell_type": "code",
   "source": "# print('Test\")",
   "id": "42b9edd6bd44fee",
   "outputs": [
    {
     "ename": "SyntaxError",
     "evalue": "unterminated string literal (detected at line 1) (952290598.py, line 1)",
     "output_type": "error",
     "traceback": [
      "  \u001B[36mCell\u001B[39m\u001B[36m \u001B[39m\u001B[32mIn[9]\u001B[39m\u001B[32m, line 1\u001B[39m\n\u001B[31m    \u001B[39m\u001B[31mprint('Test\")\u001B[39m\n          ^\n\u001B[31mSyntaxError\u001B[39m\u001B[31m:\u001B[39m unterminated string literal (detected at line 1)\n"
     ]
    }
   ],
   "execution_count": 9
  },
  {
   "metadata": {},
   "cell_type": "markdown",
   "source": [
    "Zasady czystego kodu w pythonie:\\\n",
    "https://peps.python.org/pep-0008/\n",
    "ctrl alt l - formatowanie kodu"
   ],
   "id": "b7ab6309af79c9da"
  },
  {
   "metadata": {
    "ExecuteTime": {
     "end_time": "2025-10-20T08:40:47.881142Z",
     "start_time": "2025-10-20T08:40:47.877474Z"
    }
   },
   "cell_type": "code",
   "source": [
    "# type() - sprawdzenie typów danych\n",
    "print(type(\"Radek\"))"
   ],
   "id": "23fb8e592b198e8a",
   "outputs": [
    {
     "name": "stdout",
     "output_type": "stream",
     "text": [
      "<class 'str'>\n"
     ]
    }
   ],
   "execution_count": 10
  },
  {
   "metadata": {},
   "cell_type": "markdown",
   "source": "typowanie dynamiczne - sam wnioskuje typ",
   "id": "69c3aa0d1bb7ff91"
  },
  {
   "metadata": {
    "ExecuteTime": {
     "end_time": "2025-10-20T08:43:29.596054Z",
     "start_time": "2025-10-20T08:43:29.591699Z"
    }
   },
   "cell_type": "code",
   "source": "print(\"39\" + \"14\")  # konkatenacja, łączenie tekstów",
   "id": "5ca11d3c3769d648",
   "outputs": [
    {
     "name": "stdout",
     "output_type": "stream",
     "text": [
      "3914\n"
     ]
    }
   ],
   "execution_count": 11
  },
  {
   "metadata": {
    "ExecuteTime": {
     "end_time": "2025-10-20T08:43:56.763182Z",
     "start_time": "2025-10-20T08:43:56.759174Z"
    }
   },
   "cell_type": "code",
   "source": "print(39 + 14)  # matematyczne operacje",
   "id": "82180fb1ce8f2eae",
   "outputs": [
    {
     "name": "stdout",
     "output_type": "stream",
     "text": [
      "53\n"
     ]
    }
   ],
   "execution_count": 12
  },
  {
   "metadata": {
    "ExecuteTime": {
     "end_time": "2025-10-20T08:45:04.546673Z",
     "start_time": "2025-10-20T08:45:04.507943Z"
    }
   },
   "cell_type": "code",
   "source": "print(type(39))  # liczby całkowite, integrer",
   "id": "de6634e50e0532b0",
   "outputs": [
    {
     "name": "stdout",
     "output_type": "stream",
     "text": [
      "<class 'int'>\n"
     ]
    }
   ],
   "execution_count": 13
  },
  {
   "metadata": {
    "ExecuteTime": {
     "end_time": "2025-10-20T08:46:57.775465Z",
     "start_time": "2025-10-20T08:46:57.771908Z"
    }
   },
   "cell_type": "code",
   "source": [
    "import sys\n",
    "\n",
    "print(sys.int_info)"
   ],
   "id": "8028e55aa213d280",
   "outputs": [
    {
     "name": "stdout",
     "output_type": "stream",
     "text": [
      "sys.int_info(bits_per_digit=30, sizeof_digit=4, default_max_str_digits=4300, str_digits_check_threshold=640)\n"
     ]
    }
   ],
   "execution_count": 14
  },
  {
   "metadata": {},
   "cell_type": "code",
   "outputs": [],
   "execution_count": null,
   "source": [
    "# zmienna - pudełko na dane\n",
    "# snake_case"
   ],
   "id": "249ba929f4954612"
  },
  {
   "metadata": {},
   "cell_type": "markdown",
   "source": "Typowanie dynamiczne",
   "id": "c29135efd0cc98b1"
  },
  {
   "metadata": {
    "ExecuteTime": {
     "end_time": "2025-10-20T08:55:22.380939Z",
     "start_time": "2025-10-20T08:55:22.376716Z"
    }
   },
   "cell_type": "code",
   "source": [
    "name = \"Radek\"\n",
    "print(type(name))"
   ],
   "id": "a62f1c00bffa082e",
   "outputs": [
    {
     "name": "stdout",
     "output_type": "stream",
     "text": [
      "<class 'str'>\n"
     ]
    }
   ],
   "execution_count": 15
  },
  {
   "metadata": {
    "ExecuteTime": {
     "end_time": "2025-10-20T08:55:36.240792Z",
     "start_time": "2025-10-20T08:55:36.236898Z"
    }
   },
   "cell_type": "code",
   "source": [
    "name = 90\n",
    "print(type(name))"
   ],
   "id": "e6745f4753418fc5",
   "outputs": [
    {
     "name": "stdout",
     "output_type": "stream",
     "text": [
      "<class 'int'>\n"
     ]
    }
   ],
   "execution_count": 16
  },
  {
   "metadata": {
    "ExecuteTime": {
     "end_time": "2025-10-20T08:56:52.848525Z",
     "start_time": "2025-10-20T08:56:52.844262Z"
    }
   },
   "cell_type": "code",
   "source": [
    "name: str = \"Radek\"  # podpowiedz typu\n",
    "print(name)"
   ],
   "id": "e54d829a7531825c",
   "outputs": [
    {
     "name": "stdout",
     "output_type": "stream",
     "text": [
      "Radek\n"
     ]
    }
   ],
   "execution_count": 17
  },
  {
   "metadata": {
    "ExecuteTime": {
     "end_time": "2025-10-20T08:57:19.938717Z",
     "start_time": "2025-10-20T08:57:19.935672Z"
    }
   },
   "cell_type": "code",
   "source": [
    "name = 90\n",
    "print(name)"
   ],
   "id": "1830f4794fc43f2d",
   "outputs": [
    {
     "name": "stdout",
     "output_type": "stream",
     "text": [
      "90\n"
     ]
    }
   ],
   "execution_count": 18
  },
  {
   "metadata": {
    "ExecuteTime": {
     "end_time": "2025-10-20T08:58:26.811602Z",
     "start_time": "2025-10-20T08:58:26.807701Z"
    }
   },
   "cell_type": "code",
   "source": "print(int(\"39\") + int(\"14\"))  # rzutowanie na int",
   "id": "70794db8275f42ad",
   "outputs": [
    {
     "name": "stdout",
     "output_type": "stream",
     "text": [
      "53\n"
     ]
    }
   ],
   "execution_count": 19
  },
  {
   "metadata": {
    "ExecuteTime": {
     "end_time": "2025-10-20T08:59:25.895513Z",
     "start_time": "2025-10-20T08:59:25.888703Z"
    }
   },
   "cell_type": "code",
   "source": "print(168 * \"35\")",
   "id": "bd77b0824e06afd0",
   "outputs": [
    {
     "name": "stdout",
     "output_type": "stream",
     "text": [
      "353535353535353535353535353535353535353535353535353535353535353535353535353535353535353535353535353535353535353535353535353535353535353535353535353535353535353535353535353535353535353535353535353535353535353535353535353535353535353535353535353535353535353535353535353535353535353535353535353535353535353535353535353535353535353535353535\n"
     ]
    }
   ],
   "execution_count": 20
  },
  {
   "metadata": {
    "ExecuteTime": {
     "end_time": "2025-10-20T08:59:35.149480Z",
     "start_time": "2025-10-20T08:59:35.146537Z"
    }
   },
   "cell_type": "code",
   "source": "print(168 * 35)",
   "id": "f5b6a9196ace16a",
   "outputs": [
    {
     "name": "stdout",
     "output_type": "stream",
     "text": [
      "5880\n"
     ]
    }
   ],
   "execution_count": 21
  },
  {
   "metadata": {
    "ExecuteTime": {
     "end_time": "2025-10-20T08:59:59.822244Z",
     "start_time": "2025-10-20T08:59:59.818424Z"
    }
   },
   "cell_type": "code",
   "source": "print(str(139))",
   "id": "9388358012b3f9ce",
   "outputs": [
    {
     "name": "stdout",
     "output_type": "stream",
     "text": [
      "139\n"
     ]
    }
   ],
   "execution_count": 22
  },
  {
   "metadata": {
    "ExecuteTime": {
     "end_time": "2025-10-20T09:00:21.679142Z",
     "start_time": "2025-10-20T09:00:21.676238Z"
    }
   },
   "cell_type": "code",
   "source": [
    "age = 56\n",
    "print(age)"
   ],
   "id": "6e60a988ffa17b98",
   "outputs": [
    {
     "name": "stdout",
     "output_type": "stream",
     "text": [
      "56\n"
     ]
    }
   ],
   "execution_count": 23
  },
  {
   "metadata": {
    "ExecuteTime": {
     "end_time": "2025-10-20T09:30:53.668089Z",
     "start_time": "2025-10-20T09:30:53.663802Z"
    }
   },
   "cell_type": "code",
   "source": [
    "tekst = \"Witaj Świecie\"\n",
    "print(type(tekst))"
   ],
   "id": "96528091e059f717",
   "outputs": [
    {
     "name": "stdout",
     "output_type": "stream",
     "text": [
      "<class 'str'>\n"
     ]
    }
   ],
   "execution_count": 24
  },
  {
   "metadata": {
    "ExecuteTime": {
     "end_time": "2025-10-20T09:31:28.258828Z",
     "start_time": "2025-10-20T09:31:28.241854Z"
    }
   },
   "cell_type": "code",
   "source": "tekst.upper()",
   "id": "9ab14b5183fbbcb8",
   "outputs": [
    {
     "data": {
      "text/plain": [
       "'WITAJ ŚWIECIE'"
      ]
     },
     "execution_count": 25,
     "metadata": {},
     "output_type": "execute_result"
    }
   ],
   "execution_count": 25
  },
  {
   "metadata": {
    "ExecuteTime": {
     "end_time": "2025-10-20T09:31:36.838861Z",
     "start_time": "2025-10-20T09:31:36.835076Z"
    }
   },
   "cell_type": "code",
   "source": "tekst  # \"\"\" Return a copy of the string converted to uppercase. \"\"\"",
   "id": "7af6b802b924eac0",
   "outputs": [
    {
     "data": {
      "text/plain": [
       "'Witaj Świecie'"
      ]
     },
     "execution_count": 26,
     "metadata": {},
     "output_type": "execute_result"
    }
   ],
   "execution_count": 26
  },
  {
   "metadata": {
    "ExecuteTime": {
     "end_time": "2025-10-20T09:33:08.054996Z",
     "start_time": "2025-10-20T09:33:08.051464Z"
    }
   },
   "cell_type": "code",
   "source": [
    "zmienna = tekst.upper()\n",
    "print(zmienna)"
   ],
   "id": "807fab5567a3cd26",
   "outputs": [
    {
     "name": "stdout",
     "output_type": "stream",
     "text": [
      "WITAJ ŚWIECIE\n"
     ]
    }
   ],
   "execution_count": 27
  },
  {
   "metadata": {
    "ExecuteTime": {
     "end_time": "2025-10-20T09:33:13.879721Z",
     "start_time": "2025-10-20T09:33:13.875971Z"
    }
   },
   "cell_type": "code",
   "source": "zmienna",
   "id": "bfd024171e739707",
   "outputs": [
    {
     "data": {
      "text/plain": [
       "'WITAJ ŚWIECIE'"
      ]
     },
     "execution_count": 28,
     "metadata": {},
     "output_type": "execute_result"
    }
   ],
   "execution_count": 28
  },
  {
   "metadata": {
    "ExecuteTime": {
     "end_time": "2025-10-20T09:33:29.241107Z",
     "start_time": "2025-10-20T09:33:29.237145Z"
    }
   },
   "cell_type": "code",
   "source": "tekst.lower()",
   "id": "b653442f744d3fb2",
   "outputs": [
    {
     "data": {
      "text/plain": [
       "'witaj świecie'"
      ]
     },
     "execution_count": 29,
     "metadata": {},
     "output_type": "execute_result"
    }
   ],
   "execution_count": 29
  },
  {
   "metadata": {
    "ExecuteTime": {
     "end_time": "2025-10-20T09:33:36.706409Z",
     "start_time": "2025-10-20T09:33:36.701200Z"
    }
   },
   "cell_type": "code",
   "source": "tekst.capitalize()",
   "id": "bfd0962485b12c4d",
   "outputs": [
    {
     "data": {
      "text/plain": [
       "'Witaj świecie'"
      ]
     },
     "execution_count": 30,
     "metadata": {},
     "output_type": "execute_result"
    }
   ],
   "execution_count": 30
  },
  {
   "metadata": {
    "ExecuteTime": {
     "end_time": "2025-10-20T09:35:33.309Z",
     "start_time": "2025-10-20T09:35:33.305794Z"
    }
   },
   "cell_type": "code",
   "source": [
    "zmienna1 = \"GROSS\"\n",
    "zmienna2 = \"groẞ\""
   ],
   "id": "3f23d1f3375b522d",
   "outputs": [],
   "execution_count": 32
  },
  {
   "metadata": {
    "ExecuteTime": {
     "end_time": "2025-10-20T09:35:34.695939Z",
     "start_time": "2025-10-20T09:35:34.689844Z"
    }
   },
   "cell_type": "code",
   "source": "print(zmienna1.lower() == zmienna2.lower())",
   "id": "cd194cff102a338f",
   "outputs": [
    {
     "name": "stdout",
     "output_type": "stream",
     "text": [
      "False\n"
     ]
    }
   ],
   "execution_count": 33
  },
  {
   "metadata": {
    "ExecuteTime": {
     "end_time": "2025-10-20T09:36:29.030313Z",
     "start_time": "2025-10-20T09:36:29.027128Z"
    }
   },
   "cell_type": "code",
   "source": [
    "# porównanie caseless\n",
    "print(zmienna1.casefold() == zmienna2.casefold())"
   ],
   "id": "7c8418834812eb7c",
   "outputs": [
    {
     "name": "stdout",
     "output_type": "stream",
     "text": [
      "True\n"
     ]
    }
   ],
   "execution_count": 34
  },
  {
   "metadata": {
    "ExecuteTime": {
     "end_time": "2025-10-20T09:38:29.311819Z",
     "start_time": "2025-10-20T09:38:29.308221Z"
    }
   },
   "cell_type": "code",
   "source": "print(1 != 8)  # True, różne",
   "id": "b3c4cf1fc26b1257",
   "outputs": [
    {
     "name": "stdout",
     "output_type": "stream",
     "text": [
      "True\n"
     ]
    }
   ],
   "execution_count": 35
  },
  {
   "metadata": {
    "ExecuteTime": {
     "end_time": "2025-10-20T09:39:12.170718Z",
     "start_time": "2025-10-20T09:39:12.167622Z"
    }
   },
   "cell_type": "code",
   "source": [
    "print(int(\"39\"))\n",
    "print(str(39))"
   ],
   "id": "141eb0125bcfa01d",
   "outputs": [
    {
     "name": "stdout",
     "output_type": "stream",
     "text": [
      "39\n",
      "39\n"
     ]
    }
   ],
   "execution_count": 36
  },
  {
   "metadata": {
    "ExecuteTime": {
     "end_time": "2025-10-20T09:39:35.020915Z",
     "start_time": "2025-10-20T09:39:35.016268Z"
    }
   },
   "cell_type": "code",
   "source": [
    "print(int(True))\n",
    "print(int(False))"
   ],
   "id": "809992451d3a737a",
   "outputs": [
    {
     "name": "stdout",
     "output_type": "stream",
     "text": [
      "1\n",
      "0\n"
     ]
    }
   ],
   "execution_count": 37
  },
  {
   "metadata": {
    "ExecuteTime": {
     "end_time": "2025-10-20T09:39:45.634606Z",
     "start_time": "2025-10-20T09:39:45.631856Z"
    }
   },
   "cell_type": "code",
   "source": "print(bool(1))",
   "id": "79e725efae75cc05",
   "outputs": [
    {
     "name": "stdout",
     "output_type": "stream",
     "text": [
      "True\n"
     ]
    }
   ],
   "execution_count": 38
  },
  {
   "metadata": {
    "ExecuteTime": {
     "end_time": "2025-10-20T09:40:31.355448Z",
     "start_time": "2025-10-20T09:40:31.351225Z"
    }
   },
   "cell_type": "code",
   "source": "print(bool(100))",
   "id": "6ecd41ebab82a6c3",
   "outputs": [
    {
     "name": "stdout",
     "output_type": "stream",
     "text": [
      "True\n"
     ]
    }
   ],
   "execution_count": 39
  },
  {
   "metadata": {
    "ExecuteTime": {
     "end_time": "2025-10-20T09:40:46.560842Z",
     "start_time": "2025-10-20T09:40:46.558099Z"
    }
   },
   "cell_type": "code",
   "source": "print(bool(\"Radek\"))",
   "id": "7245f33e17f2f2f0",
   "outputs": [
    {
     "name": "stdout",
     "output_type": "stream",
     "text": [
      "True\n"
     ]
    }
   ],
   "execution_count": 40
  },
  {
   "metadata": {
    "ExecuteTime": {
     "end_time": "2025-10-20T09:40:59.249569Z",
     "start_time": "2025-10-20T09:40:59.246369Z"
    }
   },
   "cell_type": "code",
   "source": "print(bool(\"\"))",
   "id": "d8f52649220e2e85",
   "outputs": [
    {
     "name": "stdout",
     "output_type": "stream",
     "text": [
      "False\n"
     ]
    }
   ],
   "execution_count": 41
  },
  {
   "metadata": {
    "ExecuteTime": {
     "end_time": "2025-10-20T09:42:12.794023Z",
     "start_time": "2025-10-20T09:42:12.790799Z"
    }
   },
   "cell_type": "code",
   "source": [
    "# None - nie wiem, stan nieokreślony, odpownik null\n",
    "print(bool(None))"
   ],
   "id": "508d496f8c91ae7c",
   "outputs": [
    {
     "name": "stdout",
     "output_type": "stream",
     "text": [
      "False\n"
     ]
    }
   ],
   "execution_count": 42
  },
  {
   "metadata": {},
   "cell_type": "markdown",
   "source": [
    "### float - liczby zmiennoprzecinkowe\n",
    "For example, in a floating-point arithmetic with five base-ten digits, \\\n",
    "the sum 12.345 + 1.0001 = 13.3451 might be rounded to 13.345."
   ],
   "id": "789d6edf8669dd8"
  },
  {
   "metadata": {
    "ExecuteTime": {
     "end_time": "2025-10-20T09:43:08.045045Z",
     "start_time": "2025-10-20T09:43:08.041327Z"
    }
   },
   "cell_type": "code",
   "source": [
    "import sys\n",
    "\n",
    "print(sys.float_info)"
   ],
   "id": "98594bdd66b0869b",
   "outputs": [
    {
     "name": "stdout",
     "output_type": "stream",
     "text": [
      "sys.float_info(max=1.7976931348623157e+308, max_exp=1024, max_10_exp=308, min=2.2250738585072014e-308, min_exp=-1021, min_10_exp=-307, dig=15, mant_dig=53, epsilon=2.220446049250313e-16, radix=2, rounds=1)\n"
     ]
    }
   ],
   "execution_count": 43
  },
  {
   "metadata": {
    "ExecuteTime": {
     "end_time": "2025-10-20T09:43:55.632109Z",
     "start_time": "2025-10-20T09:43:55.629020Z"
    }
   },
   "cell_type": "code",
   "source": "print(0.1 + 0.9)",
   "id": "5c26f4f8feb34e67",
   "outputs": [
    {
     "name": "stdout",
     "output_type": "stream",
     "text": [
      "1.0\n"
     ]
    }
   ],
   "execution_count": 44
  },
  {
   "metadata": {
    "ExecuteTime": {
     "end_time": "2025-10-20T09:44:30.334677Z",
     "start_time": "2025-10-20T09:44:30.330580Z"
    }
   },
   "cell_type": "code",
   "source": "print(0.1 + 0.2)",
   "id": "ddd28640f6ea7e1e",
   "outputs": [
    {
     "name": "stdout",
     "output_type": "stream",
     "text": [
      "0.30000000000000004\n"
     ]
    }
   ],
   "execution_count": 45
  },
  {
   "metadata": {},
   "cell_type": "markdown",
   "source": "decimal() - ominięcie problemu zaokrąglenia",
   "id": "e40d08a39e1bbd8c"
  },
  {
   "metadata": {
    "ExecuteTime": {
     "end_time": "2025-10-20T09:49:46.881514Z",
     "start_time": "2025-10-20T09:49:46.877298Z"
    }
   },
   "cell_type": "code",
   "source": [
    "# f string - sformatowany string , ctrl / - automatyczny komentarz\n",
    "name = \"Radek\"\n",
    "print(f\"Nazywam się {name}\")"
   ],
   "id": "d99e89454e533998",
   "outputs": [
    {
     "name": "stdout",
     "output_type": "stream",
     "text": [
      "Nazywam się Radek\n"
     ]
    }
   ],
   "execution_count": 46
  },
  {
   "metadata": {
    "ExecuteTime": {
     "end_time": "2025-10-20T09:50:58.255571Z",
     "start_time": "2025-10-20T09:50:58.251Z"
    }
   },
   "cell_type": "code",
   "source": "print(\"Nazywam się {}\".format(name))",
   "id": "66b4b69605e4a5c7",
   "outputs": [
    {
     "name": "stdout",
     "output_type": "stream",
     "text": [
      "Nazywam się Radek\n"
     ]
    }
   ],
   "execution_count": 47
  },
  {
   "metadata": {
    "ExecuteTime": {
     "end_time": "2025-10-20T09:51:20.563954Z",
     "start_time": "2025-10-20T09:51:20.561066Z"
    }
   },
   "cell_type": "code",
   "source": "liczba = 3.900001",
   "id": "15542f9d70c0663b",
   "outputs": [],
   "execution_count": 48
  },
  {
   "metadata": {
    "ExecuteTime": {
     "end_time": "2025-10-20T09:51:41.108026Z",
     "start_time": "2025-10-20T09:51:41.103531Z"
    }
   },
   "cell_type": "code",
   "source": "print(f\"Wersja pythona: {liczba}\")",
   "id": "41e4cf99da6ed0b3",
   "outputs": [
    {
     "name": "stdout",
     "output_type": "stream",
     "text": [
      "Wersja pythona: 3.900001\n"
     ]
    }
   ],
   "execution_count": 49
  },
  {
   "metadata": {
    "ExecuteTime": {
     "end_time": "2025-10-20T09:52:30.233536Z",
     "start_time": "2025-10-20T09:52:30.230411Z"
    }
   },
   "cell_type": "code",
   "source": "print(f\"Wersja pythona: {liczba:.2f}\")",
   "id": "58cb27fe3c40e336",
   "outputs": [
    {
     "name": "stdout",
     "output_type": "stream",
     "text": [
      "Wersja pythona: 3.90\n"
     ]
    }
   ],
   "execution_count": 52
  },
  {
   "metadata": {
    "ExecuteTime": {
     "end_time": "2025-10-20T09:53:21.395062Z",
     "start_time": "2025-10-20T09:53:21.389638Z"
    }
   },
   "cell_type": "code",
   "source": "print(f\"Wersja pythona: {liczba:.0f}\")  # zaokrągla",
   "id": "3b576064eebd73d0",
   "outputs": [
    {
     "name": "stdout",
     "output_type": "stream",
     "text": [
      "Wersja pythona: 4\n"
     ]
    }
   ],
   "execution_count": 53
  },
  {
   "metadata": {
    "ExecuteTime": {
     "end_time": "2025-10-20T09:55:30.472281Z",
     "start_time": "2025-10-20T09:55:30.468804Z"
    }
   },
   "cell_type": "code",
   "source": [
    "starszy = \"Mam na imię %s\"  # %s - oczekuje stringa\n",
    "\n",
    "print(starszy % name)"
   ],
   "id": "418aaf375ddc408b",
   "outputs": [
    {
     "name": "stdout",
     "output_type": "stream",
     "text": [
      "Mam na imię Radek\n"
     ]
    }
   ],
   "execution_count": 54
  },
  {
   "metadata": {
    "ExecuteTime": {
     "end_time": "2025-10-20T09:56:01.409542Z",
     "start_time": "2025-10-20T09:56:01.324243Z"
    }
   },
   "cell_type": "code",
   "source": [
    "starszy = \"Mam na imię %d\"  # %d - liczby\n",
    "print(starszy % name)"
   ],
   "id": "f168d35ba8db060f",
   "outputs": [
    {
     "ename": "TypeError",
     "evalue": "%d format: a real number is required, not str",
     "output_type": "error",
     "traceback": [
      "\u001B[31m---------------------------------------------------------------------------\u001B[39m",
      "\u001B[31mTypeError\u001B[39m                                 Traceback (most recent call last)",
      "\u001B[36mCell\u001B[39m\u001B[36m \u001B[39m\u001B[32mIn[55]\u001B[39m\u001B[32m, line 2\u001B[39m\n\u001B[32m      1\u001B[39m starszy = \u001B[33m\"\u001B[39m\u001B[33mMam na imię \u001B[39m\u001B[38;5;132;01m%d\u001B[39;00m\u001B[33m\"\u001B[39m\n\u001B[32m----> \u001B[39m\u001B[32m2\u001B[39m \u001B[38;5;28mprint\u001B[39m(\u001B[43mstarszy\u001B[49m\u001B[43m \u001B[49m\u001B[43m%\u001B[49m\u001B[43m \u001B[49m\u001B[43mname\u001B[49m)\n",
      "\u001B[31mTypeError\u001B[39m: %d format: a real number is required, not str"
     ]
    }
   ],
   "execution_count": 55
  },
  {
   "metadata": {},
   "cell_type": "markdown",
   "source": [
    "sep\\\n",
    "        string inserted between values, default a space."
   ],
   "id": "a9eba7566f95a5cf"
  },
  {
   "metadata": {
    "ExecuteTime": {
     "end_time": "2025-10-20T09:58:05.156523Z",
     "start_time": "2025-10-20T09:58:05.153275Z"
    }
   },
   "cell_type": "code",
   "source": "print('Wynik:', liczba)",
   "id": "281d2b3b5fd6602b",
   "outputs": [
    {
     "name": "stdout",
     "output_type": "stream",
     "text": [
      "Wynik: 3.900001\n"
     ]
    }
   ],
   "execution_count": 57
  },
  {
   "metadata": {
    "ExecuteTime": {
     "end_time": "2025-10-20T09:59:12.590497Z",
     "start_time": "2025-10-20T09:59:12.586518Z"
    }
   },
   "cell_type": "code",
   "source": "print(\"Wynik:\", liczba, sep=\".....\")",
   "id": "1f783611f46e6bb7",
   "outputs": [
    {
     "name": "stdout",
     "output_type": "stream",
     "text": [
      "Wynik:.....3.900001\n"
     ]
    }
   ],
   "execution_count": 58
  },
  {
   "metadata": {
    "ExecuteTime": {
     "end_time": "2025-10-20T10:00:45.955630Z",
     "start_time": "2025-10-20T10:00:45.948071Z"
    }
   },
   "cell_type": "code",
   "source": [
    "print(\"linia 1\", end=\"\")\n",
    "print(\"Linia 2\")"
   ],
   "id": "37fb21e7b95e61c0",
   "outputs": [
    {
     "name": "stdout",
     "output_type": "stream",
     "text": [
      "linia 1Linia 2\n"
     ]
    }
   ],
   "execution_count": 59
  },
  {
   "metadata": {
    "ExecuteTime": {
     "end_time": "2025-10-20T10:01:41.653939Z",
     "start_time": "2025-10-20T10:01:41.650123Z"
    }
   },
   "cell_type": "code",
   "source": [
    "print(100 / 3)\n",
    "print(100 // 3)  # część całkowita z dzielenia\n",
    "print(100 % 3)  # modulo, reszta z dzielenia, 1\n",
    "print(10 % 3)\n"
   ],
   "id": "3f09dc4cb9c4355b",
   "outputs": [
    {
     "name": "stdout",
     "output_type": "stream",
     "text": [
      "33.333333333333336\n",
      "33\n",
      "1\n",
      "1\n"
     ]
    }
   ],
   "execution_count": 60
  },
  {
   "metadata": {
    "ExecuteTime": {
     "end_time": "2025-10-20T10:03:33.819356Z",
     "start_time": "2025-10-20T10:03:33.815160Z"
    }
   },
   "cell_type": "code",
   "source": "print(10 % 2 == 0)  # True, parzysta",
   "id": "eac0823185be0e5",
   "outputs": [
    {
     "name": "stdout",
     "output_type": "stream",
     "text": [
      "True\n"
     ]
    }
   ],
   "execution_count": 61
  },
  {
   "metadata": {
    "ExecuteTime": {
     "end_time": "2025-10-20T10:04:04.688665Z",
     "start_time": "2025-10-20T10:04:04.686054Z"
    }
   },
   "cell_type": "code",
   "source": "zysk = 678098789012543",
   "id": "fd3b51db4054b830",
   "outputs": [],
   "execution_count": 62
  },
  {
   "metadata": {
    "ExecuteTime": {
     "end_time": "2025-10-20T10:04:47.084044Z",
     "start_time": "2025-10-20T10:04:47.078247Z"
    }
   },
   "cell_type": "code",
   "source": [
    "print(f'Nasza duża liczba: {zysk}')\n",
    "print(f'Nasza duża liczba: {zysk:,}')"
   ],
   "id": "b7ea29700c90e47a",
   "outputs": [
    {
     "name": "stdout",
     "output_type": "stream",
     "text": [
      "Nasza duża liczba: 678098789012543\n",
      "Nasza duża liczba: 678,098,789,012,543\n"
     ]
    }
   ],
   "execution_count": 63
  },
  {
   "metadata": {
    "ExecuteTime": {
     "end_time": "2025-10-20T10:05:01.998623Z",
     "start_time": "2025-10-20T10:05:01.784582Z"
    }
   },
   "cell_type": "code",
   "source": "print(f'Nasza duża liczba: {zysk:_}')",
   "id": "b0f6ed029b11727b",
   "outputs": [
    {
     "name": "stdout",
     "output_type": "stream",
     "text": [
      "Nasza duża liczba: 678_098_789_012_543\n"
     ]
    }
   ],
   "execution_count": 64
  },
  {
   "metadata": {
    "ExecuteTime": {
     "end_time": "2025-10-20T10:05:34.791922Z",
     "start_time": "2025-10-20T10:05:34.788489Z"
    }
   },
   "cell_type": "code",
   "source": "print(f'Nasza duża liczba: {zysk:,}'.replace(\",\", \" \"))",
   "id": "62061cdca20d2d01",
   "outputs": [
    {
     "name": "stdout",
     "output_type": "stream",
     "text": [
      "Nasza duża liczba: 678 098 789 012 543\n"
     ]
    }
   ],
   "execution_count": 66
  },
  {
   "metadata": {
    "ExecuteTime": {
     "end_time": "2025-10-20T10:06:53.982434Z",
     "start_time": "2025-10-20T10:06:53.979784Z"
    }
   },
   "cell_type": "code",
   "source": "parametr = 100_000_000_000_000",
   "id": "e72f0ffe30149470",
   "outputs": [],
   "execution_count": 67
  },
  {
   "metadata": {
    "ExecuteTime": {
     "end_time": "2025-10-20T10:07:13.816914Z",
     "start_time": "2025-10-20T10:07:13.813872Z"
    }
   },
   "cell_type": "code",
   "source": [
    "print(parametr)\n",
    "print(type(parametr))"
   ],
   "id": "fb0796b97357c60e",
   "outputs": [
    {
     "name": "stdout",
     "output_type": "stream",
     "text": [
      "100000000000000\n",
      "<class 'int'>\n"
     ]
    }
   ],
   "execution_count": 68
  }
 ],
 "metadata": {
  "kernelspec": {
   "display_name": "Python 3",
   "language": "python",
   "name": "python3"
  },
  "language_info": {
   "codemirror_mode": {
    "name": "ipython",
    "version": 2
   },
   "file_extension": ".py",
   "mimetype": "text/x-python",
   "name": "python",
   "nbconvert_exporter": "python",
   "pygments_lexer": "ipython2",
   "version": "2.7.6"
  }
 },
 "nbformat": 4,
 "nbformat_minor": 5
}
