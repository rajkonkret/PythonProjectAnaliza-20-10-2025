{
 "cells": [
  {
   "metadata": {},
   "cell_type": "markdown",
   "source": [
    "# Start\n",
    "\n",
    "**pogrubione**\n",
    "\n",
    "standardowy tekst\\\n",
    "nowa linia"
   ],
   "id": "7277180e57bcb4ab"
  },
  {
   "cell_type": "code",
   "id": "initial_id",
   "metadata": {
    "collapsed": true,
    "ExecuteTime": {
     "end_time": "2025-10-20T08:29:38.504968Z",
     "start_time": "2025-10-20T08:29:38.501158Z"
    }
   },
   "source": "print(\"test\")",
   "outputs": [
    {
     "name": "stdout",
     "output_type": "stream",
     "text": [
      "test\n"
     ]
    }
   ],
   "execution_count": 7
  },
  {
   "metadata": {
    "ExecuteTime": {
     "end_time": "2025-10-20T08:36:11.799544Z",
     "start_time": "2025-10-20T08:36:11.794572Z"
    }
   },
   "cell_type": "code",
   "source": [
    "print(\"Test\")\n",
    "print('Test')"
   ],
   "id": "4c9f1b65c11d6900",
   "outputs": [
    {
     "name": "stdout",
     "output_type": "stream",
     "text": [
      "Test\n",
      "Test\n"
     ]
    }
   ],
   "execution_count": 8
  },
  {
   "metadata": {
    "ExecuteTime": {
     "end_time": "2025-10-20T08:36:36.308854Z",
     "start_time": "2025-10-20T08:36:36.304548Z"
    }
   },
   "cell_type": "code",
   "source": "# print('Test\")",
   "id": "42b9edd6bd44fee",
   "outputs": [
    {
     "ename": "SyntaxError",
     "evalue": "unterminated string literal (detected at line 1) (952290598.py, line 1)",
     "output_type": "error",
     "traceback": [
      "  \u001B[36mCell\u001B[39m\u001B[36m \u001B[39m\u001B[32mIn[9]\u001B[39m\u001B[32m, line 1\u001B[39m\n\u001B[31m    \u001B[39m\u001B[31mprint('Test\")\u001B[39m\n          ^\n\u001B[31mSyntaxError\u001B[39m\u001B[31m:\u001B[39m unterminated string literal (detected at line 1)\n"
     ]
    }
   ],
   "execution_count": 9
  },
  {
   "metadata": {},
   "cell_type": "markdown",
   "source": [
    "Zasady czystego kodu w pythonie:\\\n",
    "https://peps.python.org/pep-0008/\n",
    "ctrl alt l - formatowanie kodu"
   ],
   "id": "b7ab6309af79c9da"
  },
  {
   "metadata": {
    "ExecuteTime": {
     "end_time": "2025-10-20T08:40:47.881142Z",
     "start_time": "2025-10-20T08:40:47.877474Z"
    }
   },
   "cell_type": "code",
   "source": [
    "# type() - sprawdzenie typów danych\n",
    "print(type(\"Radek\"))"
   ],
   "id": "23fb8e592b198e8a",
   "outputs": [
    {
     "name": "stdout",
     "output_type": "stream",
     "text": [
      "<class 'str'>\n"
     ]
    }
   ],
   "execution_count": 10
  },
  {
   "metadata": {},
   "cell_type": "markdown",
   "source": "typowanie dynamiczne - sam wnioskuje typ",
   "id": "69c3aa0d1bb7ff91"
  },
  {
   "metadata": {
    "ExecuteTime": {
     "end_time": "2025-10-20T08:43:29.596054Z",
     "start_time": "2025-10-20T08:43:29.591699Z"
    }
   },
   "cell_type": "code",
   "source": "print(\"39\" + \"14\")  # konkatenacja, łączenie tekstów",
   "id": "5ca11d3c3769d648",
   "outputs": [
    {
     "name": "stdout",
     "output_type": "stream",
     "text": [
      "3914\n"
     ]
    }
   ],
   "execution_count": 11
  },
  {
   "metadata": {
    "ExecuteTime": {
     "end_time": "2025-10-20T08:43:56.763182Z",
     "start_time": "2025-10-20T08:43:56.759174Z"
    }
   },
   "cell_type": "code",
   "source": "print(39 + 14)  # matematyczne operacje",
   "id": "82180fb1ce8f2eae",
   "outputs": [
    {
     "name": "stdout",
     "output_type": "stream",
     "text": [
      "53\n"
     ]
    }
   ],
   "execution_count": 12
  },
  {
   "metadata": {
    "ExecuteTime": {
     "end_time": "2025-10-20T08:45:04.546673Z",
     "start_time": "2025-10-20T08:45:04.507943Z"
    }
   },
   "cell_type": "code",
   "source": "print(type(39))  # liczby całkowite, integrer",
   "id": "de6634e50e0532b0",
   "outputs": [
    {
     "name": "stdout",
     "output_type": "stream",
     "text": [
      "<class 'int'>\n"
     ]
    }
   ],
   "execution_count": 13
  },
  {
   "metadata": {
    "ExecuteTime": {
     "end_time": "2025-10-20T08:46:57.775465Z",
     "start_time": "2025-10-20T08:46:57.771908Z"
    }
   },
   "cell_type": "code",
   "source": [
    "import sys\n",
    "\n",
    "print(sys.int_info)"
   ],
   "id": "8028e55aa213d280",
   "outputs": [
    {
     "name": "stdout",
     "output_type": "stream",
     "text": [
      "sys.int_info(bits_per_digit=30, sizeof_digit=4, default_max_str_digits=4300, str_digits_check_threshold=640)\n"
     ]
    }
   ],
   "execution_count": 14
  },
  {
   "metadata": {},
   "cell_type": "code",
   "outputs": [],
   "execution_count": null,
   "source": [
    "# zmienna - pudełko na dane\n",
    "# snake_case"
   ],
   "id": "249ba929f4954612"
  },
  {
   "metadata": {},
   "cell_type": "markdown",
   "source": "Typowanie dynamiczne",
   "id": "c29135efd0cc98b1"
  },
  {
   "metadata": {
    "ExecuteTime": {
     "end_time": "2025-10-20T08:55:22.380939Z",
     "start_time": "2025-10-20T08:55:22.376716Z"
    }
   },
   "cell_type": "code",
   "source": [
    "name = \"Radek\"\n",
    "print(type(name))"
   ],
   "id": "a62f1c00bffa082e",
   "outputs": [
    {
     "name": "stdout",
     "output_type": "stream",
     "text": [
      "<class 'str'>\n"
     ]
    }
   ],
   "execution_count": 15
  },
  {
   "metadata": {
    "ExecuteTime": {
     "end_time": "2025-10-20T08:55:36.240792Z",
     "start_time": "2025-10-20T08:55:36.236898Z"
    }
   },
   "cell_type": "code",
   "source": [
    "name = 90\n",
    "print(type(name))"
   ],
   "id": "e6745f4753418fc5",
   "outputs": [
    {
     "name": "stdout",
     "output_type": "stream",
     "text": [
      "<class 'int'>\n"
     ]
    }
   ],
   "execution_count": 16
  },
  {
   "metadata": {
    "ExecuteTime": {
     "end_time": "2025-10-20T08:56:52.848525Z",
     "start_time": "2025-10-20T08:56:52.844262Z"
    }
   },
   "cell_type": "code",
   "source": [
    "name: str = \"Radek\"  # podpowiedz typu\n",
    "print(name)"
   ],
   "id": "e54d829a7531825c",
   "outputs": [
    {
     "name": "stdout",
     "output_type": "stream",
     "text": [
      "Radek\n"
     ]
    }
   ],
   "execution_count": 17
  },
  {
   "metadata": {
    "ExecuteTime": {
     "end_time": "2025-10-20T08:57:19.938717Z",
     "start_time": "2025-10-20T08:57:19.935672Z"
    }
   },
   "cell_type": "code",
   "source": [
    "name = 90\n",
    "print(name)"
   ],
   "id": "1830f4794fc43f2d",
   "outputs": [
    {
     "name": "stdout",
     "output_type": "stream",
     "text": [
      "90\n"
     ]
    }
   ],
   "execution_count": 18
  },
  {
   "metadata": {
    "ExecuteTime": {
     "end_time": "2025-10-20T08:58:26.811602Z",
     "start_time": "2025-10-20T08:58:26.807701Z"
    }
   },
   "cell_type": "code",
   "source": "print(int(\"39\") + int(\"14\"))  # rzutowanie na int",
   "id": "70794db8275f42ad",
   "outputs": [
    {
     "name": "stdout",
     "output_type": "stream",
     "text": [
      "53\n"
     ]
    }
   ],
   "execution_count": 19
  },
  {
   "metadata": {
    "ExecuteTime": {
     "end_time": "2025-10-20T08:59:25.895513Z",
     "start_time": "2025-10-20T08:59:25.888703Z"
    }
   },
   "cell_type": "code",
   "source": "print(168 * \"35\")",
   "id": "bd77b0824e06afd0",
   "outputs": [
    {
     "name": "stdout",
     "output_type": "stream",
     "text": [
      "353535353535353535353535353535353535353535353535353535353535353535353535353535353535353535353535353535353535353535353535353535353535353535353535353535353535353535353535353535353535353535353535353535353535353535353535353535353535353535353535353535353535353535353535353535353535353535353535353535353535353535353535353535353535353535353535\n"
     ]
    }
   ],
   "execution_count": 20
  },
  {
   "metadata": {
    "ExecuteTime": {
     "end_time": "2025-10-20T08:59:35.149480Z",
     "start_time": "2025-10-20T08:59:35.146537Z"
    }
   },
   "cell_type": "code",
   "source": "print(168 * 35)",
   "id": "f5b6a9196ace16a",
   "outputs": [
    {
     "name": "stdout",
     "output_type": "stream",
     "text": [
      "5880\n"
     ]
    }
   ],
   "execution_count": 21
  },
  {
   "metadata": {
    "ExecuteTime": {
     "end_time": "2025-10-20T08:59:59.822244Z",
     "start_time": "2025-10-20T08:59:59.818424Z"
    }
   },
   "cell_type": "code",
   "source": "print(str(139))",
   "id": "9388358012b3f9ce",
   "outputs": [
    {
     "name": "stdout",
     "output_type": "stream",
     "text": [
      "139\n"
     ]
    }
   ],
   "execution_count": 22
  },
  {
   "metadata": {
    "ExecuteTime": {
     "end_time": "2025-10-20T09:00:21.679142Z",
     "start_time": "2025-10-20T09:00:21.676238Z"
    }
   },
   "cell_type": "code",
   "source": [
    "age = 56\n",
    "print(age)"
   ],
   "id": "6e60a988ffa17b98",
   "outputs": [
    {
     "name": "stdout",
     "output_type": "stream",
     "text": [
      "56\n"
     ]
    }
   ],
   "execution_count": 23
  },
  {
   "metadata": {
    "ExecuteTime": {
     "end_time": "2025-10-20T09:30:53.668089Z",
     "start_time": "2025-10-20T09:30:53.663802Z"
    }
   },
   "cell_type": "code",
   "source": [
    "tekst = \"Witaj Świecie\"\n",
    "print(type(tekst))"
   ],
   "id": "96528091e059f717",
   "outputs": [
    {
     "name": "stdout",
     "output_type": "stream",
     "text": [
      "<class 'str'>\n"
     ]
    }
   ],
   "execution_count": 24
  },
  {
   "metadata": {
    "ExecuteTime": {
     "end_time": "2025-10-20T09:31:28.258828Z",
     "start_time": "2025-10-20T09:31:28.241854Z"
    }
   },
   "cell_type": "code",
   "source": "tekst.upper()",
   "id": "9ab14b5183fbbcb8",
   "outputs": [
    {
     "data": {
      "text/plain": [
       "'WITAJ ŚWIECIE'"
      ]
     },
     "execution_count": 25,
     "metadata": {},
     "output_type": "execute_result"
    }
   ],
   "execution_count": 25
  },
  {
   "metadata": {
    "ExecuteTime": {
     "end_time": "2025-10-20T09:31:36.838861Z",
     "start_time": "2025-10-20T09:31:36.835076Z"
    }
   },
   "cell_type": "code",
   "source": "tekst  # \"\"\" Return a copy of the string converted to uppercase. \"\"\"",
   "id": "7af6b802b924eac0",
   "outputs": [
    {
     "data": {
      "text/plain": [
       "'Witaj Świecie'"
      ]
     },
     "execution_count": 26,
     "metadata": {},
     "output_type": "execute_result"
    }
   ],
   "execution_count": 26
  },
  {
   "metadata": {
    "ExecuteTime": {
     "end_time": "2025-10-20T09:33:08.054996Z",
     "start_time": "2025-10-20T09:33:08.051464Z"
    }
   },
   "cell_type": "code",
   "source": [
    "zmienna = tekst.upper()\n",
    "print(zmienna)"
   ],
   "id": "807fab5567a3cd26",
   "outputs": [
    {
     "name": "stdout",
     "output_type": "stream",
     "text": [
      "WITAJ ŚWIECIE\n"
     ]
    }
   ],
   "execution_count": 27
  },
  {
   "metadata": {
    "ExecuteTime": {
     "end_time": "2025-10-20T09:33:13.879721Z",
     "start_time": "2025-10-20T09:33:13.875971Z"
    }
   },
   "cell_type": "code",
   "source": "zmienna",
   "id": "bfd024171e739707",
   "outputs": [
    {
     "data": {
      "text/plain": [
       "'WITAJ ŚWIECIE'"
      ]
     },
     "execution_count": 28,
     "metadata": {},
     "output_type": "execute_result"
    }
   ],
   "execution_count": 28
  },
  {
   "metadata": {
    "ExecuteTime": {
     "end_time": "2025-10-20T09:33:29.241107Z",
     "start_time": "2025-10-20T09:33:29.237145Z"
    }
   },
   "cell_type": "code",
   "source": "tekst.lower()",
   "id": "b653442f744d3fb2",
   "outputs": [
    {
     "data": {
      "text/plain": [
       "'witaj świecie'"
      ]
     },
     "execution_count": 29,
     "metadata": {},
     "output_type": "execute_result"
    }
   ],
   "execution_count": 29
  },
  {
   "metadata": {
    "ExecuteTime": {
     "end_time": "2025-10-20T09:33:36.706409Z",
     "start_time": "2025-10-20T09:33:36.701200Z"
    }
   },
   "cell_type": "code",
   "source": "tekst.capitalize()",
   "id": "bfd0962485b12c4d",
   "outputs": [
    {
     "data": {
      "text/plain": [
       "'Witaj świecie'"
      ]
     },
     "execution_count": 30,
     "metadata": {},
     "output_type": "execute_result"
    }
   ],
   "execution_count": 30
  },
  {
   "metadata": {
    "ExecuteTime": {
     "end_time": "2025-10-20T09:35:33.309Z",
     "start_time": "2025-10-20T09:35:33.305794Z"
    }
   },
   "cell_type": "code",
   "source": [
    "zmienna1 = \"GROSS\"\n",
    "zmienna2 = \"groẞ\""
   ],
   "id": "3f23d1f3375b522d",
   "outputs": [],
   "execution_count": 32
  },
  {
   "metadata": {
    "ExecuteTime": {
     "end_time": "2025-10-20T09:35:34.695939Z",
     "start_time": "2025-10-20T09:35:34.689844Z"
    }
   },
   "cell_type": "code",
   "source": "print(zmienna1.lower() == zmienna2.lower())",
   "id": "cd194cff102a338f",
   "outputs": [
    {
     "name": "stdout",
     "output_type": "stream",
     "text": [
      "False\n"
     ]
    }
   ],
   "execution_count": 33
  },
  {
   "metadata": {
    "ExecuteTime": {
     "end_time": "2025-10-20T09:36:29.030313Z",
     "start_time": "2025-10-20T09:36:29.027128Z"
    }
   },
   "cell_type": "code",
   "source": [
    "# porównanie caseless\n",
    "print(zmienna1.casefold() == zmienna2.casefold())"
   ],
   "id": "7c8418834812eb7c",
   "outputs": [
    {
     "name": "stdout",
     "output_type": "stream",
     "text": [
      "True\n"
     ]
    }
   ],
   "execution_count": 34
  },
  {
   "metadata": {
    "ExecuteTime": {
     "end_time": "2025-10-20T09:38:29.311819Z",
     "start_time": "2025-10-20T09:38:29.308221Z"
    }
   },
   "cell_type": "code",
   "source": "print(1 != 8)  # True, różne",
   "id": "b3c4cf1fc26b1257",
   "outputs": [
    {
     "name": "stdout",
     "output_type": "stream",
     "text": [
      "True\n"
     ]
    }
   ],
   "execution_count": 35
  },
  {
   "metadata": {
    "ExecuteTime": {
     "end_time": "2025-10-20T09:39:12.170718Z",
     "start_time": "2025-10-20T09:39:12.167622Z"
    }
   },
   "cell_type": "code",
   "source": [
    "print(int(\"39\"))\n",
    "print(str(39))"
   ],
   "id": "141eb0125bcfa01d",
   "outputs": [
    {
     "name": "stdout",
     "output_type": "stream",
     "text": [
      "39\n",
      "39\n"
     ]
    }
   ],
   "execution_count": 36
  },
  {
   "metadata": {
    "ExecuteTime": {
     "end_time": "2025-10-20T09:39:35.020915Z",
     "start_time": "2025-10-20T09:39:35.016268Z"
    }
   },
   "cell_type": "code",
   "source": [
    "print(int(True))\n",
    "print(int(False))"
   ],
   "id": "809992451d3a737a",
   "outputs": [
    {
     "name": "stdout",
     "output_type": "stream",
     "text": [
      "1\n",
      "0\n"
     ]
    }
   ],
   "execution_count": 37
  },
  {
   "metadata": {
    "ExecuteTime": {
     "end_time": "2025-10-20T09:39:45.634606Z",
     "start_time": "2025-10-20T09:39:45.631856Z"
    }
   },
   "cell_type": "code",
   "source": "print(bool(1))",
   "id": "79e725efae75cc05",
   "outputs": [
    {
     "name": "stdout",
     "output_type": "stream",
     "text": [
      "True\n"
     ]
    }
   ],
   "execution_count": 38
  },
  {
   "metadata": {
    "ExecuteTime": {
     "end_time": "2025-10-20T09:40:31.355448Z",
     "start_time": "2025-10-20T09:40:31.351225Z"
    }
   },
   "cell_type": "code",
   "source": "print(bool(100))",
   "id": "6ecd41ebab82a6c3",
   "outputs": [
    {
     "name": "stdout",
     "output_type": "stream",
     "text": [
      "True\n"
     ]
    }
   ],
   "execution_count": 39
  },
  {
   "metadata": {
    "ExecuteTime": {
     "end_time": "2025-10-20T09:40:46.560842Z",
     "start_time": "2025-10-20T09:40:46.558099Z"
    }
   },
   "cell_type": "code",
   "source": "print(bool(\"Radek\"))",
   "id": "7245f33e17f2f2f0",
   "outputs": [
    {
     "name": "stdout",
     "output_type": "stream",
     "text": [
      "True\n"
     ]
    }
   ],
   "execution_count": 40
  },
  {
   "metadata": {
    "ExecuteTime": {
     "end_time": "2025-10-20T09:40:59.249569Z",
     "start_time": "2025-10-20T09:40:59.246369Z"
    }
   },
   "cell_type": "code",
   "source": "print(bool(\"\"))",
   "id": "d8f52649220e2e85",
   "outputs": [
    {
     "name": "stdout",
     "output_type": "stream",
     "text": [
      "False\n"
     ]
    }
   ],
   "execution_count": 41
  },
  {
   "metadata": {
    "ExecuteTime": {
     "end_time": "2025-10-20T09:42:12.794023Z",
     "start_time": "2025-10-20T09:42:12.790799Z"
    }
   },
   "cell_type": "code",
   "source": [
    "# None - nie wiem, stan nieokreślony, odpownik null\n",
    "print(bool(None))"
   ],
   "id": "508d496f8c91ae7c",
   "outputs": [
    {
     "name": "stdout",
     "output_type": "stream",
     "text": [
      "False\n"
     ]
    }
   ],
   "execution_count": 42
  },
  {
   "metadata": {},
   "cell_type": "markdown",
   "source": [
    "### float - liczby zmiennoprzecinkowe\n",
    "For example, in a floating-point arithmetic with five base-ten digits, \\\n",
    "the sum 12.345 + 1.0001 = 13.3451 might be rounded to 13.345."
   ],
   "id": "789d6edf8669dd8"
  },
  {
   "metadata": {
    "ExecuteTime": {
     "end_time": "2025-10-20T09:43:08.045045Z",
     "start_time": "2025-10-20T09:43:08.041327Z"
    }
   },
   "cell_type": "code",
   "source": [
    "import sys\n",
    "\n",
    "print(sys.float_info)"
   ],
   "id": "98594bdd66b0869b",
   "outputs": [
    {
     "name": "stdout",
     "output_type": "stream",
     "text": [
      "sys.float_info(max=1.7976931348623157e+308, max_exp=1024, max_10_exp=308, min=2.2250738585072014e-308, min_exp=-1021, min_10_exp=-307, dig=15, mant_dig=53, epsilon=2.220446049250313e-16, radix=2, rounds=1)\n"
     ]
    }
   ],
   "execution_count": 43
  },
  {
   "metadata": {
    "ExecuteTime": {
     "end_time": "2025-10-20T09:43:55.632109Z",
     "start_time": "2025-10-20T09:43:55.629020Z"
    }
   },
   "cell_type": "code",
   "source": "print(0.1 + 0.9)",
   "id": "5c26f4f8feb34e67",
   "outputs": [
    {
     "name": "stdout",
     "output_type": "stream",
     "text": [
      "1.0\n"
     ]
    }
   ],
   "execution_count": 44
  },
  {
   "metadata": {
    "ExecuteTime": {
     "end_time": "2025-10-20T09:44:30.334677Z",
     "start_time": "2025-10-20T09:44:30.330580Z"
    }
   },
   "cell_type": "code",
   "source": "print(0.1 + 0.2)",
   "id": "ddd28640f6ea7e1e",
   "outputs": [
    {
     "name": "stdout",
     "output_type": "stream",
     "text": [
      "0.30000000000000004\n"
     ]
    }
   ],
   "execution_count": 45
  },
  {
   "metadata": {},
   "cell_type": "markdown",
   "source": "decimal() - ominięcie problemu zaokrąglenia",
   "id": "e40d08a39e1bbd8c"
  },
  {
   "metadata": {
    "ExecuteTime": {
     "end_time": "2025-10-20T09:49:46.881514Z",
     "start_time": "2025-10-20T09:49:46.877298Z"
    }
   },
   "cell_type": "code",
   "source": [
    "# f string - sformatowany string , ctrl / - automatyczny komentarz\n",
    "name = \"Radek\"\n",
    "print(f\"Nazywam się {name}\")"
   ],
   "id": "d99e89454e533998",
   "outputs": [
    {
     "name": "stdout",
     "output_type": "stream",
     "text": [
      "Nazywam się Radek\n"
     ]
    }
   ],
   "execution_count": 46
  },
  {
   "metadata": {
    "ExecuteTime": {
     "end_time": "2025-10-20T09:50:58.255571Z",
     "start_time": "2025-10-20T09:50:58.251Z"
    }
   },
   "cell_type": "code",
   "source": "print(\"Nazywam się {}\".format(name))",
   "id": "66b4b69605e4a5c7",
   "outputs": [
    {
     "name": "stdout",
     "output_type": "stream",
     "text": [
      "Nazywam się Radek\n"
     ]
    }
   ],
   "execution_count": 47
  },
  {
   "metadata": {
    "ExecuteTime": {
     "end_time": "2025-10-20T09:51:20.563954Z",
     "start_time": "2025-10-20T09:51:20.561066Z"
    }
   },
   "cell_type": "code",
   "source": "liczba = 3.900001",
   "id": "15542f9d70c0663b",
   "outputs": [],
   "execution_count": 48
  },
  {
   "metadata": {
    "ExecuteTime": {
     "end_time": "2025-10-20T09:51:41.108026Z",
     "start_time": "2025-10-20T09:51:41.103531Z"
    }
   },
   "cell_type": "code",
   "source": "print(f\"Wersja pythona: {liczba}\")",
   "id": "41e4cf99da6ed0b3",
   "outputs": [
    {
     "name": "stdout",
     "output_type": "stream",
     "text": [
      "Wersja pythona: 3.900001\n"
     ]
    }
   ],
   "execution_count": 49
  },
  {
   "metadata": {
    "ExecuteTime": {
     "end_time": "2025-10-20T09:52:30.233536Z",
     "start_time": "2025-10-20T09:52:30.230411Z"
    }
   },
   "cell_type": "code",
   "source": "print(f\"Wersja pythona: {liczba:.2f}\")",
   "id": "58cb27fe3c40e336",
   "outputs": [
    {
     "name": "stdout",
     "output_type": "stream",
     "text": [
      "Wersja pythona: 3.90\n"
     ]
    }
   ],
   "execution_count": 52
  },
  {
   "metadata": {
    "ExecuteTime": {
     "end_time": "2025-10-20T09:53:21.395062Z",
     "start_time": "2025-10-20T09:53:21.389638Z"
    }
   },
   "cell_type": "code",
   "source": "print(f\"Wersja pythona: {liczba:.0f}\")  # zaokrągla",
   "id": "3b576064eebd73d0",
   "outputs": [
    {
     "name": "stdout",
     "output_type": "stream",
     "text": [
      "Wersja pythona: 4\n"
     ]
    }
   ],
   "execution_count": 53
  },
  {
   "metadata": {
    "ExecuteTime": {
     "end_time": "2025-10-20T09:55:30.472281Z",
     "start_time": "2025-10-20T09:55:30.468804Z"
    }
   },
   "cell_type": "code",
   "source": [
    "starszy = \"Mam na imię %s\"  # %s - oczekuje stringa\n",
    "\n",
    "print(starszy % name)"
   ],
   "id": "418aaf375ddc408b",
   "outputs": [
    {
     "name": "stdout",
     "output_type": "stream",
     "text": [
      "Mam na imię Radek\n"
     ]
    }
   ],
   "execution_count": 54
  },
  {
   "metadata": {
    "ExecuteTime": {
     "end_time": "2025-10-20T09:56:01.409542Z",
     "start_time": "2025-10-20T09:56:01.324243Z"
    }
   },
   "cell_type": "code",
   "source": [
    "starszy = \"Mam na imię %d\"  # %d - liczby\n",
    "print(starszy % name)"
   ],
   "id": "f168d35ba8db060f",
   "outputs": [
    {
     "ename": "TypeError",
     "evalue": "%d format: a real number is required, not str",
     "output_type": "error",
     "traceback": [
      "\u001B[31m---------------------------------------------------------------------------\u001B[39m",
      "\u001B[31mTypeError\u001B[39m                                 Traceback (most recent call last)",
      "\u001B[36mCell\u001B[39m\u001B[36m \u001B[39m\u001B[32mIn[55]\u001B[39m\u001B[32m, line 2\u001B[39m\n\u001B[32m      1\u001B[39m starszy = \u001B[33m\"\u001B[39m\u001B[33mMam na imię \u001B[39m\u001B[38;5;132;01m%d\u001B[39;00m\u001B[33m\"\u001B[39m\n\u001B[32m----> \u001B[39m\u001B[32m2\u001B[39m \u001B[38;5;28mprint\u001B[39m(\u001B[43mstarszy\u001B[49m\u001B[43m \u001B[49m\u001B[43m%\u001B[49m\u001B[43m \u001B[49m\u001B[43mname\u001B[49m)\n",
      "\u001B[31mTypeError\u001B[39m: %d format: a real number is required, not str"
     ]
    }
   ],
   "execution_count": 55
  },
  {
   "metadata": {},
   "cell_type": "markdown",
   "source": [
    "sep\\\n",
    "        string inserted between values, default a space."
   ],
   "id": "a9eba7566f95a5cf"
  },
  {
   "metadata": {
    "ExecuteTime": {
     "end_time": "2025-10-20T09:58:05.156523Z",
     "start_time": "2025-10-20T09:58:05.153275Z"
    }
   },
   "cell_type": "code",
   "source": "print('Wynik:', liczba)",
   "id": "281d2b3b5fd6602b",
   "outputs": [
    {
     "name": "stdout",
     "output_type": "stream",
     "text": [
      "Wynik: 3.900001\n"
     ]
    }
   ],
   "execution_count": 57
  },
  {
   "metadata": {
    "ExecuteTime": {
     "end_time": "2025-10-20T09:59:12.590497Z",
     "start_time": "2025-10-20T09:59:12.586518Z"
    }
   },
   "cell_type": "code",
   "source": "print(\"Wynik:\", liczba, sep=\".....\")",
   "id": "1f783611f46e6bb7",
   "outputs": [
    {
     "name": "stdout",
     "output_type": "stream",
     "text": [
      "Wynik:.....3.900001\n"
     ]
    }
   ],
   "execution_count": 58
  },
  {
   "metadata": {
    "ExecuteTime": {
     "end_time": "2025-10-20T10:00:45.955630Z",
     "start_time": "2025-10-20T10:00:45.948071Z"
    }
   },
   "cell_type": "code",
   "source": [
    "print(\"linia 1\", end=\"\")\n",
    "print(\"Linia 2\")"
   ],
   "id": "37fb21e7b95e61c0",
   "outputs": [
    {
     "name": "stdout",
     "output_type": "stream",
     "text": [
      "linia 1Linia 2\n"
     ]
    }
   ],
   "execution_count": 59
  },
  {
   "metadata": {
    "ExecuteTime": {
     "end_time": "2025-10-20T10:01:41.653939Z",
     "start_time": "2025-10-20T10:01:41.650123Z"
    }
   },
   "cell_type": "code",
   "source": [
    "print(100 / 3)\n",
    "print(100 // 3)  # część całkowita z dzielenia\n",
    "print(100 % 3)  # modulo, reszta z dzielenia, 1\n",
    "print(10 % 3)\n"
   ],
   "id": "3f09dc4cb9c4355b",
   "outputs": [
    {
     "name": "stdout",
     "output_type": "stream",
     "text": [
      "33.333333333333336\n",
      "33\n",
      "1\n",
      "1\n"
     ]
    }
   ],
   "execution_count": 60
  },
  {
   "metadata": {
    "ExecuteTime": {
     "end_time": "2025-10-20T10:03:33.819356Z",
     "start_time": "2025-10-20T10:03:33.815160Z"
    }
   },
   "cell_type": "code",
   "source": "print(10 % 2 == 0)  # True, parzysta",
   "id": "eac0823185be0e5",
   "outputs": [
    {
     "name": "stdout",
     "output_type": "stream",
     "text": [
      "True\n"
     ]
    }
   ],
   "execution_count": 61
  },
  {
   "metadata": {
    "ExecuteTime": {
     "end_time": "2025-10-20T10:04:04.688665Z",
     "start_time": "2025-10-20T10:04:04.686054Z"
    }
   },
   "cell_type": "code",
   "source": "zysk = 678098789012543",
   "id": "fd3b51db4054b830",
   "outputs": [],
   "execution_count": 62
  },
  {
   "metadata": {
    "ExecuteTime": {
     "end_time": "2025-10-20T10:04:47.084044Z",
     "start_time": "2025-10-20T10:04:47.078247Z"
    }
   },
   "cell_type": "code",
   "source": [
    "print(f'Nasza duża liczba: {zysk}')\n",
    "print(f'Nasza duża liczba: {zysk:,}')"
   ],
   "id": "b7ea29700c90e47a",
   "outputs": [
    {
     "name": "stdout",
     "output_type": "stream",
     "text": [
      "Nasza duża liczba: 678098789012543\n",
      "Nasza duża liczba: 678,098,789,012,543\n"
     ]
    }
   ],
   "execution_count": 63
  },
  {
   "metadata": {
    "ExecuteTime": {
     "end_time": "2025-10-20T10:05:01.998623Z",
     "start_time": "2025-10-20T10:05:01.784582Z"
    }
   },
   "cell_type": "code",
   "source": "print(f'Nasza duża liczba: {zysk:_}')",
   "id": "b0f6ed029b11727b",
   "outputs": [
    {
     "name": "stdout",
     "output_type": "stream",
     "text": [
      "Nasza duża liczba: 678_098_789_012_543\n"
     ]
    }
   ],
   "execution_count": 64
  },
  {
   "metadata": {
    "ExecuteTime": {
     "end_time": "2025-10-20T10:05:34.791922Z",
     "start_time": "2025-10-20T10:05:34.788489Z"
    }
   },
   "cell_type": "code",
   "source": "print(f'Nasza duża liczba: {zysk:,}'.replace(\",\", \" \"))",
   "id": "62061cdca20d2d01",
   "outputs": [
    {
     "name": "stdout",
     "output_type": "stream",
     "text": [
      "Nasza duża liczba: 678 098 789 012 543\n"
     ]
    }
   ],
   "execution_count": 66
  },
  {
   "metadata": {
    "ExecuteTime": {
     "end_time": "2025-10-20T10:06:53.982434Z",
     "start_time": "2025-10-20T10:06:53.979784Z"
    }
   },
   "cell_type": "code",
   "source": "parametr = 100_000_000_000_000",
   "id": "e72f0ffe30149470",
   "outputs": [],
   "execution_count": 67
  },
  {
   "metadata": {
    "ExecuteTime": {
     "end_time": "2025-10-20T10:07:13.816914Z",
     "start_time": "2025-10-20T10:07:13.813872Z"
    }
   },
   "cell_type": "code",
   "source": [
    "print(parametr)\n",
    "print(type(parametr))"
   ],
   "id": "fb0796b97357c60e",
   "outputs": [
    {
     "name": "stdout",
     "output_type": "stream",
     "text": [
      "100000000000000\n",
      "<class 'int'>\n"
     ]
    }
   ],
   "execution_count": 68
  },
  {
   "metadata": {},
   "cell_type": "markdown",
   "source": "# Kolekcje",
   "id": "8a3775e439b21da6"
  },
  {
   "metadata": {},
   "cell_type": "code",
   "outputs": [],
   "execution_count": null,
   "source": [
    "# lista - dowolna ilośc elementów, różnego typu na raz\n",
    "# zachowuje kolejnośc przy dodawaniu"
   ],
   "id": "97b9af7dd055f137"
  },
  {
   "metadata": {
    "ExecuteTime": {
     "end_time": "2025-10-20T10:09:07.578943Z",
     "start_time": "2025-10-20T10:09:07.574982Z"
    }
   },
   "cell_type": "code",
   "source": [
    "lista = []\n",
    "lista_pusta = list()"
   ],
   "id": "3479c23ae1d43a2e",
   "outputs": [],
   "execution_count": 69
  },
  {
   "metadata": {
    "ExecuteTime": {
     "end_time": "2025-10-20T10:09:30.662066Z",
     "start_time": "2025-10-20T10:09:30.654739Z"
    }
   },
   "cell_type": "code",
   "source": "print(type(lista))",
   "id": "9e1f9b96e6d56416",
   "outputs": [
    {
     "name": "stdout",
     "output_type": "stream",
     "text": [
      "<class 'list'>\n"
     ]
    }
   ],
   "execution_count": 70
  },
  {
   "metadata": {
    "ExecuteTime": {
     "end_time": "2025-10-20T10:09:40.309417Z",
     "start_time": "2025-10-20T10:09:40.297237Z"
    }
   },
   "cell_type": "code",
   "source": "print(lista)",
   "id": "69106dbf2a6d54b7",
   "outputs": [
    {
     "name": "stdout",
     "output_type": "stream",
     "text": [
      "[]\n"
     ]
    }
   ],
   "execution_count": 71
  },
  {
   "metadata": {
    "ExecuteTime": {
     "end_time": "2025-10-20T10:11:54.608635Z",
     "start_time": "2025-10-20T10:11:54.604592Z"
    }
   },
   "cell_type": "code",
   "source": [
    "lista_pusta.append(\"Radek\")\n",
    "lista_pusta.append(\"Tomek\")\n",
    "lista_pusta.append(\"Agnieszka\")\n",
    "lista_pusta.append(\"Zenek\")"
   ],
   "id": "c5560ebda71366d8",
   "outputs": [],
   "execution_count": 72
  },
  {
   "metadata": {
    "ExecuteTime": {
     "end_time": "2025-10-20T10:12:12.664997Z",
     "start_time": "2025-10-20T10:12:12.661023Z"
    }
   },
   "cell_type": "code",
   "source": "print(lista_pusta)",
   "id": "2b52786facd137c8",
   "outputs": [
    {
     "name": "stdout",
     "output_type": "stream",
     "text": [
      "['Radek', 'Tomek', 'Agnieszka', 'Zenek']\n"
     ]
    }
   ],
   "execution_count": 73
  },
  {
   "metadata": {
    "ExecuteTime": {
     "end_time": "2025-10-20T10:12:53.448983Z",
     "start_time": "2025-10-20T10:12:53.444978Z"
    }
   },
   "cell_type": "code",
   "source": [
    "lista_pusta.sort()  # zmienia oryginalną listą\n",
    "print(lista_pusta)"
   ],
   "id": "3db0b00dd5717d2d",
   "outputs": [
    {
     "name": "stdout",
     "output_type": "stream",
     "text": [
      "['Agnieszka', 'Radek', 'Tomek', 'Zenek']\n"
     ]
    }
   ],
   "execution_count": 75
  },
  {
   "metadata": {
    "ExecuteTime": {
     "end_time": "2025-10-20T10:13:24.600248Z",
     "start_time": "2025-10-20T10:13:24.588326Z"
    }
   },
   "cell_type": "code",
   "source": [
    "lista_pusta.append(345)\n",
    "print(lista_pusta)"
   ],
   "id": "6e1a4e02bbac1289",
   "outputs": [
    {
     "name": "stdout",
     "output_type": "stream",
     "text": [
      "['Agnieszka', 'Radek', 'Tomek', 'Zenek', 345]\n"
     ]
    }
   ],
   "execution_count": 76
  },
  {
   "metadata": {
    "ExecuteTime": {
     "end_time": "2025-10-20T10:14:40.561886Z",
     "start_time": "2025-10-20T10:14:40.536391Z"
    }
   },
   "cell_type": "code",
   "source": "lista_pusta.sort()",
   "id": "3e71c94461c5903e",
   "outputs": [
    {
     "ename": "TypeError",
     "evalue": "'<' not supported between instances of 'int' and 'str'",
     "output_type": "error",
     "traceback": [
      "\u001B[31m---------------------------------------------------------------------------\u001B[39m",
      "\u001B[31mTypeError\u001B[39m                                 Traceback (most recent call last)",
      "\u001B[36mCell\u001B[39m\u001B[36m \u001B[39m\u001B[32mIn[77]\u001B[39m\u001B[32m, line 1\u001B[39m\n\u001B[32m----> \u001B[39m\u001B[32m1\u001B[39m \u001B[43mlista_pusta\u001B[49m\u001B[43m.\u001B[49m\u001B[43msort\u001B[49m\u001B[43m(\u001B[49m\u001B[43m)\u001B[49m\n",
      "\u001B[31mTypeError\u001B[39m: '<' not supported between instances of 'int' and 'str'"
     ]
    }
   ],
   "execution_count": 77
  },
  {
   "metadata": {
    "ExecuteTime": {
     "end_time": "2025-10-20T10:15:34.590069Z",
     "start_time": "2025-10-20T10:15:34.584841Z"
    }
   },
   "cell_type": "code",
   "source": [
    "# indeksy od 0\n",
    "lista_pusta[0]"
   ],
   "id": "21dbf273115ac24d",
   "outputs": [
    {
     "data": {
      "text/plain": [
       "'Agnieszka'"
      ]
     },
     "execution_count": 78,
     "metadata": {},
     "output_type": "execute_result"
    }
   ],
   "execution_count": 78
  },
  {
   "metadata": {
    "ExecuteTime": {
     "end_time": "2025-10-20T10:15:46.340293Z",
     "start_time": "2025-10-20T10:15:46.335952Z"
    }
   },
   "cell_type": "code",
   "source": "lista_pusta[3]",
   "id": "7eb239032813f05e",
   "outputs": [
    {
     "data": {
      "text/plain": [
       "'Zenek'"
      ]
     },
     "execution_count": 79,
     "metadata": {},
     "output_type": "execute_result"
    }
   ],
   "execution_count": 79
  },
  {
   "metadata": {
    "ExecuteTime": {
     "end_time": "2025-10-20T10:16:28.329509Z",
     "start_time": "2025-10-20T10:16:28.324388Z"
    }
   },
   "cell_type": "code",
   "source": [
    "lista_pusta.insert(1, \"Magda\")\n",
    "lista_pusta"
   ],
   "id": "d70089ce814eaeb1",
   "outputs": [
    {
     "data": {
      "text/plain": [
       "['Agnieszka', 'Magda', 'Radek', 'Tomek', 'Zenek', 345]"
      ]
     },
     "execution_count": 80,
     "metadata": {},
     "output_type": "execute_result"
    }
   ],
   "execution_count": 80
  },
  {
   "metadata": {
    "ExecuteTime": {
     "end_time": "2025-10-20T10:16:59.099412Z",
     "start_time": "2025-10-20T10:16:59.095785Z"
    }
   },
   "cell_type": "code",
   "source": [
    "lista_pusta[5] = \"Marek\"\n",
    "lista_pusta"
   ],
   "id": "9865748cf6746960",
   "outputs": [
    {
     "data": {
      "text/plain": [
       "['Agnieszka', 'Magda', 'Radek', 'Tomek', 'Zenek', 'Marek']"
      ]
     },
     "execution_count": 81,
     "metadata": {},
     "output_type": "execute_result"
    }
   ],
   "execution_count": 81
  },
  {
   "metadata": {
    "ExecuteTime": {
     "end_time": "2025-10-20T10:17:39.382989Z",
     "start_time": "2025-10-20T10:17:39.378277Z"
    }
   },
   "cell_type": "code",
   "source": "print(len(lista_pusta))",
   "id": "d22ffe7776d5807b",
   "outputs": [
    {
     "name": "stdout",
     "output_type": "stream",
     "text": [
      "6\n"
     ]
    }
   ],
   "execution_count": 82
  },
  {
   "metadata": {
    "ExecuteTime": {
     "end_time": "2025-10-20T10:18:15.850063Z",
     "start_time": "2025-10-20T10:18:15.844756Z"
    }
   },
   "cell_type": "code",
   "source": "print(lista_pusta[len(lista_pusta) - 1])",
   "id": "443302d3391f647",
   "outputs": [
    {
     "name": "stdout",
     "output_type": "stream",
     "text": [
      "Marek\n"
     ]
    }
   ],
   "execution_count": 83
  },
  {
   "metadata": {
    "ExecuteTime": {
     "end_time": "2025-10-20T10:18:32.834383Z",
     "start_time": "2025-10-20T10:18:32.827712Z"
    }
   },
   "cell_type": "code",
   "source": "print(lista_pusta[-1])  # ostatni element z listy",
   "id": "1df1c6ca7cd7c4bc",
   "outputs": [
    {
     "name": "stdout",
     "output_type": "stream",
     "text": [
      "Marek\n"
     ]
    }
   ],
   "execution_count": 84
  },
  {
   "metadata": {
    "ExecuteTime": {
     "end_time": "2025-10-20T10:19:01.037778Z",
     "start_time": "2025-10-20T10:19:01.017879Z"
    }
   },
   "cell_type": "code",
   "source": "print(lista_pusta[-3])",
   "id": "c16f548474caaf7a",
   "outputs": [
    {
     "name": "stdout",
     "output_type": "stream",
     "text": [
      "Tomek\n"
     ]
    }
   ],
   "execution_count": 85
  },
  {
   "metadata": {},
   "cell_type": "code",
   "outputs": [],
   "execution_count": null,
   "source": [
    "# slicowanie - fragmenty listy\n",
    "# ['Agnieszka', 'Magda', 'Radek', 'Tomek', 'Zenek', 'Marek']"
   ],
   "id": "3cf8a8b7d404ace8"
  },
  {
   "metadata": {
    "ExecuteTime": {
     "end_time": "2025-10-20T10:20:16.788211Z",
     "start_time": "2025-10-20T10:20:16.783688Z"
    }
   },
   "cell_type": "code",
   "source": "print(lista_pusta[0:2])  # 0,1 - bez prawego elementu",
   "id": "84cd7129ff26d03a",
   "outputs": [
    {
     "name": "stdout",
     "output_type": "stream",
     "text": [
      "['Agnieszka', 'Magda']\n"
     ]
    }
   ],
   "execution_count": 86
  },
  {
   "metadata": {
    "ExecuteTime": {
     "end_time": "2025-10-20T10:20:49.147494Z",
     "start_time": "2025-10-20T10:20:49.104277Z"
    }
   },
   "cell_type": "code",
   "source": "print(lista_pusta[:2])",
   "id": "736635732a4914cd",
   "outputs": [
    {
     "name": "stdout",
     "output_type": "stream",
     "text": [
      "['Agnieszka', 'Magda']\n"
     ]
    }
   ],
   "execution_count": 87
  },
  {
   "metadata": {
    "ExecuteTime": {
     "end_time": "2025-10-20T10:21:46.708270Z",
     "start_time": "2025-10-20T10:21:46.701685Z"
    }
   },
   "cell_type": "code",
   "source": [
    "print(lista_pusta[1:])  # z ostatnim włącznie\n",
    "print(lista_pusta[1:5])  # ['Magda', 'Radek', 'Tomek', 'Zenek']"
   ],
   "id": "f69a36364d3b4584",
   "outputs": [
    {
     "name": "stdout",
     "output_type": "stream",
     "text": [
      "['Magda', 'Radek', 'Tomek', 'Zenek', 'Marek']\n",
      "['Magda', 'Radek', 'Tomek', 'Zenek']\n"
     ]
    }
   ],
   "execution_count": 89
  },
  {
   "metadata": {
    "ExecuteTime": {
     "end_time": "2025-10-20T10:22:28.976420Z",
     "start_time": "2025-10-20T10:22:28.972563Z"
    }
   },
   "cell_type": "code",
   "source": "lista_pusta[1:-1]",
   "id": "a7925b655545b507",
   "outputs": [
    {
     "data": {
      "text/plain": [
       "['Magda', 'Radek', 'Tomek', 'Zenek']"
      ]
     },
     "execution_count": 90,
     "metadata": {},
     "output_type": "execute_result"
    }
   ],
   "execution_count": 90
  },
  {
   "metadata": {
    "ExecuteTime": {
     "end_time": "2025-10-20T10:22:57.571745Z",
     "start_time": "2025-10-20T10:22:57.568755Z"
    }
   },
   "cell_type": "code",
   "source": "print(lista_pusta[0:4:2])  # [start:stop:krok], co drugi",
   "id": "764cf12961d9dfa7",
   "outputs": [
    {
     "name": "stdout",
     "output_type": "stream",
     "text": [
      "['Agnieszka', 'Radek']\n"
     ]
    }
   ],
   "execution_count": 91
  },
  {
   "metadata": {
    "ExecuteTime": {
     "end_time": "2025-10-20T10:23:35.723881Z",
     "start_time": "2025-10-20T10:23:35.720310Z"
    }
   },
   "cell_type": "code",
   "source": "print(lista_pusta[::-1])  # wyświetlenie w odwrotnej kolejności",
   "id": "7be49702fc9a34df",
   "outputs": [
    {
     "name": "stdout",
     "output_type": "stream",
     "text": [
      "['Marek', 'Zenek', 'Tomek', 'Radek', 'Magda', 'Agnieszka']\n"
     ]
    }
   ],
   "execution_count": 93
  },
  {
   "metadata": {
    "ExecuteTime": {
     "end_time": "2025-10-20T10:24:17.021153Z",
     "start_time": "2025-10-20T10:24:17.017770Z"
    }
   },
   "cell_type": "code",
   "source": "print(lista_pusta[45:90])  # dostaniemy pustą listę",
   "id": "3790fcf1a2aec656",
   "outputs": [
    {
     "name": "stdout",
     "output_type": "stream",
     "text": [
      "[]\n"
     ]
    }
   ],
   "execution_count": 94
  },
  {
   "metadata": {
    "ExecuteTime": {
     "end_time": "2025-10-20T10:25:11.426632Z",
     "start_time": "2025-10-20T10:25:11.398600Z"
    }
   },
   "cell_type": "code",
   "source": "print(lista_pusta[45])",
   "id": "60198d46f7ea6b24",
   "outputs": [
    {
     "ename": "IndexError",
     "evalue": "list index out of range",
     "output_type": "error",
     "traceback": [
      "\u001B[31m---------------------------------------------------------------------------\u001B[39m",
      "\u001B[31mIndexError\u001B[39m                                Traceback (most recent call last)",
      "\u001B[36mCell\u001B[39m\u001B[36m \u001B[39m\u001B[32mIn[95]\u001B[39m\u001B[32m, line 1\u001B[39m\n\u001B[32m----> \u001B[39m\u001B[32m1\u001B[39m \u001B[38;5;28mprint\u001B[39m(\u001B[43mlista_pusta\u001B[49m\u001B[43m[\u001B[49m\u001B[32;43m45\u001B[39;49m\u001B[43m]\u001B[49m)\n",
      "\u001B[31mIndexError\u001B[39m: list index out of range"
     ]
    }
   ],
   "execution_count": 95
  },
  {
   "metadata": {
    "ExecuteTime": {
     "end_time": "2025-10-20T10:25:50.799704Z",
     "start_time": "2025-10-20T10:25:50.796077Z"
    }
   },
   "cell_type": "code",
   "source": [
    "lista_pusta.remove(\"Magda\")  # usunięcie po elemencie\n",
    "print(lista_pusta)"
   ],
   "id": "6bb7fdafc1d777bf",
   "outputs": [
    {
     "name": "stdout",
     "output_type": "stream",
     "text": [
      "['Agnieszka', 'Radek', 'Tomek', 'Zenek', 'Marek']\n"
     ]
    }
   ],
   "execution_count": 96
  },
  {
   "metadata": {
    "ExecuteTime": {
     "end_time": "2025-10-20T10:26:50.332237Z",
     "start_time": "2025-10-20T10:26:50.326470Z"
    }
   },
   "cell_type": "code",
   "source": [
    "osoby = [\"Tomek\", \"Ewa\", \"Adam\"]\n",
    "osoby.extend(lista_pusta)\n",
    "osoby"
   ],
   "id": "6128fcd62dab850d",
   "outputs": [
    {
     "data": {
      "text/plain": [
       "['Tomek', 'Ewa', 'Adam', 'Agnieszka', 'Radek', 'Tomek', 'Zenek', 'Marek']"
      ]
     },
     "execution_count": 99,
     "metadata": {},
     "output_type": "execute_result"
    }
   ],
   "execution_count": 99
  },
  {
   "metadata": {
    "ExecuteTime": {
     "end_time": "2025-10-20T10:28:13.427184Z",
     "start_time": "2025-10-20T10:28:13.423860Z"
    }
   },
   "cell_type": "code",
   "source": [
    "osoby.remove(\"Tomek\")  # pierwszy od lewej\n",
    "print(osoby)"
   ],
   "id": "be5a258e1d7104c",
   "outputs": [
    {
     "name": "stdout",
     "output_type": "stream",
     "text": [
      "['Ewa', 'Adam', 'Agnieszka', 'Radek', 'Tomek', 'Zenek', 'Marek']\n"
     ]
    }
   ],
   "execution_count": 101
  },
  {
   "metadata": {
    "ExecuteTime": {
     "end_time": "2025-10-20T10:29:27.021428Z",
     "start_time": "2025-10-20T10:29:27.016244Z"
    }
   },
   "cell_type": "code",
   "source": [
    "# usunięcie po indeksie, zwraca usnięty element\n",
    "print(osoby.pop(3))"
   ],
   "id": "347a565c9df3098b",
   "outputs": [
    {
     "name": "stdout",
     "output_type": "stream",
     "text": [
      "Radek\n"
     ]
    }
   ],
   "execution_count": 102
  },
  {
   "metadata": {
    "ExecuteTime": {
     "end_time": "2025-10-20T10:30:10.070236Z",
     "start_time": "2025-10-20T10:30:10.066596Z"
    }
   },
   "cell_type": "code",
   "source": "print(osoby.pop())  # ostatni element",
   "id": "c57a02777c93b4d4",
   "outputs": [
    {
     "name": "stdout",
     "output_type": "stream",
     "text": [
      "Marek\n"
     ]
    }
   ],
   "execution_count": 103
  },
  {
   "metadata": {
    "ExecuteTime": {
     "end_time": "2025-10-20T10:34:04.700442Z",
     "start_time": "2025-10-20T10:34:04.697473Z"
    }
   },
   "cell_type": "code",
   "source": "osoby = ['Ewa', 'Adam', 'Agnieszka', 'Radek', 'Tomek', 'Zenek', 'Marek']",
   "id": "f517a41febe707c7",
   "outputs": [],
   "execution_count": 113
  },
  {
   "metadata": {
    "ExecuteTime": {
     "end_time": "2025-10-20T10:34:05.883963Z",
     "start_time": "2025-10-20T10:34:05.880895Z"
    }
   },
   "cell_type": "code",
   "source": [
    "nowa_lista = osoby  # kopia referencji\n",
    "print(nowa_lista)\n",
    "print(osoby)"
   ],
   "id": "db875d9bef35f15c",
   "outputs": [
    {
     "name": "stdout",
     "output_type": "stream",
     "text": [
      "['Ewa', 'Adam', 'Agnieszka', 'Radek', 'Tomek', 'Zenek', 'Marek']\n",
      "['Ewa', 'Adam', 'Agnieszka', 'Radek', 'Tomek', 'Zenek', 'Marek']\n"
     ]
    }
   ],
   "execution_count": 114
  },
  {
   "metadata": {
    "ExecuteTime": {
     "end_time": "2025-10-20T10:34:07.613986Z",
     "start_time": "2025-10-20T10:34:07.611302Z"
    }
   },
   "cell_type": "code",
   "source": "lista_copy = osoby.copy()",
   "id": "4aae12c35fd69f2",
   "outputs": [],
   "execution_count": 115
  },
  {
   "metadata": {
    "ExecuteTime": {
     "end_time": "2025-10-20T10:34:08.628904Z",
     "start_time": "2025-10-20T10:34:08.626149Z"
    }
   },
   "cell_type": "code",
   "source": "osoby.clear()  # usunięcie wszystkich elementów z listy",
   "id": "9de6cf12003ba9d9",
   "outputs": [],
   "execution_count": 116
  },
  {
   "metadata": {
    "ExecuteTime": {
     "end_time": "2025-10-20T10:34:09.654157Z",
     "start_time": "2025-10-20T10:34:09.651206Z"
    }
   },
   "cell_type": "code",
   "source": [
    "print(nowa_lista)\n",
    "print(osoby)"
   ],
   "id": "528c0f22fc7bbf5e",
   "outputs": [
    {
     "name": "stdout",
     "output_type": "stream",
     "text": [
      "[]\n",
      "[]\n"
     ]
    }
   ],
   "execution_count": 117
  },
  {
   "metadata": {
    "ExecuteTime": {
     "end_time": "2025-10-20T10:34:11.435192Z",
     "start_time": "2025-10-20T10:34:11.431828Z"
    }
   },
   "cell_type": "code",
   "source": "print(lista_copy)",
   "id": "6ea4df6ef5b58dcb",
   "outputs": [
    {
     "name": "stdout",
     "output_type": "stream",
     "text": [
      "['Ewa', 'Adam', 'Agnieszka', 'Radek', 'Tomek', 'Zenek', 'Marek']\n"
     ]
    }
   ],
   "execution_count": 118
  },
  {
   "metadata": {
    "ExecuteTime": {
     "end_time": "2025-10-20T10:34:49.818535Z",
     "start_time": "2025-10-20T10:34:49.811915Z"
    }
   },
   "cell_type": "code",
   "source": [
    "print(id(osoby))\n",
    "print(id(nowa_lista))\n",
    "print(id(lista_copy))"
   ],
   "id": "c368278fa601954f",
   "outputs": [
    {
     "name": "stdout",
     "output_type": "stream",
     "text": [
      "2207611106624\n",
      "2207611106624\n",
      "2207610350208\n"
     ]
    }
   ],
   "execution_count": 119
  }
 ],
 "metadata": {
  "kernelspec": {
   "display_name": "Python 3",
   "language": "python",
   "name": "python3"
  },
  "language_info": {
   "codemirror_mode": {
    "name": "ipython",
    "version": 2
   },
   "file_extension": ".py",
   "mimetype": "text/x-python",
   "name": "python",
   "nbconvert_exporter": "python",
   "pygments_lexer": "ipython2",
   "version": "2.7.6"
  }
 },
 "nbformat": 4,
 "nbformat_minor": 5
}
