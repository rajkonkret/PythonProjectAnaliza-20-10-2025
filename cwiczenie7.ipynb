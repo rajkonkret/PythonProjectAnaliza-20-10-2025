{
 "cells": [
  {
   "metadata": {},
   "cell_type": "markdown",
   "source": [
    "------\n",
    "## Podsumowanie"
   ],
   "id": "76d30b07bf484975"
  },
  {
   "cell_type": "code",
   "id": "initial_id",
   "metadata": {
    "collapsed": true,
    "ExecuteTime": {
     "end_time": "2025-10-21T10:12:40.510710Z",
     "start_time": "2025-10-21T10:12:40.507875Z"
    }
   },
   "source": [
    "import pandas as pd\n",
    "import numpy as np"
   ],
   "outputs": [],
   "execution_count": 1
  },
  {
   "metadata": {
    "ExecuteTime": {
     "end_time": "2025-10-21T10:14:50.423196Z",
     "start_time": "2025-10-21T10:14:50.414155Z"
    }
   },
   "cell_type": "code",
   "source": [
    "# generowanie przykłądowych danych\n",
    "np.random.seed(42)\n",
    "dane = np.random.normal(loc=70, scale=10, size=30)  # loc - średnia, scale - odchylenie"
   ],
   "id": "52b78f3e29e32ec6",
   "outputs": [],
   "execution_count": 2
  },
  {
   "metadata": {
    "ExecuteTime": {
     "end_time": "2025-10-21T10:15:27.315960Z",
     "start_time": "2025-10-21T10:15:27.307971Z"
    }
   },
   "cell_type": "code",
   "source": [
    "df = pd.DataFrame({\"Wynik\": dane})\n",
    "print(\"Dane:\", df.head())"
   ],
   "id": "b41698062f078b7d",
   "outputs": [
    {
     "name": "stdout",
     "output_type": "stream",
     "text": [
      "Dane:        Wynik\n",
      "0  74.967142\n",
      "1  68.617357\n",
      "2  76.476885\n",
      "3  85.230299\n",
      "4  67.658466\n"
     ]
    }
   ],
   "execution_count": 3
  },
  {
   "metadata": {
    "ExecuteTime": {
     "end_time": "2025-10-21T10:16:37.449434Z",
     "start_time": "2025-10-21T10:16:37.441076Z"
    }
   },
   "cell_type": "code",
   "source": [
    "srednia = df['Wynik'].mean()\n",
    "mediana = df['Wynik'].median()\n",
    "dominanta = df[\"Wynik\"].mode()[0]"
   ],
   "id": "4b60d9632843566b",
   "outputs": [],
   "execution_count": 4
  },
  {
   "metadata": {
    "ExecuteTime": {
     "end_time": "2025-10-21T10:17:46.526408Z",
     "start_time": "2025-10-21T10:17:46.520766Z"
    }
   },
   "cell_type": "code",
   "source": [
    "print(f\"Średnia:\", srednia)\n",
    "print(f\"Mediana:\", mediana)\n",
    "print(f\"Dominanta:\", dominanta)  # wartość najcześćiej wystepujaca"
   ],
   "id": "776a9a7cf27d5007",
   "outputs": [
    {
     "name": "stdout",
     "output_type": "stream",
     "text": [
      "Średnia: 68.11853104148962\n",
      "Mediana: 67.65854834163741\n",
      "Dominanta: 50.86719755342202\n"
     ]
    }
   ],
   "execution_count": 5
  },
  {
   "metadata": {
    "ExecuteTime": {
     "end_time": "2025-10-21T10:20:39.368946Z",
     "start_time": "2025-10-21T10:20:39.364868Z"
    }
   },
   "cell_type": "code",
   "source": [
    "wariancja = df[\"Wynik\"].var()\n",
    "odch_stand = df['Wynik'].std()\n",
    "roztep = df['Wynik'].max() - df[\"Wynik\"].min()"
   ],
   "id": "deecb512f550eb6b",
   "outputs": [],
   "execution_count": 6
  },
  {
   "metadata": {
    "ExecuteTime": {
     "end_time": "2025-10-21T10:21:32.802621Z",
     "start_time": "2025-10-21T10:21:32.798714Z"
    }
   },
   "cell_type": "code",
   "source": [
    "print(f\"Wariancja:\", wariancja)\n",
    "print(f\"Odchylenie standardowe:\", odch_stand)\n",
    "print(f\"Rozstęp:\", roztep)"
   ],
   "id": "2ff5fb3e93f7e761",
   "outputs": [
    {
     "name": "stdout",
     "output_type": "stream",
     "text": [
      "Wariancja: 81.00115693656517\n",
      "Odchylenie standardowe: 9.000064274024112\n",
      "Rozstęp: 34.924930601651894\n"
     ]
    }
   ],
   "execution_count": 7
  },
  {
   "metadata": {
    "ExecuteTime": {
     "end_time": "2025-10-21T10:22:31.360619Z",
     "start_time": "2025-10-21T10:22:31.357291Z"
    }
   },
   "cell_type": "code",
   "source": [
    "print(f\"Wariancja: {wariancja:.2f}\")\n",
    "print(f\"Odchylenie standardowe: {odch_stand:.2f}\")\n",
    "print(f\"Rozstęp: {roztep:.2f}\")"
   ],
   "id": "7c371a9c65f4716d",
   "outputs": [
    {
     "name": "stdout",
     "output_type": "stream",
     "text": [
      "Wariancja: 81.00\n",
      "Odchylenie standardowe: 9.00\n",
      "Rozstęp: 34.92\n"
     ]
    }
   ],
   "execution_count": 8
  },
  {
   "metadata": {
    "ExecuteTime": {
     "end_time": "2025-10-21T10:23:19.123579Z",
     "start_time": "2025-10-21T10:23:19.120049Z"
    }
   },
   "cell_type": "code",
   "source": [
    "import matplotlib.pyplot as plt\n",
    "import seaborn as sns"
   ],
   "id": "311885ee4033d4ab",
   "outputs": [],
   "execution_count": 9
  },
  {
   "metadata": {
    "ExecuteTime": {
     "end_time": "2025-10-21T10:23:46.384423Z",
     "start_time": "2025-10-21T10:23:46.353509Z"
    }
   },
   "cell_type": "code",
   "source": "plt.figure(figsize=(12, 5))",
   "id": "ed53c6b582704842",
   "outputs": [
    {
     "data": {
      "text/plain": [
       "<Figure size 1200x500 with 0 Axes>"
      ]
     },
     "execution_count": 10,
     "metadata": {},
     "output_type": "execute_result"
    },
    {
     "data": {
      "text/plain": [
       "<Figure size 1200x500 with 0 Axes>"
      ]
     },
     "metadata": {},
     "output_type": "display_data",
     "jetTransient": {
      "display_id": null
     }
    }
   ],
   "execution_count": 10
  },
  {
   "metadata": {
    "ExecuteTime": {
     "end_time": "2025-10-21T10:24:54.514244Z",
     "start_time": "2025-10-21T10:24:54.326457Z"
    }
   },
   "cell_type": "code",
   "source": [
    "plt.subplot(1, 2, 1)\n",
    "sns.histplot(df[\"Wynik\"], kde=True, color=\"skyblue\")\n",
    "plt.title(\"Histogram wyników\")"
   ],
   "id": "5e46ec7a963295e7",
   "outputs": [
    {
     "data": {
      "text/plain": [
       "Text(0.5, 1.0, 'Histogram wyników')"
      ]
     },
     "execution_count": 11,
     "metadata": {},
     "output_type": "execute_result"
    },
    {
     "data": {
      "text/plain": [
       "<Figure size 640x480 with 1 Axes>"
      ],
      "image/png": "[encoded data removed]"
     },
     "metadata": {},
     "output_type": "display_data",
     "jetTransient": {
      "display_id": null
     }
    }
   ],
   "execution_count": 11
  },
  {
   "metadata": {
    "ExecuteTime": {
     "end_time": "2025-10-21T10:26:51.157126Z",
     "start_time": "2025-10-21T10:26:51.041187Z"
    }
   },
   "cell_type": "code",
   "source": [
    "# wykres ramka-wąsy\n",
    "plt.subplot(1, 2, 2)\n",
    "sns.boxplot(x=df[\"Wynik\"], color=\"lightgreen\")\n",
    "plt.title(\"Wykres pudełkowy (boxplot)\")\n"
   ],
   "id": "4310258a3ef42f45",
   "outputs": [
    {
     "data": {
      "text/plain": [
       "Text(0.5, 1.0, 'Wykres pudełkowy (boxplot)')"
      ]
     },
     "execution_count": 13,
     "metadata": {},
     "output_type": "execute_result"
    },
    {
     "data": {
      "text/plain": [
       "<Figure size 640x480 with 1 Axes>"
      ],
      "image/png": "[encoded data removed]"
     },
     "metadata": {},
     "output_type": "display_data",
     "jetTransient": {
      "display_id": null
     }
    }
   ],
   "execution_count": 13
  },
  {
   "metadata": {
    "ExecuteTime": {
     "end_time": "2025-10-21T10:28:02.458991Z",
     "start_time": "2025-10-21T10:28:02.442423Z"
    }
   },
   "cell_type": "code",
   "source": [
    "import pandas as pd\n",
    "import numpy as np\n",
    "\n",
    "np.random.seed(1)"
   ],
   "id": "3e47db24f5724dae",
   "outputs": [],
   "execution_count": 15
  },
  {
   "metadata": {
    "ExecuteTime": {
     "end_time": "2025-10-21T10:29:20.833054Z",
     "start_time": "2025-10-21T10:29:20.825293Z"
    }
   },
   "cell_type": "code",
   "source": [
    "normal = np.random.normal(50, 5, 100)\n",
    "# z outlierami\n",
    "outliers = np.append(normal, [200, 220, 240])"
   ],
   "id": "786421ca0b358413",
   "outputs": [],
   "execution_count": 17
  },
  {
   "metadata": {
    "ExecuteTime": {
     "end_time": "2025-10-21T10:30:52.106875Z",
     "start_time": "2025-10-21T10:30:52.103461Z"
    }
   },
   "cell_type": "code",
   "source": [
    "df = pd.DataFrame({\n",
    "    \"Bez_outlierow\": normal,\n",
    "    \"z_outlierami\": outliers[:100]  # dopasowanie wielkości\n",
    "})"
   ],
   "id": "1f2f2ec5ccd67125",
   "outputs": [],
   "execution_count": 18
  },
  {
   "metadata": {
    "ExecuteTime": {
     "end_time": "2025-10-21T10:32:05.419328Z",
     "start_time": "2025-10-21T10:32:05.413192Z"
    }
   },
   "cell_type": "code",
   "source": [
    "for col in df.columns:\n",
    "    print(f\"---{col}---\")\n",
    "    print(f\"Średnia: {df[col].mean()}\")\n",
    "    print(f\"Mediana: {df[col].median()}\")\n",
    "    print(f\"Dominanta: {df[col].mode()[0]}\")"
   ],
   "id": "cdb40d4ecf4945e1",
   "outputs": [
    {
     "name": "stdout",
     "output_type": "stream",
     "text": [
      "---Bez_outlierow---\n",
      "Średnia: 50.763973888101\n",
      "Mediana: 51.18307912854118\n",
      "Dominanta: 37.82581117946431\n",
      "---z_outlierami---\n",
      "Średnia: 50.763973888101\n",
      "Mediana: 51.18307912854118\n",
      "Dominanta: 37.82581117946431\n"
     ]
    }
   ],
   "execution_count": 19
  },
  {
   "metadata": {
    "ExecuteTime": {
     "end_time": "2025-10-21T10:33:08.914579Z",
     "start_time": "2025-10-21T10:33:08.909402Z"
    }
   },
   "cell_type": "code",
   "source": "print(df[\"Bez_outlierow\"].mode())",
   "id": "973b6f126f80a390",
   "outputs": [
    {
     "name": "stdout",
     "output_type": "stream",
     "text": [
      "0     37.825811\n",
      "1     40.518195\n",
      "2     40.710091\n",
      "3     41.862808\n",
      "4     41.921138\n",
      "        ...    \n",
      "95    59.523294\n",
      "96    59.835509\n",
      "97    60.934898\n",
      "98    60.953499\n",
      "99    62.641629\n",
      "Name: Bez_outlierow, Length: 100, dtype: float64\n"
     ]
    }
   ],
   "execution_count": 21
  },
  {
   "metadata": {
    "ExecuteTime": {
     "end_time": "2025-10-21T10:37:28.223996Z",
     "start_time": "2025-10-21T10:37:28.052801Z"
    }
   },
   "cell_type": "code",
   "source": [
    "import matplotlib.pyplot as plt\n",
    "import seaborn as sns\n",
    "\n",
    "data = np.random.normal(50, 10, 200)\n",
    "\n",
    "plt.figure(figsize=(10, 6))\n",
    "sns.histplot(data, kde=True, color=\"skyblue\", bins=20, label=\"Histogram + KDE\")\n",
    "sns.boxplot(x=data, color=\"orange\")\n",
    "plt.legend()\n",
    "plt.title(\"Porównanie histogramu, kde i boxplot\")\n",
    "plt.show()"
   ],
   "id": "edf6946a54d337c9",
   "outputs": [
    {
     "data": {
      "text/plain": [
       "<Figure size 1000x600 with 1 Axes>"
      ],
      "image/png": "[encoded data removed]"
     },
     "metadata": {},
     "output_type": "display_data",
     "jetTransient": {
      "display_id": null
     }
    }
   ],
   "execution_count": 24
  },
  {
   "metadata": {
    "ExecuteTime": {
     "end_time": "2025-10-21T10:40:44.961683Z",
     "start_time": "2025-10-21T10:40:44.956178Z"
    }
   },
   "cell_type": "code",
   "source": [
    "groupA = np.random.normal(70, 5, 100)\n",
    "groupB = np.random.normal(65, 10, 100)"
   ],
   "id": "17f96ae9f3d23e20",
   "outputs": [],
   "execution_count": 28
  },
  {
   "metadata": {
    "ExecuteTime": {
     "end_time": "2025-10-21T10:41:36.360924Z",
     "start_time": "2025-10-21T10:41:36.345091Z"
    }
   },
   "cell_type": "code",
   "source": "df = pd.DataFrame({\"Grupa\": [\"A\"] * 100 + [\"B\"] * 100, \"Wynik\": np.concatenate([groupA, groupB])})",
   "id": "e8698df5f001c1e9",
   "outputs": [],
   "execution_count": 31
  },
  {
   "metadata": {
    "ExecuteTime": {
     "end_time": "2025-10-21T10:44:12.847835Z",
     "start_time": "2025-10-21T10:44:12.709583Z"
    }
   },
   "cell_type": "code",
   "source": [
    "sns.boxplot(x=\"Grupa\", y=\"Wynik\", data=df, palette=\"pastel\")\n",
    "plt.title(\"Porównanie wyników dwóch grup\")"
   ],
   "id": "e2ff54c85482d6cd",
   "outputs": [
    {
     "name": "stderr",
     "output_type": "stream",
     "text": [
      "C:\\Users\\CSComarch\\AppData\\Local\\Temp\\ipykernel_13844\\1559278141.py:1: FutureWarning: \n",
      "\n",
      "Passing `palette` without assigning `hue` is deprecated and will be removed in v0.14.0. Assign the `x` variable to `hue` and set `legend=False` for the same effect.\n",
      "\n",
      "  sns.boxplot(x=\"Grupa\", y=\"Wynik\", data=df, palette=\"pastel\")\n"
     ]
    },
    {
     "data": {
      "text/plain": [
       "Text(0.5, 1.0, 'Porównanie wyników dwóch grup')"
      ]
     },
     "execution_count": 35,
     "metadata": {},
     "output_type": "execute_result"
    },
    {
     "data": {
      "text/plain": [
       "<Figure size 640x480 with 1 Axes>"
      ],
      "image/png": "[encoded data removed]"
     },
     "metadata": {},
     "output_type": "display_data",
     "jetTransient": {
      "display_id": null
     }
    }
   ],
   "execution_count": 35
  },
  {
   "metadata": {
    "ExecuteTime": {
     "end_time": "2025-10-21T10:46:37.990969Z",
     "start_time": "2025-10-21T10:46:37.746038Z"
    }
   },
   "cell_type": "code",
   "source": [
    "x = np.random.normal(50, 10, 100)\n",
    "y = 2 * x + np.random.normal(0, 10, 100)\n",
    "\n",
    "df = pd.DataFrame({\"x\": x, \"y\": y})\n",
    "\n",
    "sns.regplot(x=\"x\", y=\"y\", data=df, color=\"green\")\n",
    "plt.show()"
   ],
   "id": "27d801e72b3efd47",
   "outputs": [
    {
     "data": {
      "text/plain": [
       "<Figure size 640x480 with 1 Axes>"
      ],
      "image/png": "[encoded data removed]"
     },
     "metadata": {},
     "output_type": "display_data",
     "jetTransient": {
      "display_id": null
     }
    }
   ],
   "execution_count": 36
  },
  {
   "metadata": {
    "ExecuteTime": {
     "end_time": "2025-10-21T11:21:33.645081Z",
     "start_time": "2025-10-21T11:21:33.641426Z"
    }
   },
   "cell_type": "code",
   "source": [
    "import numpy as np\n",
    "import pandas as pd\n",
    "\n",
    "np.random.seed(0)"
   ],
   "id": "c9d9e628a44763",
   "outputs": [],
   "execution_count": 37
  },
  {
   "metadata": {
    "ExecuteTime": {
     "end_time": "2025-10-21T11:22:46.260974Z",
     "start_time": "2025-10-21T11:22:46.257603Z"
    }
   },
   "cell_type": "code",
   "source": [
    "x = np.random.normal(50, 8, 100)\n",
    "x_out = np.concatenate([x, [200, 220]])"
   ],
   "id": "48168045a9e873e2",
   "outputs": [],
   "execution_count": 38
  },
  {
   "metadata": {
    "ExecuteTime": {
     "end_time": "2025-10-21T11:23:05.772952Z",
     "start_time": "2025-10-21T11:23:05.769871Z"
    }
   },
   "cell_type": "code",
   "source": "s = pd.Series(x)",
   "id": "6151fd94fe136a72",
   "outputs": [],
   "execution_count": 39
  },
  {
   "metadata": {
    "ExecuteTime": {
     "end_time": "2025-10-21T11:23:16.054680Z",
     "start_time": "2025-10-21T11:23:16.049800Z"
    }
   },
   "cell_type": "code",
   "source": "s.head()",
   "id": "10036e0a282a05b3",
   "outputs": [
    {
     "data": {
      "text/plain": [
       "0    64.112419\n",
       "1    53.201258\n",
       "2    57.829904\n",
       "3    67.927146\n",
       "4    64.940464\n",
       "dtype: float64"
      ]
     },
     "execution_count": 40,
     "metadata": {},
     "output_type": "execute_result"
    }
   ],
   "execution_count": 40
  },
  {
   "metadata": {
    "ExecuteTime": {
     "end_time": "2025-10-21T11:23:54.964554Z",
     "start_time": "2025-10-21T11:23:54.960961Z"
    }
   },
   "cell_type": "code",
   "source": "s_out = pd.Series(x_out)",
   "id": "4889117d593b0bf5",
   "outputs": [],
   "execution_count": 41
  },
  {
   "metadata": {
    "ExecuteTime": {
     "end_time": "2025-10-21T11:25:29.477415Z",
     "start_time": "2025-10-21T11:25:29.472875Z"
    }
   },
   "cell_type": "code",
   "source": [
    "print(\"Bez wartości odstających: mean:\", s.mean(), \" median:\", s.median())\n",
    "print(\"Z wartościami odstającymi: mean:\", s_out.mean(), \" median:\", s_out.median())"
   ],
   "id": "f2b53c28369a4554",
   "outputs": [
    {
     "name": "stdout",
     "output_type": "stream",
     "text": [
      "Bez wartości odstających: mean: 50.47846412427587  median: 50.75276895550398\n",
      "Z wartościami odstającymi: mean: 53.606337376741045  median: 50.99434843678579\n"
     ]
    }
   ],
   "execution_count": 43
  },
  {
   "metadata": {
    "ExecuteTime": {
     "end_time": "2025-10-21T11:28:05.118078Z",
     "start_time": "2025-10-21T11:28:05.110531Z"
    }
   },
   "cell_type": "code",
   "source": [
    "q1, q3 = s.quantile([0.25, 0.75])\n",
    "iqr = q3 - q1\n",
    "mad = (s - s.median()).abs().median()\n",
    "print(\"std:\", s.std(ddof=1), \" IQR:\", iqr, \"MAD:\", mad)"
   ],
   "id": "ce5ace4392d3172a",
   "outputs": [
    {
     "name": "stdout",
     "output_type": "stream",
     "text": [
      "std: 8.103678154148014  IQR: 11.047472280996885 MAD: 5.425360082385303\n"
     ]
    }
   ],
   "execution_count": 44
  },
  {
   "metadata": {
    "ExecuteTime": {
     "end_time": "2025-10-21T11:29:15.645621Z",
     "start_time": "2025-10-21T11:29:15.638369Z"
    }
   },
   "cell_type": "code",
   "source": [
    "q1o, q3o = s_out.quantile([0.25, 0.75])\n",
    "iqr_o = q3o - q1o\n",
    "mad_o = (s_out - s_out.median()).abs().median()\n",
    "print(\"std:\", s_out.std(ddof=1), \" IQR:\", iqr_o, \"MAD:\", mad_o)"
   ],
   "id": "6919901f28e5645",
   "outputs": [
    {
     "name": "stdout",
     "output_type": "stream",
     "text": [
      "std: 23.672184640021815  IQR: 11.150649476900057 MAD: 5.773143454495688\n"
     ]
    }
   ],
   "execution_count": 45
  },
  {
   "metadata": {},
   "cell_type": "markdown",
   "source": [
    "# SciPy\n",
    "algebra, interpolacja, statystyka"
   ],
   "id": "46bd7fe07795f0b"
  },
  {
   "metadata": {
    "ExecuteTime": {
     "end_time": "2025-10-21T11:34:21.008224Z",
     "start_time": "2025-10-21T11:33:53.290878Z"
    }
   },
   "cell_type": "code",
   "source": "!pip install scipy",
   "id": "b51ee9b10eb9aa9c",
   "outputs": [
    {
     "name": "stdout",
     "output_type": "stream",
     "text": [
      "Collecting scipy\n",
      "  Downloading scipy-1.16.2-cp313-cp313-win_amd64.whl.metadata (60 kB)\n",
      "Requirement already satisfied: numpy<2.6,>=1.25.2 in c:\\users\\cscomarch\\pycharmprojects\\pythonprojectanaliza-20-10-2025\\.venv\\lib\\site-packages (from scipy) (2.3.4)\n",
      "Downloading scipy-1.16.2-cp313-cp313-win_amd64.whl (38.5 MB)\n",
      "   ---------------------------------------- 0.0/38.5 MB ? eta -:--:--\n",
      "   ----------------- ---------------------- 17.0/38.5 MB 96.5 MB/s eta 0:00:01\n",
      "   ---------------------------------------  38.3/38.5 MB 141.2 MB/s eta 0:00:01\n",
      "   ---------------------------------------- 38.5/38.5 MB 82.7 MB/s eta 0:00:00\n",
      "Installing collected packages: scipy\n",
      "Successfully installed scipy-1.16.2\n"
     ]
    },
    {
     "name": "stderr",
     "output_type": "stream",
     "text": [
      "\n",
      "[notice] A new release of pip is available: 25.1.1 -> 25.2\n",
      "[notice] To update, run: python.exe -m pip install --upgrade pip\n"
     ]
    }
   ],
   "execution_count": 46
  },
  {
   "metadata": {
    "ExecuteTime": {
     "end_time": "2025-10-21T11:34:53.552463Z",
     "start_time": "2025-10-21T11:34:47.588446Z"
    }
   },
   "cell_type": "code",
   "source": "from scipy.stats import skew, kurtosis",
   "id": "e22bfa04a5ee7f1e",
   "outputs": [],
   "execution_count": 47
  },
  {
   "metadata": {
    "ExecuteTime": {
     "end_time": "2025-10-21T11:38:19.698965Z",
     "start_time": "2025-10-21T11:38:19.691564Z"
    }
   },
   "cell_type": "code",
   "source": [
    "for name, data in [(\"normalny\", x), (\"z_outlierami\", x_out)]:\n",
    "    print(name, \" skew:\", round(skew(data), 3), \" kurt:\", round(kurtosis(data), 3))\n"
   ],
   "id": "3e07aa5be3b2aacf",
   "outputs": [
    {
     "name": "stdout",
     "output_type": "stream",
     "text": [
      "normalny  skew: 0.005  kurt: -0.378\n",
      "z_outlierami  skew: 5.761  kurt: 36.082\n"
     ]
    }
   ],
   "execution_count": 50
  },
  {
   "metadata": {
    "ExecuteTime": {
     "end_time": "2025-10-21T11:42:03.233782Z",
     "start_time": "2025-10-21T11:42:03.231206Z"
    }
   },
   "cell_type": "code",
   "source": [
    "import numpy as np\n",
    "import matplotlib.pyplot as plt\n",
    "from scipy import integrate, optimize, stats, spatial, fft, signal, linalg, ndimage, interpolate, cluster"
   ],
   "id": "bfcea4594091a6f2",
   "outputs": [],
   "execution_count": 53
  },
  {
   "metadata": {},
   "cell_type": "markdown",
   "source": "### Obliczenie calki oznaczonej",
   "id": "e1183a0ac7bdb6a4"
  },
  {
   "metadata": {
    "ExecuteTime": {
     "end_time": "2025-10-21T11:43:54.562044Z",
     "start_time": "2025-10-21T11:43:54.557964Z"
    }
   },
   "cell_type": "code",
   "source": [
    "res, err = integrate.quad(lambda x: x ** 2, 0, 2)\n",
    "print(\"Wynik całkowania x^2 \", res, \"Bład:\", err)"
   ],
   "id": "795869e0ed9b044e",
   "outputs": [
    {
     "name": "stdout",
     "output_type": "stream",
     "text": [
      "Wynik całkowania x^2  2.666666666666667 Bład: 2.960594732333751e-14\n"
     ]
    }
   ],
   "execution_count": 54
  },
  {
   "metadata": {},
   "cell_type": "markdown",
   "source": "### Znajdowanie minimum funkcji kwadratowej f(x) = (x-3)^2",
   "id": "af43aa4a0c08e25d"
  },
  {
   "metadata": {
    "ExecuteTime": {
     "end_time": "2025-10-21T11:46:08.567339Z",
     "start_time": "2025-10-21T11:46:08.412826Z"
    }
   },
   "cell_type": "code",
   "source": [
    "res = optimize.minimize(lambda x: (x - 3) ** 2, x0=0)\n",
    "print(\"Minimum:\", res)\n"
   ],
   "id": "c5418a87ed850a2b",
   "outputs": [
    {
     "name": "stdout",
     "output_type": "stream",
     "text": [
      "Minimum:   message: Optimization terminated successfully.\n",
      "  success: True\n",
      "   status: 0\n",
      "      fun: 2.5388963550532293e-16\n",
      "        x: [ 3.000e+00]\n",
      "      nit: 2\n",
      "      jac: [-1.697e-08]\n",
      " hess_inv: [[ 5.000e-01]]\n",
      "     nfev: 6\n",
      "     njev: 3\n"
     ]
    }
   ],
   "execution_count": 55
  },
  {
   "metadata": {
    "ExecuteTime": {
     "end_time": "2025-10-21T11:46:25.619468Z",
     "start_time": "2025-10-21T11:46:25.603903Z"
    }
   },
   "cell_type": "code",
   "source": "print(res.x)",
   "id": "7c6a088221f164f8",
   "outputs": [
    {
     "name": "stdout",
     "output_type": "stream",
     "text": [
      "[2.99999998]\n"
     ]
    }
   ],
   "execution_count": 56
  },
  {
   "metadata": {},
   "cell_type": "markdown",
   "source": "### Test Shapiro - Wilka",
   "id": "10e9c8271c3c8fd3"
  },
  {
   "metadata": {
    "ExecuteTime": {
     "end_time": "2025-10-21T11:48:56.156180Z",
     "start_time": "2025-10-21T11:48:56.151576Z"
    }
   },
   "cell_type": "code",
   "source": "data = stats.norm.rvs(size=500)",
   "id": "e077b72b9e9de370",
   "outputs": [],
   "execution_count": 58
  },
  {
   "metadata": {
    "ExecuteTime": {
     "end_time": "2025-10-21T11:49:30.737357Z",
     "start_time": "2025-10-21T11:49:30.734001Z"
    }
   },
   "cell_type": "code",
   "source": "stat, p = stats.shapiro(data)",
   "id": "76b73b72e49f2cb",
   "outputs": [],
   "execution_count": 60
  },
  {
   "metadata": {
    "ExecuteTime": {
     "end_time": "2025-10-21T11:49:34.522473Z",
     "start_time": "2025-10-21T11:49:34.519062Z"
    }
   },
   "cell_type": "code",
   "source": "print(\"Shapiro-Wilk\", stat, \"p-value\", p)",
   "id": "19eec862adebbde0",
   "outputs": [
    {
     "name": "stdout",
     "output_type": "stream",
     "text": [
      "Shapiro-Wilk 0.9979246699038464 p-value 0.8061621677584668\n"
     ]
    }
   ],
   "execution_count": 61
  },
  {
   "metadata": {},
   "cell_type": "markdown",
   "source": "blikie 1, p > 0.05 - mozna uznac, że to rozkład normalny",
   "id": "f82fd832a003a2fe"
  },
  {
   "metadata": {
    "ExecuteTime": {
     "end_time": "2025-10-21T11:52:46.531976Z",
     "start_time": "2025-10-21T11:52:46.349943Z"
    }
   },
   "cell_type": "code",
   "source": [
    "plt.figure(figsize=(15, 4))\n",
    "plt.subplot(1, 3, 1)\n",
    "sns.histplot(data, bins=20, kde=True, color=\"skyblue\")\n",
    "plt.xlabel(\"Wartość\")\n",
    "plt.ylabel(\"Częstość\")"
   ],
   "id": "c6fde0717bb911fd",
   "outputs": [
    {
     "data": {
      "text/plain": [
       "Text(0, 0.5, 'Częstość')"
      ]
     },
     "execution_count": 62,
     "metadata": {},
     "output_type": "execute_result"
    },
    {
     "data": {
      "text/plain": [
       "<Figure size 1500x400 with 1 Axes>"
      ],
      "image/png": "[encoded data removed]"
     },
     "metadata": {},
     "output_type": "display_data",
     "jetTransient": {
      "display_id": null
     }
    }
   ],
   "execution_count": 62
  },
  {
   "metadata": {
    "ExecuteTime": {
     "end_time": "2025-10-21T11:54:21.525244Z",
     "start_time": "2025-10-21T11:54:21.420143Z"
    }
   },
   "cell_type": "code",
   "source": [
    "plt.subplot(1, 3, 3)\n",
    "stats.probplot(data, dist=\"norm\", plot=plt)\n",
    "plt.show()"
   ],
   "id": "1a27a5294510a5ff",
   "outputs": [
    {
     "data": {
      "text/plain": [
       "<Figure size 640x480 with 1 Axes>"
      ],
      "image/png": "[encoded data removed]"
     },
     "metadata": {},
     "output_type": "display_data",
     "jetTransient": {
      "display_id": null
     }
    }
   ],
   "execution_count": 64
  },
  {
   "metadata": {},
   "cell_type": "markdown",
   "source": "## Odległość euklidesowa",
   "id": "adf76516e07ebc66"
  },
  {
   "metadata": {
    "ExecuteTime": {
     "end_time": "2025-10-21T11:55:47.963816Z",
     "start_time": "2025-10-21T11:55:47.960590Z"
    }
   },
   "cell_type": "code",
   "source": "from scipy.spatial.distance import euclidean",
   "id": "bd5749d510016a",
   "outputs": [],
   "execution_count": 65
  },
  {
   "metadata": {
    "ExecuteTime": {
     "end_time": "2025-10-21T11:56:37.749848Z",
     "start_time": "2025-10-21T11:56:37.745818Z"
    }
   },
   "cell_type": "code",
   "source": [
    "print(\"Odległość:\", euclidean([1, 2], [4, 6]))\n",
    "print(type(euclidean([1, 2], [4, 6])))"
   ],
   "id": "b888882a1b9a619c",
   "outputs": [
    {
     "name": "stdout",
     "output_type": "stream",
     "text": [
      "Odległość: 5.0\n",
      "<class 'numpy.float64'>\n"
     ]
    }
   ],
   "execution_count": 66
  }
 ],
 "metadata": {
  "kernelspec": {
   "display_name": "Python 3",
   "language": "python",
   "name": "python3"
  },
  "language_info": {
   "codemirror_mode": {
    "name": "ipython",
    "version": 2
   },
   "file_extension": ".py",
   "mimetype": "text/x-python",
   "name": "python",
   "nbconvert_exporter": "python",
   "pygments_lexer": "ipython2",
   "version": "2.7.6"
  }
 },
 "nbformat": 4,
 "nbformat_minor": 5
}
