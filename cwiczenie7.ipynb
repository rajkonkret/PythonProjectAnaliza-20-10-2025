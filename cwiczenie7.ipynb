{
 "cells": [
  {
   "metadata": {},
   "cell_type": "markdown",
   "source": [
    "------\n",
    "## Podsumowanie"
   ],
   "id": "76d30b07bf484975"
  },
  {
   "cell_type": "code",
   "id": "initial_id",
   "metadata": {
    "collapsed": true,
    "ExecuteTime": {
     "end_time": "2025-10-21T10:12:40.510710Z",
     "start_time": "2025-10-21T10:12:40.507875Z"
    }
   },
   "source": [
    "import pandas as pd\n",
    "import numpy as np"
   ],
   "outputs": [],
   "execution_count": 1
  },
  {
   "metadata": {
    "ExecuteTime": {
     "end_time": "2025-10-21T10:14:50.423196Z",
     "start_time": "2025-10-21T10:14:50.414155Z"
    }
   },
   "cell_type": "code",
   "source": [
    "# generowanie przykłądowych danych\n",
    "np.random.seed(42)\n",
    "dane = np.random.normal(loc=70, scale=10, size=30)  # loc - średnia, scale - odchylenie"
   ],
   "id": "52b78f3e29e32ec6",
   "outputs": [],
   "execution_count": 2
  },
  {
   "metadata": {
    "ExecuteTime": {
     "end_time": "2025-10-21T10:15:27.315960Z",
     "start_time": "2025-10-21T10:15:27.307971Z"
    }
   },
   "cell_type": "code",
   "source": [
    "df = pd.DataFrame({\"Wynik\": dane})\n",
    "print(\"Dane:\", df.head())"
   ],
   "id": "b41698062f078b7d",
   "outputs": [
    {
     "name": "stdout",
     "output_type": "stream",
     "text": [
      "Dane:        Wynik\n",
      "0  74.967142\n",
      "1  68.617357\n",
      "2  76.476885\n",
      "3  85.230299\n",
      "4  67.658466\n"
     ]
    }
   ],
   "execution_count": 3
  },
  {
   "metadata": {
    "ExecuteTime": {
     "end_time": "2025-10-21T10:16:37.449434Z",
     "start_time": "2025-10-21T10:16:37.441076Z"
    }
   },
   "cell_type": "code",
   "source": [
    "srednia = df['Wynik'].mean()\n",
    "mediana = df['Wynik'].median()\n",
    "dominanta = df[\"Wynik\"].mode()[0]"
   ],
   "id": "4b60d9632843566b",
   "outputs": [],
   "execution_count": 4
  },
  {
   "metadata": {
    "ExecuteTime": {
     "end_time": "2025-10-21T10:17:46.526408Z",
     "start_time": "2025-10-21T10:17:46.520766Z"
    }
   },
   "cell_type": "code",
   "source": [
    "print(f\"Średnia:\", srednia)\n",
    "print(f\"Mediana:\", mediana)\n",
    "print(f\"Dominanta:\", dominanta)  # wartość najcześćiej wystepujaca"
   ],
   "id": "776a9a7cf27d5007",
   "outputs": [
    {
     "name": "stdout",
     "output_type": "stream",
     "text": [
      "Średnia: 68.11853104148962\n",
      "Mediana: 67.65854834163741\n",
      "Dominanta: 50.86719755342202\n"
     ]
    }
   ],
   "execution_count": 5
  },
  {
   "metadata": {
    "ExecuteTime": {
     "end_time": "2025-10-21T10:20:39.368946Z",
     "start_time": "2025-10-21T10:20:39.364868Z"
    }
   },
   "cell_type": "code",
   "source": [
    "wariancja = df[\"Wynik\"].var()\n",
    "odch_stand = df['Wynik'].std()\n",
    "roztep = df['Wynik'].max() - df[\"Wynik\"].min()"
   ],
   "id": "deecb512f550eb6b",
   "outputs": [],
   "execution_count": 6
  },
  {
   "metadata": {
    "ExecuteTime": {
     "end_time": "2025-10-21T10:21:32.802621Z",
     "start_time": "2025-10-21T10:21:32.798714Z"
    }
   },
   "cell_type": "code",
   "source": [
    "print(f\"Wariancja:\", wariancja)\n",
    "print(f\"Odchylenie standardowe:\", odch_stand)\n",
    "print(f\"Rozstęp:\", roztep)"
   ],
   "id": "2ff5fb3e93f7e761",
   "outputs": [
    {
     "name": "stdout",
     "output_type": "stream",
     "text": [
      "Wariancja: 81.00115693656517\n",
      "Odchylenie standardowe: 9.000064274024112\n",
      "Rozstęp: 34.924930601651894\n"
     ]
    }
   ],
   "execution_count": 7
  },
  {
   "metadata": {
    "ExecuteTime": {
     "end_time": "2025-10-21T10:22:31.360619Z",
     "start_time": "2025-10-21T10:22:31.357291Z"
    }
   },
   "cell_type": "code",
   "source": [
    "print(f\"Wariancja: {wariancja:.2f}\")\n",
    "print(f\"Odchylenie standardowe: {odch_stand:.2f}\")\n",
    "print(f\"Rozstęp: {roztep:.2f}\")"
   ],
   "id": "7c371a9c65f4716d",
   "outputs": [
    {
     "name": "stdout",
     "output_type": "stream",
     "text": [
      "Wariancja: 81.00\n",
      "Odchylenie standardowe: 9.00\n",
      "Rozstęp: 34.92\n"
     ]
    }
   ],
   "execution_count": 8
  },
  {
   "metadata": {
    "ExecuteTime": {
     "end_time": "2025-10-21T10:23:19.123579Z",
     "start_time": "2025-10-21T10:23:19.120049Z"
    }
   },
   "cell_type": "code",
   "source": [
    "import matplotlib.pyplot as plt\n",
    "import seaborn as sns"
   ],
   "id": "311885ee4033d4ab",
   "outputs": [],
   "execution_count": 9
  },
  {
   "metadata": {
    "ExecuteTime": {
     "end_time": "2025-10-21T10:23:46.384423Z",
     "start_time": "2025-10-21T10:23:46.353509Z"
    }
   },
   "cell_type": "code",
   "source": "plt.figure(figsize=(12, 5))",
   "id": "ed53c6b582704842",
   "outputs": [
    {
     "data": {
      "text/plain": [
       "<Figure size 1200x500 with 0 Axes>"
      ]
     },
     "execution_count": 10,
     "metadata": {},
     "output_type": "execute_result"
    },
    {
     "data": {
      "text/plain": [
       "<Figure size 1200x500 with 0 Axes>"
      ]
     },
     "metadata": {},
     "output_type": "display_data",
     "jetTransient": {
      "display_id": null
     }
    }
   ],
   "execution_count": 10
  },
  {
   "metadata": {
    "ExecuteTime": {
     "end_time": "2025-10-21T10:24:54.514244Z",
     "start_time": "2025-10-21T10:24:54.326457Z"
    }
   },
   "cell_type": "code",
   "source": [
    "plt.subplot(1, 2, 1)\n",
    "sns.histplot(df[\"Wynik\"], kde=True, color=\"skyblue\")\n",
    "plt.title(\"Histogram wyników\")"
   ],
   "id": "5e46ec7a963295e7",
   "outputs": [
    {
     "data": {
      "text/plain": [
       "Text(0.5, 1.0, 'Histogram wyników')"
      ]
     },
     "execution_count": 11,
     "metadata": {},
     "output_type": "execute_result"
    },
    {
     "data": {
      "text/plain": [
       "<Figure size 640x480 with 1 Axes>"
      ],
      "image/png": "[encoded data removed]"
     },
     "metadata": {},
     "output_type": "display_data",
     "jetTransient": {
      "display_id": null
     }
    }
   ],
   "execution_count": 11
  },
  {
   "metadata": {
    "ExecuteTime": {
     "end_time": "2025-10-21T10:26:51.157126Z",
     "start_time": "2025-10-21T10:26:51.041187Z"
    }
   },
   "cell_type": "code",
   "source": [
    "# wykres ramka-wąsy\n",
    "plt.subplot(1, 2, 2)\n",
    "sns.boxplot(x=df[\"Wynik\"], color=\"lightgreen\")\n",
    "plt.title(\"Wykres pudełkowy (boxplot)\")\n"
   ],
   "id": "4310258a3ef42f45",
   "outputs": [
    {
     "data": {
      "text/plain": [
       "Text(0.5, 1.0, 'Wykres pudełkowy (boxplot)')"
      ]
     },
     "execution_count": 13,
     "metadata": {},
     "output_type": "execute_result"
    },
    {
     "data": {
      "text/plain": [
       "<Figure size 640x480 with 1 Axes>"
      ],
      "image/png": "[encoded data removed]"
     },
     "metadata": {},
     "output_type": "display_data",
     "jetTransient": {
      "display_id": null
     }
    }
   ],
   "execution_count": 13
  }
 ],
 "metadata": {
  "kernelspec": {
   "display_name": "Python 3",
   "language": "python",
   "name": "python3"
  },
  "language_info": {
   "codemirror_mode": {
    "name": "ipython",
    "version": 2
   },
   "file_extension": ".py",
   "mimetype": "text/x-python",
   "name": "python",
   "nbconvert_exporter": "python",
   "pygments_lexer": "ipython2",
   "version": "2.7.6"
  }
 },
 "nbformat": 4,
 "nbformat_minor": 5
}
