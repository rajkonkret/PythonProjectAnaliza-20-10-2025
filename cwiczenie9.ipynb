{
 "cells": [
  {
   "metadata": {},
   "cell_type": "markdown",
   "source": "### Estymacje",
   "id": "4fc0e09f7a42260d"
  },
  {
   "cell_type": "code",
   "id": "initial_id",
   "metadata": {
    "collapsed": true,
    "ExecuteTime": {
     "end_time": "2025-10-22T08:17:06.409793Z",
     "start_time": "2025-10-22T08:17:06.407308Z"
    }
   },
   "source": [
    "# Estymacja punktowa\n",
    "import pandas as pd\n",
    "import numpy as np"
   ],
   "outputs": [],
   "execution_count": 1
  },
  {
   "metadata": {
    "ExecuteTime": {
     "end_time": "2025-10-22T08:18:56.334539Z",
     "start_time": "2025-10-22T08:18:56.328270Z"
    }
   },
   "cell_type": "code",
   "source": [
    "np.random.seed(42)\n",
    "# Próba z populacji o średniej 100 i odchyleniu 15\n",
    "sample_data = np.random.normal(loc=100, scale=15, size=50)\n",
    "\n",
    "mean_estimate = np.mean(sample_data)\n",
    "print(f\"Estymacja punktowa (srednia): {mean_estimate}\")"
   ],
   "id": "21157e57992295e6",
   "outputs": [
    {
     "name": "stdout",
     "output_type": "stream",
     "text": [
      "Estymacja punktowa (srednia): 96.61789142115789\n"
     ]
    }
   ],
   "execution_count": 2
  },
  {
   "metadata": {
    "ExecuteTime": {
     "end_time": "2025-10-22T08:20:37.386922Z",
     "start_time": "2025-10-22T08:20:37.383072Z"
    }
   },
   "cell_type": "code",
   "source": [
    "variance_estimate = np.var(sample_data, ddof=1)\n",
    "print(f\"Estymacja punktowa wariancji populacji: {variance_estimate:.2f}\")"
   ],
   "id": "21beeb1fb833ac0d",
   "outputs": [
    {
     "name": "stdout",
     "output_type": "stream",
     "text": [
      "Estymacja punktowa wariancji populacji: 196.14\n"
     ]
    }
   ],
   "execution_count": 3
  },
  {
   "metadata": {
    "ExecuteTime": {
     "end_time": "2025-10-22T08:21:53.052811Z",
     "start_time": "2025-10-22T08:21:53.047779Z"
    }
   },
   "cell_type": "code",
   "source": [
    "std_dev_estimate = np.std(sample_data, ddof=1)\n",
    "print(f\"Estymacja punktowwa (odchylenie standardowe): {std_dev_estimate:.2f}\")"
   ],
   "id": "935e160af71eaa57",
   "outputs": [
    {
     "name": "stdout",
     "output_type": "stream",
     "text": [
      "Estymacja punktowwa (odchylenie standardowe): 14.01\n"
     ]
    }
   ],
   "execution_count": 5
  },
  {
   "metadata": {},
   "cell_type": "markdown",
   "source": "### Przedziały ufności",
   "id": "8f5910f37725902f"
  },
  {
   "metadata": {
    "ExecuteTime": {
     "end_time": "2025-10-22T08:23:51.655098Z",
     "start_time": "2025-10-22T08:23:51.651531Z"
    }
   },
   "cell_type": "code",
   "source": [
    "from scipy import stats\n",
    "\n",
    "# poziom ufności\n",
    "confidence_level = 0.95\n",
    "alpha = 1 - confidence_level"
   ],
   "id": "6df570f77610b04e",
   "outputs": [],
   "execution_count": 6
  },
  {
   "metadata": {
    "ExecuteTime": {
     "end_time": "2025-10-22T08:24:50.234029Z",
     "start_time": "2025-10-22T08:24:50.231061Z"
    }
   },
   "cell_type": "code",
   "source": [
    "mean_sample = np.mean(sample_data)\n",
    "std_sample = np.std(sample_data, ddof=1)\n",
    "n_sample = len(sample_data)"
   ],
   "id": "940798af469fdeff",
   "outputs": [],
   "execution_count": 7
  },
  {
   "metadata": {
    "ExecuteTime": {
     "end_time": "2025-10-22T08:25:43.630845Z",
     "start_time": "2025-10-22T08:25:43.627653Z"
    }
   },
   "cell_type": "code",
   "source": [
    "# bład standardowy średniej\n",
    "standard_error = std_sample / np.sqrt(n_sample)"
   ],
   "id": "db8473829d4cccbd",
   "outputs": [],
   "execution_count": 8
  },
  {
   "metadata": {
    "ExecuteTime": {
     "end_time": "2025-10-22T08:27:35.967932Z",
     "start_time": "2025-10-22T08:27:35.961896Z"
    }
   },
   "cell_type": "code",
   "source": [
    "# obliczenie przedziału ufności\n",
    "confidence_interval = stats.t.interval(confidence_level, df=n_sample - 1, loc=mean_sample, scale=std_sample)"
   ],
   "id": "47b5a3be41d2bd6f",
   "outputs": [],
   "execution_count": 9
  },
  {
   "metadata": {
    "ExecuteTime": {
     "end_time": "2025-10-22T08:28:48.088480Z",
     "start_time": "2025-10-22T08:28:48.083870Z"
    }
   },
   "cell_type": "code",
   "source": "print(f\"95% przedziału ufności dla średniej: ({confidence_interval[0]:.2f}, {confidence_interval[1]:.2f})\")",
   "id": "fe236c651d087b0e",
   "outputs": [
    {
     "name": "stdout",
     "output_type": "stream",
     "text": [
      "95% przedziału ufności dla średniej: (68.47, 124.76)\n"
     ]
    }
   ],
   "execution_count": 11
  },
  {
   "metadata": {
    "ExecuteTime": {
     "end_time": "2025-10-22T08:35:04.850Z",
     "start_time": "2025-10-22T08:35:04.845307Z"
    }
   },
   "cell_type": "code",
   "source": [
    "# Przykład dla proporcji\n",
    "# np,: odsetek osób popierających kandydata\n",
    "# załóżmy, że w próbie 100 osób, 60 popiera tego kandydata\n",
    "n_prop = 100\n",
    "x_prop = 60  # liczba sukcesów\n",
    "p_hat = x_prop / n_prop  # proporcja z próby\n",
    "\n",
    "# bład satandardowy proporcji\n",
    "se_prop = np.sqrt((p_hat * (1 - p_hat)) / n_prop)\n",
    "\n",
    "# wartość krytyczna dla rozkładu normalnego\n",
    "z_critical = stats.norm.ppf(1 - alpha / 2)"
   ],
   "id": "e317a1ff1c1a4983",
   "outputs": [],
   "execution_count": 12
  },
  {
   "metadata": {
    "ExecuteTime": {
     "end_time": "2025-10-22T08:35:06.370950Z",
     "start_time": "2025-10-22T08:35:06.367178Z"
    }
   },
   "cell_type": "code",
   "source": [
    "# przedział ufności dla proporcji\n",
    "ci_lower_prop = p_hat - z_critical * se_prop\n",
    "ci_upper_prop = p_hat + z_critical * se_prop"
   ],
   "id": "bdcdcbb593c301b0",
   "outputs": [],
   "execution_count": 13
  },
  {
   "metadata": {
    "ExecuteTime": {
     "end_time": "2025-10-22T08:35:43.097380Z",
     "start_time": "2025-10-22T08:35:43.094332Z"
    }
   },
   "cell_type": "code",
   "source": "print(f\"Przedział ufności dla proporcji (95%): ({ci_lower_prop}, {ci_upper_prop})\")",
   "id": "9c6e3269dc4cff28",
   "outputs": [
    {
     "name": "stdout",
     "output_type": "stream",
     "text": [
      "Przedział ufności dla proporcji (95%): (0.5039817664728938, 0.6960182335271061)\n"
     ]
    }
   ],
   "execution_count": 14
  },
  {
   "metadata": {},
   "cell_type": "markdown",
   "source": "## Testowanie Hipotez Statystycznych",
   "id": "b628333762e2bb23"
  },
  {
   "metadata": {},
   "cell_type": "markdown",
   "source": "### Test t-Studenta",
   "id": "f4df782a7d4027ab"
  },
  {
   "metadata": {
    "ExecuteTime": {
     "end_time": "2025-10-22T08:39:06.847175Z",
     "start_time": "2025-10-22T08:39:06.841686Z"
    }
   },
   "cell_type": "code",
   "source": "from scipy import stats",
   "id": "6a6b35b4c5679967",
   "outputs": [],
   "execution_count": 15
  },
  {
   "metadata": {
    "ExecuteTime": {
     "end_time": "2025-10-22T08:42:38.483392Z",
     "start_time": "2025-10-22T08:42:38.476433Z"
    }
   },
   "cell_type": "code",
   "source": [
    "# Test t-Studenta dla jedej próby\n",
    "# czy średnia z próby rózni od znanej wartości populacji\n",
    "\n",
    "pop_mean_hyp = 100\n",
    "t_stat_one, p_value_one = stats.ttest_1samp(sample_data, pop_mean_hyp)\n",
    "\n",
    "print(f\"Test t-Studenta dla jedej próby:\")\n",
    "print(f\" Statystyka t: {t_stat_one:.2f}\")\n",
    "print(f\" Wartosć p: {p_value_one:.3f}\")"
   ],
   "id": "80bb910893ec889b",
   "outputs": [
    {
     "name": "stdout",
     "output_type": "stream",
     "text": [
      "Test t-Studenta dla jedej próby:\n",
      " Statystyka t: -1.71\n",
      " Wartosć p: 0.094\n"
     ]
    }
   ],
   "execution_count": 16
  },
  {
   "metadata": {
    "ExecuteTime": {
     "end_time": "2025-10-22T08:44:07.943451Z",
     "start_time": "2025-10-22T08:44:07.939414Z"
    }
   },
   "cell_type": "code",
   "source": [
    "if p_value_one < 0.05:\n",
    "    print(\"Odrzucamy H0: Średnia z próby jest istotnie rózna od 100\")\n",
    "else:\n",
    "    print(\"Srednia z próby nie rózni się istotnie od 100\")"
   ],
   "id": "671e6a274225ee39",
   "outputs": [
    {
     "name": "stdout",
     "output_type": "stream",
     "text": [
      "Srednia z próby nie rózni się istotnie od 100\n"
     ]
    }
   ],
   "execution_count": 17
  },
  {
   "metadata": {
    "ExecuteTime": {
     "end_time": "2025-10-22T09:03:42.128939Z",
     "start_time": "2025-10-22T09:03:42.118532Z"
    }
   },
   "cell_type": "code",
   "source": [
    "# Test t-Studenta dla dwóch niezależnych prób\n",
    "# czy średnie dwóch niezależnych grup róznią się istotnie?\n",
    "# H0: srednia_grupy1 == srednia_grupy2\n",
    "# H1: srednia_grupy1 != srednia_grupy2\n",
    "\n",
    "np.random.seed(43)\n",
    "group1 = np.random.normal(loc=50, scale=10, size=30)\n",
    "group2 = np.random.normal(loc=55, scale=10, size=35)\n",
    "\n",
    "t_stat_ind, p_value_ind = stats.ttest_ind(group1, group2)"
   ],
   "id": "c5aee35626993dbb",
   "outputs": [],
   "execution_count": 18
  },
  {
   "metadata": {
    "ExecuteTime": {
     "end_time": "2025-10-22T09:04:42.061913Z",
     "start_time": "2025-10-22T09:04:42.057940Z"
    }
   },
   "cell_type": "code",
   "source": [
    "print(f\"Test t-Studenta dla dwóch prób niezależnych\")\n",
    "print(f\"Statystyka t:{t_stat_ind:.2f}\")\n",
    "print(f\"Wartość p:{p_value_ind:.3f}\")"
   ],
   "id": "3de2e581fd7122b6",
   "outputs": [
    {
     "name": "stdout",
     "output_type": "stream",
     "text": [
      "Test t-Studenta dla dwóch prób niezależnych\n",
      "Statystyka t:-1.68\n",
      "Wartość p:0.099\n"
     ]
    }
   ],
   "execution_count": 19
  },
  {
   "metadata": {
    "ExecuteTime": {
     "end_time": "2025-10-22T09:11:43.091856Z",
     "start_time": "2025-10-22T09:11:43.088244Z"
    }
   },
   "cell_type": "code",
   "source": [
    "if p_value_ind < 0.05:\n",
    "    print(\"Odrzucamy H0: Średnie z grup są istotnie rózne\")\n",
    "else:\n",
    "    print(\"Nie ma podstaw do odrzucenia H0: Średnie z grup nie róznią się istotnie\")"
   ],
   "id": "ce80951245689fd9",
   "outputs": [
    {
     "name": "stdout",
     "output_type": "stream",
     "text": [
      "Nie ma podstaw do odrzucenia H0: Średnie z grup nie róznią się istotnie\n"
     ]
    }
   ],
   "execution_count": 25
  },
  {
   "metadata": {
    "ExecuteTime": {
     "end_time": "2025-10-22T09:09:22.578674Z",
     "start_time": "2025-10-22T09:09:22.572534Z"
    }
   },
   "cell_type": "code",
   "source": [
    "# Test t-Studenta dla dwóch prób zależnych\n",
    "# Czy średnie dwóch zależnych prob różnią się istotnie?\n",
    "# H0: Średnia róznic = 0\n",
    "# H1: Średnia róznic != 0\n",
    "\n",
    "np.random.seed(43)\n",
    "before_treatment = np.random.normal(loc=70, scale=5, size=25)\n",
    "after_treatment = before_treatment + np.random.normal(loc=-2, scale=1, size=25)"
   ],
   "id": "34ecdcd0cadcc75",
   "outputs": [],
   "execution_count": 21
  },
  {
   "metadata": {
    "ExecuteTime": {
     "end_time": "2025-10-22T09:10:08.890156Z",
     "start_time": "2025-10-22T09:10:08.884323Z"
    }
   },
   "cell_type": "code",
   "source": "t_stat_paired, p_value_paired = stats.ttest_rel(before_treatment, after_treatment)",
   "id": "ec0ee135f0862dd4",
   "outputs": [],
   "execution_count": 22
  },
  {
   "metadata": {
    "ExecuteTime": {
     "end_time": "2025-10-22T09:10:37.136201Z",
     "start_time": "2025-10-22T09:10:37.130790Z"
    }
   },
   "cell_type": "code",
   "source": [
    "print(f\"Test t-Studenta dla dwóch prób zależnych\")\n",
    "print(f\"Statystyka t:{t_stat_paired:.2f}\")\n",
    "print(f\"Wartość p:{p_value_paired:.3f}\")"
   ],
   "id": "d877d452d83a525f",
   "outputs": [
    {
     "name": "stdout",
     "output_type": "stream",
     "text": [
      "Test t-Studenta dla dwóch prób zależnych\n",
      "Statystyka t:7.96\n",
      "Wartość p:0.000\n"
     ]
    }
   ],
   "execution_count": 23
  },
  {
   "metadata": {
    "ExecuteTime": {
     "end_time": "2025-10-22T09:11:46.511413Z",
     "start_time": "2025-10-22T09:11:46.508150Z"
    }
   },
   "cell_type": "code",
   "source": [
    "if p_value_paired < 0.05:\n",
    "    print(\"Odrzucamy H0: Lecznie miało istotny wpływ\")\n",
    "else:\n",
    "    print(\"Nie ma podstaw do odrzucenia H0: Lecznie nie miało istotnego wpływy\")"
   ],
   "id": "b2a7939964b23b8",
   "outputs": [
    {
     "name": "stdout",
     "output_type": "stream",
     "text": [
      "Odrzucamy H0: Lecznie miało istotny wpływ\n"
     ]
    }
   ],
   "execution_count": 26
  },
  {
   "metadata": {},
   "cell_type": "markdown",
   "source": "## Test Shapiro-Wilka",
   "id": "4a72fd1ddd0f1898"
  },
  {
   "metadata": {
    "ExecuteTime": {
     "end_time": "2025-10-22T09:14:53.371590Z",
     "start_time": "2025-10-22T09:14:53.362479Z"
    }
   },
   "cell_type": "code",
   "source": [
    "# test na danych normalnych\n",
    "shapiro_stat_norm, p_value_norm = stats.shapiro(sample_data)\n",
    "print(f\"Test Shapiro-wilka (dane normalne):\")\n",
    "print(f\"Statystyka W:{shapiro_stat_norm:.2f}\")\n",
    "print(f\"Wartość p:{p_value_norm:.3f}\")"
   ],
   "id": "f4432c9c2033635",
   "outputs": [
    {
     "name": "stdout",
     "output_type": "stream",
     "text": [
      "Test Shapiro-wilka (dane normalne):\n",
      "Statystyka W:0.98\n",
      "Wartość p:0.672\n"
     ]
    }
   ],
   "execution_count": 27
  },
  {
   "metadata": {
    "ExecuteTime": {
     "end_time": "2025-10-22T09:19:30.132318Z",
     "start_time": "2025-10-22T09:19:30.128556Z"
    }
   },
   "cell_type": "code",
   "source": [
    "if p_value_norm < 0.05:\n",
    "    print(\"Odrzucamy H0:Dane nie pochodzą z rozkładu normalnego\")\n",
    "else:\n",
    "    print(\"Nie ma podstaw do odrzucenia H0: Dane pochodzą z rozkładu normalnego\")"
   ],
   "id": "fee08cffaa0fe2a3",
   "outputs": [
    {
     "name": "stdout",
     "output_type": "stream",
     "text": [
      "Nie ma podstaw do odrzucenia H0: Dane pochodzą z rozkładu normalnego\n"
     ]
    }
   ],
   "execution_count": 34
  },
  {
   "metadata": {
    "ExecuteTime": {
     "end_time": "2025-10-22T09:18:04.928059Z",
     "start_time": "2025-10-22T09:18:04.923685Z"
    }
   },
   "cell_type": "code",
   "source": [
    "# test na danych nienormalnych (np.: wykładniczych)\n",
    "np.random.seed(45)\n",
    "non_norm_data = np.random.exponential(scale=1, size=50)\n",
    "\n",
    "shapiro_stat_non_norm, p_value_non_norm = stats.shapiro(non_norm_data)\n"
   ],
   "id": "812f5622ddb7ec0",
   "outputs": [],
   "execution_count": 30
  },
  {
   "metadata": {
    "ExecuteTime": {
     "end_time": "2025-10-22T09:18:29.950978Z",
     "start_time": "2025-10-22T09:18:29.946076Z"
    }
   },
   "cell_type": "code",
   "source": [
    "print(f\"Test Shapiro-wilka (dane wykłądnicze):\")\n",
    "print(f\"Statystyka W:{shapiro_stat_non_norm:.2f}\")\n",
    "print(f\"Wartość p:{p_value_non_norm:.3f}\")"
   ],
   "id": "892cfb83cc9082d6",
   "outputs": [
    {
     "name": "stdout",
     "output_type": "stream",
     "text": [
      "Test Shapiro-wilka (dane wykłądnicze):\n",
      "Statystyka W:0.75\n",
      "Wartość p:0.000\n"
     ]
    }
   ],
   "execution_count": 31
  },
  {
   "metadata": {
    "ExecuteTime": {
     "end_time": "2025-10-22T09:19:23.463467Z",
     "start_time": "2025-10-22T09:19:23.459520Z"
    }
   },
   "cell_type": "code",
   "source": [
    "if p_value_non_norm < 0.05:\n",
    "    print(\"Odrzucamy H0:Dane nie pochodzą z rozkładu normalnego\")\n",
    "else:\n",
    "    print(\"Nie ma podstaw do odrzucenia H0: Dane pochodzą z rozkładu normalnego\")"
   ],
   "id": "acc86ff79c6b450c",
   "outputs": [
    {
     "name": "stdout",
     "output_type": "stream",
     "text": [
      "Odrzucamy H0:Dane nie pochodzą z rozkładu normalnego\n"
     ]
    }
   ],
   "execution_count": 33
  },
  {
   "metadata": {},
   "cell_type": "markdown",
   "source": "## Testy chi-kwadrat",
   "id": "7c77708aa00a8f28"
  },
  {
   "metadata": {
    "ExecuteTime": {
     "end_time": "2025-10-22T09:22:26.323729Z",
     "start_time": "2025-10-22T09:22:26.320124Z"
    }
   },
   "cell_type": "code",
   "source": "from scipy.stats import chi2_contingency, chisquare",
   "id": "8a4e2c9abd5f18f6",
   "outputs": [],
   "execution_count": 35
  },
  {
   "metadata": {
    "ExecuteTime": {
     "end_time": "2025-10-22T09:25:47.309760Z",
     "start_time": "2025-10-22T09:25:47.306854Z"
    }
   },
   "cell_type": "code",
   "source": [
    "# testy niezalożności chi-kwadrat\n",
    "# H0 - zmienne są niezależne\n",
    "# H1 - zmienne są zależne\n",
    "\n",
    "# Przykład: Czy płeć ma wpływ na preferencje dotyczące produktu?\n",
    "# dane w formie tabeli kontyngencji\n",
    "# rows: Płeć\n",
    "# columns: Preferencje produktu\n",
    "contingency_table = np.array([[50, 30, 20], [40, 60, 50]])"
   ],
   "id": "d65c906369e5b0a0",
   "outputs": [],
   "execution_count": 37
  },
  {
   "metadata": {
    "ExecuteTime": {
     "end_time": "2025-10-22T09:27:43.170452Z",
     "start_time": "2025-10-22T09:27:43.165400Z"
    }
   },
   "cell_type": "code",
   "source": "chi2_stat_ind, p_value_ind_chi2, dof, expected = chi2_contingency(contingency_table)",
   "id": "78952803ba0a0d1a",
   "outputs": [],
   "execution_count": 39
  },
  {
   "metadata": {
    "ExecuteTime": {
     "end_time": "2025-10-22T09:29:01.290250Z",
     "start_time": "2025-10-22T09:29:01.215543Z"
    }
   },
   "cell_type": "code",
   "source": [
    "print(\"Test niezależności Chi-kwadrat:\")\n",
    "print(f\"Statystyka Chi-kwadrat: {chi2_stat_ind:.2f}\")\n",
    "print(f\"Wartość p: {p_value_ind_chi2:.2f}\")\n",
    "print(f\"Stopnie swobody (dof) p: {p_value_ind_chi2:.2f}\")\n",
    "print(f\"Oczekiwane częstości: {expected}\")"
   ],
   "id": "10fb01d4cc4cc95a",
   "outputs": [
    {
     "name": "stdout",
     "output_type": "stream",
     "text": [
      "Test niezależności Chi-kwadrat:\n",
      "Statystyka Chi-kwadrat: 14.55\n",
      "Wartość p: 0.00\n",
      "Stopnie swobody (dof) p: 0.00\n",
      "Oczekiwane częstości: [[36. 36. 28.]\n",
      " [54. 54. 42.]]\n"
     ]
    }
   ],
   "execution_count": 40
  },
  {
   "metadata": {
    "ExecuteTime": {
     "end_time": "2025-10-22T09:30:26.507943Z",
     "start_time": "2025-10-22T09:30:26.504453Z"
    }
   },
   "cell_type": "code",
   "source": [
    "if p_value_ind_chi2 < 0.05:\n",
    "    print(\"Odrzucamy H0: Płeć i preferencje produktu są zależne\")\n",
    "else:\n",
    "    print(\"Nie ma podstaw do odrzucenia H0: Płeć i preferencje produktu są niezależne\")"
   ],
   "id": "5d1ecf00b1a1c162",
   "outputs": [
    {
     "name": "stdout",
     "output_type": "stream",
     "text": [
      "Odrzucamy H0: Płeć i preferencje produktu są zależne\n"
     ]
    }
   ],
   "execution_count": 41
  }
 ],
 "metadata": {
  "kernelspec": {
   "display_name": "Python 3",
   "language": "python",
   "name": "python3"
  },
  "language_info": {
   "codemirror_mode": {
    "name": "ipython",
    "version": 2
   },
   "file_extension": ".py",
   "mimetype": "text/x-python",
   "name": "python",
   "nbconvert_exporter": "python",
   "pygments_lexer": "ipython2",
   "version": "2.7.6"
  }
 },
 "nbformat": 4,
 "nbformat_minor": 5
}
