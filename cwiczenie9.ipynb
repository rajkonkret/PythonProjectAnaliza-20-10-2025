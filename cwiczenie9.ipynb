{
 "cells": [
  {
   "metadata": {},
   "cell_type": "markdown",
   "source": "### Estymacje",
   "id": "4fc0e09f7a42260d"
  },
  {
   "cell_type": "code",
   "id": "initial_id",
   "metadata": {
    "collapsed": true,
    "ExecuteTime": {
     "end_time": "2025-10-22T08:17:06.409793Z",
     "start_time": "2025-10-22T08:17:06.407308Z"
    }
   },
   "source": [
    "# Estymacja punktowa\n",
    "import pandas as pd\n",
    "import numpy as np"
   ],
   "outputs": [],
   "execution_count": 1
  },
  {
   "metadata": {
    "ExecuteTime": {
     "end_time": "2025-10-22T08:18:56.334539Z",
     "start_time": "2025-10-22T08:18:56.328270Z"
    }
   },
   "cell_type": "code",
   "source": [
    "np.random.seed(42)\n",
    "# Próba z populacji o średniej 100 i odchyleniu 15\n",
    "sample_data = np.random.normal(loc=100, scale=15, size=50)\n",
    "\n",
    "mean_estimate = np.mean(sample_data)\n",
    "print(f\"Estymacja punktowa (srednia): {mean_estimate}\")"
   ],
   "id": "21157e57992295e6",
   "outputs": [
    {
     "name": "stdout",
     "output_type": "stream",
     "text": [
      "Estymacja punktowa (srednia): 96.61789142115789\n"
     ]
    }
   ],
   "execution_count": 2
  },
  {
   "metadata": {
    "ExecuteTime": {
     "end_time": "2025-10-22T08:20:37.386922Z",
     "start_time": "2025-10-22T08:20:37.383072Z"
    }
   },
   "cell_type": "code",
   "source": [
    "variance_estimate = np.var(sample_data, ddof=1)\n",
    "print(f\"Estymacja punktowa wariancji populacji: {variance_estimate:.2f}\")"
   ],
   "id": "21beeb1fb833ac0d",
   "outputs": [
    {
     "name": "stdout",
     "output_type": "stream",
     "text": [
      "Estymacja punktowa wariancji populacji: 196.14\n"
     ]
    }
   ],
   "execution_count": 3
  },
  {
   "metadata": {
    "ExecuteTime": {
     "end_time": "2025-10-22T08:21:53.052811Z",
     "start_time": "2025-10-22T08:21:53.047779Z"
    }
   },
   "cell_type": "code",
   "source": [
    "std_dev_estimate = np.std(sample_data, ddof=1)\n",
    "print(f\"Estymacja punktowwa (odchylenie standardowe): {std_dev_estimate:.2f}\")"
   ],
   "id": "935e160af71eaa57",
   "outputs": [
    {
     "name": "stdout",
     "output_type": "stream",
     "text": [
      "Estymacja punktowwa (odchylenie standardowe): 14.01\n"
     ]
    }
   ],
   "execution_count": 5
  }
 ],
 "metadata": {
  "kernelspec": {
   "display_name": "Python 3",
   "language": "python",
   "name": "python3"
  },
  "language_info": {
   "codemirror_mode": {
    "name": "ipython",
    "version": 2
   },
   "file_extension": ".py",
   "mimetype": "text/x-python",
   "name": "python",
   "nbconvert_exporter": "python",
   "pygments_lexer": "ipython2",
   "version": "2.7.6"
  }
 },
 "nbformat": 4,
 "nbformat_minor": 5
}
