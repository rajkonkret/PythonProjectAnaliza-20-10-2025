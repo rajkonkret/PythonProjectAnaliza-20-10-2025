{
 "cells": [
  {
   "metadata": {},
   "cell_type": "markdown",
   "source": "### Estymacje",
   "id": "4fc0e09f7a42260d"
  },
  {
   "cell_type": "code",
   "id": "initial_id",
   "metadata": {
    "collapsed": true,
    "ExecuteTime": {
     "end_time": "2025-10-22T08:17:06.409793Z",
     "start_time": "2025-10-22T08:17:06.407308Z"
    }
   },
   "source": [
    "# Estymacja punktowa\n",
    "import pandas as pd\n",
    "import numpy as np"
   ],
   "outputs": [],
   "execution_count": 1
  },
  {
   "metadata": {
    "ExecuteTime": {
     "end_time": "2025-10-22T08:18:56.334539Z",
     "start_time": "2025-10-22T08:18:56.328270Z"
    }
   },
   "cell_type": "code",
   "source": [
    "np.random.seed(42)\n",
    "# Próba z populacji o średniej 100 i odchyleniu 15\n",
    "sample_data = np.random.normal(loc=100, scale=15, size=50)\n",
    "\n",
    "mean_estimate = np.mean(sample_data)\n",
    "print(f\"Estymacja punktowa (srednia): {mean_estimate}\")"
   ],
   "id": "21157e57992295e6",
   "outputs": [
    {
     "name": "stdout",
     "output_type": "stream",
     "text": [
      "Estymacja punktowa (srednia): 96.61789142115789\n"
     ]
    }
   ],
   "execution_count": 2
  },
  {
   "metadata": {
    "ExecuteTime": {
     "end_time": "2025-10-22T08:20:37.386922Z",
     "start_time": "2025-10-22T08:20:37.383072Z"
    }
   },
   "cell_type": "code",
   "source": [
    "variance_estimate = np.var(sample_data, ddof=1)\n",
    "print(f\"Estymacja punktowa wariancji populacji: {variance_estimate:.2f}\")"
   ],
   "id": "21beeb1fb833ac0d",
   "outputs": [
    {
     "name": "stdout",
     "output_type": "stream",
     "text": [
      "Estymacja punktowa wariancji populacji: 196.14\n"
     ]
    }
   ],
   "execution_count": 3
  },
  {
   "metadata": {
    "ExecuteTime": {
     "end_time": "2025-10-22T08:21:53.052811Z",
     "start_time": "2025-10-22T08:21:53.047779Z"
    }
   },
   "cell_type": "code",
   "source": [
    "std_dev_estimate = np.std(sample_data, ddof=1)\n",
    "print(f\"Estymacja punktowwa (odchylenie standardowe): {std_dev_estimate:.2f}\")"
   ],
   "id": "935e160af71eaa57",
   "outputs": [
    {
     "name": "stdout",
     "output_type": "stream",
     "text": [
      "Estymacja punktowwa (odchylenie standardowe): 14.01\n"
     ]
    }
   ],
   "execution_count": 5
  },
  {
   "metadata": {},
   "cell_type": "markdown",
   "source": "### Przedziały ufności",
   "id": "8f5910f37725902f"
  },
  {
   "metadata": {
    "ExecuteTime": {
     "end_time": "2025-10-22T08:23:51.655098Z",
     "start_time": "2025-10-22T08:23:51.651531Z"
    }
   },
   "cell_type": "code",
   "source": [
    "from scipy import stats\n",
    "\n",
    "# poziom ufności\n",
    "confidence_level = 0.95\n",
    "alpha = 1 - confidence_level"
   ],
   "id": "6df570f77610b04e",
   "outputs": [],
   "execution_count": 6
  },
  {
   "metadata": {
    "ExecuteTime": {
     "end_time": "2025-10-22T08:24:50.234029Z",
     "start_time": "2025-10-22T08:24:50.231061Z"
    }
   },
   "cell_type": "code",
   "source": [
    "mean_sample = np.mean(sample_data)\n",
    "std_sample = np.std(sample_data, ddof=1)\n",
    "n_sample = len(sample_data)"
   ],
   "id": "940798af469fdeff",
   "outputs": [],
   "execution_count": 7
  },
  {
   "metadata": {
    "ExecuteTime": {
     "end_time": "2025-10-22T08:25:43.630845Z",
     "start_time": "2025-10-22T08:25:43.627653Z"
    }
   },
   "cell_type": "code",
   "source": [
    "# bład standardowy średniej\n",
    "standard_error = std_sample / np.sqrt(n_sample)"
   ],
   "id": "db8473829d4cccbd",
   "outputs": [],
   "execution_count": 8
  },
  {
   "metadata": {
    "ExecuteTime": {
     "end_time": "2025-10-22T08:27:35.967932Z",
     "start_time": "2025-10-22T08:27:35.961896Z"
    }
   },
   "cell_type": "code",
   "source": [
    "# obliczenie przedziału ufności\n",
    "confidence_interval = stats.t.interval(confidence_level, df=n_sample - 1, loc=mean_sample, scale=std_sample)"
   ],
   "id": "47b5a3be41d2bd6f",
   "outputs": [],
   "execution_count": 9
  },
  {
   "metadata": {
    "ExecuteTime": {
     "end_time": "2025-10-22T08:28:48.088480Z",
     "start_time": "2025-10-22T08:28:48.083870Z"
    }
   },
   "cell_type": "code",
   "source": "print(f\"95% przedziału ufności dla średniej: ({confidence_interval[0]:.2f}, {confidence_interval[1]:.2f})\")",
   "id": "fe236c651d087b0e",
   "outputs": [
    {
     "name": "stdout",
     "output_type": "stream",
     "text": [
      "95% przedziału ufności dla średniej: (68.47, 124.76)\n"
     ]
    }
   ],
   "execution_count": 11
  }
 ],
 "metadata": {
  "kernelspec": {
   "display_name": "Python 3",
   "language": "python",
   "name": "python3"
  },
  "language_info": {
   "codemirror_mode": {
    "name": "ipython",
    "version": 2
   },
   "file_extension": ".py",
   "mimetype": "text/x-python",
   "name": "python",
   "nbconvert_exporter": "python",
   "pygments_lexer": "ipython2",
   "version": "2.7.6"
  }
 },
 "nbformat": 4,
 "nbformat_minor": 5
}
