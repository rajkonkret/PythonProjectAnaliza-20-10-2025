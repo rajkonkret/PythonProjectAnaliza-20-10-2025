{
 "cells": [
  {
   "metadata": {},
   "cell_type": "markdown",
   "source": "### Estymacje",
   "id": "4fc0e09f7a42260d"
  },
  {
   "cell_type": "code",
   "id": "initial_id",
   "metadata": {
    "collapsed": true,
    "ExecuteTime": {
     "end_time": "2025-10-22T08:17:06.409793Z",
     "start_time": "2025-10-22T08:17:06.407308Z"
    }
   },
   "source": [
    "# Estymacja punktowa\n",
    "import pandas as pd\n",
    "import numpy as np"
   ],
   "outputs": [],
   "execution_count": 1
  },
  {
   "metadata": {
    "ExecuteTime": {
     "end_time": "2025-10-22T08:18:56.334539Z",
     "start_time": "2025-10-22T08:18:56.328270Z"
    }
   },
   "cell_type": "code",
   "source": [
    "np.random.seed(42)\n",
    "# Próba z populacji o średniej 100 i odchyleniu 15\n",
    "sample_data = np.random.normal(loc=100, scale=15, size=50)\n",
    "\n",
    "mean_estimate = np.mean(sample_data)\n",
    "print(f\"Estymacja punktowa (srednia): {mean_estimate}\")"
   ],
   "id": "21157e57992295e6",
   "outputs": [
    {
     "name": "stdout",
     "output_type": "stream",
     "text": [
      "Estymacja punktowa (srednia): 96.61789142115789\n"
     ]
    }
   ],
   "execution_count": 2
  },
  {
   "metadata": {
    "ExecuteTime": {
     "end_time": "2025-10-22T08:20:37.386922Z",
     "start_time": "2025-10-22T08:20:37.383072Z"
    }
   },
   "cell_type": "code",
   "source": [
    "variance_estimate = np.var(sample_data, ddof=1)\n",
    "print(f\"Estymacja punktowa wariancji populacji: {variance_estimate:.2f}\")"
   ],
   "id": "21beeb1fb833ac0d",
   "outputs": [
    {
     "name": "stdout",
     "output_type": "stream",
     "text": [
      "Estymacja punktowa wariancji populacji: 196.14\n"
     ]
    }
   ],
   "execution_count": 3
  },
  {
   "metadata": {
    "ExecuteTime": {
     "end_time": "2025-10-22T08:21:53.052811Z",
     "start_time": "2025-10-22T08:21:53.047779Z"
    }
   },
   "cell_type": "code",
   "source": [
    "std_dev_estimate = np.std(sample_data, ddof=1)\n",
    "print(f\"Estymacja punktowwa (odchylenie standardowe): {std_dev_estimate:.2f}\")"
   ],
   "id": "935e160af71eaa57",
   "outputs": [
    {
     "name": "stdout",
     "output_type": "stream",
     "text": [
      "Estymacja punktowwa (odchylenie standardowe): 14.01\n"
     ]
    }
   ],
   "execution_count": 5
  },
  {
   "metadata": {},
   "cell_type": "markdown",
   "source": "### Przedziały ufności",
   "id": "8f5910f37725902f"
  },
  {
   "metadata": {
    "ExecuteTime": {
     "end_time": "2025-10-22T08:23:51.655098Z",
     "start_time": "2025-10-22T08:23:51.651531Z"
    }
   },
   "cell_type": "code",
   "source": [
    "from scipy import stats\n",
    "\n",
    "# poziom ufności\n",
    "confidence_level = 0.95\n",
    "alpha = 1 - confidence_level"
   ],
   "id": "6df570f77610b04e",
   "outputs": [],
   "execution_count": 6
  },
  {
   "metadata": {
    "ExecuteTime": {
     "end_time": "2025-10-22T08:24:50.234029Z",
     "start_time": "2025-10-22T08:24:50.231061Z"
    }
   },
   "cell_type": "code",
   "source": [
    "mean_sample = np.mean(sample_data)\n",
    "std_sample = np.std(sample_data, ddof=1)\n",
    "n_sample = len(sample_data)"
   ],
   "id": "940798af469fdeff",
   "outputs": [],
   "execution_count": 7
  },
  {
   "metadata": {
    "ExecuteTime": {
     "end_time": "2025-10-22T08:25:43.630845Z",
     "start_time": "2025-10-22T08:25:43.627653Z"
    }
   },
   "cell_type": "code",
   "source": [
    "# bład standardowy średniej\n",
    "standard_error = std_sample / np.sqrt(n_sample)"
   ],
   "id": "db8473829d4cccbd",
   "outputs": [],
   "execution_count": 8
  },
  {
   "metadata": {
    "ExecuteTime": {
     "end_time": "2025-10-22T08:27:35.967932Z",
     "start_time": "2025-10-22T08:27:35.961896Z"
    }
   },
   "cell_type": "code",
   "source": [
    "# obliczenie przedziału ufności\n",
    "confidence_interval = stats.t.interval(confidence_level, df=n_sample - 1, loc=mean_sample, scale=std_sample)"
   ],
   "id": "47b5a3be41d2bd6f",
   "outputs": [],
   "execution_count": 9
  },
  {
   "metadata": {
    "ExecuteTime": {
     "end_time": "2025-10-22T08:28:48.088480Z",
     "start_time": "2025-10-22T08:28:48.083870Z"
    }
   },
   "cell_type": "code",
   "source": "print(f\"95% przedziału ufności dla średniej: ({confidence_interval[0]:.2f}, {confidence_interval[1]:.2f})\")",
   "id": "fe236c651d087b0e",
   "outputs": [
    {
     "name": "stdout",
     "output_type": "stream",
     "text": [
      "95% przedziału ufności dla średniej: (68.47, 124.76)\n"
     ]
    }
   ],
   "execution_count": 11
  },
  {
   "metadata": {
    "ExecuteTime": {
     "end_time": "2025-10-22T08:35:04.850Z",
     "start_time": "2025-10-22T08:35:04.845307Z"
    }
   },
   "cell_type": "code",
   "source": [
    "# Przykład dla proporcji\n",
    "# np,: odsetek osób popierających kandydata\n",
    "# załóżmy, że w próbie 100 osób, 60 popiera tego kandydata\n",
    "n_prop = 100\n",
    "x_prop = 60  # liczba sukcesów\n",
    "p_hat = x_prop / n_prop  # proporcja z próby\n",
    "\n",
    "# bład satandardowy proporcji\n",
    "se_prop = np.sqrt((p_hat * (1 - p_hat)) / n_prop)\n",
    "\n",
    "# wartość krytyczna dla rozkładu normalnego\n",
    "z_critical = stats.norm.ppf(1 - alpha / 2)"
   ],
   "id": "e317a1ff1c1a4983",
   "outputs": [],
   "execution_count": 12
  },
  {
   "metadata": {
    "ExecuteTime": {
     "end_time": "2025-10-22T08:35:06.370950Z",
     "start_time": "2025-10-22T08:35:06.367178Z"
    }
   },
   "cell_type": "code",
   "source": [
    "# przedział ufności dla proporcji\n",
    "ci_lower_prop = p_hat - z_critical * se_prop\n",
    "ci_upper_prop = p_hat + z_critical * se_prop"
   ],
   "id": "bdcdcbb593c301b0",
   "outputs": [],
   "execution_count": 13
  },
  {
   "metadata": {
    "ExecuteTime": {
     "end_time": "2025-10-22T08:35:43.097380Z",
     "start_time": "2025-10-22T08:35:43.094332Z"
    }
   },
   "cell_type": "code",
   "source": "print(f\"Przedział ufności dla proporcji (95%): ({ci_lower_prop}, {ci_upper_prop})\")",
   "id": "9c6e3269dc4cff28",
   "outputs": [
    {
     "name": "stdout",
     "output_type": "stream",
     "text": [
      "Przedział ufności dla proporcji (95%): (0.5039817664728938, 0.6960182335271061)\n"
     ]
    }
   ],
   "execution_count": 14
  },
  {
   "metadata": {},
   "cell_type": "markdown",
   "source": "## Testowanie Hipotez Statystycznych",
   "id": "b628333762e2bb23"
  },
  {
   "metadata": {},
   "cell_type": "markdown",
   "source": "### Test t-Studenta",
   "id": "f4df782a7d4027ab"
  },
  {
   "metadata": {
    "ExecuteTime": {
     "end_time": "2025-10-22T08:39:06.847175Z",
     "start_time": "2025-10-22T08:39:06.841686Z"
    }
   },
   "cell_type": "code",
   "source": "from scipy import stats",
   "id": "6a6b35b4c5679967",
   "outputs": [],
   "execution_count": 15
  },
  {
   "metadata": {
    "ExecuteTime": {
     "end_time": "2025-10-22T08:42:38.483392Z",
     "start_time": "2025-10-22T08:42:38.476433Z"
    }
   },
   "cell_type": "code",
   "source": [
    "# Test t-Studenta dla jedej próby\n",
    "# czy średnia z próby rózni od znanej wartości populacji\n",
    "\n",
    "pop_mean_hyp = 100\n",
    "t_stat_one, p_value_one = stats.ttest_1samp(sample_data, pop_mean_hyp)\n",
    "\n",
    "print(f\"Test t-Studenta dla jedej próby:\")\n",
    "print(f\" Statystyka t: {t_stat_one:.2f}\")\n",
    "print(f\" Wartosć p: {p_value_one:.3f}\")"
   ],
   "id": "80bb910893ec889b",
   "outputs": [
    {
     "name": "stdout",
     "output_type": "stream",
     "text": [
      "Test t-Studenta dla jedej próby:\n",
      " Statystyka t: -1.71\n",
      " Wartosć p: 0.094\n"
     ]
    }
   ],
   "execution_count": 16
  },
  {
   "metadata": {
    "ExecuteTime": {
     "end_time": "2025-10-22T08:44:07.943451Z",
     "start_time": "2025-10-22T08:44:07.939414Z"
    }
   },
   "cell_type": "code",
   "source": [
    "if p_value_one < 0.05:\n",
    "    print(\"Odrzucamy H0: Średnia z próby jest istotnie rózna od 100\")\n",
    "else:\n",
    "    print(\"Srednia z próby nie rózni się istotnie od 100\")"
   ],
   "id": "671e6a274225ee39",
   "outputs": [
    {
     "name": "stdout",
     "output_type": "stream",
     "text": [
      "Srednia z próby nie rózni się istotnie od 100\n"
     ]
    }
   ],
   "execution_count": 17
  }
 ],
 "metadata": {
  "kernelspec": {
   "display_name": "Python 3",
   "language": "python",
   "name": "python3"
  },
  "language_info": {
   "codemirror_mode": {
    "name": "ipython",
    "version": 2
   },
   "file_extension": ".py",
   "mimetype": "text/x-python",
   "name": "python",
   "nbconvert_exporter": "python",
   "pygments_lexer": "ipython2",
   "version": "2.7.6"
  }
 },
 "nbformat": 4,
 "nbformat_minor": 5
}
